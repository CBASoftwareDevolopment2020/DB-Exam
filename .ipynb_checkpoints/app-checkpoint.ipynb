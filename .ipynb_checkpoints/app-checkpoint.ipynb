{
 "cells": [
  {
   "cell_type": "code",
   "execution_count": 6,
   "metadata": {},
   "outputs": [
    {
     "ename": "SyntaxError",
     "evalue": "invalid syntax (<ipython-input-6-c0f2d5a970f1>, line 4)",
     "output_type": "error",
     "traceback": [
      "\u001b[1;36m  File \u001b[1;32m\"<ipython-input-6-c0f2d5a970f1>\"\u001b[1;36m, line \u001b[1;32m4\u001b[0m\n\u001b[1;33m    import C:\\Users\\Hupra\\Desktop\\dbex\\DB-Exam\\python\\postgres\u001b[0m\n\u001b[1;37m            ^\u001b[0m\n\u001b[1;31mSyntaxError\u001b[0m\u001b[1;31m:\u001b[0m invalid syntax\n"
     ]
    }
   ],
   "source": [
    "from flask import Flask, render_template, request, g, session, redirect, url_for\n",
    "from flask_cors import CORS, cross_origin\n",
    "import json\n",
    "import postgres\n",
    "\n",
    "\n",
    "app = Flask(__name__)\n",
    "cors = CORS(app)\n",
    "app.config['CORS_HEADERS'] = 'Content-Type'\n",
    "app.secret_key = \"top secret key of awesomeness\"\n",
    "\n",
    "\n",
    "\n",
    "\n",
    "@app.route('/')\n",
    "def main():\n",
    "    if \"user\" in session:\n",
    "        return session[\"user\"]\n",
    "    else:\n",
    "        return \"YOU ARE NOT A USER!!!!!\"\n",
    "\n",
    "@app.route('/login/<email>/<password>')\n",
    "def set_session(email, password):\n",
    "    res = postgres.login(email, password)\n",
    "    return res\n",
    "#     session[\"user\"] = user\n",
    "#     return session[\"user\"]\n",
    "\n",
    "@app.route('/logout')\n",
    "def logout():\n",
    "    session.pop(\"user\", None)\n",
    "    return redirect(url_for(\"main\"))\n",
    "\n",
    "if __name__ == '__main__':\n",
    "    app.run()"
   ]
  },
  {
   "cell_type": "code",
   "execution_count": null,
   "metadata": {},
   "outputs": [],
   "source": []
  }
 ],
 "metadata": {
  "kernelspec": {
   "display_name": "Python 3",
   "language": "python",
   "name": "python3"
  },
  "language_info": {
   "codemirror_mode": {
    "name": "ipython",
    "version": 3
   },
   "file_extension": ".py",
   "mimetype": "text/x-python",
   "name": "python",
   "nbconvert_exporter": "python",
   "pygments_lexer": "ipython3",
   "version": "3.7.3"
  }
 },
 "nbformat": 4,
 "nbformat_minor": 2
}
