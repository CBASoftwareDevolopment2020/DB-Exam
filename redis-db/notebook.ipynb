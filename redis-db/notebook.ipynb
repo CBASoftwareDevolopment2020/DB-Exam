{
 "cells": [
  {
   "cell_type": "code",
   "execution_count": 9,
   "metadata": {},
   "outputs": [
    {
     "output_type": "stream",
     "name": "stdout",
     "text": "before {b'item1': b'x', b'item2': b'y'}\nafter {}\n"
    }
   ],
   "source": [
    "import redis\n",
    "import time\n",
    "\n",
    "client = redis.Redis('localhost')\n",
    "\n",
    "cart_session = 'user_1'\n",
    "items = {'item1': 'x', 'item2': 'y'}\n",
    "\n",
    "client.hmset(cart_session, items)\n",
    "client.expire(cart_session, 2)\n",
    "print('before', client.hgetall(cart_session))\n",
    "time.sleep(3)\n",
    "print('after', client.hgetall(cart_session))"
   ]
  }
 ],
 "metadata": {
  "language_info": {
   "codemirror_mode": {
    "name": "ipython",
    "version": 3
   },
   "file_extension": ".py",
   "mimetype": "text/x-python",
   "name": "python",
   "nbconvert_exporter": "python",
   "pygments_lexer": "ipython3",
   "version": "3.7.4-final"
  },
  "orig_nbformat": 2,
  "kernelspec": {
   "name": "python3",
   "display_name": "Python 3"
  }
 },
 "nbformat": 4,
 "nbformat_minor": 2
}