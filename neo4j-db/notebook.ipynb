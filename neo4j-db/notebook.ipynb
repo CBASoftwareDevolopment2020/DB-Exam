{
 "cells": [
  {
   "cell_type": "code",
   "execution_count": 1,
   "metadata": {},
   "outputs": [],
   "source": [
    "from neo4j import GraphDatabase\n",
    "import json\n",
    "from pprint import pprint\n",
    "\n",
    "driver = GraphDatabase.driver('bolt://localhost:7687', auth=('neo4j', '1234'))"
   ]
  },
  {
   "cell_type": "code",
   "execution_count": null,
   "metadata": {},
   "outputs": [],
   "source": [
    "def load_data_query():\n",
    "    query = '''\n",
    "        LOAD CSV WITH HEADERS FROM 'file:///food.csv' AS r\n",
    "        MERGE (item: Item { name:r.name, price: toInteger(r.price), stock: toInteger(r.stock), img: r.link })\n",
    "        MERGE (brand: Brand { brand: r.brand })\n",
    "        FOREACH(label IN split(r.labels, \";\")|MERGE (l:Label { name: label }))\n",
    "\n",
    "        WITH r\n",
    "        MATCH (item: Item { name: r.name })\n",
    "        UNWIND split(r.labels, \";\") as l\n",
    "        MATCH (label: Label { name: l })\n",
    "        MERGE (item)-[:is]-(label)\n",
    "\n",
    "        WITH r\n",
    "        MATCH (item: Item { name: r.name })\n",
    "        MATCH (brand: Brand { brand:r.brand })\n",
    "        MERGE (item)-[:by]-(brand)\n",
    "    '''\n",
    "\n",
    "    with driver.session() as session:\n",
    "        results = session.run(query)\n",
    "\n",
    "    return results"
   ]
  },
  {
   "cell_type": "code",
   "execution_count": 31,
   "metadata": {},
   "outputs": [],
   "source": [
    "def add_item_query(name, price, stock, image, brand, labels):\n",
    "    get_item_query = '''\n",
    "        MATCH(item: Item { name: $name })\n",
    "        RETURN item\n",
    "    '''\n",
    "\n",
    "    add_item_query = '''\n",
    "        CREATE (item: Item { name: $name })\n",
    "        SET item.price = $price, item.stock = $stock, item.img = $image\n",
    "        MERGE (brand: Brand { brand: $brand })\n",
    "        FOREACH(label IN $labels | MERGE (l:Label { name: label }))\n",
    "\n",
    "        WITH item\n",
    "        UNWIND $labels as l\n",
    "        MATCH (label: Label { name: l })\n",
    "        MERGE (item)-[:is]-(label)\n",
    "\n",
    "        WITH item\n",
    "        MATCH (item: Item { name: $name })\n",
    "        MATCH (brand: Brand { brand: $brand })\n",
    "        MERGE (item)-[:by]-(brand)\n",
    "\n",
    "        RETURN DISTINCT item\n",
    "    '''\n",
    "\n",
    "    with driver.session() as session:\n",
    "        tx = session.begin_transaction()\n",
    "        results = tx.run(get_item_query, name=name)\n",
    "\n",
    "        if list(results): \n",
    "            tx.rollback()\n",
    "\n",
    "        else: \n",
    "            results = tx.run(add_item_query, name=name, price=price, stock=stock, image=image, brand=brand, labels=labels)\n",
    "            tx.commit()\n",
    "\n",
    "    return results.single().value()"
   ]
  },
  {
   "cell_type": "code",
   "execution_count": null,
   "metadata": {},
   "outputs": [],
   "source": [
    "def update_labels_query(id, labels):\n",
    "    query = '''\n",
    "        MATCH (item:Item)\n",
    "        WHERE ID(item) = $id\n",
    "        FOREACH(label IN $labels | MERGE (l:Label { name: label }))\n",
    "\n",
    "        WITH item\n",
    "        UNWIND $labels$ as l\n",
    "        MATCH (label: Label { name: l })\n",
    "        MERGE (item)-[:is]-(label)\n",
    "\n",
    "        RETURN item\n",
    "    '''\n",
    "\n",
    "    with driver.session() as session:\n",
    "        results = session.run(query, id=id, labels=labels)\n",
    "\n",
    "    return results.single().value()"
   ]
  },
  {
   "cell_type": "code",
   "execution_count": 43,
   "metadata": {},
   "outputs": [],
   "source": [
    "def update_item_query(id, property, value):\n",
    "    query = '''\n",
    "        MATCH (item:Item)\n",
    "        WHERE ID(item) = $id\n",
    "        CALL apoc.create.setProperty(item, $property, $value)\n",
    "        YIELD node\n",
    "        RETURN item\n",
    "    '''\n",
    "\n",
    "    with driver.session() as session:\n",
    "        results = session.run(query, id=id, value=value, property=property)\n",
    "\n",
    "    return results.single().value()"
   ]
  },
  {
   "cell_type": "code",
   "execution_count": null,
   "metadata": {},
   "outputs": [],
   "source": [
    "def update_item_amount_query(id, stock):\n",
    "    query = '''\n",
    "        MATCH (item:Item)\n",
    "        WHERE ID(item) = $id\n",
    "        SET item.stock = $stock\n",
    "        RETURN item\n",
    "    '''\n",
    "\n",
    "    with driver.session() as session:\n",
    "        results = session.run(query, id=id, stock=stock)\n",
    "\n",
    "    return results.single().value()"
   ]
  },
  {
   "cell_type": "code",
   "execution_count": null,
   "metadata": {},
   "outputs": [],
   "source": [
    "def remove_unused_labels_query():\n",
    "    query = '''\n",
    "        MATCH (label:Label)\n",
    "        WHERE NOT (label)-[:is]-(:Item)\n",
    "        DELETE label\n",
    "        RETURN \"SUCCESS\"\n",
    "    '''\n",
    "\n",
    "    with driver.session() as session:\n",
    "        results = session.run(query)\n",
    "\n",
    "    return results"
   ]
  },
  {
   "cell_type": "code",
   "execution_count": null,
   "metadata": {},
   "outputs": [],
   "source": [
    "def filter_by_label_query(label):\n",
    "    query = '''\n",
    "        match (:Label { name: $label })--(item:Item)\n",
    "        return item.name\n",
    "    '''\n",
    "\n",
    "    with driver.session() as session:\n",
    "        results = session.run(query, label=label)\n",
    "\n",
    "    return results"
   ]
  },
  {
   "cell_type": "code",
   "execution_count": null,
   "metadata": {},
   "outputs": [],
   "source": [
    "def filter_by_favorits_query(favorits):\n",
    "    query = '''\n",
    "        UNWIND $favorits as fav\n",
    "        MATCH (:Label { name: fav })--(item:Item)\n",
    "        RETURN item\n",
    "    '''\n",
    "\n",
    "    with driver.session() as session:\n",
    "        results = session.run(query, favorits=favorits)\n",
    "\n",
    "    return results"
   ]
  },
  {
   "cell_type": "code",
   "execution_count": null,
   "metadata": {},
   "outputs": [],
   "source": [
    "def order_by_price_query()):\n",
    "    query = '''\n",
    "        MATCH (item:Item)\n",
    "        RETURN item\n",
    "        ORDER BY item.price\n",
    "    '''\n",
    "\n",
    "    with driver.session() as session:\n",
    "        results = session.run(query)\n",
    "\n",
    "    return results"
   ]
  },
  {
   "cell_type": "code",
   "execution_count": null,
   "metadata": {},
   "outputs": [],
   "source": [
    "def filter_price_query(minimum, maximum):\n",
    "    query = '''\n",
    "        MATCH (item:Item)\n",
    "        WHERE item.price > $minimum and item.price < $maximum\n",
    "        RETURN item\n",
    "    '''\n",
    "\n",
    "    with driver.session() as session:\n",
    "        results = session.run(query, minimum=minimum, maximum=maximum)\n",
    "\n",
    "    return results"
   ]
  },
  {
   "cell_type": "code",
   "execution_count": 8,
   "metadata": {},
   "outputs": [],
   "source": [
    "def get_items_query(item_ids):\n",
    "    query = '''\n",
    "        MATCH (item: Item)\n",
    "        WHERE ID(item) IN $item_ids\n",
    "        RETURN item\n",
    "    '''\n",
    "\n",
    "    with driver.session() as session:\n",
    "        results = session.run(query, item_ids=item_ids)\n",
    "\n",
    "    return results"
   ]
  },
  {
   "cell_type": "code",
   "execution_count": 5,
   "metadata": {},
   "outputs": [],
   "source": [
    "def place_order(order):\n",
    "    query = '''\n",
    "        UNWIND $items as arg_item\n",
    "        MERGE (item: Item)\n",
    "        WITH arg_item, item\n",
    "        WHERE ID(item) = arg_item.id\n",
    "        SET item.stock = item.stock - arg_item.amount\n",
    "        RETURN item\n",
    "    '''\n",
    "\n",
    "    order_items = [{ 'id': key, 'amount': item } for key, item in order.items()]\n",
    "\n",
    "    with driver.session() as session:\n",
    "        tx = session.begin_transaction()\n",
    "        results = session.run(query, items=order_items)\n",
    "        items = [result['item'] for result in results]\n",
    "\n",
    "        if len(items) != len(order): \n",
    "            #raise Exception('Invalid Input Exception', 'Running Transaction Rollback')\n",
    "            tx.rollback()\n",
    "            return None\n",
    "\n",
    "        else:\n",
    "            tx.commit()\n",
    "            return items"
   ]
  },
  {
   "cell_type": "code",
   "execution_count": 6,
   "metadata": {},
   "outputs": [
    {
     "output_type": "error",
     "ename": "Exception",
     "evalue": "('Invalid Input Exception', 'Running Transaction Rollback')",
     "traceback": [
      "\u001b[0;31m---------------------------------------------------------------------------\u001b[0m",
      "\u001b[0;31mException\u001b[0m                                 Traceback (most recent call last)",
      "\u001b[0;32m<ipython-input-6-c4230efa4451>\u001b[0m in \u001b[0;36m<module>\u001b[0;34m\u001b[0m\n\u001b[1;32m      1\u001b[0m \u001b[0morder\u001b[0m \u001b[0;34m=\u001b[0m \u001b[0;34m{\u001b[0m\u001b[0;36m1\u001b[0m\u001b[0;34m:\u001b[0m \u001b[0;36m1\u001b[0m\u001b[0;34m,\u001b[0m \u001b[0;36m9999\u001b[0m\u001b[0;34m:\u001b[0m \u001b[0;36m2\u001b[0m\u001b[0;34m}\u001b[0m\u001b[0;34m\u001b[0m\u001b[0;34m\u001b[0m\u001b[0m\n\u001b[0;32m----> 2\u001b[0;31m \u001b[0mresults\u001b[0m \u001b[0;34m=\u001b[0m \u001b[0mplace_order\u001b[0m\u001b[0;34m(\u001b[0m\u001b[0morder\u001b[0m\u001b[0;34m)\u001b[0m\u001b[0;34m\u001b[0m\u001b[0;34m\u001b[0m\u001b[0m\n\u001b[0m\u001b[1;32m      3\u001b[0m \u001b[0;34m\u001b[0m\u001b[0m\n\u001b[1;32m      4\u001b[0m \u001b[0;32mfor\u001b[0m \u001b[0mresult\u001b[0m \u001b[0;32min\u001b[0m \u001b[0mresults\u001b[0m\u001b[0;34m:\u001b[0m\u001b[0;34m\u001b[0m\u001b[0;34m\u001b[0m\u001b[0m\n\u001b[1;32m      5\u001b[0m     \u001b[0mprint\u001b[0m\u001b[0;34m(\u001b[0m\u001b[0mresult\u001b[0m\u001b[0;34m)\u001b[0m\u001b[0;34m\u001b[0m\u001b[0;34m\u001b[0m\u001b[0m\n",
      "\u001b[0;32m<ipython-input-5-3655be5bd4dc>\u001b[0m in \u001b[0;36mplace_order\u001b[0;34m(order)\u001b[0m\n\u001b[1;32m     22\u001b[0m \u001b[0;34m\u001b[0m\u001b[0m\n\u001b[1;32m     23\u001b[0m         \u001b[0;32mif\u001b[0m \u001b[0mlen\u001b[0m\u001b[0;34m(\u001b[0m\u001b[0mitems\u001b[0m\u001b[0;34m)\u001b[0m \u001b[0;34m!=\u001b[0m \u001b[0mlen\u001b[0m\u001b[0;34m(\u001b[0m\u001b[0morder\u001b[0m\u001b[0;34m)\u001b[0m\u001b[0;34m:\u001b[0m\u001b[0;34m\u001b[0m\u001b[0;34m\u001b[0m\u001b[0m\n\u001b[0;32m---> 24\u001b[0;31m             \u001b[0;32mraise\u001b[0m \u001b[0mException\u001b[0m\u001b[0;34m(\u001b[0m\u001b[0;34m'Invalid Input Exception'\u001b[0m\u001b[0;34m,\u001b[0m \u001b[0;34m'Running Transaction Rollback'\u001b[0m\u001b[0;34m)\u001b[0m\u001b[0;34m\u001b[0m\u001b[0;34m\u001b[0m\u001b[0m\n\u001b[0m\u001b[1;32m     25\u001b[0m             \u001b[0mtx\u001b[0m\u001b[0;34m.\u001b[0m\u001b[0mrollback\u001b[0m\u001b[0;34m(\u001b[0m\u001b[0;34m)\u001b[0m\u001b[0;34m\u001b[0m\u001b[0;34m\u001b[0m\u001b[0m\n\u001b[1;32m     26\u001b[0m             \u001b[0;32mreturn\u001b[0m \u001b[0;32mNone\u001b[0m\u001b[0;34m\u001b[0m\u001b[0;34m\u001b[0m\u001b[0m\n",
      "\u001b[0;31mException\u001b[0m: ('Invalid Input Exception', 'Running Transaction Rollback')"
     ]
    }
   ],
   "source": [
    "order = {1: 1, 9999: 2}\n",
    "results = place_order(order)\n",
    "\n",
    "for result in results:\n",
    "    print(result)"
   ]
  },
  {
   "cell_type": "code",
   "execution_count": 32,
   "metadata": {},
   "outputs": [
    {
     "output_type": "stream",
     "name": "stdout",
     "text": "<Node id=347 labels={'Item'} properties={'name': 'ULTRA Drik', 'img': 'img url', 'stock': 25, 'price': 10000}>\n"
    }
   ],
   "source": [
    "# results = add_item('ULTRA Drik', 10000, 25, 'img url', 'Jacobs Sodavand', ['Drinks', 'Discount'])\n",
    "# \n",
    "# for result in results:\n",
    "#     print(result['item'])"
   ]
  }
 ],
 "metadata": {
  "language_info": {
   "codemirror_mode": {
    "name": "ipython",
    "version": 3
   },
   "file_extension": ".py",
   "mimetype": "text/x-python",
   "name": "python",
   "nbconvert_exporter": "python",
   "pygments_lexer": "ipython3",
   "version": "3.7.4-final"
  },
  "orig_nbformat": 2,
  "kernelspec": {
   "name": "python3",
   "display_name": "Python 3"
  }
 },
 "nbformat": 4,
 "nbformat_minor": 2
}