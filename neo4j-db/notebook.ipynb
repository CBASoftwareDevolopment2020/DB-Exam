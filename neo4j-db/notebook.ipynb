{
 "cells": [
  {
   "cell_type": "code",
   "execution_count": 1,
   "metadata": {},
   "outputs": [],
   "source": [
    "from neo4j import GraphDatabase\n",
    "import json\n",
    "\n",
    "driver = GraphDatabase.driver('bolt://localhost:7687', auth=('neo4j', '1234'))"
   ]
  },
  {
   "cell_type": "code",
   "execution_count": null,
   "metadata": {},
   "outputs": [],
   "source": [
    "def load_data():\n",
    "    query = f'''\n",
    "        LOAD CSV WITH HEADERS FROM 'file:///food.csv' AS r\n",
    "        MERGE (item: Item {{ name:r.name, price: toInteger(r.price), stock: toInteger(r.stock), img: r.link }})\n",
    "        MERGE (brand: Brand {{brand: r.brand }})\n",
    "        FOREACH(label IN split(r.labels, \";\")|MERGE (l:Label {{ name: label }}))\n",
    "\n",
    "        WITH r\n",
    "        MATCH (item: Item {{name: r.name }})\n",
    "        UNWIND split(r.labels, \";\") as l\n",
    "        MATCH (label: Label {{name: l }})\n",
    "        MERGE (item)-[:is]-(label)\n",
    "\n",
    "        WITH r\n",
    "        MATCH (item: Item {{ name: r.name }})\n",
    "        MATCH (brand: Brand {{ brand:r.brand }})\n",
    "        MERGE (item)-[:by]-(brand)\n",
    "    '''\n",
    "\n",
    "    with driver.session() as session:\n",
    "        results = session.run(query)\n",
    "\n",
    "    return results"
   ]
  },
  {
   "cell_type": "code",
   "execution_count": 31,
   "metadata": {},
   "outputs": [],
   "source": [
    "def add_item(name, price, stock, image, brand, labels):\n",
    "    get_item_query = f'''\n",
    "        MATCH(item: Item {{ name: $name }})\n",
    "        RETURN item\n",
    "    '''\n",
    "\n",
    "    add_item_query = f'''\n",
    "        CREATE (item: Item {{ name: $name }})\n",
    "        SET item.price = $price, item.stock = $stock, item.img = $image\n",
    "        MERGE (brand: Brand {{ brand: $brand }})\n",
    "        FOREACH(label IN $labels | MERGE (l:Label {{ name: label }}))\n",
    "\n",
    "        WITH item\n",
    "        UNWIND $labels as l\n",
    "        MATCH (label: Label {{ name: l }})\n",
    "        MERGE (item)-[:is]-(label)\n",
    "\n",
    "        WITH item\n",
    "        MATCH (item: Item {{ name: $name }})\n",
    "        MATCH (brand: Brand {{ brand: $brand }})\n",
    "        MERGE (item)-[:by]-(brand)\n",
    "\n",
    "        RETURN DISTINCT item\n",
    "    '''\n",
    "\n",
    "    with driver.session() as session:\n",
    "        tx = session.begin_transaction()\n",
    "        results = tx.run(get_item_query, name=name)\n",
    "\n",
    "        if list(results): \n",
    "            tx.rollback()\n",
    "\n",
    "        else: \n",
    "            results = tx.run(add_item_query, name=name, price=price, stock=stock, image=image, brand=brand, labels=labels)\n",
    "            tx.commit()\n",
    "\n",
    "    return results.single().value()"
   ]
  },
  {
   "cell_type": "code",
   "execution_count": null,
   "metadata": {},
   "outputs": [],
   "source": [
    "def update_labels(id, labels):\n",
    "    query f'''\n",
    "        MATCH (item:Item)\n",
    "        WHERE ID(item) = $id\n",
    "        FOREACH(label IN $labels | MERGE (l:Label {{ name: label }}))\n",
    "\n",
    "        WITH item\n",
    "        UNWIND $labels$ as l\n",
    "        MATCH (label: Label {{ name: l }})\n",
    "        MERGE (item)-[:is]-(label)\n",
    "\n",
    "        RETURN item\n",
    "    '''\n",
    "\n",
    "    with driver.session() as session:\n",
    "        results = session.run(query, id=id, labels=labels)\n",
    "\n",
    "    return results.single().value()"
   ]
  },
  {
   "cell_type": "code",
   "execution_count": 43,
   "metadata": {},
   "outputs": [],
   "source": [
    "def update_item(id, property, value):\n",
    "    query = f'''\n",
    "        MATCH (item:Item)\n",
    "        WHERE ID(item) = $id\n",
    "        CALL apoc.create.setProperty(item, $property, $value)\n",
    "        YIELD node\n",
    "        RETURN item\n",
    "    '''\n",
    "\n",
    "    with driver.session() as session:\n",
    "        results = session.run(query, id=id, value=value, property=property)\n",
    "\n",
    "    return results.single().value()"
   ]
  },
  {
   "cell_type": "code",
   "execution_count": null,
   "metadata": {},
   "outputs": [],
   "source": [
    "def update_item_amount(id, stock):\n",
    "    query = f'''\n",
    "        MATCH (item:Item)\n",
    "        WHERE ID(item) = $id\n",
    "        SET item.stock = $stock\n",
    "        RETURN item\n",
    "    '''\n",
    "\n",
    "    with driver.session() as session:\n",
    "        results = session.run(query, id=id, stock=stock)\n",
    "\n",
    "    return results.single().value()"
   ]
  },
  {
   "cell_type": "code",
   "execution_count": null,
   "metadata": {},
   "outputs": [],
   "source": [
    "def remove_unused_labels():\n",
    "    query = f'''\n",
    "        MATCH (label:Label)\n",
    "        WHERE NOT (label)-[:is]-(:Item)\n",
    "        DELETE label\n",
    "        RETURN \"SUCCESS\"\n",
    "    '''\n",
    "\n",
    "    with driver.session() as session:\n",
    "        results = session.run(query)\n",
    "\n",
    "    return results"
   ]
  },
  {
   "cell_type": "code",
   "execution_count": null,
   "metadata": {},
   "outputs": [],
   "source": [
    "def filter_by_label(label):\n",
    "    query = f'''\n",
    "        match (:Label {{ name: $label }})--(item:Item)\n",
    "        return item.name\n",
    "    '''\n",
    "\n",
    "    with driver.session() as session:\n",
    "        results = session.run(query, label=label)\n",
    "\n",
    "    return results"
   ]
  },
  {
   "cell_type": "code",
   "execution_count": null,
   "metadata": {},
   "outputs": [],
   "source": [
    "def filter_by_favorits(favorits):\n",
    "    query = f'''\n",
    "        UNWIND $favorits as fav\n",
    "        MATCH (:Label {{ name: fav }})--(item:Item)\n",
    "        RETURN item\n",
    "    '''\n",
    "\n",
    "    with driver.session() as session:\n",
    "        results = session.run(query, favorits=favorits)\n",
    "\n",
    "    return results"
   ]
  },
  {
   "cell_type": "code",
   "execution_count": null,
   "metadata": {},
   "outputs": [],
   "source": [
    "def order_by_price():\n",
    "    query = f'''\n",
    "        MATCH (item:Item)\n",
    "        RETURN item\n",
    "        ORDER BY item.price\n",
    "    '''\n",
    "\n",
    "    with driver.session() as session:\n",
    "        results = session.run(query)\n",
    "\n",
    "    return results"
   ]
  },
  {
   "cell_type": "code",
   "execution_count": null,
   "metadata": {},
   "outputs": [],
   "source": [
    "def filter_price(minimum, maximum):\n",
    "    query = f'''\n",
    "        MATCH (item:Item)\n",
    "        WHERE item.price > $minimum and item.price < $maximum\n",
    "        RETURN item\n",
    "    '''\n",
    "\n",
    "    with driver.session() as session:\n",
    "        results = session.run(query, minimum=minimum, maximum=maximum)\n",
    "\n",
    "    return results"
   ]
  },
  {
   "cell_type": "code",
   "execution_count": 32,
   "metadata": {},
   "outputs": [
    {
     "output_type": "stream",
     "name": "stdout",
     "text": "<Node id=347 labels={'Item'} properties={'name': 'ULTRA Drik', 'img': 'img url', 'stock': 25, 'price': 10000}>\n"
    }
   ],
   "source": [
    "results = add_item('ULTRA Drik', 10000, 25, 'img url', 'Jacobs Sodavand', ['Drinks', 'Discount'])\n",
    "\n",
    "for result in results:\n",
    "    print(result['item'])"
   ]
  },
  {
   "cell_type": "code",
   "execution_count": null,
   "metadata": {},
   "outputs": [],
   "source": [
    "results = update_item(340, 'name', 'Super Drink')\n",
    "\n",
    "for result in results:\n",
    "    print(result['item'])"
   ]
  }
 ],
 "metadata": {
  "language_info": {
   "codemirror_mode": {
    "name": "ipython",
    "version": 3
   },
   "file_extension": ".py",
   "mimetype": "text/x-python",
   "name": "python",
   "nbconvert_exporter": "python",
   "pygments_lexer": "ipython3",
   "version": "3.7.4-final"
  },
  "orig_nbformat": 2,
  "kernelspec": {
   "name": "python3",
   "display_name": "Python 3"
  }
 },
 "nbformat": 4,
 "nbformat_minor": 2
}