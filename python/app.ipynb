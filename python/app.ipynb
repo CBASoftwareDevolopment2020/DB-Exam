{
 "cells": [
  {
   "cell_type": "code",
   "execution_count": null,
   "metadata": {},
   "outputs": [
    {
     "name": "stdout",
     "output_type": "stream",
     "text": [
      " * Serving Flask app \"__main__\" (lazy loading)\n",
      " * Serving Flask app \"__main__\" (lazy loading)\n",
      " * Environment: production\n",
      "   WARNING: Do not use the development server in a production environment.\n",
      " * Environment: production\n",
      "   WARNING: Do not use the development server in a production environment.\n",
      "   Use a production WSGI server instead.\n",
      "   Use a production WSGI server instead.\n",
      " * Debug mode: off\n",
      " * Debug mode: off\n"
     ]
    },
    {
     "name": "stderr",
     "output_type": "stream",
     "text": [
      " * Running on http://127.0.0.1:5000/ (Press CTRL+C to quit)\n",
      " * Running on http://127.0.0.1:5000/ (Press CTRL+C to quit)\n",
      "127.0.0.1 - - [25/May/2020 16:53:44] \"\u001b[37mOPTIONS /cart/add HTTP/1.1\u001b[0m\" 200 -\n",
      "127.0.0.1 - - [25/May/2020 16:53:44] \"\u001b[37mOPTIONS /cart/add HTTP/1.1\u001b[0m\" 200 -\n"
     ]
    },
    {
     "name": "stdout",
     "output_type": "stream",
     "text": [
      "{'item_id': 12, 'name': 'Chips m. havsalt', 'price': 1695, 'amount': 2} <SecureCookieSession {'_permanent': True, 'user': {'email': 'da@ni.el', 'id': 51853, 'name': 'daniel', 'password': '$2b$04$rxLmapV7LM/jMEFNRpRhJ.QMOxMzUe9507ES18jD6i.ooPYyu1h0m', 'phone': '12345678', 'street': 'vej24', 'zip': 2680}}>\n",
      "{'item_id': 12, 'name': 'Chips m. havsalt', 'price': 1695, 'amount': 2} <SecureCookieSession {'_permanent': True, 'user': {'email': 'da@ni.el', 'id': 51853, 'name': 'daniel', 'password': '$2b$04$rxLmapV7LM/jMEFNRpRhJ.QMOxMzUe9507ES18jD6i.ooPYyu1h0m', 'phone': '12345678', 'street': 'vej24', 'zip': 2680}}>\n",
      "{'item_id': 12, 'name': 'Chips m. havsalt', 'price': 1695, 'amount': 2} <SecureCookieSession {'_permanent': True, 'user': {'email': 'da@ni.el', 'id': 51853, 'name': 'daniel', 'password': '$2b$04$rxLmapV7LM/jMEFNRpRhJ.QMOxMzUe9507ES18jD6i.ooPYyu1h0m', 'phone': '12345678', 'street': 'vej24', 'zip': 2680}}>\n",
      "{'item_id': 12, 'name': 'Chips m. havsalt', 'price': 1695, 'amount': 2} <SecureCookieSession {'_permanent': True, 'user': {'email': 'da@ni.el', 'id': 51853, 'name': 'daniel', 'password': '$2b$04$rxLmapV7LM/jMEFNRpRhJ.QMOxMzUe9507ES18jD6i.ooPYyu1h0m', 'phone': '12345678', 'street': 'vej24', 'zip': 2680}}>\n"
     ]
    },
    {
     "name": "stderr",
     "output_type": "stream",
     "text": [
      "127.0.0.1 - - [25/May/2020 16:53:46] \"\u001b[37mPOST /cart/add HTTP/1.1\u001b[0m\" 200 -\n",
      "127.0.0.1 - - [25/May/2020 16:53:46] \"\u001b[37mPOST /cart/add HTTP/1.1\u001b[0m\" 200 -\n",
      "127.0.0.1 - - [25/May/2020 16:53:47] \"\u001b[37mPOST /cart/add HTTP/1.1\u001b[0m\" 200 -\n",
      "127.0.0.1 - - [25/May/2020 16:53:47] \"\u001b[37mPOST /cart/add HTTP/1.1\u001b[0m\" 200 -\n",
      "127.0.0.1 - - [25/May/2020 16:59:40] \"\u001b[37mOPTIONS /cart/get HTTP/1.1\u001b[0m\" 200 -\n",
      "127.0.0.1 - - [25/May/2020 16:59:40] \"\u001b[37mOPTIONS /cart/get HTTP/1.1\u001b[0m\" 200 -\n",
      "127.0.0.1 - - [25/May/2020 16:59:40] \"\u001b[37mGET /cart/get HTTP/1.1\u001b[0m\" 200 -\n",
      "127.0.0.1 - - [25/May/2020 16:59:40] \"\u001b[37mGET /cart/get HTTP/1.1\u001b[0m\" 200 -\n",
      "127.0.0.1 - - [25/May/2020 16:59:43] \"\u001b[37mOPTIONS /cart/add HTTP/1.1\u001b[0m\" 200 -\n",
      "127.0.0.1 - - [25/May/2020 16:59:43] \"\u001b[37mOPTIONS /cart/add HTTP/1.1\u001b[0m\" 200 -\n",
      "127.0.0.1 - - [25/May/2020 16:59:43] \"\u001b[37mPOST /cart/add HTTP/1.1\u001b[0m\" 200 -\n",
      "127.0.0.1 - - [25/May/2020 16:59:43] \"\u001b[37mPOST /cart/add HTTP/1.1\u001b[0m\" 200 -\n"
     ]
    },
    {
     "name": "stdout",
     "output_type": "stream",
     "text": [
      "{'item_id': 12, 'name': 'Chips m. havsalt', 'price': 1695, 'amount': 2} <SecureCookieSession {'_permanent': True, 'user': {'email': 'da@ni.el', 'id': 51853, 'name': 'daniel', 'password': '$2b$04$rxLmapV7LM/jMEFNRpRhJ.QMOxMzUe9507ES18jD6i.ooPYyu1h0m', 'phone': '12345678', 'street': 'vej24', 'zip': 2680}}>\n",
      "{'item_id': 12, 'name': 'Chips m. havsalt', 'price': 1695, 'amount': 2} <SecureCookieSession {'_permanent': True, 'user': {'email': 'da@ni.el', 'id': 51853, 'name': 'daniel', 'password': '$2b$04$rxLmapV7LM/jMEFNRpRhJ.QMOxMzUe9507ES18jD6i.ooPYyu1h0m', 'phone': '12345678', 'street': 'vej24', 'zip': 2680}}>\n"
     ]
    },
    {
     "name": "stderr",
     "output_type": "stream",
     "text": [
      "127.0.0.1 - - [25/May/2020 17:02:12] \"\u001b[37mOPTIONS /cart/get HTTP/1.1\u001b[0m\" 200 -\n",
      "127.0.0.1 - - [25/May/2020 17:02:12] \"\u001b[37mOPTIONS /cart/get HTTP/1.1\u001b[0m\" 200 -\n",
      "127.0.0.1 - - [25/May/2020 17:02:12] \"\u001b[37mGET /cart/get HTTP/1.1\u001b[0m\" 200 -\n",
      "127.0.0.1 - - [25/May/2020 17:02:12] \"\u001b[37mGET /cart/get HTTP/1.1\u001b[0m\" 200 -\n",
      "127.0.0.1 - - [25/May/2020 17:02:39] \"\u001b[37mOPTIONS /cart/clear HTTP/1.1\u001b[0m\" 200 -\n",
      "127.0.0.1 - - [25/May/2020 17:02:39] \"\u001b[37mOPTIONS /cart/clear HTTP/1.1\u001b[0m\" 200 -\n",
      "127.0.0.1 - - [25/May/2020 17:02:39] \"\u001b[1m\u001b[31mGET /cart/clear HTTP/1.1\u001b[0m\" 400 -\n",
      "127.0.0.1 - - [25/May/2020 17:02:39] \"\u001b[1m\u001b[31mGET /cart/clear HTTP/1.1\u001b[0m\" 400 -\n",
      "127.0.0.1 - - [25/May/2020 17:02:43] \"\u001b[37mOPTIONS /cart/add HTTP/1.1\u001b[0m\" 200 -\n",
      "127.0.0.1 - - [25/May/2020 17:02:43] \"\u001b[37mOPTIONS /cart/add HTTP/1.1\u001b[0m\" 200 -\n",
      "127.0.0.1 - - [25/May/2020 17:02:43] \"\u001b[37mPOST /cart/add HTTP/1.1\u001b[0m\" 200 -\n",
      "127.0.0.1 - - [25/May/2020 17:02:43] \"\u001b[37mPOST /cart/add HTTP/1.1\u001b[0m\" 200 -\n"
     ]
    },
    {
     "name": "stdout",
     "output_type": "stream",
     "text": [
      "{'item_id': 12, 'name': 'Chips m. havsalt', 'price': 1695, 'amount': 2} <SecureCookieSession {'_permanent': True, 'user': {'email': 'da@ni.el', 'id': 51853, 'name': 'daniel', 'password': '$2b$04$rxLmapV7LM/jMEFNRpRhJ.QMOxMzUe9507ES18jD6i.ooPYyu1h0m', 'phone': '12345678', 'street': 'vej24', 'zip': 2680}}>\n",
      "{'item_id': 12, 'name': 'Chips m. havsalt', 'price': 1695, 'amount': 2} <SecureCookieSession {'_permanent': True, 'user': {'email': 'da@ni.el', 'id': 51853, 'name': 'daniel', 'password': '$2b$04$rxLmapV7LM/jMEFNRpRhJ.QMOxMzUe9507ES18jD6i.ooPYyu1h0m', 'phone': '12345678', 'street': 'vej24', 'zip': 2680}}>\n"
     ]
    },
    {
     "name": "stderr",
     "output_type": "stream",
     "text": [
      "127.0.0.1 - - [25/May/2020 17:02:44] \"\u001b[37mPOST /cart/add HTTP/1.1\u001b[0m\" 200 -\n",
      "127.0.0.1 - - [25/May/2020 17:02:44] \"\u001b[37mPOST /cart/add HTTP/1.1\u001b[0m\" 200 -\n"
     ]
    },
    {
     "name": "stdout",
     "output_type": "stream",
     "text": [
      "{'item_id': 12, 'name': 'Chips m. havsalt', 'price': 1695, 'amount': 2} <SecureCookieSession {'_permanent': True, 'user': {'email': 'da@ni.el', 'id': 51853, 'name': 'daniel', 'password': '$2b$04$rxLmapV7LM/jMEFNRpRhJ.QMOxMzUe9507ES18jD6i.ooPYyu1h0m', 'phone': '12345678', 'street': 'vej24', 'zip': 2680}}>\n",
      "{'item_id': 12, 'name': 'Chips m. havsalt', 'price': 1695, 'amount': 2} <SecureCookieSession {'_permanent': True, 'user': {'email': 'da@ni.el', 'id': 51853, 'name': 'daniel', 'password': '$2b$04$rxLmapV7LM/jMEFNRpRhJ.QMOxMzUe9507ES18jD6i.ooPYyu1h0m', 'phone': '12345678', 'street': 'vej24', 'zip': 2680}}>\n"
     ]
    },
    {
     "name": "stderr",
     "output_type": "stream",
     "text": [
      "127.0.0.1 - - [25/May/2020 17:02:45] \"\u001b[37mPOST /cart/add HTTP/1.1\u001b[0m\" 200 -\n",
      "127.0.0.1 - - [25/May/2020 17:02:45] \"\u001b[37mPOST /cart/add HTTP/1.1\u001b[0m\" 200 -\n"
     ]
    },
    {
     "name": "stdout",
     "output_type": "stream",
     "text": [
      "{'item_id': 12, 'name': 'Chips m. havsalt', 'price': 1695, 'amount': 2} <SecureCookieSession {'_permanent': True, 'user': {'email': 'da@ni.el', 'id': 51853, 'name': 'daniel', 'password': '$2b$04$rxLmapV7LM/jMEFNRpRhJ.QMOxMzUe9507ES18jD6i.ooPYyu1h0m', 'phone': '12345678', 'street': 'vej24', 'zip': 2680}}>\n",
      "{'item_id': 12, 'name': 'Chips m. havsalt', 'price': 1695, 'amount': 2} <SecureCookieSession {'_permanent': True, 'user': {'email': 'da@ni.el', 'id': 51853, 'name': 'daniel', 'password': '$2b$04$rxLmapV7LM/jMEFNRpRhJ.QMOxMzUe9507ES18jD6i.ooPYyu1h0m', 'phone': '12345678', 'street': 'vej24', 'zip': 2680}}>\n"
     ]
    },
    {
     "name": "stderr",
     "output_type": "stream",
     "text": [
      "127.0.0.1 - - [25/May/2020 17:02:46] \"\u001b[37mPOST /cart/add HTTP/1.1\u001b[0m\" 200 -\n",
      "127.0.0.1 - - [25/May/2020 17:02:46] \"\u001b[37mPOST /cart/add HTTP/1.1\u001b[0m\" 200 -\n"
     ]
    },
    {
     "name": "stdout",
     "output_type": "stream",
     "text": [
      "{'item_id': 12, 'name': 'Chips m. havsalt', 'price': 1695, 'amount': 2} <SecureCookieSession {'_permanent': True, 'user': {'email': 'da@ni.el', 'id': 51853, 'name': 'daniel', 'password': '$2b$04$rxLmapV7LM/jMEFNRpRhJ.QMOxMzUe9507ES18jD6i.ooPYyu1h0m', 'phone': '12345678', 'street': 'vej24', 'zip': 2680}}>\n",
      "{'item_id': 12, 'name': 'Chips m. havsalt', 'price': 1695, 'amount': 2} <SecureCookieSession {'_permanent': True, 'user': {'email': 'da@ni.el', 'id': 51853, 'name': 'daniel', 'password': '$2b$04$rxLmapV7LM/jMEFNRpRhJ.QMOxMzUe9507ES18jD6i.ooPYyu1h0m', 'phone': '12345678', 'street': 'vej24', 'zip': 2680}}>\n"
     ]
    },
    {
     "name": "stderr",
     "output_type": "stream",
     "text": [
      "127.0.0.1 - - [25/May/2020 17:02:46] \"\u001b[37mPOST /cart/add HTTP/1.1\u001b[0m\" 200 -\n",
      "127.0.0.1 - - [25/May/2020 17:02:46] \"\u001b[37mPOST /cart/add HTTP/1.1\u001b[0m\" 200 -\n"
     ]
    },
    {
     "name": "stdout",
     "output_type": "stream",
     "text": [
      "{'item_id': 12, 'name': 'Chips m. havsalt', 'price': 1695, 'amount': 2} <SecureCookieSession {'_permanent': True, 'user': {'email': 'da@ni.el', 'id': 51853, 'name': 'daniel', 'password': '$2b$04$rxLmapV7LM/jMEFNRpRhJ.QMOxMzUe9507ES18jD6i.ooPYyu1h0m', 'phone': '12345678', 'street': 'vej24', 'zip': 2680}}>\n",
      "{'item_id': 12, 'name': 'Chips m. havsalt', 'price': 1695, 'amount': 2} <SecureCookieSession {'_permanent': True, 'user': {'email': 'da@ni.el', 'id': 51853, 'name': 'daniel', 'password': '$2b$04$rxLmapV7LM/jMEFNRpRhJ.QMOxMzUe9507ES18jD6i.ooPYyu1h0m', 'phone': '12345678', 'street': 'vej24', 'zip': 2680}}>\n"
     ]
    },
    {
     "name": "stderr",
     "output_type": "stream",
     "text": [
      "127.0.0.1 - - [25/May/2020 17:02:47] \"\u001b[37mPOST /cart/add HTTP/1.1\u001b[0m\" 200 -\n",
      "127.0.0.1 - - [25/May/2020 17:02:47] \"\u001b[37mPOST /cart/add HTTP/1.1\u001b[0m\" 200 -\n"
     ]
    },
    {
     "name": "stdout",
     "output_type": "stream",
     "text": [
      "{'item_id': 12, 'name': 'Chips m. havsalt', 'price': 1695, 'amount': 2} <SecureCookieSession {'_permanent': True, 'user': {'email': 'da@ni.el', 'id': 51853, 'name': 'daniel', 'password': '$2b$04$rxLmapV7LM/jMEFNRpRhJ.QMOxMzUe9507ES18jD6i.ooPYyu1h0m', 'phone': '12345678', 'street': 'vej24', 'zip': 2680}}>\n",
      "{'item_id': 12, 'name': 'Chips m. havsalt', 'price': 1695, 'amount': 2} <SecureCookieSession {'_permanent': True, 'user': {'email': 'da@ni.el', 'id': 51853, 'name': 'daniel', 'password': '$2b$04$rxLmapV7LM/jMEFNRpRhJ.QMOxMzUe9507ES18jD6i.ooPYyu1h0m', 'phone': '12345678', 'street': 'vej24', 'zip': 2680}}>\n"
     ]
    },
    {
     "name": "stderr",
     "output_type": "stream",
     "text": [
      "127.0.0.1 - - [25/May/2020 17:02:47] \"\u001b[37mPOST /cart/add HTTP/1.1\u001b[0m\" 200 -\n",
      "127.0.0.1 - - [25/May/2020 17:02:47] \"\u001b[37mPOST /cart/add HTTP/1.1\u001b[0m\" 200 -\n"
     ]
    },
    {
     "name": "stdout",
     "output_type": "stream",
     "text": [
      "{'item_id': 12, 'name': 'Chips m. havsalt', 'price': 1695, 'amount': 2} <SecureCookieSession {'_permanent': True, 'user': {'email': 'da@ni.el', 'id': 51853, 'name': 'daniel', 'password': '$2b$04$rxLmapV7LM/jMEFNRpRhJ.QMOxMzUe9507ES18jD6i.ooPYyu1h0m', 'phone': '12345678', 'street': 'vej24', 'zip': 2680}}>\n",
      "{'item_id': 12, 'name': 'Chips m. havsalt', 'price': 1695, 'amount': 2} <SecureCookieSession {'_permanent': True, 'user': {'email': 'da@ni.el', 'id': 51853, 'name': 'daniel', 'password': '$2b$04$rxLmapV7LM/jMEFNRpRhJ.QMOxMzUe9507ES18jD6i.ooPYyu1h0m', 'phone': '12345678', 'street': 'vej24', 'zip': 2680}}>\n"
     ]
    },
    {
     "name": "stderr",
     "output_type": "stream",
     "text": [
      "127.0.0.1 - - [25/May/2020 17:02:48] \"\u001b[37mOPTIONS /cart/add HTTP/1.1\u001b[0m\" 200 -\n",
      "127.0.0.1 - - [25/May/2020 17:02:48] \"\u001b[37mOPTIONS /cart/add HTTP/1.1\u001b[0m\" 200 -\n",
      "127.0.0.1 - - [25/May/2020 17:02:48] \"\u001b[37mPOST /cart/add HTTP/1.1\u001b[0m\" 200 -\n",
      "127.0.0.1 - - [25/May/2020 17:02:48] \"\u001b[37mPOST /cart/add HTTP/1.1\u001b[0m\" 200 -\n",
      "127.0.0.1 - - [25/May/2020 17:02:48] \"\u001b[37mPOST /cart/add HTTP/1.1\u001b[0m\" 200 -\n",
      "127.0.0.1 - - [25/May/2020 17:02:48] \"\u001b[37mPOST /cart/add HTTP/1.1\u001b[0m\" 200 -\n"
     ]
    },
    {
     "name": "stdout",
     "output_type": "stream",
     "text": [
      "{'item_id': 12, 'name': 'Chips m. havsalt', 'price': 1695, 'amount': 2} <SecureCookieSession {'_permanent': True, 'user': {'email': 'da@ni.el', 'id': 51853, 'name': 'daniel', 'password': '$2b$04$rxLmapV7LM/jMEFNRpRhJ.QMOxMzUe9507ES18jD6i.ooPYyu1h0m', 'phone': '12345678', 'street': 'vej24', 'zip': 2680}}>\n",
      "{'item_id': 12, 'name': 'Chips m. havsalt', 'price': 1695, 'amount': 2} <SecureCookieSession {'_permanent': True, 'user': {'email': 'da@ni.el', 'id': 51853, 'name': 'daniel', 'password': '$2b$04$rxLmapV7LM/jMEFNRpRhJ.QMOxMzUe9507ES18jD6i.ooPYyu1h0m', 'phone': '12345678', 'street': 'vej24', 'zip': 2680}}>\n",
      "{'item_id': 12, 'name': 'Chips m. havsalt', 'price': 1695, 'amount': 2} <SecureCookieSession {'_permanent': True, 'user': {'email': 'da@ni.el', 'id': 51853, 'name': 'daniel', 'password': '$2b$04$rxLmapV7LM/jMEFNRpRhJ.QMOxMzUe9507ES18jD6i.ooPYyu1h0m', 'phone': '12345678', 'street': 'vej24', 'zip': 2680}}>\n",
      "{'item_id': 12, 'name': 'Chips m. havsalt', 'price': 1695, 'amount': 2} <SecureCookieSession {'_permanent': True, 'user': {'email': 'da@ni.el', 'id': 51853, 'name': 'daniel', 'password': '$2b$04$rxLmapV7LM/jMEFNRpRhJ.QMOxMzUe9507ES18jD6i.ooPYyu1h0m', 'phone': '12345678', 'street': 'vej24', 'zip': 2680}}>\n"
     ]
    },
    {
     "name": "stderr",
     "output_type": "stream",
     "text": [
      "127.0.0.1 - - [25/May/2020 17:02:48] \"\u001b[37mPOST /cart/add HTTP/1.1\u001b[0m\" 200 -\n",
      "127.0.0.1 - - [25/May/2020 17:02:48] \"\u001b[37mPOST /cart/add HTTP/1.1\u001b[0m\" 200 -\n",
      "127.0.0.1 - - [25/May/2020 17:02:48] \"\u001b[37mPOST /cart/add HTTP/1.1\u001b[0m\" 200 -\n",
      "127.0.0.1 - - [25/May/2020 17:02:48] \"\u001b[37mPOST /cart/add HTTP/1.1\u001b[0m\" 200 -\n"
     ]
    },
    {
     "name": "stdout",
     "output_type": "stream",
     "text": [
      "{'item_id': 12, 'name': 'Chips m. havsalt', 'price': 1695, 'amount': 2} <SecureCookieSession {'_permanent': True, 'user': {'email': 'da@ni.el', 'id': 51853, 'name': 'daniel', 'password': '$2b$04$rxLmapV7LM/jMEFNRpRhJ.QMOxMzUe9507ES18jD6i.ooPYyu1h0m', 'phone': '12345678', 'street': 'vej24', 'zip': 2680}}>\n",
      "{'item_id': 12, 'name': 'Chips m. havsalt', 'price': 1695, 'amount': 2} <SecureCookieSession {'_permanent': True, 'user': {'email': 'da@ni.el', 'id': 51853, 'name': 'daniel', 'password': '$2b$04$rxLmapV7LM/jMEFNRpRhJ.QMOxMzUe9507ES18jD6i.ooPYyu1h0m', 'phone': '12345678', 'street': 'vej24', 'zip': 2680}}>\n",
      "{'item_id': 12, 'name': 'Chips m. havsalt', 'price': 1695, 'amount': 2} <SecureCookieSession {'_permanent': True, 'user': {'email': 'da@ni.el', 'id': 51853, 'name': 'daniel', 'password': '$2b$04$rxLmapV7LM/jMEFNRpRhJ.QMOxMzUe9507ES18jD6i.ooPYyu1h0m', 'phone': '12345678', 'street': 'vej24', 'zip': 2680}}>\n",
      "{'item_id': 12, 'name': 'Chips m. havsalt', 'price': 1695, 'amount': 2} <SecureCookieSession {'_permanent': True, 'user': {'email': 'da@ni.el', 'id': 51853, 'name': 'daniel', 'password': '$2b$04$rxLmapV7LM/jMEFNRpRhJ.QMOxMzUe9507ES18jD6i.ooPYyu1h0m', 'phone': '12345678', 'street': 'vej24', 'zip': 2680}}>\n"
     ]
    },
    {
     "name": "stderr",
     "output_type": "stream",
     "text": [
      "127.0.0.1 - - [25/May/2020 17:02:48] \"\u001b[37mPOST /cart/add HTTP/1.1\u001b[0m\" 200 -\n",
      "127.0.0.1 - - [25/May/2020 17:02:48] \"\u001b[37mPOST /cart/add HTTP/1.1\u001b[0m\" 200 -\n",
      "127.0.0.1 - - [25/May/2020 17:02:48] \"\u001b[37mPOST /cart/add HTTP/1.1\u001b[0m\" 200 -\n",
      "127.0.0.1 - - [25/May/2020 17:02:48] \"\u001b[37mPOST /cart/add HTTP/1.1\u001b[0m\" 200 -\n"
     ]
    },
    {
     "name": "stdout",
     "output_type": "stream",
     "text": [
      "{'item_id': 12, 'name': 'Chips m. havsalt', 'price': 1695, 'amount': 2} <SecureCookieSession {'_permanent': True, 'user': {'email': 'da@ni.el', 'id': 51853, 'name': 'daniel', 'password': '$2b$04$rxLmapV7LM/jMEFNRpRhJ.QMOxMzUe9507ES18jD6i.ooPYyu1h0m', 'phone': '12345678', 'street': 'vej24', 'zip': 2680}}>\n",
      "{'item_id': 12, 'name': 'Chips m. havsalt', 'price': 1695, 'amount': 2} <SecureCookieSession {'_permanent': True, 'user': {'email': 'da@ni.el', 'id': 51853, 'name': 'daniel', 'password': '$2b$04$rxLmapV7LM/jMEFNRpRhJ.QMOxMzUe9507ES18jD6i.ooPYyu1h0m', 'phone': '12345678', 'street': 'vej24', 'zip': 2680}}>\n",
      "{'item_id': 12, 'name': 'Chips m. havsalt', 'price': 1695, 'amount': 2} <SecureCookieSession {'_permanent': True, 'user': {'email': 'da@ni.el', 'id': 51853, 'name': 'daniel', 'password': '$2b$04$rxLmapV7LM/jMEFNRpRhJ.QMOxMzUe9507ES18jD6i.ooPYyu1h0m', 'phone': '12345678', 'street': 'vej24', 'zip': 2680}}>\n",
      "{'item_id': 12, 'name': 'Chips m. havsalt', 'price': 1695, 'amount': 2} <SecureCookieSession {'_permanent': True, 'user': {'email': 'da@ni.el', 'id': 51853, 'name': 'daniel', 'password': '$2b$04$rxLmapV7LM/jMEFNRpRhJ.QMOxMzUe9507ES18jD6i.ooPYyu1h0m', 'phone': '12345678', 'street': 'vej24', 'zip': 2680}}>\n"
     ]
    },
    {
     "name": "stderr",
     "output_type": "stream",
     "text": [
      "127.0.0.1 - - [25/May/2020 17:02:50] \"\u001b[37mPOST /cart/add HTTP/1.1\u001b[0m\" 200 -\n",
      "127.0.0.1 - - [25/May/2020 17:02:50] \"\u001b[37mPOST /cart/add HTTP/1.1\u001b[0m\" 200 -\n"
     ]
    },
    {
     "name": "stdout",
     "output_type": "stream",
     "text": [
      "{'item_id': 12, 'name': 'Chips m. havsalt', 'price': 1695, 'amount': 2} <SecureCookieSession {'_permanent': True, 'user': {'email': 'da@ni.el', 'id': 51853, 'name': 'daniel', 'password': '$2b$04$rxLmapV7LM/jMEFNRpRhJ.QMOxMzUe9507ES18jD6i.ooPYyu1h0m', 'phone': '12345678', 'street': 'vej24', 'zip': 2680}}>\n",
      "{'item_id': 12, 'name': 'Chips m. havsalt', 'price': 1695, 'amount': 2}{'item_id': 12, 'name': 'Chips m. havsalt', 'price': 1695, 'amount': 2} <SecureCookieSession {'_permanent': True, 'user': {'email': 'da@ni.el', 'id': 51853, 'name': 'daniel', 'password': '$2b$04$rxLmapV7LM/jMEFNRpRhJ.QMOxMzUe9507ES18jD6i.ooPYyu1h0m', 'phone': '12345678', 'street': 'vej24', 'zip': 2680}}>\n",
      "{'item_id': 12, 'name': 'Chips m. havsalt', 'price': 1695, 'amount': 2}"
     ]
    },
    {
     "name": "stderr",
     "output_type": "stream",
     "text": [
      "127.0.0.1 - - [25/May/2020 17:02:50] \"\u001b[37mPOST /cart/add HTTP/1.1\u001b[0m\" 200 -\n",
      "127.0.0.1 - - [25/May/2020 17:02:50] \"\u001b[37mPOST /cart/add HTTP/1.1\u001b[0m\" 200 -\n",
      "127.0.0.1 - - [25/May/2020 17:02:51] \"\u001b[37mPOST /cart/add HTTP/1.1\u001b[0m\" 200 -\n",
      "127.0.0.1 - - [25/May/2020 17:02:51] \"\u001b[37mPOST /cart/add HTTP/1.1\u001b[0m\" 200 -\n"
     ]
    },
    {
     "name": "stdout",
     "output_type": "stream",
     "text": [
      " <SecureCookieSession {'_permanent': True, 'user': {'email': 'da@ni.el', 'id': 51853, 'name': 'daniel', 'password': '$2b$04$rxLmapV7LM/jMEFNRpRhJ.QMOxMzUe9507ES18jD6i.ooPYyu1h0m', 'phone': '12345678', 'street': 'vej24', 'zip': 2680}}>\n",
      "{'item_id': 12, 'name': 'Chips m. havsalt', 'price': 1695, 'amount': 2} <SecureCookieSession {'_permanent': True, 'user': {'email': 'da@ni.el', 'id': 51853, 'name': 'daniel', 'password': '$2b$04$rxLmapV7LM/jMEFNRpRhJ.QMOxMzUe9507ES18jD6i.ooPYyu1h0m', 'phone': '12345678', 'street': 'vej24', 'zip': 2680}}>\n",
      " <SecureCookieSession {'_permanent': True, 'user': {'email': 'da@ni.el', 'id': 51853, 'name': 'daniel', 'password': '$2b$04$rxLmapV7LM/jMEFNRpRhJ.QMOxMzUe9507ES18jD6i.ooPYyu1h0m', 'phone': '12345678', 'street': 'vej24', 'zip': 2680}}>\n",
      "{'item_id': 12, 'name': 'Chips m. havsalt', 'price': 1695, 'amount': 2} <SecureCookieSession {'_permanent': True, 'user': {'email': 'da@ni.el', 'id': 51853, 'name': 'daniel', 'password': '$2b$04$rxLmapV7LM/jMEFNRpRhJ.QMOxMzUe9507ES18jD6i.ooPYyu1h0m', 'phone': '12345678', 'street': 'vej24', 'zip': 2680}}>\n"
     ]
    },
    {
     "name": "stderr",
     "output_type": "stream",
     "text": [
      "127.0.0.1 - - [25/May/2020 17:02:51] \"\u001b[37mPOST /cart/add HTTP/1.1\u001b[0m\" 200 -\n",
      "127.0.0.1 - - [25/May/2020 17:02:51] \"\u001b[37mPOST /cart/add HTTP/1.1\u001b[0m\" 200 -\n"
     ]
    },
    {
     "name": "stdout",
     "output_type": "stream",
     "text": [
      "{'item_id': 12, 'name': 'Chips m. havsalt', 'price': 1695, 'amount': 2} <SecureCookieSession {'_permanent': True, 'user': {'email': 'da@ni.el', 'id': 51853, 'name': 'daniel', 'password': '$2b$04$rxLmapV7LM/jMEFNRpRhJ.QMOxMzUe9507ES18jD6i.ooPYyu1h0m', 'phone': '12345678', 'street': 'vej24', 'zip': 2680}}>\n",
      "{'item_id': 12, 'name': 'Chips m. havsalt', 'price': 1695, 'amount': 2} <SecureCookieSession {'_permanent': True, 'user': {'email': 'da@ni.el', 'id': 51853, 'name': 'daniel', 'password': '$2b$04$rxLmapV7LM/jMEFNRpRhJ.QMOxMzUe9507ES18jD6i.ooPYyu1h0m', 'phone': '12345678', 'street': 'vej24', 'zip': 2680}}>\n"
     ]
    },
    {
     "name": "stderr",
     "output_type": "stream",
     "text": [
      "127.0.0.1 - - [25/May/2020 17:02:57] \"\u001b[37mOPTIONS /login/da@ni.el/1234 HTTP/1.1\u001b[0m\" 200 -\n",
      "127.0.0.1 - - [25/May/2020 17:02:57] \"\u001b[37mOPTIONS /login/da@ni.el/1234 HTTP/1.1\u001b[0m\" 200 -\n",
      "127.0.0.1 - - [25/May/2020 17:02:57] \"\u001b[37mGET /login/da@ni.el/1234 HTTP/1.1\u001b[0m\" 200 -\n",
      "127.0.0.1 - - [25/May/2020 17:02:57] \"\u001b[37mGET /login/da@ni.el/1234 HTTP/1.1\u001b[0m\" 200 -\n",
      "127.0.0.1 - - [25/May/2020 17:02:57] \"\u001b[37mOPTIONS /cart/get HTTP/1.1\u001b[0m\" 200 -\n",
      "127.0.0.1 - - [25/May/2020 17:02:57] \"\u001b[37mOPTIONS /cart/get HTTP/1.1\u001b[0m\" 200 -\n",
      "127.0.0.1 - - [25/May/2020 17:02:57] \"\u001b[37mGET /cart/get HTTP/1.1\u001b[0m\" 200 -\n",
      "127.0.0.1 - - [25/May/2020 17:02:57] \"\u001b[37mGET /cart/get HTTP/1.1\u001b[0m\" 200 -\n",
      "127.0.0.1 - - [25/May/2020 17:03:02] \"\u001b[37mOPTIONS /cart/clear HTTP/1.1\u001b[0m\" 200 -\n",
      "127.0.0.1 - - [25/May/2020 17:03:02] \"\u001b[37mOPTIONS /cart/clear HTTP/1.1\u001b[0m\" 200 -\n",
      "127.0.0.1 - - [25/May/2020 17:03:02] \"\u001b[1m\u001b[31mGET /cart/clear HTTP/1.1\u001b[0m\" 400 -\n",
      "127.0.0.1 - - [25/May/2020 17:03:02] \"\u001b[1m\u001b[31mGET /cart/clear HTTP/1.1\u001b[0m\" 400 -\n",
      "127.0.0.1 - - [25/May/2020 17:08:16] \"\u001b[37mOPTIONS /cart/get HTTP/1.1\u001b[0m\" 200 -\n",
      "127.0.0.1 - - [25/May/2020 17:08:16] \"\u001b[37mOPTIONS /cart/get HTTP/1.1\u001b[0m\" 200 -\n",
      "127.0.0.1 - - [25/May/2020 17:08:16] \"\u001b[37mGET /cart/get HTTP/1.1\u001b[0m\" 200 -\n",
      "127.0.0.1 - - [25/May/2020 17:08:16] \"\u001b[37mGET /cart/get HTTP/1.1\u001b[0m\" 200 -\n",
      "127.0.0.1 - - [25/May/2020 17:08:20] \"\u001b[37mOPTIONS /cart/clear HTTP/1.1\u001b[0m\" 200 -\n",
      "127.0.0.1 - - [25/May/2020 17:08:20] \"\u001b[37mOPTIONS /cart/clear HTTP/1.1\u001b[0m\" 200 -\n",
      "127.0.0.1 - - [25/May/2020 17:08:20] \"\u001b[1m\u001b[31mGET /cart/clear HTTP/1.1\u001b[0m\" 400 -\n",
      "127.0.0.1 - - [25/May/2020 17:08:20] \"\u001b[1m\u001b[31mGET /cart/clear HTTP/1.1\u001b[0m\" 400 -\n",
      "127.0.0.1 - - [25/May/2020 17:08:21] \"\u001b[37mOPTIONS /cart/add HTTP/1.1\u001b[0m\" 200 -\n",
      "127.0.0.1 - - [25/May/2020 17:08:21] \"\u001b[37mOPTIONS /cart/add HTTP/1.1\u001b[0m\" 200 -\n",
      "127.0.0.1 - - [25/May/2020 17:08:21] \"\u001b[37mPOST /cart/add HTTP/1.1\u001b[0m\" 200 -\n",
      "127.0.0.1 - - [25/May/2020 17:08:21] \"\u001b[37mPOST /cart/add HTTP/1.1\u001b[0m\" 200 -\n"
     ]
    },
    {
     "name": "stdout",
     "output_type": "stream",
     "text": [
      "{'item_id': 12, 'name': 'Chips m. havsalt', 'price': 1695, 'amount': 2} <SecureCookieSession {'_permanent': True, 'user': {'email': 'da@ni.el', 'id': 51853, 'name': 'daniel', 'password': '$2b$04$rxLmapV7LM/jMEFNRpRhJ.QMOxMzUe9507ES18jD6i.ooPYyu1h0m', 'phone': '12345678', 'street': 'vej24', 'zip': 2680}}>\n",
      "{'item_id': 12, 'name': 'Chips m. havsalt', 'price': 1695, 'amount': 2} <SecureCookieSession {'_permanent': True, 'user': {'email': 'da@ni.el', 'id': 51853, 'name': 'daniel', 'password': '$2b$04$rxLmapV7LM/jMEFNRpRhJ.QMOxMzUe9507ES18jD6i.ooPYyu1h0m', 'phone': '12345678', 'street': 'vej24', 'zip': 2680}}>\n"
     ]
    },
    {
     "name": "stderr",
     "output_type": "stream",
     "text": [
      "127.0.0.1 - - [25/May/2020 17:08:33] \"\u001b[37mOPTIONS /cart/get HTTP/1.1\u001b[0m\" 200 -\n",
      "127.0.0.1 - - [25/May/2020 17:08:33] \"\u001b[37mOPTIONS /cart/get HTTP/1.1\u001b[0m\" 200 -\n",
      "127.0.0.1 - - [25/May/2020 17:08:33] \"\u001b[37mGET /cart/get HTTP/1.1\u001b[0m\" 200 -\n",
      "127.0.0.1 - - [25/May/2020 17:08:33] \"\u001b[37mGET /cart/get HTTP/1.1\u001b[0m\" 200 -\n",
      "127.0.0.1 - - [25/May/2020 17:08:34] \"\u001b[37mGET /cart/get HTTP/1.1\u001b[0m\" 200 -\n",
      "127.0.0.1 - - [25/May/2020 17:08:34] \"\u001b[37mGET /cart/get HTTP/1.1\u001b[0m\" 200 -\n",
      "127.0.0.1 - - [25/May/2020 17:08:35] \"\u001b[37mOPTIONS /cart/clear HTTP/1.1\u001b[0m\" 200 -\n",
      "127.0.0.1 - - [25/May/2020 17:08:35] \"\u001b[37mOPTIONS /cart/clear HTTP/1.1\u001b[0m\" 200 -\n",
      "127.0.0.1 - - [25/May/2020 17:08:35] \"\u001b[1m\u001b[31mGET /cart/clear HTTP/1.1\u001b[0m\" 400 -\n",
      "127.0.0.1 - - [25/May/2020 17:08:35] \"\u001b[1m\u001b[31mGET /cart/clear HTTP/1.1\u001b[0m\" 400 -\n",
      "127.0.0.1 - - [25/May/2020 17:08:38] \"\u001b[37mOPTIONS /cart/add HTTP/1.1\u001b[0m\" 200 -\n",
      "127.0.0.1 - - [25/May/2020 17:08:38] \"\u001b[37mOPTIONS /cart/add HTTP/1.1\u001b[0m\" 200 -\n",
      "127.0.0.1 - - [25/May/2020 17:08:38] \"\u001b[37mPOST /cart/add HTTP/1.1\u001b[0m\" 200 -\n",
      "127.0.0.1 - - [25/May/2020 17:08:38] \"\u001b[37mPOST /cart/add HTTP/1.1\u001b[0m\" 200 -\n"
     ]
    },
    {
     "name": "stdout",
     "output_type": "stream",
     "text": [
      "{'item_id': 12, 'name': 'Chips m. havsalt', 'price': 1695, 'amount': 2} <SecureCookieSession {'_permanent': True, 'user': {'email': 'da@ni.el', 'id': 51853, 'name': 'daniel', 'password': '$2b$04$rxLmapV7LM/jMEFNRpRhJ.QMOxMzUe9507ES18jD6i.ooPYyu1h0m', 'phone': '12345678', 'street': 'vej24', 'zip': 2680}}>\n",
      "{'item_id': 12, 'name': 'Chips m. havsalt', 'price': 1695, 'amount': 2} <SecureCookieSession {'_permanent': True, 'user': {'email': 'da@ni.el', 'id': 51853, 'name': 'daniel', 'password': '$2b$04$rxLmapV7LM/jMEFNRpRhJ.QMOxMzUe9507ES18jD6i.ooPYyu1h0m', 'phone': '12345678', 'street': 'vej24', 'zip': 2680}}>\n"
     ]
    },
    {
     "name": "stderr",
     "output_type": "stream",
     "text": [
      "127.0.0.1 - - [25/May/2020 17:08:38] \"\u001b[1m\u001b[31mGET /cart/clear HTTP/1.1\u001b[0m\" 400 -\n",
      "127.0.0.1 - - [25/May/2020 17:08:38] \"\u001b[1m\u001b[31mGET /cart/clear HTTP/1.1\u001b[0m\" 400 -\n",
      "127.0.0.1 - - [25/May/2020 17:08:39] \"\u001b[37mPOST /cart/add HTTP/1.1\u001b[0m\" 200 -\n",
      "127.0.0.1 - - [25/May/2020 17:08:39] \"\u001b[37mPOST /cart/add HTTP/1.1\u001b[0m\" 200 -\n"
     ]
    },
    {
     "name": "stdout",
     "output_type": "stream",
     "text": [
      "{'item_id': 12, 'name': 'Chips m. havsalt', 'price': 1695, 'amount': 2} <SecureCookieSession {'_permanent': True, 'user': {'email': 'da@ni.el', 'id': 51853, 'name': 'daniel', 'password': '$2b$04$rxLmapV7LM/jMEFNRpRhJ.QMOxMzUe9507ES18jD6i.ooPYyu1h0m', 'phone': '12345678', 'street': 'vej24', 'zip': 2680}}>\n",
      "{'item_id': 12, 'name': 'Chips m. havsalt', 'price': 1695, 'amount': 2} <SecureCookieSession {'_permanent': True, 'user': {'email': 'da@ni.el', 'id': 51853, 'name': 'daniel', 'password': '$2b$04$rxLmapV7LM/jMEFNRpRhJ.QMOxMzUe9507ES18jD6i.ooPYyu1h0m', 'phone': '12345678', 'street': 'vej24', 'zip': 2680}}>\n"
     ]
    },
    {
     "name": "stderr",
     "output_type": "stream",
     "text": [
      "127.0.0.1 - - [25/May/2020 17:08:40] \"\u001b[1m\u001b[31mGET /cart/clear HTTP/1.1\u001b[0m\" 400 -\n",
      "127.0.0.1 - - [25/May/2020 17:08:40] \"\u001b[1m\u001b[31mGET /cart/clear HTTP/1.1\u001b[0m\" 400 -\n",
      "127.0.0.1 - - [25/May/2020 17:08:42] \"\u001b[37mOPTIONS /login/da@ni.el/1234 HTTP/1.1\u001b[0m\" 200 -\n",
      "127.0.0.1 - - [25/May/2020 17:08:42] \"\u001b[37mOPTIONS /login/da@ni.el/1234 HTTP/1.1\u001b[0m\" 200 -\n",
      "127.0.0.1 - - [25/May/2020 17:08:42] \"\u001b[37mGET /login/da@ni.el/1234 HTTP/1.1\u001b[0m\" 200 -\n",
      "127.0.0.1 - - [25/May/2020 17:08:42] \"\u001b[37mGET /login/da@ni.el/1234 HTTP/1.1\u001b[0m\" 200 -\n",
      "127.0.0.1 - - [25/May/2020 17:08:42] \"\u001b[37mOPTIONS /cart/get HTTP/1.1\u001b[0m\" 200 -\n",
      "127.0.0.1 - - [25/May/2020 17:08:42] \"\u001b[37mOPTIONS /cart/get HTTP/1.1\u001b[0m\" 200 -\n",
      "127.0.0.1 - - [25/May/2020 17:08:42] \"\u001b[37mGET /cart/get HTTP/1.1\u001b[0m\" 200 -\n",
      "127.0.0.1 - - [25/May/2020 17:08:42] \"\u001b[37mGET /cart/get HTTP/1.1\u001b[0m\" 200 -\n",
      "127.0.0.1 - - [25/May/2020 17:10:11] \"\u001b[37mOPTIONS /cart/get HTTP/1.1\u001b[0m\" 200 -\n",
      "127.0.0.1 - - [25/May/2020 17:10:11] \"\u001b[37mOPTIONS /cart/get HTTP/1.1\u001b[0m\" 200 -\n",
      "127.0.0.1 - - [25/May/2020 17:10:11] \"\u001b[37mGET /cart/get HTTP/1.1\u001b[0m\" 200 -\n",
      "127.0.0.1 - - [25/May/2020 17:10:11] \"\u001b[37mGET /cart/get HTTP/1.1\u001b[0m\" 200 -\n",
      "127.0.0.1 - - [25/May/2020 17:10:18] \"\u001b[37mOPTIONS /cart/get HTTP/1.1\u001b[0m\" 200 -\n",
      "127.0.0.1 - - [25/May/2020 17:10:18] \"\u001b[37mOPTIONS /cart/get HTTP/1.1\u001b[0m\" 200 -\n",
      "127.0.0.1 - - [25/May/2020 17:10:18] \"\u001b[37mGET /cart/get HTTP/1.1\u001b[0m\" 200 -\n",
      "127.0.0.1 - - [25/May/2020 17:10:18] \"\u001b[37mGET /cart/get HTTP/1.1\u001b[0m\" 200 -\n",
      "127.0.0.1 - - [25/May/2020 17:11:07] \"\u001b[37mOPTIONS /cart/get HTTP/1.1\u001b[0m\" 200 -\n",
      "127.0.0.1 - - [25/May/2020 17:11:07] \"\u001b[37mOPTIONS /cart/get HTTP/1.1\u001b[0m\" 200 -\n",
      "127.0.0.1 - - [25/May/2020 17:11:07] \"\u001b[37mGET /cart/get HTTP/1.1\u001b[0m\" 200 -\n",
      "127.0.0.1 - - [25/May/2020 17:11:07] \"\u001b[37mGET /cart/get HTTP/1.1\u001b[0m\" 200 -\n",
      "127.0.0.1 - - [25/May/2020 17:11:09] \"\u001b[37mOPTIONS /cart/add HTTP/1.1\u001b[0m\" 200 -\n",
      "127.0.0.1 - - [25/May/2020 17:11:09] \"\u001b[37mOPTIONS /cart/add HTTP/1.1\u001b[0m\" 200 -\n",
      "127.0.0.1 - - [25/May/2020 17:11:09] \"\u001b[37mPOST /cart/add HTTP/1.1\u001b[0m\" 200 -\n",
      "127.0.0.1 - - [25/May/2020 17:11:09] \"\u001b[37mPOST /cart/add HTTP/1.1\u001b[0m\" 200 -\n"
     ]
    },
    {
     "name": "stdout",
     "output_type": "stream",
     "text": [
      "{'item_id': 12, 'name': 'Chips m. havsalt', 'price': 1695, 'amount': 2} <SecureCookieSession {'_permanent': True, 'user': {'email': 'da@ni.el', 'id': 51853, 'name': 'daniel', 'password': '$2b$04$rxLmapV7LM/jMEFNRpRhJ.QMOxMzUe9507ES18jD6i.ooPYyu1h0m', 'phone': '12345678', 'street': 'vej24', 'zip': 2680}}>\n",
      "{'item_id': 12, 'name': 'Chips m. havsalt', 'price': 1695, 'amount': 2} <SecureCookieSession {'_permanent': True, 'user': {'email': 'da@ni.el', 'id': 51853, 'name': 'daniel', 'password': '$2b$04$rxLmapV7LM/jMEFNRpRhJ.QMOxMzUe9507ES18jD6i.ooPYyu1h0m', 'phone': '12345678', 'street': 'vej24', 'zip': 2680}}>\n"
     ]
    },
    {
     "name": "stderr",
     "output_type": "stream",
     "text": [
      "127.0.0.1 - - [25/May/2020 17:11:55] \"\u001b[37mOPTIONS /cart/get HTTP/1.1\u001b[0m\" 200 -\n",
      "127.0.0.1 - - [25/May/2020 17:11:55] \"\u001b[37mOPTIONS /cart/get HTTP/1.1\u001b[0m\" 200 -\n",
      "127.0.0.1 - - [25/May/2020 17:11:55] \"\u001b[37mGET /cart/get HTTP/1.1\u001b[0m\" 200 -\n",
      "127.0.0.1 - - [25/May/2020 17:11:55] \"\u001b[37mGET /cart/get HTTP/1.1\u001b[0m\" 200 -\n",
      "127.0.0.1 - - [25/May/2020 17:14:07] \"\u001b[37mOPTIONS /cart/get HTTP/1.1\u001b[0m\" 200 -\n",
      "127.0.0.1 - - [25/May/2020 17:14:07] \"\u001b[37mOPTIONS /cart/get HTTP/1.1\u001b[0m\" 200 -\n",
      "127.0.0.1 - - [25/May/2020 17:14:07] \"\u001b[37mGET /cart/get HTTP/1.1\u001b[0m\" 200 -\n",
      "127.0.0.1 - - [25/May/2020 17:14:07] \"\u001b[37mGET /cart/get HTTP/1.1\u001b[0m\" 200 -\n",
      "127.0.0.1 - - [25/May/2020 17:14:10] \"\u001b[37mOPTIONS /cart/clear HTTP/1.1\u001b[0m\" 200 -\n",
      "127.0.0.1 - - [25/May/2020 17:14:10] \"\u001b[37mOPTIONS /cart/clear HTTP/1.1\u001b[0m\" 200 -\n",
      "127.0.0.1 - - [25/May/2020 17:14:10] \"\u001b[1m\u001b[31mGET /cart/clear HTTP/1.1\u001b[0m\" 400 -\n",
      "127.0.0.1 - - [25/May/2020 17:14:10] \"\u001b[1m\u001b[31mGET /cart/clear HTTP/1.1\u001b[0m\" 400 -\n",
      "127.0.0.1 - - [25/May/2020 17:14:10] \"\u001b[37mOPTIONS /cart/add HTTP/1.1\u001b[0m\" 200 -\n",
      "127.0.0.1 - - [25/May/2020 17:14:10] \"\u001b[37mOPTIONS /cart/add HTTP/1.1\u001b[0m\" 200 -\n",
      "127.0.0.1 - - [25/May/2020 17:14:10] \"\u001b[37mPOST /cart/add HTTP/1.1\u001b[0m\" 200 -\n",
      "127.0.0.1 - - [25/May/2020 17:14:10] \"\u001b[37mPOST /cart/add HTTP/1.1\u001b[0m\" 200 -\n",
      "127.0.0.1 - - [25/May/2020 17:14:10] \"\u001b[37mGET /cart/get HTTP/1.1\u001b[0m\" 200 -\n",
      "127.0.0.1 - - [25/May/2020 17:14:10] \"\u001b[37mGET /cart/get HTTP/1.1\u001b[0m\" 200 -\n"
     ]
    },
    {
     "name": "stdout",
     "output_type": "stream",
     "text": [
      "{'item_id': 12, 'name': 'Chips m. havsalt', 'price': 1695, 'amount': 2} <SecureCookieSession {'_permanent': True, 'user': {'email': 'da@ni.el', 'id': 51853, 'name': 'daniel', 'password': '$2b$04$rxLmapV7LM/jMEFNRpRhJ.QMOxMzUe9507ES18jD6i.ooPYyu1h0m', 'phone': '12345678', 'street': 'vej24', 'zip': 2680}}>\n",
      "{'item_id': 12, 'name': 'Chips m. havsalt', 'price': 1695, 'amount': 2} <SecureCookieSession {'_permanent': True, 'user': {'email': 'da@ni.el', 'id': 51853, 'name': 'daniel', 'password': '$2b$04$rxLmapV7LM/jMEFNRpRhJ.QMOxMzUe9507ES18jD6i.ooPYyu1h0m', 'phone': '12345678', 'street': 'vej24', 'zip': 2680}}>\n"
     ]
    },
    {
     "name": "stderr",
     "output_type": "stream",
     "text": [
      "127.0.0.1 - - [25/May/2020 17:14:11] \"\u001b[1m\u001b[31mGET /cart/clear HTTP/1.1\u001b[0m\" 400 -\n",
      "127.0.0.1 - - [25/May/2020 17:14:11] \"\u001b[1m\u001b[31mGET /cart/clear HTTP/1.1\u001b[0m\" 400 -\n",
      "127.0.0.1 - - [25/May/2020 17:14:12] \"\u001b[37mPOST /cart/add HTTP/1.1\u001b[0m\" 200 -\n",
      "127.0.0.1 - - [25/May/2020 17:14:12] \"\u001b[37mPOST /cart/add HTTP/1.1\u001b[0m\" 200 -\n",
      "127.0.0.1 - - [25/May/2020 17:14:12] \"\u001b[37mGET /cart/get HTTP/1.1\u001b[0m\" 200 -\n",
      "127.0.0.1 - - [25/May/2020 17:14:12] \"\u001b[37mGET /cart/get HTTP/1.1\u001b[0m\" 200 -\n"
     ]
    },
    {
     "name": "stdout",
     "output_type": "stream",
     "text": [
      "{'item_id': 12, 'name': 'Chips m. havsalt', 'price': 1695, 'amount': 2} <SecureCookieSession {'_permanent': True, 'user': {'email': 'da@ni.el', 'id': 51853, 'name': 'daniel', 'password': '$2b$04$rxLmapV7LM/jMEFNRpRhJ.QMOxMzUe9507ES18jD6i.ooPYyu1h0m', 'phone': '12345678', 'street': 'vej24', 'zip': 2680}}>\n",
      "{'item_id': 12, 'name': 'Chips m. havsalt', 'price': 1695, 'amount': 2} <SecureCookieSession {'_permanent': True, 'user': {'email': 'da@ni.el', 'id': 51853, 'name': 'daniel', 'password': '$2b$04$rxLmapV7LM/jMEFNRpRhJ.QMOxMzUe9507ES18jD6i.ooPYyu1h0m', 'phone': '12345678', 'street': 'vej24', 'zip': 2680}}>\n"
     ]
    },
    {
     "name": "stderr",
     "output_type": "stream",
     "text": [
      "127.0.0.1 - - [25/May/2020 17:14:13] \"\u001b[1m\u001b[31mGET /cart/clear HTTP/1.1\u001b[0m\" 400 -\n",
      "127.0.0.1 - - [25/May/2020 17:14:13] \"\u001b[1m\u001b[31mGET /cart/clear HTTP/1.1\u001b[0m\" 400 -\n",
      "127.0.0.1 - - [25/May/2020 17:14:14] \"\u001b[37mPOST /cart/add HTTP/1.1\u001b[0m\" 200 -\n",
      "127.0.0.1 - - [25/May/2020 17:14:14] \"\u001b[37mPOST /cart/add HTTP/1.1\u001b[0m\" 200 -\n",
      "127.0.0.1 - - [25/May/2020 17:14:14] \"\u001b[37mOPTIONS /cart/get HTTP/1.1\u001b[0m\" 200 -\n",
      "127.0.0.1 - - [25/May/2020 17:14:14] \"\u001b[37mOPTIONS /cart/get HTTP/1.1\u001b[0m\" 200 -\n",
      "127.0.0.1 - - [25/May/2020 17:14:14] \"\u001b[37mGET /cart/get HTTP/1.1\u001b[0m\" 200 -\n",
      "127.0.0.1 - - [25/May/2020 17:14:14] \"\u001b[37mGET /cart/get HTTP/1.1\u001b[0m\" 200 -\n"
     ]
    },
    {
     "name": "stdout",
     "output_type": "stream",
     "text": [
      "{'item_id': 12, 'name': 'Chips m. havsalt', 'price': 1695, 'amount': 2} <SecureCookieSession {'_permanent': True, 'user': {'email': 'da@ni.el', 'id': 51853, 'name': 'daniel', 'password': '$2b$04$rxLmapV7LM/jMEFNRpRhJ.QMOxMzUe9507ES18jD6i.ooPYyu1h0m', 'phone': '12345678', 'street': 'vej24', 'zip': 2680}}>\n",
      "{'item_id': 12, 'name': 'Chips m. havsalt', 'price': 1695, 'amount': 2} <SecureCookieSession {'_permanent': True, 'user': {'email': 'da@ni.el', 'id': 51853, 'name': 'daniel', 'password': '$2b$04$rxLmapV7LM/jMEFNRpRhJ.QMOxMzUe9507ES18jD6i.ooPYyu1h0m', 'phone': '12345678', 'street': 'vej24', 'zip': 2680}}>\n"
     ]
    },
    {
     "name": "stderr",
     "output_type": "stream",
     "text": [
      "127.0.0.1 - - [25/May/2020 17:14:15] \"\u001b[37mOPTIONS /cart/clear HTTP/1.1\u001b[0m\" 200 -\n",
      "127.0.0.1 - - [25/May/2020 17:14:15] \"\u001b[37mOPTIONS /cart/clear HTTP/1.1\u001b[0m\" 200 -\n",
      "127.0.0.1 - - [25/May/2020 17:14:15] \"\u001b[1m\u001b[31mGET /cart/clear HTTP/1.1\u001b[0m\" 400 -\n",
      "127.0.0.1 - - [25/May/2020 17:14:15] \"\u001b[1m\u001b[31mGET /cart/clear HTTP/1.1\u001b[0m\" 400 -\n",
      "127.0.0.1 - - [25/May/2020 17:14:16] \"\u001b[37mOPTIONS /cart/add HTTP/1.1\u001b[0m\" 200 -\n",
      "127.0.0.1 - - [25/May/2020 17:14:16] \"\u001b[37mOPTIONS /cart/add HTTP/1.1\u001b[0m\" 200 -\n",
      "127.0.0.1 - - [25/May/2020 17:14:16] \"\u001b[37mPOST /cart/add HTTP/1.1\u001b[0m\" 200 -\n",
      "127.0.0.1 - - [25/May/2020 17:14:16] \"\u001b[37mPOST /cart/add HTTP/1.1\u001b[0m\" 200 -\n",
      "127.0.0.1 - - [25/May/2020 17:14:16] \"\u001b[37mGET /cart/get HTTP/1.1\u001b[0m\" 200 -\n",
      "127.0.0.1 - - [25/May/2020 17:14:16] \"\u001b[37mGET /cart/get HTTP/1.1\u001b[0m\" 200 -\n"
     ]
    },
    {
     "name": "stdout",
     "output_type": "stream",
     "text": [
      "{'item_id': 12, 'name': 'Chips m. havsalt', 'price': 1695, 'amount': 2} <SecureCookieSession {'_permanent': True, 'user': {'email': 'da@ni.el', 'id': 51853, 'name': 'daniel', 'password': '$2b$04$rxLmapV7LM/jMEFNRpRhJ.QMOxMzUe9507ES18jD6i.ooPYyu1h0m', 'phone': '12345678', 'street': 'vej24', 'zip': 2680}}>\n",
      "{'item_id': 12, 'name': 'Chips m. havsalt', 'price': 1695, 'amount': 2} <SecureCookieSession {'_permanent': True, 'user': {'email': 'da@ni.el', 'id': 51853, 'name': 'daniel', 'password': '$2b$04$rxLmapV7LM/jMEFNRpRhJ.QMOxMzUe9507ES18jD6i.ooPYyu1h0m', 'phone': '12345678', 'street': 'vej24', 'zip': 2680}}>\n"
     ]
    },
    {
     "name": "stderr",
     "output_type": "stream",
     "text": [
      "127.0.0.1 - - [25/May/2020 17:14:17] \"\u001b[1m\u001b[31mGET /cart/clear HTTP/1.1\u001b[0m\" 400 -\n",
      "127.0.0.1 - - [25/May/2020 17:14:17] \"\u001b[1m\u001b[31mGET /cart/clear HTTP/1.1\u001b[0m\" 400 -\n",
      "127.0.0.1 - - [25/May/2020 17:14:17] \"\u001b[37mPOST /cart/add HTTP/1.1\u001b[0m\" 200 -\n",
      "127.0.0.1 - - [25/May/2020 17:14:17] \"\u001b[37mPOST /cart/add HTTP/1.1\u001b[0m\" 200 -\n",
      "127.0.0.1 - - [25/May/2020 17:14:17] \"\u001b[37mGET /cart/get HTTP/1.1\u001b[0m\" 200 -\n",
      "127.0.0.1 - - [25/May/2020 17:14:17] \"\u001b[37mGET /cart/get HTTP/1.1\u001b[0m\" 200 -\n"
     ]
    },
    {
     "name": "stdout",
     "output_type": "stream",
     "text": [
      "{'item_id': 12, 'name': 'Chips m. havsalt', 'price': 1695, 'amount': 2} <SecureCookieSession {'_permanent': True, 'user': {'email': 'da@ni.el', 'id': 51853, 'name': 'daniel', 'password': '$2b$04$rxLmapV7LM/jMEFNRpRhJ.QMOxMzUe9507ES18jD6i.ooPYyu1h0m', 'phone': '12345678', 'street': 'vej24', 'zip': 2680}}>\n",
      "{'item_id': 12, 'name': 'Chips m. havsalt', 'price': 1695, 'amount': 2} <SecureCookieSession {'_permanent': True, 'user': {'email': 'da@ni.el', 'id': 51853, 'name': 'daniel', 'password': '$2b$04$rxLmapV7LM/jMEFNRpRhJ.QMOxMzUe9507ES18jD6i.ooPYyu1h0m', 'phone': '12345678', 'street': 'vej24', 'zip': 2680}}>\n"
     ]
    },
    {
     "name": "stderr",
     "output_type": "stream",
     "text": [
      "127.0.0.1 - - [25/May/2020 17:14:18] \"\u001b[1m\u001b[31mGET /cart/clear HTTP/1.1\u001b[0m\" 400 -\n",
      "127.0.0.1 - - [25/May/2020 17:14:18] \"\u001b[1m\u001b[31mGET /cart/clear HTTP/1.1\u001b[0m\" 400 -\n",
      "127.0.0.1 - - [25/May/2020 17:14:19] \"\u001b[37mPOST /cart/add HTTP/1.1\u001b[0m\" 200 -\n",
      "127.0.0.1 - - [25/May/2020 17:14:19] \"\u001b[37mPOST /cart/add HTTP/1.1\u001b[0m\" 200 -\n",
      "127.0.0.1 - - [25/May/2020 17:14:19] \"\u001b[37mGET /cart/get HTTP/1.1\u001b[0m\" 200 -\n",
      "127.0.0.1 - - [25/May/2020 17:14:19] \"\u001b[37mGET /cart/get HTTP/1.1\u001b[0m\" 200 -\n"
     ]
    },
    {
     "name": "stdout",
     "output_type": "stream",
     "text": [
      "{'item_id': 12, 'name': 'Chips m. havsalt', 'price': 1695, 'amount': 2} <SecureCookieSession {'_permanent': True, 'user': {'email': 'da@ni.el', 'id': 51853, 'name': 'daniel', 'password': '$2b$04$rxLmapV7LM/jMEFNRpRhJ.QMOxMzUe9507ES18jD6i.ooPYyu1h0m', 'phone': '12345678', 'street': 'vej24', 'zip': 2680}}>\n",
      "{'item_id': 12, 'name': 'Chips m. havsalt', 'price': 1695, 'amount': 2} <SecureCookieSession {'_permanent': True, 'user': {'email': 'da@ni.el', 'id': 51853, 'name': 'daniel', 'password': '$2b$04$rxLmapV7LM/jMEFNRpRhJ.QMOxMzUe9507ES18jD6i.ooPYyu1h0m', 'phone': '12345678', 'street': 'vej24', 'zip': 2680}}>\n"
     ]
    },
    {
     "name": "stderr",
     "output_type": "stream",
     "text": [
      "127.0.0.1 - - [25/May/2020 17:14:35] \"\u001b[37mOPTIONS /cart/clear HTTP/1.1\u001b[0m\" 200 -\n",
      "127.0.0.1 - - [25/May/2020 17:14:35] \"\u001b[37mOPTIONS /cart/clear HTTP/1.1\u001b[0m\" 200 -\n",
      "127.0.0.1 - - [25/May/2020 17:14:35] \"\u001b[1m\u001b[31mGET /cart/clear HTTP/1.1\u001b[0m\" 400 -\n",
      "127.0.0.1 - - [25/May/2020 17:14:35] \"\u001b[1m\u001b[31mGET /cart/clear HTTP/1.1\u001b[0m\" 400 -\n",
      "127.0.0.1 - - [25/May/2020 17:14:35] \"\u001b[37mOPTIONS /cart/add HTTP/1.1\u001b[0m\" 200 -\n",
      "127.0.0.1 - - [25/May/2020 17:14:35] \"\u001b[37mOPTIONS /cart/add HTTP/1.1\u001b[0m\" 200 -\n",
      "127.0.0.1 - - [25/May/2020 17:14:35] \"\u001b[37mPOST /cart/add HTTP/1.1\u001b[0m\" 200 -\n",
      "127.0.0.1 - - [25/May/2020 17:14:35] \"\u001b[37mPOST /cart/add HTTP/1.1\u001b[0m\" 200 -\n",
      "127.0.0.1 - - [25/May/2020 17:14:35] \"\u001b[37mOPTIONS /cart/get HTTP/1.1\u001b[0m\" 200 -\n",
      "127.0.0.1 - - [25/May/2020 17:14:35] \"\u001b[37mOPTIONS /cart/get HTTP/1.1\u001b[0m\" 200 -\n",
      "127.0.0.1 - - [25/May/2020 17:14:35] \"\u001b[37mGET /cart/get HTTP/1.1\u001b[0m\" 200 -\n",
      "127.0.0.1 - - [25/May/2020 17:14:35] \"\u001b[37mGET /cart/get HTTP/1.1\u001b[0m\" 200 -\n"
     ]
    },
    {
     "name": "stdout",
     "output_type": "stream",
     "text": [
      "{'item_id': 12, 'name': 'Chips m. havsalt', 'price': 1695, 'amount': 2} <SecureCookieSession {'_permanent': True, 'user': {'email': 'da@ni.el', 'id': 51853, 'name': 'daniel', 'password': '$2b$04$rxLmapV7LM/jMEFNRpRhJ.QMOxMzUe9507ES18jD6i.ooPYyu1h0m', 'phone': '12345678', 'street': 'vej24', 'zip': 2680}}>\n",
      "{'item_id': 12, 'name': 'Chips m. havsalt', 'price': 1695, 'amount': 2} <SecureCookieSession {'_permanent': True, 'user': {'email': 'da@ni.el', 'id': 51853, 'name': 'daniel', 'password': '$2b$04$rxLmapV7LM/jMEFNRpRhJ.QMOxMzUe9507ES18jD6i.ooPYyu1h0m', 'phone': '12345678', 'street': 'vej24', 'zip': 2680}}>\n"
     ]
    },
    {
     "name": "stderr",
     "output_type": "stream",
     "text": [
      "127.0.0.1 - - [25/May/2020 17:14:36] \"\u001b[1m\u001b[31mGET /cart/clear HTTP/1.1\u001b[0m\" 400 -\n",
      "127.0.0.1 - - [25/May/2020 17:14:36] \"\u001b[1m\u001b[31mGET /cart/clear HTTP/1.1\u001b[0m\" 400 -\n",
      "127.0.0.1 - - [25/May/2020 17:19:13] \"\u001b[37mOPTIONS /cart/get HTTP/1.1\u001b[0m\" 200 -\n",
      "127.0.0.1 - - [25/May/2020 17:19:13] \"\u001b[37mOPTIONS /cart/get HTTP/1.1\u001b[0m\" 200 -\n",
      "127.0.0.1 - - [25/May/2020 17:19:13] \"\u001b[37mGET /cart/get HTTP/1.1\u001b[0m\" 200 -\n",
      "127.0.0.1 - - [25/May/2020 17:19:13] \"\u001b[37mGET /cart/get HTTP/1.1\u001b[0m\" 200 -\n",
      "127.0.0.1 - - [25/May/2020 17:19:27] \"\u001b[37mOPTIONS /cart/get HTTP/1.1\u001b[0m\" 200 -\n",
      "127.0.0.1 - - [25/May/2020 17:19:27] \"\u001b[37mOPTIONS /cart/get HTTP/1.1\u001b[0m\" 200 -\n",
      "127.0.0.1 - - [25/May/2020 17:19:27] \"\u001b[37mGET /cart/get HTTP/1.1\u001b[0m\" 200 -\n",
      "127.0.0.1 - - [25/May/2020 17:19:27] \"\u001b[37mGET /cart/get HTTP/1.1\u001b[0m\" 200 -\n",
      "127.0.0.1 - - [25/May/2020 17:20:40] \"\u001b[37mOPTIONS /cart/get HTTP/1.1\u001b[0m\" 200 -\n",
      "127.0.0.1 - - [25/May/2020 17:20:40] \"\u001b[37mOPTIONS /cart/get HTTP/1.1\u001b[0m\" 200 -\n",
      "127.0.0.1 - - [25/May/2020 17:20:40] \"\u001b[37mGET /cart/get HTTP/1.1\u001b[0m\" 200 -\n",
      "127.0.0.1 - - [25/May/2020 17:20:40] \"\u001b[37mGET /cart/get HTTP/1.1\u001b[0m\" 200 -\n",
      "127.0.0.1 - - [25/May/2020 17:20:42] \"\u001b[37mOPTIONS /cart/add HTTP/1.1\u001b[0m\" 200 -\n",
      "127.0.0.1 - - [25/May/2020 17:20:42] \"\u001b[37mOPTIONS /cart/add HTTP/1.1\u001b[0m\" 200 -\n",
      "127.0.0.1 - - [25/May/2020 17:20:42] \"\u001b[37mPOST /cart/add HTTP/1.1\u001b[0m\" 200 -\n",
      "127.0.0.1 - - [25/May/2020 17:20:42] \"\u001b[37mPOST /cart/add HTTP/1.1\u001b[0m\" 200 -\n",
      "127.0.0.1 - - [25/May/2020 17:20:42] \"\u001b[37mGET /cart/get HTTP/1.1\u001b[0m\" 200 -\n",
      "127.0.0.1 - - [25/May/2020 17:20:42] \"\u001b[37mGET /cart/get HTTP/1.1\u001b[0m\" 200 -\n"
     ]
    },
    {
     "name": "stdout",
     "output_type": "stream",
     "text": [
      "{'item_id': 12, 'name': 'Chips m. havsalt', 'price': 1695, 'amount': 2} <SecureCookieSession {'_permanent': True, 'user': {'email': 'da@ni.el', 'id': 51853, 'name': 'daniel', 'password': '$2b$04$rxLmapV7LM/jMEFNRpRhJ.QMOxMzUe9507ES18jD6i.ooPYyu1h0m', 'phone': '12345678', 'street': 'vej24', 'zip': 2680}}>\n",
      "{'item_id': 12, 'name': 'Chips m. havsalt', 'price': 1695, 'amount': 2} <SecureCookieSession {'_permanent': True, 'user': {'email': 'da@ni.el', 'id': 51853, 'name': 'daniel', 'password': '$2b$04$rxLmapV7LM/jMEFNRpRhJ.QMOxMzUe9507ES18jD6i.ooPYyu1h0m', 'phone': '12345678', 'street': 'vej24', 'zip': 2680}}>\n"
     ]
    },
    {
     "name": "stderr",
     "output_type": "stream",
     "text": [
      "127.0.0.1 - - [25/May/2020 17:20:48] \"\u001b[37mOPTIONS /cart/get HTTP/1.1\u001b[0m\" 200 -\n",
      "127.0.0.1 - - [25/May/2020 17:20:48] \"\u001b[37mOPTIONS /cart/get HTTP/1.1\u001b[0m\" 200 -\n",
      "127.0.0.1 - - [25/May/2020 17:20:48] \"\u001b[37mGET /cart/get HTTP/1.1\u001b[0m\" 200 -\n",
      "127.0.0.1 - - [25/May/2020 17:20:48] \"\u001b[37mGET /cart/get HTTP/1.1\u001b[0m\" 200 -\n",
      "127.0.0.1 - - [25/May/2020 17:21:00] \"\u001b[37mOPTIONS /cart/get HTTP/1.1\u001b[0m\" 200 -\n",
      "127.0.0.1 - - [25/May/2020 17:21:00] \"\u001b[37mOPTIONS /cart/get HTTP/1.1\u001b[0m\" 200 -\n",
      "127.0.0.1 - - [25/May/2020 17:21:00] \"\u001b[37mGET /cart/get HTTP/1.1\u001b[0m\" 200 -\n",
      "127.0.0.1 - - [25/May/2020 17:21:00] \"\u001b[37mGET /cart/get HTTP/1.1\u001b[0m\" 200 -\n",
      "127.0.0.1 - - [25/May/2020 17:21:00] \"\u001b[37mGET /cart/get HTTP/1.1\u001b[0m\" 200 -\n",
      "127.0.0.1 - - [25/May/2020 17:21:00] \"\u001b[37mGET /cart/get HTTP/1.1\u001b[0m\" 200 -\n",
      "127.0.0.1 - - [25/May/2020 17:21:01] \"\u001b[37mOPTIONS /cart/add HTTP/1.1\u001b[0m\" 200 -\n",
      "127.0.0.1 - - [25/May/2020 17:21:01] \"\u001b[37mOPTIONS /cart/add HTTP/1.1\u001b[0m\" 200 -\n",
      "127.0.0.1 - - [25/May/2020 17:21:01] \"\u001b[37mPOST /cart/add HTTP/1.1\u001b[0m\" 200 -\n",
      "127.0.0.1 - - [25/May/2020 17:21:01] \"\u001b[37mPOST /cart/add HTTP/1.1\u001b[0m\" 200 -\n",
      "127.0.0.1 - - [25/May/2020 17:21:01] \"\u001b[37mGET /cart/get HTTP/1.1\u001b[0m\" 200 -\n",
      "127.0.0.1 - - [25/May/2020 17:21:01] \"\u001b[37mGET /cart/get HTTP/1.1\u001b[0m\" 200 -\n"
     ]
    },
    {
     "name": "stdout",
     "output_type": "stream",
     "text": [
      "{'item_id': 12, 'name': 'Chips m. havsalt', 'price': 1695, 'amount': 2} <SecureCookieSession {'_permanent': True, 'user': {'email': 'da@ni.el', 'id': 51853, 'name': 'daniel', 'password': '$2b$04$rxLmapV7LM/jMEFNRpRhJ.QMOxMzUe9507ES18jD6i.ooPYyu1h0m', 'phone': '12345678', 'street': 'vej24', 'zip': 2680}}>\n",
      "{'item_id': 12, 'name': 'Chips m. havsalt', 'price': 1695, 'amount': 2} <SecureCookieSession {'_permanent': True, 'user': {'email': 'da@ni.el', 'id': 51853, 'name': 'daniel', 'password': '$2b$04$rxLmapV7LM/jMEFNRpRhJ.QMOxMzUe9507ES18jD6i.ooPYyu1h0m', 'phone': '12345678', 'street': 'vej24', 'zip': 2680}}>\n"
     ]
    },
    {
     "name": "stderr",
     "output_type": "stream",
     "text": [
      "127.0.0.1 - - [25/May/2020 17:21:16] \"\u001b[37mOPTIONS /cart/get HTTP/1.1\u001b[0m\" 200 -\n",
      "127.0.0.1 - - [25/May/2020 17:21:16] \"\u001b[37mOPTIONS /cart/get HTTP/1.1\u001b[0m\" 200 -\n",
      "127.0.0.1 - - [25/May/2020 17:21:16] \"\u001b[37mGET /cart/get HTTP/1.1\u001b[0m\" 200 -\n",
      "127.0.0.1 - - [25/May/2020 17:21:16] \"\u001b[37mGET /cart/get HTTP/1.1\u001b[0m\" 200 -\n",
      "127.0.0.1 - - [25/May/2020 17:21:21] \"\u001b[37mOPTIONS /cart/clear HTTP/1.1\u001b[0m\" 200 -\n",
      "127.0.0.1 - - [25/May/2020 17:21:21] \"\u001b[37mOPTIONS /cart/clear HTTP/1.1\u001b[0m\" 200 -\n",
      "127.0.0.1 - - [25/May/2020 17:21:21] \"\u001b[1m\u001b[31mGET /cart/clear HTTP/1.1\u001b[0m\" 400 -\n",
      "127.0.0.1 - - [25/May/2020 17:21:21] \"\u001b[1m\u001b[31mGET /cart/clear HTTP/1.1\u001b[0m\" 400 -\n",
      "127.0.0.1 - - [25/May/2020 17:21:32] \"\u001b[37mOPTIONS /cart/get HTTP/1.1\u001b[0m\" 200 -\n",
      "127.0.0.1 - - [25/May/2020 17:21:32] \"\u001b[37mOPTIONS /cart/get HTTP/1.1\u001b[0m\" 200 -\n",
      "127.0.0.1 - - [25/May/2020 17:21:32] \"\u001b[37mGET /cart/get HTTP/1.1\u001b[0m\" 200 -\n",
      "127.0.0.1 - - [25/May/2020 17:21:32] \"\u001b[37mGET /cart/get HTTP/1.1\u001b[0m\" 200 -\n",
      "127.0.0.1 - - [25/May/2020 17:21:33] \"\u001b[37mOPTIONS /cart/add HTTP/1.1\u001b[0m\" 200 -\n",
      "127.0.0.1 - - [25/May/2020 17:21:33] \"\u001b[37mOPTIONS /cart/add HTTP/1.1\u001b[0m\" 200 -\n",
      "127.0.0.1 - - [25/May/2020 17:21:33] \"\u001b[37mPOST /cart/add HTTP/1.1\u001b[0m\" 200 -\n",
      "127.0.0.1 - - [25/May/2020 17:21:33] \"\u001b[37mPOST /cart/add HTTP/1.1\u001b[0m\" 200 -\n",
      "127.0.0.1 - - [25/May/2020 17:21:33] \"\u001b[37mGET /cart/get HTTP/1.1\u001b[0m\" 200 -\n",
      "127.0.0.1 - - [25/May/2020 17:21:33] \"\u001b[37mGET /cart/get HTTP/1.1\u001b[0m\" 200 -\n"
     ]
    },
    {
     "name": "stdout",
     "output_type": "stream",
     "text": [
      "{'item_id': 12, 'name': 'Chips m. havsalt', 'price': 1695, 'amount': 2} <SecureCookieSession {'_permanent': True, 'user': {'email': 'da@ni.el', 'id': 51853, 'name': 'daniel', 'password': '$2b$04$rxLmapV7LM/jMEFNRpRhJ.QMOxMzUe9507ES18jD6i.ooPYyu1h0m', 'phone': '12345678', 'street': 'vej24', 'zip': 2680}}>\n",
      "{'item_id': 12, 'name': 'Chips m. havsalt', 'price': 1695, 'amount': 2} <SecureCookieSession {'_permanent': True, 'user': {'email': 'da@ni.el', 'id': 51853, 'name': 'daniel', 'password': '$2b$04$rxLmapV7LM/jMEFNRpRhJ.QMOxMzUe9507ES18jD6i.ooPYyu1h0m', 'phone': '12345678', 'street': 'vej24', 'zip': 2680}}>\n"
     ]
    },
    {
     "name": "stderr",
     "output_type": "stream",
     "text": [
      "127.0.0.1 - - [25/May/2020 17:21:49] \"\u001b[37mOPTIONS /cart/clear HTTP/1.1\u001b[0m\" 200 -\n",
      "127.0.0.1 - - [25/May/2020 17:21:49] \"\u001b[37mOPTIONS /cart/clear HTTP/1.1\u001b[0m\" 200 -\n",
      "127.0.0.1 - - [25/May/2020 17:21:49] \"\u001b[1m\u001b[31mGET /cart/clear HTTP/1.1\u001b[0m\" 400 -\n",
      "127.0.0.1 - - [25/May/2020 17:21:49] \"\u001b[1m\u001b[31mGET /cart/clear HTTP/1.1\u001b[0m\" 400 -\n",
      "127.0.0.1 - - [25/May/2020 17:21:50] \"\u001b[37mOPTIONS /cart/add HTTP/1.1\u001b[0m\" 200 -\n",
      "127.0.0.1 - - [25/May/2020 17:21:50] \"\u001b[37mOPTIONS /cart/add HTTP/1.1\u001b[0m\" 200 -\n",
      "127.0.0.1 - - [25/May/2020 17:21:50] \"\u001b[37mPOST /cart/add HTTP/1.1\u001b[0m\" 200 -\n",
      "127.0.0.1 - - [25/May/2020 17:21:50] \"\u001b[37mPOST /cart/add HTTP/1.1\u001b[0m\" 200 -\n",
      "127.0.0.1 - - [25/May/2020 17:21:50] \"\u001b[37mOPTIONS /cart/get HTTP/1.1\u001b[0m\" 200 -\n",
      "127.0.0.1 - - [25/May/2020 17:21:50] \"\u001b[37mOPTIONS /cart/get HTTP/1.1\u001b[0m\" 200 -\n",
      "127.0.0.1 - - [25/May/2020 17:21:50] \"\u001b[37mGET /cart/get HTTP/1.1\u001b[0m\" 200 -\n",
      "127.0.0.1 - - [25/May/2020 17:21:50] \"\u001b[37mGET /cart/get HTTP/1.1\u001b[0m\" 200 -\n"
     ]
    },
    {
     "name": "stdout",
     "output_type": "stream",
     "text": [
      "{'item_id': 12, 'name': 'Chips m. havsalt', 'price': 1695, 'amount': 2} <SecureCookieSession {'_permanent': True, 'user': {'email': 'da@ni.el', 'id': 51853, 'name': 'daniel', 'password': '$2b$04$rxLmapV7LM/jMEFNRpRhJ.QMOxMzUe9507ES18jD6i.ooPYyu1h0m', 'phone': '12345678', 'street': 'vej24', 'zip': 2680}}>\n",
      "{'item_id': 12, 'name': 'Chips m. havsalt', 'price': 1695, 'amount': 2} <SecureCookieSession {'_permanent': True, 'user': {'email': 'da@ni.el', 'id': 51853, 'name': 'daniel', 'password': '$2b$04$rxLmapV7LM/jMEFNRpRhJ.QMOxMzUe9507ES18jD6i.ooPYyu1h0m', 'phone': '12345678', 'street': 'vej24', 'zip': 2680}}>\n"
     ]
    },
    {
     "name": "stderr",
     "output_type": "stream",
     "text": [
      "127.0.0.1 - - [25/May/2020 17:22:04] \"\u001b[37mOPTIONS /cart/add HTTP/1.1\u001b[0m\" 200 -\n",
      "127.0.0.1 - - [25/May/2020 17:22:04] \"\u001b[37mOPTIONS /cart/add HTTP/1.1\u001b[0m\" 200 -\n",
      "127.0.0.1 - - [25/May/2020 17:22:04] \"\u001b[37mPOST /cart/add HTTP/1.1\u001b[0m\" 200 -\n",
      "127.0.0.1 - - [25/May/2020 17:22:04] \"\u001b[37mPOST /cart/add HTTP/1.1\u001b[0m\" 200 -\n",
      "127.0.0.1 - - [25/May/2020 17:22:04] \"\u001b[37mOPTIONS /cart/get HTTP/1.1\u001b[0m\" 200 -\n",
      "127.0.0.1 - - [25/May/2020 17:22:04] \"\u001b[37mOPTIONS /cart/get HTTP/1.1\u001b[0m\" 200 -\n",
      "127.0.0.1 - - [25/May/2020 17:22:04] \"\u001b[37mGET /cart/get HTTP/1.1\u001b[0m\" 200 -\n",
      "127.0.0.1 - - [25/May/2020 17:22:04] \"\u001b[37mGET /cart/get HTTP/1.1\u001b[0m\" 200 -\n"
     ]
    },
    {
     "name": "stdout",
     "output_type": "stream",
     "text": [
      "{'item_id': 12, 'name': 'Chips m. havsalt', 'price': 1695, 'amount': 2} <SecureCookieSession {'_permanent': True, 'user': {'email': 'da@ni.el', 'id': 51853, 'name': 'daniel', 'password': '$2b$04$rxLmapV7LM/jMEFNRpRhJ.QMOxMzUe9507ES18jD6i.ooPYyu1h0m', 'phone': '12345678', 'street': 'vej24', 'zip': 2680}}>\n",
      "{'item_id': 12, 'name': 'Chips m. havsalt', 'price': 1695, 'amount': 2} <SecureCookieSession {'_permanent': True, 'user': {'email': 'da@ni.el', 'id': 51853, 'name': 'daniel', 'password': '$2b$04$rxLmapV7LM/jMEFNRpRhJ.QMOxMzUe9507ES18jD6i.ooPYyu1h0m', 'phone': '12345678', 'street': 'vej24', 'zip': 2680}}>\n"
     ]
    },
    {
     "name": "stderr",
     "output_type": "stream",
     "text": [
      "127.0.0.1 - - [25/May/2020 17:22:05] \"\u001b[37mPOST /cart/add HTTP/1.1\u001b[0m\" 200 -\n",
      "127.0.0.1 - - [25/May/2020 17:22:05] \"\u001b[37mPOST /cart/add HTTP/1.1\u001b[0m\" 200 -\n",
      "127.0.0.1 - - [25/May/2020 17:22:05] \"\u001b[37mGET /cart/get HTTP/1.1\u001b[0m\" 200 -\n",
      "127.0.0.1 - - [25/May/2020 17:22:05] \"\u001b[37mGET /cart/get HTTP/1.1\u001b[0m\" 200 -\n"
     ]
    },
    {
     "name": "stdout",
     "output_type": "stream",
     "text": [
      "{'item_id': 12, 'name': 'Chips m. havsalt', 'price': 1695, 'amount': 2} <SecureCookieSession {'_permanent': True, 'user': {'email': 'da@ni.el', 'id': 51853, 'name': 'daniel', 'password': '$2b$04$rxLmapV7LM/jMEFNRpRhJ.QMOxMzUe9507ES18jD6i.ooPYyu1h0m', 'phone': '12345678', 'street': 'vej24', 'zip': 2680}}>\n",
      "{'item_id': 12, 'name': 'Chips m. havsalt', 'price': 1695, 'amount': 2}{'item_id': 12, 'name': 'Chips m. havsalt', 'price': 1695, 'amount': 2} <SecureCookieSession {'_permanent': True, 'user': {'email': 'da@ni.el', 'id': 51853, 'name': 'daniel', 'password': '$2b$04$rxLmapV7LM/jMEFNRpRhJ.QMOxMzUe9507ES18jD6i.ooPYyu1h0m', 'phone': '12345678', 'street': 'vej24', 'zip': 2680}}>\n",
      "{'item_id': 12, 'name': 'Chips m. havsalt', 'price': 1695, 'amount': 2}"
     ]
    },
    {
     "name": "stderr",
     "output_type": "stream",
     "text": [
      "127.0.0.1 - - [25/May/2020 17:22:05] \"\u001b[37mPOST /cart/add HTTP/1.1\u001b[0m\" 200 -\n",
      "127.0.0.1 - - [25/May/2020 17:22:05] \"\u001b[37mPOST /cart/add HTTP/1.1\u001b[0m\" 200 -\n",
      "127.0.0.1 - - [25/May/2020 17:22:05] \"\u001b[37mGET /cart/get HTTP/1.1\u001b[0m\" 200 -\n",
      "127.0.0.1 - - [25/May/2020 17:22:05] \"\u001b[37mGET /cart/get HTTP/1.1\u001b[0m\" 200 -\n",
      "127.0.0.1 - - [25/May/2020 17:22:05] \"\u001b[37mPOST /cart/add HTTP/1.1\u001b[0m\" 200 -\n",
      "127.0.0.1 - - [25/May/2020 17:22:05] \"\u001b[37mPOST /cart/add HTTP/1.1\u001b[0m\" 200 -\n",
      "127.0.0.1 - - [25/May/2020 17:22:05] \"\u001b[37mGET /cart/get HTTP/1.1\u001b[0m\" 200 -\n",
      "127.0.0.1 - - [25/May/2020 17:22:05] \"\u001b[37mGET /cart/get HTTP/1.1\u001b[0m\" 200 -\n"
     ]
    },
    {
     "name": "stdout",
     "output_type": "stream",
     "text": [
      " <SecureCookieSession {'_permanent': True, 'user': {'email': 'da@ni.el', 'id': 51853, 'name': 'daniel', 'password': '$2b$04$rxLmapV7LM/jMEFNRpRhJ.QMOxMzUe9507ES18jD6i.ooPYyu1h0m', 'phone': '12345678', 'street': 'vej24', 'zip': 2680}}>\n",
      "{'item_id': 12, 'name': 'Chips m. havsalt', 'price': 1695, 'amount': 2} <SecureCookieSession {'_permanent': True, 'user': {'email': 'da@ni.el', 'id': 51853, 'name': 'daniel', 'password': '$2b$04$rxLmapV7LM/jMEFNRpRhJ.QMOxMzUe9507ES18jD6i.ooPYyu1h0m', 'phone': '12345678', 'street': 'vej24', 'zip': 2680}}>\n",
      " <SecureCookieSession {'_permanent': True, 'user': {'email': 'da@ni.el', 'id': 51853, 'name': 'daniel', 'password': '$2b$04$rxLmapV7LM/jMEFNRpRhJ.QMOxMzUe9507ES18jD6i.ooPYyu1h0m', 'phone': '12345678', 'street': 'vej24', 'zip': 2680}}>\n",
      "{'item_id': 12, 'name': 'Chips m. havsalt', 'price': 1695, 'amount': 2} <SecureCookieSession {'_permanent': True, 'user': {'email': 'da@ni.el', 'id': 51853, 'name': 'daniel', 'password': '$2b$04$rxLmapV7LM/jMEFNRpRhJ.QMOxMzUe9507ES18jD6i.ooPYyu1h0m', 'phone': '12345678', 'street': 'vej24', 'zip': 2680}}>\n"
     ]
    },
    {
     "name": "stderr",
     "output_type": "stream",
     "text": [
      "127.0.0.1 - - [25/May/2020 17:22:06] \"\u001b[37mPOST /cart/add HTTP/1.1\u001b[0m\" 200 -\n",
      "127.0.0.1 - - [25/May/2020 17:22:06] \"\u001b[37mPOST /cart/add HTTP/1.1\u001b[0m\" 200 -\n",
      "127.0.0.1 - - [25/May/2020 17:22:06] \"\u001b[37mGET /cart/get HTTP/1.1\u001b[0m\" 200 -\n",
      "127.0.0.1 - - [25/May/2020 17:22:06] \"\u001b[37mGET /cart/get HTTP/1.1\u001b[0m\" 200 -\n",
      "127.0.0.1 - - [25/May/2020 17:22:06] \"\u001b[37mPOST /cart/add HTTP/1.1\u001b[0m\" 200 -\n",
      "127.0.0.1 - - [25/May/2020 17:22:06] \"\u001b[37mPOST /cart/add HTTP/1.1\u001b[0m\" 200 -\n",
      "127.0.0.1 - - [25/May/2020 17:22:06] \"\u001b[37mGET /cart/get HTTP/1.1\u001b[0m\" 200 -\n",
      "127.0.0.1 - - [25/May/2020 17:22:06] \"\u001b[37mGET /cart/get HTTP/1.1\u001b[0m\" 200 -\n"
     ]
    },
    {
     "name": "stdout",
     "output_type": "stream",
     "text": [
      "{'item_id': 12, 'name': 'Chips m. havsalt', 'price': 1695, 'amount': 2} <SecureCookieSession {'_permanent': True, 'user': {'email': 'da@ni.el', 'id': 51853, 'name': 'daniel', 'password': '$2b$04$rxLmapV7LM/jMEFNRpRhJ.QMOxMzUe9507ES18jD6i.ooPYyu1h0m', 'phone': '12345678', 'street': 'vej24', 'zip': 2680}}>\n",
      "{'item_id': 12, 'name': 'Chips m. havsalt', 'price': 1695, 'amount': 2} <SecureCookieSession {'_permanent': True, 'user': {'email': 'da@ni.el', 'id': 51853, 'name': 'daniel', 'password': '$2b$04$rxLmapV7LM/jMEFNRpRhJ.QMOxMzUe9507ES18jD6i.ooPYyu1h0m', 'phone': '12345678', 'street': 'vej24', 'zip': 2680}}>\n",
      "{'item_id': 12, 'name': 'Chips m. havsalt', 'price': 1695, 'amount': 2} <SecureCookieSession {'_permanent': True, 'user': {'email': 'da@ni.el', 'id': 51853, 'name': 'daniel', 'password': '$2b$04$rxLmapV7LM/jMEFNRpRhJ.QMOxMzUe9507ES18jD6i.ooPYyu1h0m', 'phone': '12345678', 'street': 'vej24', 'zip': 2680}}>\n",
      "{'item_id': 12, 'name': 'Chips m. havsalt', 'price': 1695, 'amount': 2} <SecureCookieSession {'_permanent': True, 'user': {'email': 'da@ni.el', 'id': 51853, 'name': 'daniel', 'password': '$2b$04$rxLmapV7LM/jMEFNRpRhJ.QMOxMzUe9507ES18jD6i.ooPYyu1h0m', 'phone': '12345678', 'street': 'vej24', 'zip': 2680}}>\n"
     ]
    },
    {
     "name": "stderr",
     "output_type": "stream",
     "text": [
      "127.0.0.1 - - [25/May/2020 17:22:47] \"\u001b[37mOPTIONS /cart/get HTTP/1.1\u001b[0m\" 200 -\n",
      "127.0.0.1 - - [25/May/2020 17:22:47] \"\u001b[37mOPTIONS /cart/get HTTP/1.1\u001b[0m\" 200 -\n",
      "127.0.0.1 - - [25/May/2020 17:22:47] \"\u001b[37mGET /cart/get HTTP/1.1\u001b[0m\" 200 -\n",
      "127.0.0.1 - - [25/May/2020 17:22:47] \"\u001b[37mGET /cart/get HTTP/1.1\u001b[0m\" 200 -\n",
      "127.0.0.1 - - [25/May/2020 17:22:49] \"\u001b[37mOPTIONS /cart/add HTTP/1.1\u001b[0m\" 200 -\n",
      "127.0.0.1 - - [25/May/2020 17:22:49] \"\u001b[37mOPTIONS /cart/add HTTP/1.1\u001b[0m\" 200 -\n",
      "127.0.0.1 - - [25/May/2020 17:22:49] \"\u001b[37mPOST /cart/add HTTP/1.1\u001b[0m\" 200 -\n",
      "127.0.0.1 - - [25/May/2020 17:22:49] \"\u001b[37mPOST /cart/add HTTP/1.1\u001b[0m\" 200 -\n",
      "127.0.0.1 - - [25/May/2020 17:22:49] \"\u001b[37mGET /cart/get HTTP/1.1\u001b[0m\" 200 -\n",
      "127.0.0.1 - - [25/May/2020 17:22:49] \"\u001b[37mGET /cart/get HTTP/1.1\u001b[0m\" 200 -\n"
     ]
    },
    {
     "name": "stdout",
     "output_type": "stream",
     "text": [
      "{'item_id': 0, 'name': 'Chips m. havsalt', 'price': 1695, 'amount': 2} <SecureCookieSession {'_permanent': True, 'user': {'email': 'da@ni.el', 'id': 51853, 'name': 'daniel', 'password': '$2b$04$rxLmapV7LM/jMEFNRpRhJ.QMOxMzUe9507ES18jD6i.ooPYyu1h0m', 'phone': '12345678', 'street': 'vej24', 'zip': 2680}}>\n",
      "{'item_id': 0, 'name': 'Chips m. havsalt', 'price': 1695, 'amount': 2} <SecureCookieSession {'_permanent': True, 'user': {'email': 'da@ni.el', 'id': 51853, 'name': 'daniel', 'password': '$2b$04$rxLmapV7LM/jMEFNRpRhJ.QMOxMzUe9507ES18jD6i.ooPYyu1h0m', 'phone': '12345678', 'street': 'vej24', 'zip': 2680}}>\n"
     ]
    },
    {
     "name": "stderr",
     "output_type": "stream",
     "text": [
      "127.0.0.1 - - [25/May/2020 17:22:49] \"\u001b[37mPOST /cart/add HTTP/1.1\u001b[0m\" 200 -\n",
      "127.0.0.1 - - [25/May/2020 17:22:49] \"\u001b[37mPOST /cart/add HTTP/1.1\u001b[0m\" 200 -\n",
      "127.0.0.1 - - [25/May/2020 17:22:49] \"\u001b[37mGET /cart/get HTTP/1.1\u001b[0m\" 200 -\n",
      "127.0.0.1 - - [25/May/2020 17:22:49] \"\u001b[37mGET /cart/get HTTP/1.1\u001b[0m\" 200 -\n"
     ]
    },
    {
     "name": "stdout",
     "output_type": "stream",
     "text": [
      "{'item_id': 0, 'name': 'Chips m. havsalt', 'price': 1695, 'amount': 2} <SecureCookieSession {'_permanent': True, 'user': {'email': 'da@ni.el', 'id': 51853, 'name': 'daniel', 'password': '$2b$04$rxLmapV7LM/jMEFNRpRhJ.QMOxMzUe9507ES18jD6i.ooPYyu1h0m', 'phone': '12345678', 'street': 'vej24', 'zip': 2680}}>\n",
      "{'item_id': 0, 'name': 'Chips m. havsalt', 'price': 1695, 'amount': 2} <SecureCookieSession {'_permanent': True, 'user': {'email': 'da@ni.el', 'id': 51853, 'name': 'daniel', 'password': '$2b$04$rxLmapV7LM/jMEFNRpRhJ.QMOxMzUe9507ES18jD6i.ooPYyu1h0m', 'phone': '12345678', 'street': 'vej24', 'zip': 2680}}>\n"
     ]
    },
    {
     "name": "stderr",
     "output_type": "stream",
     "text": [
      "127.0.0.1 - - [25/May/2020 17:22:50] \"\u001b[37mPOST /cart/add HTTP/1.1\u001b[0m\" 200 -\n",
      "127.0.0.1 - - [25/May/2020 17:22:50] \"\u001b[37mPOST /cart/add HTTP/1.1\u001b[0m\" 200 -\n",
      "127.0.0.1 - - [25/May/2020 17:22:50] \"\u001b[37mGET /cart/get HTTP/1.1\u001b[0m\" 200 -\n",
      "127.0.0.1 - - [25/May/2020 17:22:50] \"\u001b[37mGET /cart/get HTTP/1.1\u001b[0m\" 200 -\n"
     ]
    },
    {
     "name": "stdout",
     "output_type": "stream",
     "text": [
      "{'item_id': 0, 'name': 'Chips m. havsalt', 'price': 1695, 'amount': 2} <SecureCookieSession {'_permanent': True, 'user': {'email': 'da@ni.el', 'id': 51853, 'name': 'daniel', 'password': '$2b$04$rxLmapV7LM/jMEFNRpRhJ.QMOxMzUe9507ES18jD6i.ooPYyu1h0m', 'phone': '12345678', 'street': 'vej24', 'zip': 2680}}>\n",
      "{'item_id': 0, 'name': 'Chips m. havsalt', 'price': 1695, 'amount': 2} <SecureCookieSession {'_permanent': True, 'user': {'email': 'da@ni.el', 'id': 51853, 'name': 'daniel', 'password': '$2b$04$rxLmapV7LM/jMEFNRpRhJ.QMOxMzUe9507ES18jD6i.ooPYyu1h0m', 'phone': '12345678', 'street': 'vej24', 'zip': 2680}}>\n"
     ]
    },
    {
     "name": "stderr",
     "output_type": "stream",
     "text": [
      "127.0.0.1 - - [25/May/2020 17:22:50] \"\u001b[37mPOST /cart/add HTTP/1.1\u001b[0m\" 200 -\n",
      "127.0.0.1 - - [25/May/2020 17:22:50] \"\u001b[37mPOST /cart/add HTTP/1.1\u001b[0m\" 200 -\n",
      "127.0.0.1 - - [25/May/2020 17:22:50] \"\u001b[37mGET /cart/get HTTP/1.1\u001b[0m\" 200 -\n",
      "127.0.0.1 - - [25/May/2020 17:22:50] \"\u001b[37mGET /cart/get HTTP/1.1\u001b[0m\" 200 -\n"
     ]
    },
    {
     "name": "stdout",
     "output_type": "stream",
     "text": [
      "{'item_id': 0, 'name': 'Chips m. havsalt', 'price': 1695, 'amount': 2} <SecureCookieSession {'_permanent': True, 'user': {'email': 'da@ni.el', 'id': 51853, 'name': 'daniel', 'password': '$2b$04$rxLmapV7LM/jMEFNRpRhJ.QMOxMzUe9507ES18jD6i.ooPYyu1h0m', 'phone': '12345678', 'street': 'vej24', 'zip': 2680}}>\n",
      "{'item_id': 0, 'name': 'Chips m. havsalt', 'price': 1695, 'amount': 2} <SecureCookieSession {'_permanent': True, 'user': {'email': 'da@ni.el', 'id': 51853, 'name': 'daniel', 'password': '$2b$04$rxLmapV7LM/jMEFNRpRhJ.QMOxMzUe9507ES18jD6i.ooPYyu1h0m', 'phone': '12345678', 'street': 'vej24', 'zip': 2680}}>\n"
     ]
    },
    {
     "name": "stderr",
     "output_type": "stream",
     "text": [
      "127.0.0.1 - - [25/May/2020 17:22:50] \"\u001b[37mPOST /cart/add HTTP/1.1\u001b[0m\" 200 -\n",
      "127.0.0.1 - - [25/May/2020 17:22:50] \"\u001b[37mPOST /cart/add HTTP/1.1\u001b[0m\" 200 -\n",
      "127.0.0.1 - - [25/May/2020 17:22:50] \"\u001b[37mGET /cart/get HTTP/1.1\u001b[0m\" 200 -\n",
      "127.0.0.1 - - [25/May/2020 17:22:50] \"\u001b[37mGET /cart/get HTTP/1.1\u001b[0m\" 200 -\n"
     ]
    },
    {
     "name": "stdout",
     "output_type": "stream",
     "text": [
      "{'item_id': 0, 'name': 'Chips m. havsalt', 'price': 1695, 'amount': 2} <SecureCookieSession {'_permanent': True, 'user': {'email': 'da@ni.el', 'id': 51853, 'name': 'daniel', 'password': '$2b$04$rxLmapV7LM/jMEFNRpRhJ.QMOxMzUe9507ES18jD6i.ooPYyu1h0m', 'phone': '12345678', 'street': 'vej24', 'zip': 2680}}>\n",
      "{'item_id': 0, 'name': 'Chips m. havsalt', 'price': 1695, 'amount': 2} <SecureCookieSession {'_permanent': True, 'user': {'email': 'da@ni.el', 'id': 51853, 'name': 'daniel', 'password': '$2b$04$rxLmapV7LM/jMEFNRpRhJ.QMOxMzUe9507ES18jD6i.ooPYyu1h0m', 'phone': '12345678', 'street': 'vej24', 'zip': 2680}}>\n"
     ]
    },
    {
     "name": "stderr",
     "output_type": "stream",
     "text": [
      "127.0.0.1 - - [25/May/2020 17:22:52] \"\u001b[37mPOST /cart/add HTTP/1.1\u001b[0m\" 200 -\n",
      "127.0.0.1 - - [25/May/2020 17:22:52] \"\u001b[37mPOST /cart/add HTTP/1.1\u001b[0m\" 200 -\n",
      "127.0.0.1 - - [25/May/2020 17:22:52] \"\u001b[37mOPTIONS /cart/get HTTP/1.1\u001b[0m\" 200 -\n",
      "127.0.0.1 - - [25/May/2020 17:22:52] \"\u001b[37mOPTIONS /cart/get HTTP/1.1\u001b[0m\" 200 -\n",
      "127.0.0.1 - - [25/May/2020 17:22:52] \"\u001b[37mGET /cart/get HTTP/1.1\u001b[0m\" 200 -\n",
      "127.0.0.1 - - [25/May/2020 17:22:52] \"\u001b[37mGET /cart/get HTTP/1.1\u001b[0m\" 200 -\n"
     ]
    },
    {
     "name": "stdout",
     "output_type": "stream",
     "text": [
      "{'item_id': 0, 'name': 'Chips m. havsalt', 'price': 1695, 'amount': 2} <SecureCookieSession {'_permanent': True, 'user': {'email': 'da@ni.el', 'id': 51853, 'name': 'daniel', 'password': '$2b$04$rxLmapV7LM/jMEFNRpRhJ.QMOxMzUe9507ES18jD6i.ooPYyu1h0m', 'phone': '12345678', 'street': 'vej24', 'zip': 2680}}>\n",
      "{'item_id': 0, 'name': 'Chips m. havsalt', 'price': 1695, 'amount': 2} <SecureCookieSession {'_permanent': True, 'user': {'email': 'da@ni.el', 'id': 51853, 'name': 'daniel', 'password': '$2b$04$rxLmapV7LM/jMEFNRpRhJ.QMOxMzUe9507ES18jD6i.ooPYyu1h0m', 'phone': '12345678', 'street': 'vej24', 'zip': 2680}}>\n"
     ]
    },
    {
     "name": "stderr",
     "output_type": "stream",
     "text": [
      "127.0.0.1 - - [25/May/2020 17:22:53] \"\u001b[37mOPTIONS /cart/clear HTTP/1.1\u001b[0m\" 200 -\n",
      "127.0.0.1 - - [25/May/2020 17:22:53] \"\u001b[37mOPTIONS /cart/clear HTTP/1.1\u001b[0m\" 200 -\n",
      "127.0.0.1 - - [25/May/2020 17:22:53] \"\u001b[1m\u001b[31mGET /cart/clear HTTP/1.1\u001b[0m\" 400 -\n",
      "127.0.0.1 - - [25/May/2020 17:22:53] \"\u001b[1m\u001b[31mGET /cart/clear HTTP/1.1\u001b[0m\" 400 -\n",
      "127.0.0.1 - - [25/May/2020 17:22:54] \"\u001b[37mOPTIONS /cart/add HTTP/1.1\u001b[0m\" 200 -\n",
      "127.0.0.1 - - [25/May/2020 17:22:54] \"\u001b[37mOPTIONS /cart/add HTTP/1.1\u001b[0m\" 200 -\n",
      "127.0.0.1 - - [25/May/2020 17:22:54] \"\u001b[37mPOST /cart/add HTTP/1.1\u001b[0m\" 200 -\n",
      "127.0.0.1 - - [25/May/2020 17:22:54] \"\u001b[37mPOST /cart/add HTTP/1.1\u001b[0m\" 200 -\n",
      "127.0.0.1 - - [25/May/2020 17:22:54] \"\u001b[37mGET /cart/get HTTP/1.1\u001b[0m\" 200 -\n",
      "127.0.0.1 - - [25/May/2020 17:22:54] \"\u001b[37mGET /cart/get HTTP/1.1\u001b[0m\" 200 -\n"
     ]
    },
    {
     "name": "stdout",
     "output_type": "stream",
     "text": [
      "{'item_id': 0, 'name': 'Chips m. havsalt', 'price': 1695, 'amount': 2} <SecureCookieSession {'_permanent': True, 'user': {'email': 'da@ni.el', 'id': 51853, 'name': 'daniel', 'password': '$2b$04$rxLmapV7LM/jMEFNRpRhJ.QMOxMzUe9507ES18jD6i.ooPYyu1h0m', 'phone': '12345678', 'street': 'vej24', 'zip': 2680}}>\n",
      "{'item_id': 0, 'name': 'Chips m. havsalt', 'price': 1695, 'amount': 2} <SecureCookieSession {'_permanent': True, 'user': {'email': 'da@ni.el', 'id': 51853, 'name': 'daniel', 'password': '$2b$04$rxLmapV7LM/jMEFNRpRhJ.QMOxMzUe9507ES18jD6i.ooPYyu1h0m', 'phone': '12345678', 'street': 'vej24', 'zip': 2680}}>\n"
     ]
    },
    {
     "name": "stderr",
     "output_type": "stream",
     "text": [
      "127.0.0.1 - - [25/May/2020 17:22:54] \"\u001b[37mPOST /cart/add HTTP/1.1\u001b[0m\" 200 -\n",
      "127.0.0.1 - - [25/May/2020 17:22:54] \"\u001b[37mPOST /cart/add HTTP/1.1\u001b[0m\" 200 -\n",
      "127.0.0.1 - - [25/May/2020 17:22:54] \"\u001b[37mGET /cart/get HTTP/1.1\u001b[0m\" 200 -\n",
      "127.0.0.1 - - [25/May/2020 17:22:54] \"\u001b[37mGET /cart/get HTTP/1.1\u001b[0m\" 200 -\n"
     ]
    },
    {
     "name": "stdout",
     "output_type": "stream",
     "text": [
      "{'item_id': 0, 'name': 'Chips m. havsalt', 'price': 1695, 'amount': 2} <SecureCookieSession {'_permanent': True, 'user': {'email': 'da@ni.el', 'id': 51853, 'name': 'daniel', 'password': '$2b$04$rxLmapV7LM/jMEFNRpRhJ.QMOxMzUe9507ES18jD6i.ooPYyu1h0m', 'phone': '12345678', 'street': 'vej24', 'zip': 2680}}>\n",
      "{'item_id': 0, 'name': 'Chips m. havsalt', 'price': 1695, 'amount': 2} <SecureCookieSession {'_permanent': True, 'user': {'email': 'da@ni.el', 'id': 51853, 'name': 'daniel', 'password': '$2b$04$rxLmapV7LM/jMEFNRpRhJ.QMOxMzUe9507ES18jD6i.ooPYyu1h0m', 'phone': '12345678', 'street': 'vej24', 'zip': 2680}}>\n"
     ]
    },
    {
     "name": "stderr",
     "output_type": "stream",
     "text": [
      "127.0.0.1 - - [25/May/2020 17:23:03] \"\u001b[37mOPTIONS /cart/add HTTP/1.1\u001b[0m\" 200 -\n",
      "127.0.0.1 - - [25/May/2020 17:23:03] \"\u001b[37mOPTIONS /cart/add HTTP/1.1\u001b[0m\" 200 -\n",
      "127.0.0.1 - - [25/May/2020 17:23:03] \"\u001b[37mPOST /cart/add HTTP/1.1\u001b[0m\" 200 -\n",
      "127.0.0.1 - - [25/May/2020 17:23:03] \"\u001b[37mPOST /cart/add HTTP/1.1\u001b[0m\" 200 -\n",
      "127.0.0.1 - - [25/May/2020 17:23:03] \"\u001b[37mOPTIONS /cart/get HTTP/1.1\u001b[0m\" 200 -\n",
      "127.0.0.1 - - [25/May/2020 17:23:03] \"\u001b[37mOPTIONS /cart/get HTTP/1.1\u001b[0m\" 200 -\n",
      "127.0.0.1 - - [25/May/2020 17:23:03] \"\u001b[37mGET /cart/get HTTP/1.1\u001b[0m\" 200 -\n",
      "127.0.0.1 - - [25/May/2020 17:23:03] \"\u001b[37mGET /cart/get HTTP/1.1\u001b[0m\" 200 -\n"
     ]
    },
    {
     "name": "stdout",
     "output_type": "stream",
     "text": [
      "{'item_id': 0, 'name': 'Chips m. havsalt', 'price': 1695, 'amount': 2} <SecureCookieSession {'_permanent': True, 'user': {'email': 'da@ni.el', 'id': 51853, 'name': 'daniel', 'password': '$2b$04$rxLmapV7LM/jMEFNRpRhJ.QMOxMzUe9507ES18jD6i.ooPYyu1h0m', 'phone': '12345678', 'street': 'vej24', 'zip': 2680}}>\n",
      "{'item_id': 0, 'name': 'Chips m. havsalt', 'price': 1695, 'amount': 2} <SecureCookieSession {'_permanent': True, 'user': {'email': 'da@ni.el', 'id': 51853, 'name': 'daniel', 'password': '$2b$04$rxLmapV7LM/jMEFNRpRhJ.QMOxMzUe9507ES18jD6i.ooPYyu1h0m', 'phone': '12345678', 'street': 'vej24', 'zip': 2680}}>\n"
     ]
    },
    {
     "name": "stderr",
     "output_type": "stream",
     "text": [
      "127.0.0.1 - - [25/May/2020 17:23:03] \"\u001b[37mPOST /cart/add HTTP/1.1\u001b[0m\" 200 -\n",
      "127.0.0.1 - - [25/May/2020 17:23:03] \"\u001b[37mPOST /cart/add HTTP/1.1\u001b[0m\" 200 -\n",
      "127.0.0.1 - - [25/May/2020 17:23:03] \"\u001b[37mGET /cart/get HTTP/1.1\u001b[0m\" 200 -\n",
      "127.0.0.1 - - [25/May/2020 17:23:03] \"\u001b[37mGET /cart/get HTTP/1.1\u001b[0m\" 200 -\n"
     ]
    },
    {
     "name": "stdout",
     "output_type": "stream",
     "text": [
      "{'item_id': 0, 'name': 'Chips m. havsalt', 'price': 1695, 'amount': 2} <SecureCookieSession {'_permanent': True, 'user': {'email': 'da@ni.el', 'id': 51853, 'name': 'daniel', 'password': '$2b$04$rxLmapV7LM/jMEFNRpRhJ.QMOxMzUe9507ES18jD6i.ooPYyu1h0m', 'phone': '12345678', 'street': 'vej24', 'zip': 2680}}>\n",
      "{'item_id': 0, 'name': 'Chips m. havsalt', 'price': 1695, 'amount': 2} <SecureCookieSession {'_permanent': True, 'user': {'email': 'da@ni.el', 'id': 51853, 'name': 'daniel', 'password': '$2b$04$rxLmapV7LM/jMEFNRpRhJ.QMOxMzUe9507ES18jD6i.ooPYyu1h0m', 'phone': '12345678', 'street': 'vej24', 'zip': 2680}}>\n"
     ]
    },
    {
     "name": "stderr",
     "output_type": "stream",
     "text": [
      "127.0.0.1 - - [25/May/2020 17:23:03] \"\u001b[37mPOST /cart/add HTTP/1.1\u001b[0m\" 200 -\n",
      "127.0.0.1 - - [25/May/2020 17:23:03] \"\u001b[37mPOST /cart/add HTTP/1.1\u001b[0m\" 200 -\n",
      "127.0.0.1 - - [25/May/2020 17:23:03] \"\u001b[37mGET /cart/get HTTP/1.1\u001b[0m\" 200 -\n",
      "127.0.0.1 - - [25/May/2020 17:23:03] \"\u001b[37mGET /cart/get HTTP/1.1\u001b[0m\" 200 -\n",
      "127.0.0.1 - - [25/May/2020 17:23:04] \"\u001b[37mPOST /cart/add HTTP/1.1\u001b[0m\" 200 -\n",
      "127.0.0.1 - - [25/May/2020 17:23:04] \"\u001b[37mPOST /cart/add HTTP/1.1\u001b[0m\" 200 -\n",
      "127.0.0.1 - - [25/May/2020 17:23:04] \"\u001b[37mGET /cart/get HTTP/1.1\u001b[0m\" 200 -\n",
      "127.0.0.1 - - [25/May/2020 17:23:04] \"\u001b[37mGET /cart/get HTTP/1.1\u001b[0m\" 200 -\n"
     ]
    },
    {
     "name": "stdout",
     "output_type": "stream",
     "text": [
      "{'item_id': 0, 'name': 'Chips m. havsalt', 'price': 1695, 'amount': 2} <SecureCookieSession {'_permanent': True, 'user': {'email': 'da@ni.el', 'id': 51853, 'name': 'daniel', 'password': '$2b$04$rxLmapV7LM/jMEFNRpRhJ.QMOxMzUe9507ES18jD6i.ooPYyu1h0m', 'phone': '12345678', 'street': 'vej24', 'zip': 2680}}>\n",
      "{'item_id': 0, 'name': 'Chips m. havsalt', 'price': 1695, 'amount': 2} <SecureCookieSession {'_permanent': True, 'user': {'email': 'da@ni.el', 'id': 51853, 'name': 'daniel', 'password': '$2b$04$rxLmapV7LM/jMEFNRpRhJ.QMOxMzUe9507ES18jD6i.ooPYyu1h0m', 'phone': '12345678', 'street': 'vej24', 'zip': 2680}}>\n",
      "{'item_id': 0, 'name': 'Chips m. havsalt', 'price': 1695, 'amount': 2}{'item_id': 0, 'name': 'Chips m. havsalt', 'price': 1695, 'amount': 2} <SecureCookieSession {'_permanent': True, 'user': {'email': 'da@ni.el', 'id': 51853, 'name': 'daniel', 'password': '$2b$04$rxLmapV7LM/jMEFNRpRhJ.QMOxMzUe9507ES18jD6i.ooPYyu1h0m', 'phone': '12345678', 'street': 'vej24', 'zip': 2680}}>\n",
      "{'item_id': 0, 'name': 'Chips m. havsalt', 'price': 1695, 'amount': 2} <SecureCookieSession {'_permanent': True, 'user': {'email': 'da@ni.el', 'id': 51853, 'name': 'daniel', 'password': '$2b$04$rxLmapV7LM/jMEFNRpRhJ.QMOxMzUe9507ES18jD6i.ooPYyu1h0m', 'phone': '12345678', 'street': 'vej24', 'zip': 2680}}>\n",
      "{'item_id': 0, 'name': 'Chips m. havsalt', 'price': 1695, 'amount': 2}"
     ]
    },
    {
     "name": "stderr",
     "output_type": "stream",
     "text": [
      "127.0.0.1 - - [25/May/2020 17:23:04] \"\u001b[37mPOST /cart/add HTTP/1.1\u001b[0m\" 200 -\n",
      "127.0.0.1 - - [25/May/2020 17:23:04] \"\u001b[37mPOST /cart/add HTTP/1.1\u001b[0m\" 200 -\n",
      "127.0.0.1 - - [25/May/2020 17:23:04] \"\u001b[37mGET /cart/get HTTP/1.1\u001b[0m\" 200 -\n",
      "127.0.0.1 - - [25/May/2020 17:23:04] \"\u001b[37mGET /cart/get HTTP/1.1\u001b[0m\" 200 -\n",
      "127.0.0.1 - - [25/May/2020 17:23:04] \"\u001b[37mPOST /cart/add HTTP/1.1\u001b[0m\" 200 -\n",
      "127.0.0.1 - - [25/May/2020 17:23:04] \"\u001b[37mPOST /cart/add HTTP/1.1\u001b[0m\" 200 -\n",
      "127.0.0.1 - - [25/May/2020 17:23:04] \"\u001b[37mGET /cart/get HTTP/1.1\u001b[0m\" 200 -\n",
      "127.0.0.1 - - [25/May/2020 17:23:04] \"\u001b[37mGET /cart/get HTTP/1.1\u001b[0m\" 200 -\n"
     ]
    },
    {
     "name": "stdout",
     "output_type": "stream",
     "text": [
      " <SecureCookieSession {'_permanent': True, 'user': {'email': 'da@ni.el', 'id': 51853, 'name': 'daniel', 'password': '$2b$04$rxLmapV7LM/jMEFNRpRhJ.QMOxMzUe9507ES18jD6i.ooPYyu1h0m', 'phone': '12345678', 'street': 'vej24', 'zip': 2680}}>\n",
      "{'item_id': 0, 'name': 'Chips m. havsalt', 'price': 1695, 'amount': 2} <SecureCookieSession {'_permanent': True, 'user': {'email': 'da@ni.el', 'id': 51853, 'name': 'daniel', 'password': '$2b$04$rxLmapV7LM/jMEFNRpRhJ.QMOxMzUe9507ES18jD6i.ooPYyu1h0m', 'phone': '12345678', 'street': 'vej24', 'zip': 2680}}>\n",
      " <SecureCookieSession {'_permanent': True, 'user': {'email': 'da@ni.el', 'id': 51853, 'name': 'daniel', 'password': '$2b$04$rxLmapV7LM/jMEFNRpRhJ.QMOxMzUe9507ES18jD6i.ooPYyu1h0m', 'phone': '12345678', 'street': 'vej24', 'zip': 2680}}>\n",
      "{'item_id': 0, 'name': 'Chips m. havsalt', 'price': 1695, 'amount': 2} <SecureCookieSession {'_permanent': True, 'user': {'email': 'da@ni.el', 'id': 51853, 'name': 'daniel', 'password': '$2b$04$rxLmapV7LM/jMEFNRpRhJ.QMOxMzUe9507ES18jD6i.ooPYyu1h0m', 'phone': '12345678', 'street': 'vej24', 'zip': 2680}}>\n"
     ]
    },
    {
     "name": "stderr",
     "output_type": "stream",
     "text": [
      "127.0.0.1 - - [25/May/2020 17:23:05] \"\u001b[37mOPTIONS /cart/clear HTTP/1.1\u001b[0m\" 200 -\n",
      "127.0.0.1 - - [25/May/2020 17:23:05] \"\u001b[37mOPTIONS /cart/clear HTTP/1.1\u001b[0m\" 200 -\n",
      "127.0.0.1 - - [25/May/2020 17:23:05] \"\u001b[1m\u001b[31mGET /cart/clear HTTP/1.1\u001b[0m\" 400 -\n",
      "127.0.0.1 - - [25/May/2020 17:23:05] \"\u001b[1m\u001b[31mGET /cart/clear HTTP/1.1\u001b[0m\" 400 -\n",
      "127.0.0.1 - - [25/May/2020 17:23:05] \"\u001b[37mPOST /cart/add HTTP/1.1\u001b[0m\" 200 -\n",
      "127.0.0.1 - - [25/May/2020 17:23:05] \"\u001b[37mPOST /cart/add HTTP/1.1\u001b[0m\" 200 -\n",
      "127.0.0.1 - - [25/May/2020 17:23:05] \"\u001b[37mGET /cart/get HTTP/1.1\u001b[0m\" 200 -\n",
      "127.0.0.1 - - [25/May/2020 17:23:05] \"\u001b[37mGET /cart/get HTTP/1.1\u001b[0m\" 200 -\n"
     ]
    },
    {
     "name": "stdout",
     "output_type": "stream",
     "text": [
      "{'item_id': 0, 'name': 'Chips m. havsalt', 'price': 1695, 'amount': 2} <SecureCookieSession {'_permanent': True, 'user': {'email': 'da@ni.el', 'id': 51853, 'name': 'daniel', 'password': '$2b$04$rxLmapV7LM/jMEFNRpRhJ.QMOxMzUe9507ES18jD6i.ooPYyu1h0m', 'phone': '12345678', 'street': 'vej24', 'zip': 2680}}>\n",
      "{'item_id': 0, 'name': 'Chips m. havsalt', 'price': 1695, 'amount': 2} <SecureCookieSession {'_permanent': True, 'user': {'email': 'da@ni.el', 'id': 51853, 'name': 'daniel', 'password': '$2b$04$rxLmapV7LM/jMEFNRpRhJ.QMOxMzUe9507ES18jD6i.ooPYyu1h0m', 'phone': '12345678', 'street': 'vej24', 'zip': 2680}}>\n"
     ]
    },
    {
     "name": "stderr",
     "output_type": "stream",
     "text": [
      "127.0.0.1 - - [25/May/2020 17:23:20] \"\u001b[37mOPTIONS /cart/get HTTP/1.1\u001b[0m\" 200 -\n",
      "127.0.0.1 - - [25/May/2020 17:23:20] \"\u001b[37mOPTIONS /cart/get HTTP/1.1\u001b[0m\" 200 -\n",
      "127.0.0.1 - - [25/May/2020 17:23:20] \"\u001b[37mGET /cart/get HTTP/1.1\u001b[0m\" 200 -\n",
      "127.0.0.1 - - [25/May/2020 17:23:20] \"\u001b[37mGET /cart/get HTTP/1.1\u001b[0m\" 200 -\n",
      "127.0.0.1 - - [25/May/2020 17:23:21] \"\u001b[37mOPTIONS /cart/add HTTP/1.1\u001b[0m\" 200 -\n",
      "127.0.0.1 - - [25/May/2020 17:23:21] \"\u001b[37mOPTIONS /cart/add HTTP/1.1\u001b[0m\" 200 -\n",
      "127.0.0.1 - - [25/May/2020 17:23:21] \"\u001b[37mPOST /cart/add HTTP/1.1\u001b[0m\" 200 -\n",
      "127.0.0.1 - - [25/May/2020 17:23:21] \"\u001b[37mPOST /cart/add HTTP/1.1\u001b[0m\" 200 -\n",
      "127.0.0.1 - - [25/May/2020 17:23:21] \"\u001b[37mGET /cart/get HTTP/1.1\u001b[0m\" 200 -\n",
      "127.0.0.1 - - [25/May/2020 17:23:21] \"\u001b[37mGET /cart/get HTTP/1.1\u001b[0m\" 200 -\n"
     ]
    },
    {
     "name": "stdout",
     "output_type": "stream",
     "text": [
      "{'item_id': 0, 'name': 'Chips m. havsalt', 'price': 1695, 'amount': 2} <SecureCookieSession {'_permanent': True, 'user': {'email': 'da@ni.el', 'id': 51853, 'name': 'daniel', 'password': '$2b$04$rxLmapV7LM/jMEFNRpRhJ.QMOxMzUe9507ES18jD6i.ooPYyu1h0m', 'phone': '12345678', 'street': 'vej24', 'zip': 2680}}>\n",
      "{'item_id': 0, 'name': 'Chips m. havsalt', 'price': 1695, 'amount': 2} <SecureCookieSession {'_permanent': True, 'user': {'email': 'da@ni.el', 'id': 51853, 'name': 'daniel', 'password': '$2b$04$rxLmapV7LM/jMEFNRpRhJ.QMOxMzUe9507ES18jD6i.ooPYyu1h0m', 'phone': '12345678', 'street': 'vej24', 'zip': 2680}}>\n"
     ]
    },
    {
     "name": "stderr",
     "output_type": "stream",
     "text": [
      "127.0.0.1 - - [25/May/2020 17:23:21] \"\u001b[37mPOST /cart/add HTTP/1.1\u001b[0m\" 200 -\n",
      "127.0.0.1 - - [25/May/2020 17:23:21] \"\u001b[37mPOST /cart/add HTTP/1.1\u001b[0m\" 200 -\n",
      "127.0.0.1 - - [25/May/2020 17:23:21] \"\u001b[37mGET /cart/get HTTP/1.1\u001b[0m\" 200 -\n",
      "127.0.0.1 - - [25/May/2020 17:23:21] \"\u001b[37mGET /cart/get HTTP/1.1\u001b[0m\" 200 -\n"
     ]
    },
    {
     "name": "stdout",
     "output_type": "stream",
     "text": [
      "{'item_id': 1, 'name': 'Chips m. havsalt', 'price': 1695, 'amount': 2} <SecureCookieSession {'_permanent': True, 'user': {'email': 'da@ni.el', 'id': 51853, 'name': 'daniel', 'password': '$2b$04$rxLmapV7LM/jMEFNRpRhJ.QMOxMzUe9507ES18jD6i.ooPYyu1h0m', 'phone': '12345678', 'street': 'vej24', 'zip': 2680}}>\n",
      "{'item_id': 1, 'name': 'Chips m. havsalt', 'price': 1695, 'amount': 2} <SecureCookieSession {'_permanent': True, 'user': {'email': 'da@ni.el', 'id': 51853, 'name': 'daniel', 'password': '$2b$04$rxLmapV7LM/jMEFNRpRhJ.QMOxMzUe9507ES18jD6i.ooPYyu1h0m', 'phone': '12345678', 'street': 'vej24', 'zip': 2680}}>\n"
     ]
    },
    {
     "name": "stderr",
     "output_type": "stream",
     "text": [
      "127.0.0.1 - - [25/May/2020 17:23:22] \"\u001b[37mPOST /cart/add HTTP/1.1\u001b[0m\" 200 -\n",
      "127.0.0.1 - - [25/May/2020 17:23:22] \"\u001b[37mPOST /cart/add HTTP/1.1\u001b[0m\" 200 -\n",
      "127.0.0.1 - - [25/May/2020 17:23:22] \"\u001b[37mGET /cart/get HTTP/1.1\u001b[0m\" 200 -\n",
      "127.0.0.1 - - [25/May/2020 17:23:22] \"\u001b[37mGET /cart/get HTTP/1.1\u001b[0m\" 200 -\n"
     ]
    },
    {
     "name": "stdout",
     "output_type": "stream",
     "text": [
      "{'item_id': 2, 'name': 'Chips m. havsalt', 'price': 1695, 'amount': 2} <SecureCookieSession {'_permanent': True, 'user': {'email': 'da@ni.el', 'id': 51853, 'name': 'daniel', 'password': '$2b$04$rxLmapV7LM/jMEFNRpRhJ.QMOxMzUe9507ES18jD6i.ooPYyu1h0m', 'phone': '12345678', 'street': 'vej24', 'zip': 2680}}>\n",
      "{'item_id': 2, 'name': 'Chips m. havsalt', 'price': 1695, 'amount': 2} <SecureCookieSession {'_permanent': True, 'user': {'email': 'da@ni.el', 'id': 51853, 'name': 'daniel', 'password': '$2b$04$rxLmapV7LM/jMEFNRpRhJ.QMOxMzUe9507ES18jD6i.ooPYyu1h0m', 'phone': '12345678', 'street': 'vej24', 'zip': 2680}}>\n"
     ]
    },
    {
     "name": "stderr",
     "output_type": "stream",
     "text": [
      "127.0.0.1 - - [25/May/2020 17:23:22] \"\u001b[37mPOST /cart/add HTTP/1.1\u001b[0m\" 200 -\n",
      "127.0.0.1 - - [25/May/2020 17:23:22] \"\u001b[37mPOST /cart/add HTTP/1.1\u001b[0m\" 200 -\n",
      "127.0.0.1 - - [25/May/2020 17:23:22] \"\u001b[37mGET /cart/get HTTP/1.1\u001b[0m\" 200 -\n",
      "127.0.0.1 - - [25/May/2020 17:23:22] \"\u001b[37mGET /cart/get HTTP/1.1\u001b[0m\" 200 -\n"
     ]
    },
    {
     "name": "stdout",
     "output_type": "stream",
     "text": [
      "{'item_id': 3, 'name': 'Chips m. havsalt', 'price': 1695, 'amount': 2} <SecureCookieSession {'_permanent': True, 'user': {'email': 'da@ni.el', 'id': 51853, 'name': 'daniel', 'password': '$2b$04$rxLmapV7LM/jMEFNRpRhJ.QMOxMzUe9507ES18jD6i.ooPYyu1h0m', 'phone': '12345678', 'street': 'vej24', 'zip': 2680}}>\n",
      "{'item_id': 3, 'name': 'Chips m. havsalt', 'price': 1695, 'amount': 2} <SecureCookieSession {'_permanent': True, 'user': {'email': 'da@ni.el', 'id': 51853, 'name': 'daniel', 'password': '$2b$04$rxLmapV7LM/jMEFNRpRhJ.QMOxMzUe9507ES18jD6i.ooPYyu1h0m', 'phone': '12345678', 'street': 'vej24', 'zip': 2680}}>\n"
     ]
    },
    {
     "name": "stderr",
     "output_type": "stream",
     "text": [
      "127.0.0.1 - - [25/May/2020 17:23:22] \"\u001b[37mPOST /cart/add HTTP/1.1\u001b[0m\" 200 -\n",
      "127.0.0.1 - - [25/May/2020 17:23:22] \"\u001b[37mPOST /cart/add HTTP/1.1\u001b[0m\" 200 -\n",
      "127.0.0.1 - - [25/May/2020 17:23:22] \"\u001b[37mGET /cart/get HTTP/1.1\u001b[0m\" 200 -\n",
      "127.0.0.1 - - [25/May/2020 17:23:22] \"\u001b[37mGET /cart/get HTTP/1.1\u001b[0m\" 200 -\n"
     ]
    },
    {
     "name": "stdout",
     "output_type": "stream",
     "text": [
      "{'item_id': 4, 'name': 'Chips m. havsalt', 'price': 1695, 'amount': 2} <SecureCookieSession {'_permanent': True, 'user': {'email': 'da@ni.el', 'id': 51853, 'name': 'daniel', 'password': '$2b$04$rxLmapV7LM/jMEFNRpRhJ.QMOxMzUe9507ES18jD6i.ooPYyu1h0m', 'phone': '12345678', 'street': 'vej24', 'zip': 2680}}>\n",
      "{'item_id': 4, 'name': 'Chips m. havsalt', 'price': 1695, 'amount': 2} <SecureCookieSession {'_permanent': True, 'user': {'email': 'da@ni.el', 'id': 51853, 'name': 'daniel', 'password': '$2b$04$rxLmapV7LM/jMEFNRpRhJ.QMOxMzUe9507ES18jD6i.ooPYyu1h0m', 'phone': '12345678', 'street': 'vej24', 'zip': 2680}}>\n"
     ]
    },
    {
     "name": "stderr",
     "output_type": "stream",
     "text": [
      "127.0.0.1 - - [25/May/2020 17:23:23] \"\u001b[37mPOST /cart/add HTTP/1.1\u001b[0m\" 200 -\n",
      "127.0.0.1 - - [25/May/2020 17:23:23] \"\u001b[37mPOST /cart/add HTTP/1.1\u001b[0m\" 200 -\n",
      "127.0.0.1 - - [25/May/2020 17:23:23] \"\u001b[37mGET /cart/get HTTP/1.1\u001b[0m\" 200 -\n",
      "127.0.0.1 - - [25/May/2020 17:23:23] \"\u001b[37mGET /cart/get HTTP/1.1\u001b[0m\" 200 -\n"
     ]
    },
    {
     "name": "stdout",
     "output_type": "stream",
     "text": [
      "{'item_id': 5, 'name': 'Chips m. havsalt', 'price': 1695, 'amount': 2} <SecureCookieSession {'_permanent': True, 'user': {'email': 'da@ni.el', 'id': 51853, 'name': 'daniel', 'password': '$2b$04$rxLmapV7LM/jMEFNRpRhJ.QMOxMzUe9507ES18jD6i.ooPYyu1h0m', 'phone': '12345678', 'street': 'vej24', 'zip': 2680}}>\n",
      "{'item_id': 5, 'name': 'Chips m. havsalt', 'price': 1695, 'amount': 2} <SecureCookieSession {'_permanent': True, 'user': {'email': 'da@ni.el', 'id': 51853, 'name': 'daniel', 'password': '$2b$04$rxLmapV7LM/jMEFNRpRhJ.QMOxMzUe9507ES18jD6i.ooPYyu1h0m', 'phone': '12345678', 'street': 'vej24', 'zip': 2680}}>\n"
     ]
    },
    {
     "name": "stderr",
     "output_type": "stream",
     "text": [
      "127.0.0.1 - - [25/May/2020 17:23:23] \"\u001b[37mPOST /cart/add HTTP/1.1\u001b[0m\" 200 -\n",
      "127.0.0.1 - - [25/May/2020 17:23:23] \"\u001b[37mPOST /cart/add HTTP/1.1\u001b[0m\" 200 -\n",
      "127.0.0.1 - - [25/May/2020 17:23:23] \"\u001b[37mGET /cart/get HTTP/1.1\u001b[0m\" 200 -\n",
      "127.0.0.1 - - [25/May/2020 17:23:23] \"\u001b[37mGET /cart/get HTTP/1.1\u001b[0m\" 200 -\n",
      "127.0.0.1 - - [25/May/2020 17:23:23] \"\u001b[37mPOST /cart/add HTTP/1.1\u001b[0m\" 200 -\n",
      "127.0.0.1 - - [25/May/2020 17:23:23] \"\u001b[37mPOST /cart/add HTTP/1.1\u001b[0m\" 200 -\n"
     ]
    },
    {
     "name": "stdout",
     "output_type": "stream",
     "text": [
      "{'item_id': 6, 'name': 'Chips m. havsalt', 'price': 1695, 'amount': 2} <SecureCookieSession {'_permanent': True, 'user': {'email': 'da@ni.el', 'id': 51853, 'name': 'daniel', 'password': '$2b$04$rxLmapV7LM/jMEFNRpRhJ.QMOxMzUe9507ES18jD6i.ooPYyu1h0m', 'phone': '12345678', 'street': 'vej24', 'zip': 2680}}>\n",
      "{'item_id': 7, 'name': 'Chips m. havsalt', 'price': 1695, 'amount': 2} <SecureCookieSession {'_permanent': True, 'user': {'email': 'da@ni.el', 'id': 51853, 'name': 'daniel', 'password': '$2b$04$rxLmapV7LM/jMEFNRpRhJ.QMOxMzUe9507ES18jD6i.ooPYyu1h0m', 'phone': '12345678', 'street': 'vej24', 'zip': 2680}}>\n",
      "{'item_id': 6, 'name': 'Chips m. havsalt', 'price': 1695, 'amount': 2} <SecureCookieSession {'_permanent': True, 'user': {'email': 'da@ni.el', 'id': 51853, 'name': 'daniel', 'password': '$2b$04$rxLmapV7LM/jMEFNRpRhJ.QMOxMzUe9507ES18jD6i.ooPYyu1h0m', 'phone': '12345678', 'street': 'vej24', 'zip': 2680}}>\n",
      "{'item_id': 7, 'name': 'Chips m. havsalt', 'price': 1695, 'amount': 2} <SecureCookieSession {'_permanent': True, 'user': {'email': 'da@ni.el', 'id': 51853, 'name': 'daniel', 'password': '$2b$04$rxLmapV7LM/jMEFNRpRhJ.QMOxMzUe9507ES18jD6i.ooPYyu1h0m', 'phone': '12345678', 'street': 'vej24', 'zip': 2680}}>\n"
     ]
    },
    {
     "name": "stderr",
     "output_type": "stream",
     "text": [
      "127.0.0.1 - - [25/May/2020 17:23:23] \"\u001b[37mGET /cart/get HTTP/1.1\u001b[0m\" 200 -\n",
      "127.0.0.1 - - [25/May/2020 17:23:23] \"\u001b[37mGET /cart/get HTTP/1.1\u001b[0m\" 200 -\n",
      "127.0.0.1 - - [25/May/2020 17:23:23] \"\u001b[37mPOST /cart/add HTTP/1.1\u001b[0m\" 200 -\n",
      "127.0.0.1 - - [25/May/2020 17:23:23] \"\u001b[37mPOST /cart/add HTTP/1.1\u001b[0m\" 200 -\n",
      "127.0.0.1 - - [25/May/2020 17:23:23] \"\u001b[37mGET /cart/get HTTP/1.1\u001b[0m\" 200 -\n",
      "127.0.0.1 - - [25/May/2020 17:23:23] \"\u001b[37mGET /cart/get HTTP/1.1\u001b[0m\" 200 -\n",
      "127.0.0.1 - - [25/May/2020 17:23:24] \"\u001b[37mPOST /cart/add HTTP/1.1\u001b[0m\" 200 -\n",
      "127.0.0.1 - - [25/May/2020 17:23:24] \"\u001b[37mPOST /cart/add HTTP/1.1\u001b[0m\" 200 -\n",
      "127.0.0.1 - - [25/May/2020 17:23:24] \"\u001b[37mGET /cart/get HTTP/1.1\u001b[0m\" 200 -\n",
      "127.0.0.1 - - [25/May/2020 17:23:24] \"\u001b[37mGET /cart/get HTTP/1.1\u001b[0m\" 200 -\n"
     ]
    },
    {
     "name": "stdout",
     "output_type": "stream",
     "text": [
      "{'item_id': 8, 'name': 'Chips m. havsalt', 'price': 1695, 'amount': 2} <SecureCookieSession {'_permanent': True, 'user': {'email': 'da@ni.el', 'id': 51853, 'name': 'daniel', 'password': '$2b$04$rxLmapV7LM/jMEFNRpRhJ.QMOxMzUe9507ES18jD6i.ooPYyu1h0m', 'phone': '12345678', 'street': 'vej24', 'zip': 2680}}>\n",
      "{'item_id': 9, 'name': 'Chips m. havsalt', 'price': 1695, 'amount': 2} <SecureCookieSession {'_permanent': True, 'user': {'email': 'da@ni.el', 'id': 51853, 'name': 'daniel', 'password': '$2b$04$rxLmapV7LM/jMEFNRpRhJ.QMOxMzUe9507ES18jD6i.ooPYyu1h0m', 'phone': '12345678', 'street': 'vej24', 'zip': 2680}}>\n",
      "{'item_id': 8, 'name': 'Chips m. havsalt', 'price': 1695, 'amount': 2} <SecureCookieSession {'_permanent': True, 'user': {'email': 'da@ni.el', 'id': 51853, 'name': 'daniel', 'password': '$2b$04$rxLmapV7LM/jMEFNRpRhJ.QMOxMzUe9507ES18jD6i.ooPYyu1h0m', 'phone': '12345678', 'street': 'vej24', 'zip': 2680}}>\n",
      "{'item_id': 9, 'name': 'Chips m. havsalt', 'price': 1695, 'amount': 2} <SecureCookieSession {'_permanent': True, 'user': {'email': 'da@ni.el', 'id': 51853, 'name': 'daniel', 'password': '$2b$04$rxLmapV7LM/jMEFNRpRhJ.QMOxMzUe9507ES18jD6i.ooPYyu1h0m', 'phone': '12345678', 'street': 'vej24', 'zip': 2680}}>\n"
     ]
    },
    {
     "name": "stderr",
     "output_type": "stream",
     "text": [
      "127.0.0.1 - - [25/May/2020 17:23:24] \"\u001b[37mPOST /cart/add HTTP/1.1\u001b[0m\" 200 -\n",
      "127.0.0.1 - - [25/May/2020 17:23:24] \"\u001b[37mPOST /cart/add HTTP/1.1\u001b[0m\" 200 -\n",
      "127.0.0.1 - - [25/May/2020 17:23:24] \"\u001b[37mGET /cart/get HTTP/1.1\u001b[0m\" 200 -\n",
      "127.0.0.1 - - [25/May/2020 17:23:24] \"\u001b[37mGET /cart/get HTTP/1.1\u001b[0m\" 200 -\n",
      "127.0.0.1 - - [25/May/2020 17:23:24] \"\u001b[37mPOST /cart/add HTTP/1.1\u001b[0m\" 200 -\n",
      "127.0.0.1 - - [25/May/2020 17:23:24] \"\u001b[37mPOST /cart/add HTTP/1.1\u001b[0m\" 200 -\n",
      "127.0.0.1 - - [25/May/2020 17:23:24] \"\u001b[37mGET /cart/get HTTP/1.1\u001b[0m\" 200 -\n",
      "127.0.0.1 - - [25/May/2020 17:23:24] \"\u001b[37mGET /cart/get HTTP/1.1\u001b[0m\" 200 -\n"
     ]
    },
    {
     "name": "stdout",
     "output_type": "stream",
     "text": [
      "{'item_id': 10, 'name': 'Chips m. havsalt', 'price': 1695, 'amount': 2} <SecureCookieSession {'_permanent': True, 'user': {'email': 'da@ni.el', 'id': 51853, 'name': 'daniel', 'password': '$2b$04$rxLmapV7LM/jMEFNRpRhJ.QMOxMzUe9507ES18jD6i.ooPYyu1h0m', 'phone': '12345678', 'street': 'vej24', 'zip': 2680}}>\n",
      "{'item_id': 11, 'name': 'Chips m. havsalt', 'price': 1695, 'amount': 2} <SecureCookieSession {'_permanent': True, 'user': {'email': 'da@ni.el', 'id': 51853, 'name': 'daniel', 'password': '$2b$04$rxLmapV7LM/jMEFNRpRhJ.QMOxMzUe9507ES18jD6i.ooPYyu1h0m', 'phone': '12345678', 'street': 'vej24', 'zip': 2680}}>\n",
      "{'item_id': 10, 'name': 'Chips m. havsalt', 'price': 1695, 'amount': 2} <SecureCookieSession {'_permanent': True, 'user': {'email': 'da@ni.el', 'id': 51853, 'name': 'daniel', 'password': '$2b$04$rxLmapV7LM/jMEFNRpRhJ.QMOxMzUe9507ES18jD6i.ooPYyu1h0m', 'phone': '12345678', 'street': 'vej24', 'zip': 2680}}>\n",
      "{'item_id': 11, 'name': 'Chips m. havsalt', 'price': 1695, 'amount': 2} <SecureCookieSession {'_permanent': True, 'user': {'email': 'da@ni.el', 'id': 51853, 'name': 'daniel', 'password': '$2b$04$rxLmapV7LM/jMEFNRpRhJ.QMOxMzUe9507ES18jD6i.ooPYyu1h0m', 'phone': '12345678', 'street': 'vej24', 'zip': 2680}}>\n"
     ]
    },
    {
     "name": "stderr",
     "output_type": "stream",
     "text": [
      "127.0.0.1 - - [25/May/2020 17:23:24] \"\u001b[37mPOST /cart/add HTTP/1.1\u001b[0m\" 200 -\n",
      "127.0.0.1 - - [25/May/2020 17:23:24] \"\u001b[37mPOST /cart/add HTTP/1.1\u001b[0m\" 200 -\n",
      "127.0.0.1 - - [25/May/2020 17:23:24] \"\u001b[37mGET /cart/get HTTP/1.1\u001b[0m\" 200 -\n",
      "127.0.0.1 - - [25/May/2020 17:23:24] \"\u001b[37mGET /cart/get HTTP/1.1\u001b[0m\" 200 -\n"
     ]
    },
    {
     "name": "stdout",
     "output_type": "stream",
     "text": [
      "{'item_id': 12, 'name': 'Chips m. havsalt', 'price': 1695, 'amount': 2} <SecureCookieSession {'_permanent': True, 'user': {'email': 'da@ni.el', 'id': 51853, 'name': 'daniel', 'password': '$2b$04$rxLmapV7LM/jMEFNRpRhJ.QMOxMzUe9507ES18jD6i.ooPYyu1h0m', 'phone': '12345678', 'street': 'vej24', 'zip': 2680}}>\n",
      "{'item_id': 12, 'name': 'Chips m. havsalt', 'price': 1695, 'amount': 2} <SecureCookieSession {'_permanent': True, 'user': {'email': 'da@ni.el', 'id': 51853, 'name': 'daniel', 'password': '$2b$04$rxLmapV7LM/jMEFNRpRhJ.QMOxMzUe9507ES18jD6i.ooPYyu1h0m', 'phone': '12345678', 'street': 'vej24', 'zip': 2680}}>\n"
     ]
    },
    {
     "name": "stderr",
     "output_type": "stream",
     "text": [
      "127.0.0.1 - - [25/May/2020 17:23:30] \"\u001b[37mOPTIONS /cart/clear HTTP/1.1\u001b[0m\" 200 -\n",
      "127.0.0.1 - - [25/May/2020 17:23:30] \"\u001b[37mOPTIONS /cart/clear HTTP/1.1\u001b[0m\" 200 -\n",
      "127.0.0.1 - - [25/May/2020 17:23:30] \"\u001b[1m\u001b[31mGET /cart/clear HTTP/1.1\u001b[0m\" 400 -\n",
      "127.0.0.1 - - [25/May/2020 17:23:30] \"\u001b[1m\u001b[31mGET /cart/clear HTTP/1.1\u001b[0m\" 400 -\n",
      "127.0.0.1 - - [25/May/2020 17:23:30] \"\u001b[37mOPTIONS /cart/add HTTP/1.1\u001b[0m\" 200 -\n",
      "127.0.0.1 - - [25/May/2020 17:23:30] \"\u001b[37mOPTIONS /cart/add HTTP/1.1\u001b[0m\" 200 -\n",
      "127.0.0.1 - - [25/May/2020 17:23:30] \"\u001b[37mPOST /cart/add HTTP/1.1\u001b[0m\" 200 -\n",
      "127.0.0.1 - - [25/May/2020 17:23:30] \"\u001b[37mPOST /cart/add HTTP/1.1\u001b[0m\" 200 -\n",
      "127.0.0.1 - - [25/May/2020 17:23:30] \"\u001b[37mOPTIONS /cart/get HTTP/1.1\u001b[0m\" 200 -\n",
      "127.0.0.1 - - [25/May/2020 17:23:30] \"\u001b[37mOPTIONS /cart/get HTTP/1.1\u001b[0m\" 200 -\n",
      "127.0.0.1 - - [25/May/2020 17:23:30] \"\u001b[37mGET /cart/get HTTP/1.1\u001b[0m\" 200 -\n",
      "127.0.0.1 - - [25/May/2020 17:23:30] \"\u001b[37mGET /cart/get HTTP/1.1\u001b[0m\" 200 -\n"
     ]
    },
    {
     "name": "stdout",
     "output_type": "stream",
     "text": [
      "{'item_id': 13, 'name': 'Chips m. havsalt', 'price': 1695, 'amount': 2} <SecureCookieSession {'_permanent': True, 'user': {'email': 'da@ni.el', 'id': 51853, 'name': 'daniel', 'password': '$2b$04$rxLmapV7LM/jMEFNRpRhJ.QMOxMzUe9507ES18jD6i.ooPYyu1h0m', 'phone': '12345678', 'street': 'vej24', 'zip': 2680}}>\n",
      "{'item_id': 13, 'name': 'Chips m. havsalt', 'price': 1695, 'amount': 2} <SecureCookieSession {'_permanent': True, 'user': {'email': 'da@ni.el', 'id': 51853, 'name': 'daniel', 'password': '$2b$04$rxLmapV7LM/jMEFNRpRhJ.QMOxMzUe9507ES18jD6i.ooPYyu1h0m', 'phone': '12345678', 'street': 'vej24', 'zip': 2680}}>\n"
     ]
    },
    {
     "name": "stderr",
     "output_type": "stream",
     "text": [
      "127.0.0.1 - - [25/May/2020 17:23:31] \"\u001b[37mPOST /cart/add HTTP/1.1\u001b[0m\" 200 -\n",
      "127.0.0.1 - - [25/May/2020 17:23:31] \"\u001b[37mPOST /cart/add HTTP/1.1\u001b[0m\" 200 -\n",
      "127.0.0.1 - - [25/May/2020 17:23:31] \"\u001b[37mGET /cart/get HTTP/1.1\u001b[0m\" 200 -\n",
      "127.0.0.1 - - [25/May/2020 17:23:31] \"\u001b[37mGET /cart/get HTTP/1.1\u001b[0m\" 200 -\n"
     ]
    },
    {
     "name": "stdout",
     "output_type": "stream",
     "text": [
      "{'item_id': 14, 'name': 'Chips m. havsalt', 'price': 1695, 'amount': 2} <SecureCookieSession {'_permanent': True, 'user': {'email': 'da@ni.el', 'id': 51853, 'name': 'daniel', 'password': '$2b$04$rxLmapV7LM/jMEFNRpRhJ.QMOxMzUe9507ES18jD6i.ooPYyu1h0m', 'phone': '12345678', 'street': 'vej24', 'zip': 2680}}>\n",
      "{'item_id': 15, 'name': 'Chips m. havsalt', 'price': 1695, 'amount': 2}{'item_id': 14, 'name': 'Chips m. havsalt', 'price': 1695, 'amount': 2} <SecureCookieSession {'_permanent': True, 'user': {'email': 'da@ni.el', 'id': 51853, 'name': 'daniel', 'password': '$2b$04$rxLmapV7LM/jMEFNRpRhJ.QMOxMzUe9507ES18jD6i.ooPYyu1h0m', 'phone': '12345678', 'street': 'vej24', 'zip': 2680}}>\n",
      "{'item_id': 15, 'name': 'Chips m. havsalt', 'price': 1695, 'amount': 2}"
     ]
    },
    {
     "name": "stderr",
     "output_type": "stream",
     "text": [
      "127.0.0.1 - - [25/May/2020 17:23:31] \"\u001b[37mPOST /cart/add HTTP/1.1\u001b[0m\" 200 -\n",
      "127.0.0.1 - - [25/May/2020 17:23:31] \"\u001b[37mPOST /cart/add HTTP/1.1\u001b[0m\" 200 -\n",
      "127.0.0.1 - - [25/May/2020 17:23:31] \"\u001b[37mGET /cart/get HTTP/1.1\u001b[0m\" 200 -\n",
      "127.0.0.1 - - [25/May/2020 17:23:31] \"\u001b[37mGET /cart/get HTTP/1.1\u001b[0m\" 200 -\n",
      "127.0.0.1 - - [25/May/2020 17:23:31] \"\u001b[37mPOST /cart/add HTTP/1.1\u001b[0m\" 200 -\n",
      "127.0.0.1 - - [25/May/2020 17:23:31] \"\u001b[37mPOST /cart/add HTTP/1.1\u001b[0m\" 200 -\n"
     ]
    },
    {
     "name": "stdout",
     "output_type": "stream",
     "text": [
      " <SecureCookieSession {'_permanent': True, 'user': {'email': 'da@ni.el', 'id': 51853, 'name': 'daniel', 'password': '$2b$04$rxLmapV7LM/jMEFNRpRhJ.QMOxMzUe9507ES18jD6i.ooPYyu1h0m', 'phone': '12345678', 'street': 'vej24', 'zip': 2680}}>\n",
      "{'item_id': 16, 'name': 'Chips m. havsalt', 'price': 1695, 'amount': 2} <SecureCookieSession {'_permanent': True, 'user': {'email': 'da@ni.el', 'id': 51853, 'name': 'daniel', 'password': '$2b$04$rxLmapV7LM/jMEFNRpRhJ.QMOxMzUe9507ES18jD6i.ooPYyu1h0m', 'phone': '12345678', 'street': 'vej24', 'zip': 2680}}>\n",
      " <SecureCookieSession {'_permanent': True, 'user': {'email': 'da@ni.el', 'id': 51853, 'name': 'daniel', 'password': '$2b$04$rxLmapV7LM/jMEFNRpRhJ.QMOxMzUe9507ES18jD6i.ooPYyu1h0m', 'phone': '12345678', 'street': 'vej24', 'zip': 2680}}>\n",
      "{'item_id': 16, 'name': 'Chips m. havsalt', 'price': 1695, 'amount': 2} <SecureCookieSession {'_permanent': True, 'user': {'email': 'da@ni.el', 'id': 51853, 'name': 'daniel', 'password': '$2b$04$rxLmapV7LM/jMEFNRpRhJ.QMOxMzUe9507ES18jD6i.ooPYyu1h0m', 'phone': '12345678', 'street': 'vej24', 'zip': 2680}}>\n"
     ]
    },
    {
     "name": "stderr",
     "output_type": "stream",
     "text": [
      "127.0.0.1 - - [25/May/2020 17:23:31] \"\u001b[37mGET /cart/get HTTP/1.1\u001b[0m\" 200 -\n",
      "127.0.0.1 - - [25/May/2020 17:23:31] \"\u001b[37mGET /cart/get HTTP/1.1\u001b[0m\" 200 -\n",
      "127.0.0.1 - - [25/May/2020 17:23:31] \"\u001b[37mPOST /cart/add HTTP/1.1\u001b[0m\" 200 -\n",
      "127.0.0.1 - - [25/May/2020 17:23:31] \"\u001b[37mPOST /cart/add HTTP/1.1\u001b[0m\" 200 -\n",
      "127.0.0.1 - - [25/May/2020 17:23:31] \"\u001b[37mGET /cart/get HTTP/1.1\u001b[0m\" 200 -\n",
      "127.0.0.1 - - [25/May/2020 17:23:31] \"\u001b[37mGET /cart/get HTTP/1.1\u001b[0m\" 200 -\n",
      "127.0.0.1 - - [25/May/2020 17:23:31] \"\u001b[37mPOST /cart/add HTTP/1.1\u001b[0m\" 200 -\n",
      "127.0.0.1 - - [25/May/2020 17:23:31] \"\u001b[37mPOST /cart/add HTTP/1.1\u001b[0m\" 200 -\n",
      "127.0.0.1 - - [25/May/2020 17:23:31] \"\u001b[37mGET /cart/get HTTP/1.1\u001b[0m\" 200 -\n",
      "127.0.0.1 - - [25/May/2020 17:23:31] \"\u001b[37mGET /cart/get HTTP/1.1\u001b[0m\" 200 -\n"
     ]
    },
    {
     "name": "stdout",
     "output_type": "stream",
     "text": [
      "{'item_id': 17, 'name': 'Chips m. havsalt', 'price': 1695, 'amount': 2} <SecureCookieSession {'_permanent': True, 'user': {'email': 'da@ni.el', 'id': 51853, 'name': 'daniel', 'password': '$2b$04$rxLmapV7LM/jMEFNRpRhJ.QMOxMzUe9507ES18jD6i.ooPYyu1h0m', 'phone': '12345678', 'street': 'vej24', 'zip': 2680}}>\n",
      "{'item_id': 18, 'name': 'Chips m. havsalt', 'price': 1695, 'amount': 2} <SecureCookieSession {'_permanent': True, 'user': {'email': 'da@ni.el', 'id': 51853, 'name': 'daniel', 'password': '$2b$04$rxLmapV7LM/jMEFNRpRhJ.QMOxMzUe9507ES18jD6i.ooPYyu1h0m', 'phone': '12345678', 'street': 'vej24', 'zip': 2680}}>\n",
      "{'item_id': 17, 'name': 'Chips m. havsalt', 'price': 1695, 'amount': 2} <SecureCookieSession {'_permanent': True, 'user': {'email': 'da@ni.el', 'id': 51853, 'name': 'daniel', 'password': '$2b$04$rxLmapV7LM/jMEFNRpRhJ.QMOxMzUe9507ES18jD6i.ooPYyu1h0m', 'phone': '12345678', 'street': 'vej24', 'zip': 2680}}>\n",
      "{'item_id': 18, 'name': 'Chips m. havsalt', 'price': 1695, 'amount': 2} <SecureCookieSession {'_permanent': True, 'user': {'email': 'da@ni.el', 'id': 51853, 'name': 'daniel', 'password': '$2b$04$rxLmapV7LM/jMEFNRpRhJ.QMOxMzUe9507ES18jD6i.ooPYyu1h0m', 'phone': '12345678', 'street': 'vej24', 'zip': 2680}}>\n"
     ]
    },
    {
     "name": "stderr",
     "output_type": "stream",
     "text": [
      "127.0.0.1 - - [25/May/2020 17:23:32] \"\u001b[37mPOST /cart/add HTTP/1.1\u001b[0m\" 200 -\n",
      "127.0.0.1 - - [25/May/2020 17:23:32] \"\u001b[37mPOST /cart/add HTTP/1.1\u001b[0m\" 200 -\n",
      "127.0.0.1 - - [25/May/2020 17:23:32] \"\u001b[37mGET /cart/get HTTP/1.1\u001b[0m\" 200 -\n",
      "127.0.0.1 - - [25/May/2020 17:23:32] \"\u001b[37mGET /cart/get HTTP/1.1\u001b[0m\" 200 -\n",
      "127.0.0.1 - - [25/May/2020 17:23:32] \"\u001b[37mPOST /cart/add HTTP/1.1\u001b[0m\" 200 -\n",
      "127.0.0.1 - - [25/May/2020 17:23:32] \"\u001b[37mPOST /cart/add HTTP/1.1\u001b[0m\" 200 -\n",
      "127.0.0.1 - - [25/May/2020 17:23:32] \"\u001b[37mGET /cart/get HTTP/1.1\u001b[0m\" 200 -\n",
      "127.0.0.1 - - [25/May/2020 17:23:32] \"\u001b[37mGET /cart/get HTTP/1.1\u001b[0m\" 200 -\n"
     ]
    },
    {
     "name": "stdout",
     "output_type": "stream",
     "text": [
      "{'item_id': 19, 'name': 'Chips m. havsalt', 'price': 1695, 'amount': 2} <SecureCookieSession {'_permanent': True, 'user': {'email': 'da@ni.el', 'id': 51853, 'name': 'daniel', 'password': '$2b$04$rxLmapV7LM/jMEFNRpRhJ.QMOxMzUe9507ES18jD6i.ooPYyu1h0m', 'phone': '12345678', 'street': 'vej24', 'zip': 2680}}>\n",
      "{'item_id': 20, 'name': 'Chips m. havsalt', 'price': 1695, 'amount': 2} <SecureCookieSession {'_permanent': True, 'user': {'email': 'da@ni.el', 'id': 51853, 'name': 'daniel', 'password': '$2b$04$rxLmapV7LM/jMEFNRpRhJ.QMOxMzUe9507ES18jD6i.ooPYyu1h0m', 'phone': '12345678', 'street': 'vej24', 'zip': 2680}}>\n",
      "{'item_id': 19, 'name': 'Chips m. havsalt', 'price': 1695, 'amount': 2} <SecureCookieSession {'_permanent': True, 'user': {'email': 'da@ni.el', 'id': 51853, 'name': 'daniel', 'password': '$2b$04$rxLmapV7LM/jMEFNRpRhJ.QMOxMzUe9507ES18jD6i.ooPYyu1h0m', 'phone': '12345678', 'street': 'vej24', 'zip': 2680}}>\n",
      "{'item_id': 20, 'name': 'Chips m. havsalt', 'price': 1695, 'amount': 2} <SecureCookieSession {'_permanent': True, 'user': {'email': 'da@ni.el', 'id': 51853, 'name': 'daniel', 'password': '$2b$04$rxLmapV7LM/jMEFNRpRhJ.QMOxMzUe9507ES18jD6i.ooPYyu1h0m', 'phone': '12345678', 'street': 'vej24', 'zip': 2680}}>\n"
     ]
    },
    {
     "name": "stderr",
     "output_type": "stream",
     "text": [
      "127.0.0.1 - - [25/May/2020 17:23:32] \"\u001b[37mPOST /cart/add HTTP/1.1\u001b[0m\" 200 -\n",
      "127.0.0.1 - - [25/May/2020 17:23:32] \"\u001b[37mPOST /cart/add HTTP/1.1\u001b[0m\" 200 -\n",
      "127.0.0.1 - - [25/May/2020 17:23:32] \"\u001b[37mGET /cart/get HTTP/1.1\u001b[0m\" 200 -\n",
      "127.0.0.1 - - [25/May/2020 17:23:32] \"\u001b[37mGET /cart/get HTTP/1.1\u001b[0m\" 200 -\n",
      "127.0.0.1 - - [25/May/2020 17:23:32] \"\u001b[37mPOST /cart/add HTTP/1.1\u001b[0m\" 200 -\n",
      "127.0.0.1 - - [25/May/2020 17:23:32] \"\u001b[37mPOST /cart/add HTTP/1.1\u001b[0m\" 200 -\n"
     ]
    },
    {
     "name": "stdout",
     "output_type": "stream",
     "text": [
      "{'item_id': 21, 'name': 'Chips m. havsalt', 'price': 1695, 'amount': 2} <SecureCookieSession {'_permanent': True, 'user': {'email': 'da@ni.el', 'id': 51853, 'name': 'daniel', 'password': '$2b$04$rxLmapV7LM/jMEFNRpRhJ.QMOxMzUe9507ES18jD6i.ooPYyu1h0m', 'phone': '12345678', 'street': 'vej24', 'zip': 2680}}>\n",
      "{'item_id': 22, 'name': 'Chips m. havsalt', 'price': 1695, 'amount': 2} <SecureCookieSession {'_permanent': True, 'user': {'email': 'da@ni.el', 'id': 51853, 'name': 'daniel', 'password': '$2b$04$rxLmapV7LM/jMEFNRpRhJ.QMOxMzUe9507ES18jD6i.ooPYyu1h0m', 'phone': '12345678', 'street': 'vej24', 'zip': 2680}}>\n",
      "{'item_id': 21, 'name': 'Chips m. havsalt', 'price': 1695, 'amount': 2} <SecureCookieSession {'_permanent': True, 'user': {'email': 'da@ni.el', 'id': 51853, 'name': 'daniel', 'password': '$2b$04$rxLmapV7LM/jMEFNRpRhJ.QMOxMzUe9507ES18jD6i.ooPYyu1h0m', 'phone': '12345678', 'street': 'vej24', 'zip': 2680}}>\n",
      "{'item_id': 22, 'name': 'Chips m. havsalt', 'price': 1695, 'amount': 2} <SecureCookieSession {'_permanent': True, 'user': {'email': 'da@ni.el', 'id': 51853, 'name': 'daniel', 'password': '$2b$04$rxLmapV7LM/jMEFNRpRhJ.QMOxMzUe9507ES18jD6i.ooPYyu1h0m', 'phone': '12345678', 'street': 'vej24', 'zip': 2680}}>\n"
     ]
    },
    {
     "name": "stderr",
     "output_type": "stream",
     "text": [
      "127.0.0.1 - - [25/May/2020 17:23:32] \"\u001b[37mGET /cart/get HTTP/1.1\u001b[0m\" 200 -\n",
      "127.0.0.1 - - [25/May/2020 17:23:32] \"\u001b[37mGET /cart/get HTTP/1.1\u001b[0m\" 200 -\n",
      "127.0.0.1 - - [25/May/2020 17:23:32] \"\u001b[37mPOST /cart/add HTTP/1.1\u001b[0m\" 200 -\n",
      "127.0.0.1 - - [25/May/2020 17:23:32] \"\u001b[37mPOST /cart/add HTTP/1.1\u001b[0m\" 200 -\n",
      "127.0.0.1 - - [25/May/2020 17:23:32] \"\u001b[37mGET /cart/get HTTP/1.1\u001b[0m\" 200 -\n",
      "127.0.0.1 - - [25/May/2020 17:23:32] \"\u001b[37mGET /cart/get HTTP/1.1\u001b[0m\" 200 -\n"
     ]
    },
    {
     "name": "stdout",
     "output_type": "stream",
     "text": [
      "{'item_id': 23, 'name': 'Chips m. havsalt', 'price': 1695, 'amount': 2} <SecureCookieSession {'_permanent': True, 'user': {'email': 'da@ni.el', 'id': 51853, 'name': 'daniel', 'password': '$2b$04$rxLmapV7LM/jMEFNRpRhJ.QMOxMzUe9507ES18jD6i.ooPYyu1h0m', 'phone': '12345678', 'street': 'vej24', 'zip': 2680}}>\n",
      "{'item_id': 23, 'name': 'Chips m. havsalt', 'price': 1695, 'amount': 2} <SecureCookieSession {'_permanent': True, 'user': {'email': 'da@ni.el', 'id': 51853, 'name': 'daniel', 'password': '$2b$04$rxLmapV7LM/jMEFNRpRhJ.QMOxMzUe9507ES18jD6i.ooPYyu1h0m', 'phone': '12345678', 'street': 'vej24', 'zip': 2680}}>\n"
     ]
    },
    {
     "name": "stderr",
     "output_type": "stream",
     "text": [
      "127.0.0.1 - - [25/May/2020 17:23:42] \"\u001b[37mOPTIONS /cart/add HTTP/1.1\u001b[0m\" 200 -\n",
      "127.0.0.1 - - [25/May/2020 17:23:42] \"\u001b[37mOPTIONS /cart/add HTTP/1.1\u001b[0m\" 200 -\n",
      "127.0.0.1 - - [25/May/2020 17:23:42] \"\u001b[37mPOST /cart/add HTTP/1.1\u001b[0m\" 200 -\n",
      "127.0.0.1 - - [25/May/2020 17:23:42] \"\u001b[37mPOST /cart/add HTTP/1.1\u001b[0m\" 200 -\n",
      "127.0.0.1 - - [25/May/2020 17:23:42] \"\u001b[37mOPTIONS /cart/get HTTP/1.1\u001b[0m\" 200 -\n",
      "127.0.0.1 - - [25/May/2020 17:23:42] \"\u001b[37mOPTIONS /cart/get HTTP/1.1\u001b[0m\" 200 -\n",
      "127.0.0.1 - - [25/May/2020 17:23:42] \"\u001b[37mGET /cart/get HTTP/1.1\u001b[0m\" 200 -\n",
      "127.0.0.1 - - [25/May/2020 17:23:42] \"\u001b[37mGET /cart/get HTTP/1.1\u001b[0m\" 200 -\n",
      "127.0.0.1 - - [25/May/2020 17:23:42] \"\u001b[37mPOST /cart/add HTTP/1.1\u001b[0m\" 200 -\n",
      "127.0.0.1 - - [25/May/2020 17:23:42] \"\u001b[37mPOST /cart/add HTTP/1.1\u001b[0m\" 200 -\n",
      "127.0.0.1 - - [25/May/2020 17:23:42] \"\u001b[37mGET /cart/get HTTP/1.1\u001b[0m\" 200 -\n",
      "127.0.0.1 - - [25/May/2020 17:23:42] \"\u001b[37mGET /cart/get HTTP/1.1\u001b[0m\" 200 -\n"
     ]
    },
    {
     "name": "stdout",
     "output_type": "stream",
     "text": [
      "{'item_id': 24, 'name': 'Chips m. havsalt', 'price': 1695, 'amount': 2} <SecureCookieSession {'_permanent': True, 'user': {'email': 'da@ni.el', 'id': 51853, 'name': 'daniel', 'password': '$2b$04$rxLmapV7LM/jMEFNRpRhJ.QMOxMzUe9507ES18jD6i.ooPYyu1h0m', 'phone': '12345678', 'street': 'vej24', 'zip': 2680}}>\n",
      "{'item_id': 25, 'name': 'Chips m. havsalt', 'price': 1695, 'amount': 2} <SecureCookieSession {'_permanent': True, 'user': {'email': 'da@ni.el', 'id': 51853, 'name': 'daniel', 'password': '$2b$04$rxLmapV7LM/jMEFNRpRhJ.QMOxMzUe9507ES18jD6i.ooPYyu1h0m', 'phone': '12345678', 'street': 'vej24', 'zip': 2680}}>\n",
      "{'item_id': 24, 'name': 'Chips m. havsalt', 'price': 1695, 'amount': 2} <SecureCookieSession {'_permanent': True, 'user': {'email': 'da@ni.el', 'id': 51853, 'name': 'daniel', 'password': '$2b$04$rxLmapV7LM/jMEFNRpRhJ.QMOxMzUe9507ES18jD6i.ooPYyu1h0m', 'phone': '12345678', 'street': 'vej24', 'zip': 2680}}>\n",
      "{'item_id': 25, 'name': 'Chips m. havsalt', 'price': 1695, 'amount': 2} <SecureCookieSession {'_permanent': True, 'user': {'email': 'da@ni.el', 'id': 51853, 'name': 'daniel', 'password': '$2b$04$rxLmapV7LM/jMEFNRpRhJ.QMOxMzUe9507ES18jD6i.ooPYyu1h0m', 'phone': '12345678', 'street': 'vej24', 'zip': 2680}}>\n"
     ]
    },
    {
     "name": "stderr",
     "output_type": "stream",
     "text": [
      "127.0.0.1 - - [25/May/2020 17:23:42] \"\u001b[37mPOST /cart/add HTTP/1.1\u001b[0m\" 200 -\n",
      "127.0.0.1 - - [25/May/2020 17:23:42] \"\u001b[37mPOST /cart/add HTTP/1.1\u001b[0m\" 200 -\n",
      "127.0.0.1 - - [25/May/2020 17:23:42] \"\u001b[37mGET /cart/get HTTP/1.1\u001b[0m\" 200 -\n",
      "127.0.0.1 - - [25/May/2020 17:23:42] \"\u001b[37mGET /cart/get HTTP/1.1\u001b[0m\" 200 -\n",
      "127.0.0.1 - - [25/May/2020 17:23:42] \"\u001b[37mPOST /cart/add HTTP/1.1\u001b[0m\" 200 -\n",
      "127.0.0.1 - - [25/May/2020 17:23:42] \"\u001b[37mPOST /cart/add HTTP/1.1\u001b[0m\" 200 -\n",
      "127.0.0.1 - - [25/May/2020 17:23:42] \"\u001b[37mGET /cart/get HTTP/1.1\u001b[0m\" 200 -\n",
      "127.0.0.1 - - [25/May/2020 17:23:42] \"\u001b[37mGET /cart/get HTTP/1.1\u001b[0m\" 200 -\n"
     ]
    },
    {
     "name": "stdout",
     "output_type": "stream",
     "text": [
      "{'item_id': 26, 'name': 'Chips m. havsalt', 'price': 1695, 'amount': 2} <SecureCookieSession {'_permanent': True, 'user': {'email': 'da@ni.el', 'id': 51853, 'name': 'daniel', 'password': '$2b$04$rxLmapV7LM/jMEFNRpRhJ.QMOxMzUe9507ES18jD6i.ooPYyu1h0m', 'phone': '12345678', 'street': 'vej24', 'zip': 2680}}>\n",
      "{'item_id': 27, 'name': 'Chips m. havsalt', 'price': 1695, 'amount': 2} <SecureCookieSession {'_permanent': True, 'user': {'email': 'da@ni.el', 'id': 51853, 'name': 'daniel', 'password': '$2b$04$rxLmapV7LM/jMEFNRpRhJ.QMOxMzUe9507ES18jD6i.ooPYyu1h0m', 'phone': '12345678', 'street': 'vej24', 'zip': 2680}}>\n",
      "{'item_id': 26, 'name': 'Chips m. havsalt', 'price': 1695, 'amount': 2} <SecureCookieSession {'_permanent': True, 'user': {'email': 'da@ni.el', 'id': 51853, 'name': 'daniel', 'password': '$2b$04$rxLmapV7LM/jMEFNRpRhJ.QMOxMzUe9507ES18jD6i.ooPYyu1h0m', 'phone': '12345678', 'street': 'vej24', 'zip': 2680}}>\n",
      "{'item_id': 27, 'name': 'Chips m. havsalt', 'price': 1695, 'amount': 2} <SecureCookieSession {'_permanent': True, 'user': {'email': 'da@ni.el', 'id': 51853, 'name': 'daniel', 'password': '$2b$04$rxLmapV7LM/jMEFNRpRhJ.QMOxMzUe9507ES18jD6i.ooPYyu1h0m', 'phone': '12345678', 'street': 'vej24', 'zip': 2680}}>\n"
     ]
    },
    {
     "name": "stderr",
     "output_type": "stream",
     "text": [
      "127.0.0.1 - - [25/May/2020 17:23:42] \"\u001b[37mPOST /cart/add HTTP/1.1\u001b[0m\" 200 -\n",
      "127.0.0.1 - - [25/May/2020 17:23:42] \"\u001b[37mPOST /cart/add HTTP/1.1\u001b[0m\" 200 -\n",
      "127.0.0.1 - - [25/May/2020 17:23:42] \"\u001b[37mGET /cart/get HTTP/1.1\u001b[0m\" 200 -\n",
      "127.0.0.1 - - [25/May/2020 17:23:42] \"\u001b[37mGET /cart/get HTTP/1.1\u001b[0m\" 200 -\n"
     ]
    },
    {
     "name": "stdout",
     "output_type": "stream",
     "text": [
      "{'item_id': 28, 'name': 'Chips m. havsalt', 'price': 1695, 'amount': 2} <SecureCookieSession {'_permanent': True, 'user': {'email': 'da@ni.el', 'id': 51853, 'name': 'daniel', 'password': '$2b$04$rxLmapV7LM/jMEFNRpRhJ.QMOxMzUe9507ES18jD6i.ooPYyu1h0m', 'phone': '12345678', 'street': 'vej24', 'zip': 2680}}>\n",
      "{'item_id': 28, 'name': 'Chips m. havsalt', 'price': 1695, 'amount': 2} <SecureCookieSession {'_permanent': True, 'user': {'email': 'da@ni.el', 'id': 51853, 'name': 'daniel', 'password': '$2b$04$rxLmapV7LM/jMEFNRpRhJ.QMOxMzUe9507ES18jD6i.ooPYyu1h0m', 'phone': '12345678', 'street': 'vej24', 'zip': 2680}}>\n"
     ]
    },
    {
     "name": "stderr",
     "output_type": "stream",
     "text": [
      "127.0.0.1 - - [25/May/2020 17:24:28] \"\u001b[37mOPTIONS /cart/get HTTP/1.1\u001b[0m\" 200 -\n",
      "127.0.0.1 - - [25/May/2020 17:24:28] \"\u001b[37mOPTIONS /cart/get HTTP/1.1\u001b[0m\" 200 -\n",
      "127.0.0.1 - - [25/May/2020 17:24:28] \"\u001b[37mGET /cart/get HTTP/1.1\u001b[0m\" 200 -\n",
      "127.0.0.1 - - [25/May/2020 17:24:28] \"\u001b[37mGET /cart/get HTTP/1.1\u001b[0m\" 200 -\n",
      "127.0.0.1 - - [25/May/2020 17:24:55] \"\u001b[37mOPTIONS /cart/get HTTP/1.1\u001b[0m\" 200 -\n",
      "127.0.0.1 - - [25/May/2020 17:24:55] \"\u001b[37mOPTIONS /cart/get HTTP/1.1\u001b[0m\" 200 -\n",
      "127.0.0.1 - - [25/May/2020 17:24:55] \"\u001b[37mGET /cart/get HTTP/1.1\u001b[0m\" 200 -\n",
      "127.0.0.1 - - [25/May/2020 17:24:55] \"\u001b[37mGET /cart/get HTTP/1.1\u001b[0m\" 200 -\n",
      "127.0.0.1 - - [25/May/2020 17:25:07] \"\u001b[37mOPTIONS /cart/get HTTP/1.1\u001b[0m\" 200 -\n",
      "127.0.0.1 - - [25/May/2020 17:25:07] \"\u001b[37mOPTIONS /cart/get HTTP/1.1\u001b[0m\" 200 -\n",
      "127.0.0.1 - - [25/May/2020 17:25:07] \"\u001b[37mGET /cart/get HTTP/1.1\u001b[0m\" 200 -\n",
      "127.0.0.1 - - [25/May/2020 17:25:07] \"\u001b[37mGET /cart/get HTTP/1.1\u001b[0m\" 200 -\n",
      "127.0.0.1 - - [25/May/2020 17:26:53] \"\u001b[37mOPTIONS /cart/get HTTP/1.1\u001b[0m\" 200 -\n",
      "127.0.0.1 - - [25/May/2020 17:26:53] \"\u001b[37mOPTIONS /cart/get HTTP/1.1\u001b[0m\" 200 -\n",
      "127.0.0.1 - - [25/May/2020 17:26:53] \"\u001b[37mGET /cart/get HTTP/1.1\u001b[0m\" 200 -\n",
      "127.0.0.1 - - [25/May/2020 17:26:53] \"\u001b[37mGET /cart/get HTTP/1.1\u001b[0m\" 200 -\n",
      "127.0.0.1 - - [25/May/2020 17:27:13] \"\u001b[37mOPTIONS /cart/get HTTP/1.1\u001b[0m\" 200 -\n",
      "127.0.0.1 - - [25/May/2020 17:27:13] \"\u001b[37mOPTIONS /cart/get HTTP/1.1\u001b[0m\" 200 -\n",
      "127.0.0.1 - - [25/May/2020 17:27:13] \"\u001b[37mGET /cart/get HTTP/1.1\u001b[0m\" 200 -\n",
      "127.0.0.1 - - [25/May/2020 17:27:13] \"\u001b[37mGET /cart/get HTTP/1.1\u001b[0m\" 200 -\n",
      "127.0.0.1 - - [25/May/2020 17:27:24] \"\u001b[37mOPTIONS /cart/add HTTP/1.1\u001b[0m\" 200 -\n",
      "127.0.0.1 - - [25/May/2020 17:27:24] \"\u001b[37mOPTIONS /cart/add HTTP/1.1\u001b[0m\" 200 -\n",
      "127.0.0.1 - - [25/May/2020 17:27:24] \"\u001b[37mPOST /cart/add HTTP/1.1\u001b[0m\" 200 -\n",
      "127.0.0.1 - - [25/May/2020 17:27:24] \"\u001b[37mPOST /cart/add HTTP/1.1\u001b[0m\" 200 -\n",
      "127.0.0.1 - - [25/May/2020 17:27:24] \"\u001b[37mOPTIONS /cart/get HTTP/1.1\u001b[0m\" 200 -\n",
      "127.0.0.1 - - [25/May/2020 17:27:24] \"\u001b[37mOPTIONS /cart/get HTTP/1.1\u001b[0m\" 200 -\n",
      "127.0.0.1 - - [25/May/2020 17:27:24] \"\u001b[37mGET /cart/get HTTP/1.1\u001b[0m\" 200 -\n",
      "127.0.0.1 - - [25/May/2020 17:27:24] \"\u001b[37mGET /cart/get HTTP/1.1\u001b[0m\" 200 -\n"
     ]
    },
    {
     "name": "stdout",
     "output_type": "stream",
     "text": [
      "{'item_id': 0, 'name': 'Chips m. havsalt', 'price': 1695, 'amount': 2} <SecureCookieSession {'_permanent': True, 'user': {'email': 'da@ni.el', 'id': 51853, 'name': 'daniel', 'password': '$2b$04$rxLmapV7LM/jMEFNRpRhJ.QMOxMzUe9507ES18jD6i.ooPYyu1h0m', 'phone': '12345678', 'street': 'vej24', 'zip': 2680}}>\n",
      "{'item_id': 0, 'name': 'Chips m. havsalt', 'price': 1695, 'amount': 2} <SecureCookieSession {'_permanent': True, 'user': {'email': 'da@ni.el', 'id': 51853, 'name': 'daniel', 'password': '$2b$04$rxLmapV7LM/jMEFNRpRhJ.QMOxMzUe9507ES18jD6i.ooPYyu1h0m', 'phone': '12345678', 'street': 'vej24', 'zip': 2680}}>\n"
     ]
    },
    {
     "name": "stderr",
     "output_type": "stream",
     "text": [
      "127.0.0.1 - - [25/May/2020 17:27:30] \"\u001b[37mOPTIONS /cart/clear HTTP/1.1\u001b[0m\" 200 -\n",
      "127.0.0.1 - - [25/May/2020 17:27:30] \"\u001b[37mOPTIONS /cart/clear HTTP/1.1\u001b[0m\" 200 -\n",
      "127.0.0.1 - - [25/May/2020 17:27:30] \"\u001b[1m\u001b[31mGET /cart/clear HTTP/1.1\u001b[0m\" 400 -\n",
      "127.0.0.1 - - [25/May/2020 17:27:30] \"\u001b[1m\u001b[31mGET /cart/clear HTTP/1.1\u001b[0m\" 400 -\n",
      "127.0.0.1 - - [25/May/2020 17:27:31] \"\u001b[37mOPTIONS /cart/add HTTP/1.1\u001b[0m\" 200 -\n",
      "127.0.0.1 - - [25/May/2020 17:27:31] \"\u001b[37mOPTIONS /cart/add HTTP/1.1\u001b[0m\" 200 -\n",
      "127.0.0.1 - - [25/May/2020 17:27:31] \"\u001b[37mPOST /cart/add HTTP/1.1\u001b[0m\" 200 -\n",
      "127.0.0.1 - - [25/May/2020 17:27:31] \"\u001b[37mPOST /cart/add HTTP/1.1\u001b[0m\" 200 -\n",
      "127.0.0.1 - - [25/May/2020 17:27:31] \"\u001b[37mOPTIONS /cart/get HTTP/1.1\u001b[0m\" 200 -\n",
      "127.0.0.1 - - [25/May/2020 17:27:31] \"\u001b[37mOPTIONS /cart/get HTTP/1.1\u001b[0m\" 200 -\n",
      "127.0.0.1 - - [25/May/2020 17:27:31] \"\u001b[37mGET /cart/get HTTP/1.1\u001b[0m\" 200 -\n",
      "127.0.0.1 - - [25/May/2020 17:27:31] \"\u001b[37mGET /cart/get HTTP/1.1\u001b[0m\" 200 -\n"
     ]
    },
    {
     "name": "stdout",
     "output_type": "stream",
     "text": [
      "{'item_id': 1, 'name': 'Chips m. havsalt', 'price': 1695, 'amount': 2} <SecureCookieSession {'_permanent': True, 'user': {'email': 'da@ni.el', 'id': 51853, 'name': 'daniel', 'password': '$2b$04$rxLmapV7LM/jMEFNRpRhJ.QMOxMzUe9507ES18jD6i.ooPYyu1h0m', 'phone': '12345678', 'street': 'vej24', 'zip': 2680}}>\n",
      "{'item_id': 1, 'name': 'Chips m. havsalt', 'price': 1695, 'amount': 2} <SecureCookieSession {'_permanent': True, 'user': {'email': 'da@ni.el', 'id': 51853, 'name': 'daniel', 'password': '$2b$04$rxLmapV7LM/jMEFNRpRhJ.QMOxMzUe9507ES18jD6i.ooPYyu1h0m', 'phone': '12345678', 'street': 'vej24', 'zip': 2680}}>\n"
     ]
    },
    {
     "name": "stderr",
     "output_type": "stream",
     "text": [
      "127.0.0.1 - - [25/May/2020 17:27:42] \"\u001b[37mOPTIONS /cart/get HTTP/1.1\u001b[0m\" 200 -\n",
      "127.0.0.1 - - [25/May/2020 17:27:42] \"\u001b[37mOPTIONS /cart/get HTTP/1.1\u001b[0m\" 200 -\n",
      "127.0.0.1 - - [25/May/2020 17:27:42] \"\u001b[37mGET /cart/get HTTP/1.1\u001b[0m\" 200 -\n",
      "127.0.0.1 - - [25/May/2020 17:27:42] \"\u001b[37mGET /cart/get HTTP/1.1\u001b[0m\" 200 -\n",
      "127.0.0.1 - - [25/May/2020 17:27:42] \"\u001b[37mOPTIONS /cart/add HTTP/1.1\u001b[0m\" 200 -\n",
      "127.0.0.1 - - [25/May/2020 17:27:42] \"\u001b[37mOPTIONS /cart/add HTTP/1.1\u001b[0m\" 200 -\n",
      "127.0.0.1 - - [25/May/2020 17:27:42] \"\u001b[37mPOST /cart/add HTTP/1.1\u001b[0m\" 200 -\n",
      "127.0.0.1 - - [25/May/2020 17:27:42] \"\u001b[37mPOST /cart/add HTTP/1.1\u001b[0m\" 200 -\n",
      "127.0.0.1 - - [25/May/2020 17:27:42] \"\u001b[37mGET /cart/get HTTP/1.1\u001b[0m\" 200 -\n",
      "127.0.0.1 - - [25/May/2020 17:27:42] \"\u001b[37mGET /cart/get HTTP/1.1\u001b[0m\" 200 -\n"
     ]
    },
    {
     "name": "stdout",
     "output_type": "stream",
     "text": [
      "{'item_id': 0, 'name': 'Chips m. havsalt', 'price': 1695, 'amount': 2} <SecureCookieSession {'_permanent': True, 'user': {'email': 'da@ni.el', 'id': 51853, 'name': 'daniel', 'password': '$2b$04$rxLmapV7LM/jMEFNRpRhJ.QMOxMzUe9507ES18jD6i.ooPYyu1h0m', 'phone': '12345678', 'street': 'vej24', 'zip': 2680}}>\n",
      "{'item_id': 0, 'name': 'Chips m. havsalt', 'price': 1695, 'amount': 2} <SecureCookieSession {'_permanent': True, 'user': {'email': 'da@ni.el', 'id': 51853, 'name': 'daniel', 'password': '$2b$04$rxLmapV7LM/jMEFNRpRhJ.QMOxMzUe9507ES18jD6i.ooPYyu1h0m', 'phone': '12345678', 'street': 'vej24', 'zip': 2680}}>\n"
     ]
    },
    {
     "name": "stderr",
     "output_type": "stream",
     "text": [
      "127.0.0.1 - - [25/May/2020 17:27:43] \"\u001b[37mPOST /cart/add HTTP/1.1\u001b[0m\" 200 -\n",
      "127.0.0.1 - - [25/May/2020 17:27:43] \"\u001b[37mPOST /cart/add HTTP/1.1\u001b[0m\" 200 -\n",
      "127.0.0.1 - - [25/May/2020 17:27:43] \"\u001b[37mGET /cart/get HTTP/1.1\u001b[0m\" 200 -\n",
      "127.0.0.1 - - [25/May/2020 17:27:43] \"\u001b[37mGET /cart/get HTTP/1.1\u001b[0m\" 200 -\n"
     ]
    },
    {
     "name": "stdout",
     "output_type": "stream",
     "text": [
      "{'item_id': 1, 'name': 'Chips m. havsalt', 'price': 1695, 'amount': 2} <SecureCookieSession {'_permanent': True, 'user': {'email': 'da@ni.el', 'id': 51853, 'name': 'daniel', 'password': '$2b$04$rxLmapV7LM/jMEFNRpRhJ.QMOxMzUe9507ES18jD6i.ooPYyu1h0m', 'phone': '12345678', 'street': 'vej24', 'zip': 2680}}>\n",
      "{'item_id': 1, 'name': 'Chips m. havsalt', 'price': 1695, 'amount': 2} <SecureCookieSession {'_permanent': True, 'user': {'email': 'da@ni.el', 'id': 51853, 'name': 'daniel', 'password': '$2b$04$rxLmapV7LM/jMEFNRpRhJ.QMOxMzUe9507ES18jD6i.ooPYyu1h0m', 'phone': '12345678', 'street': 'vej24', 'zip': 2680}}>\n"
     ]
    },
    {
     "name": "stderr",
     "output_type": "stream",
     "text": [
      "127.0.0.1 - - [25/May/2020 17:27:51] \"\u001b[37mOPTIONS /cart/get HTTP/1.1\u001b[0m\" 200 -\n",
      "127.0.0.1 - - [25/May/2020 17:27:51] \"\u001b[37mOPTIONS /cart/get HTTP/1.1\u001b[0m\" 200 -\n",
      "127.0.0.1 - - [25/May/2020 17:27:51] \"\u001b[37mGET /cart/get HTTP/1.1\u001b[0m\" 200 -\n",
      "127.0.0.1 - - [25/May/2020 17:27:51] \"\u001b[37mGET /cart/get HTTP/1.1\u001b[0m\" 200 -\n",
      "127.0.0.1 - - [25/May/2020 17:28:00] \"\u001b[37mOPTIONS /cart/get HTTP/1.1\u001b[0m\" 200 -\n",
      "127.0.0.1 - - [25/May/2020 17:28:00] \"\u001b[37mOPTIONS /cart/get HTTP/1.1\u001b[0m\" 200 -\n",
      "127.0.0.1 - - [25/May/2020 17:28:00] \"\u001b[37mGET /cart/get HTTP/1.1\u001b[0m\" 200 -\n",
      "127.0.0.1 - - [25/May/2020 17:28:00] \"\u001b[37mGET /cart/get HTTP/1.1\u001b[0m\" 200 -\n",
      "127.0.0.1 - - [25/May/2020 17:28:01] \"\u001b[37mGET /cart/get HTTP/1.1\u001b[0m\" 200 -\n",
      "127.0.0.1 - - [25/May/2020 17:28:01] \"\u001b[37mGET /cart/get HTTP/1.1\u001b[0m\" 200 -\n",
      "127.0.0.1 - - [25/May/2020 17:28:04] \"\u001b[37mGET /cart/get HTTP/1.1\u001b[0m\" 200 -\n",
      "127.0.0.1 - - [25/May/2020 17:28:04] \"\u001b[37mGET /cart/get HTTP/1.1\u001b[0m\" 200 -\n",
      "127.0.0.1 - - [25/May/2020 17:28:11] \"\u001b[37mOPTIONS /cart/get HTTP/1.1\u001b[0m\" 200 -\n",
      "127.0.0.1 - - [25/May/2020 17:28:11] \"\u001b[37mOPTIONS /cart/get HTTP/1.1\u001b[0m\" 200 -\n",
      "127.0.0.1 - - [25/May/2020 17:28:11] \"\u001b[37mGET /cart/get HTTP/1.1\u001b[0m\" 200 -\n",
      "127.0.0.1 - - [25/May/2020 17:28:11] \"\u001b[37mGET /cart/get HTTP/1.1\u001b[0m\" 200 -\n",
      "127.0.0.1 - - [25/May/2020 17:30:14] \"\u001b[37mOPTIONS /cart/get HTTP/1.1\u001b[0m\" 200 -\n",
      "127.0.0.1 - - [25/May/2020 17:30:14] \"\u001b[37mOPTIONS /cart/get HTTP/1.1\u001b[0m\" 200 -\n",
      "127.0.0.1 - - [25/May/2020 17:30:14] \"\u001b[37mGET /cart/get HTTP/1.1\u001b[0m\" 200 -\n",
      "127.0.0.1 - - [25/May/2020 17:30:14] \"\u001b[37mGET /cart/get HTTP/1.1\u001b[0m\" 200 -\n",
      "127.0.0.1 - - [25/May/2020 17:30:27] \"\u001b[37mOPTIONS /cart/get HTTP/1.1\u001b[0m\" 200 -\n",
      "127.0.0.1 - - [25/May/2020 17:30:27] \"\u001b[37mOPTIONS /cart/get HTTP/1.1\u001b[0m\" 200 -\n",
      "127.0.0.1 - - [25/May/2020 17:30:27] \"\u001b[37mGET /cart/get HTTP/1.1\u001b[0m\" 200 -\n",
      "127.0.0.1 - - [25/May/2020 17:30:27] \"\u001b[37mGET /cart/get HTTP/1.1\u001b[0m\" 200 -\n",
      "127.0.0.1 - - [25/May/2020 17:31:03] \"\u001b[37mOPTIONS /cart/get HTTP/1.1\u001b[0m\" 200 -\n",
      "127.0.0.1 - - [25/May/2020 17:31:03] \"\u001b[37mOPTIONS /cart/get HTTP/1.1\u001b[0m\" 200 -\n",
      "127.0.0.1 - - [25/May/2020 17:31:03] \"\u001b[37mGET /cart/get HTTP/1.1\u001b[0m\" 200 -\n",
      "127.0.0.1 - - [25/May/2020 17:31:03] \"\u001b[37mGET /cart/get HTTP/1.1\u001b[0m\" 200 -\n",
      "127.0.0.1 - - [25/May/2020 17:32:13] \"\u001b[37mOPTIONS /cart/get HTTP/1.1\u001b[0m\" 200 -\n",
      "127.0.0.1 - - [25/May/2020 17:32:13] \"\u001b[37mOPTIONS /cart/get HTTP/1.1\u001b[0m\" 200 -\n",
      "127.0.0.1 - - [25/May/2020 17:32:13] \"\u001b[37mGET /cart/get HTTP/1.1\u001b[0m\" 200 -\n",
      "127.0.0.1 - - [25/May/2020 17:32:13] \"\u001b[37mGET /cart/get HTTP/1.1\u001b[0m\" 200 -\n",
      "127.0.0.1 - - [25/May/2020 17:32:42] \"\u001b[37mOPTIONS /cart/get HTTP/1.1\u001b[0m\" 200 -\n",
      "127.0.0.1 - - [25/May/2020 17:32:42] \"\u001b[37mOPTIONS /cart/get HTTP/1.1\u001b[0m\" 200 -\n",
      "127.0.0.1 - - [25/May/2020 17:32:42] \"\u001b[37mGET /cart/get HTTP/1.1\u001b[0m\" 200 -\n",
      "127.0.0.1 - - [25/May/2020 17:32:42] \"\u001b[37mGET /cart/get HTTP/1.1\u001b[0m\" 200 -\n",
      "127.0.0.1 - - [25/May/2020 17:34:35] \"\u001b[37mOPTIONS /cart/clear HTTP/1.1\u001b[0m\" 200 -\n",
      "127.0.0.1 - - [25/May/2020 17:34:35] \"\u001b[37mOPTIONS /cart/clear HTTP/1.1\u001b[0m\" 200 -\n",
      "127.0.0.1 - - [25/May/2020 17:34:35] \"\u001b[1m\u001b[31mGET /cart/clear HTTP/1.1\u001b[0m\" 400 -\n",
      "127.0.0.1 - - [25/May/2020 17:34:35] \"\u001b[1m\u001b[31mGET /cart/clear HTTP/1.1\u001b[0m\" 400 -\n",
      "127.0.0.1 - - [25/May/2020 17:34:36] \"\u001b[37mOPTIONS /cart/add HTTP/1.1\u001b[0m\" 200 -\n",
      "127.0.0.1 - - [25/May/2020 17:34:36] \"\u001b[37mOPTIONS /cart/add HTTP/1.1\u001b[0m\" 200 -\n",
      "127.0.0.1 - - [25/May/2020 17:34:36] \"\u001b[37mPOST /cart/add HTTP/1.1\u001b[0m\" 200 -\n",
      "127.0.0.1 - - [25/May/2020 17:34:36] \"\u001b[37mPOST /cart/add HTTP/1.1\u001b[0m\" 200 -\n",
      "127.0.0.1 - - [25/May/2020 17:34:36] \"\u001b[37mOPTIONS /cart/get HTTP/1.1\u001b[0m\" 200 -\n",
      "127.0.0.1 - - [25/May/2020 17:34:36] \"\u001b[37mOPTIONS /cart/get HTTP/1.1\u001b[0m\" 200 -\n",
      "127.0.0.1 - - [25/May/2020 17:34:36] \"\u001b[37mGET /cart/get HTTP/1.1\u001b[0m\" 200 -\n",
      "127.0.0.1 - - [25/May/2020 17:34:36] \"\u001b[37mGET /cart/get HTTP/1.1\u001b[0m\" 200 -\n"
     ]
    },
    {
     "name": "stdout",
     "output_type": "stream",
     "text": [
      "{'item_id': 0, 'name': 'Chips m. havsalt', 'price': 1695, 'amount': 2} <SecureCookieSession {'_permanent': True, 'user': {'email': 'da@ni.el', 'id': 51853, 'name': 'daniel', 'password': '$2b$04$rxLmapV7LM/jMEFNRpRhJ.QMOxMzUe9507ES18jD6i.ooPYyu1h0m', 'phone': '12345678', 'street': 'vej24', 'zip': 2680}}>\n",
      "{'item_id': 0, 'name': 'Chips m. havsalt', 'price': 1695, 'amount': 2} <SecureCookieSession {'_permanent': True, 'user': {'email': 'da@ni.el', 'id': 51853, 'name': 'daniel', 'password': '$2b$04$rxLmapV7LM/jMEFNRpRhJ.QMOxMzUe9507ES18jD6i.ooPYyu1h0m', 'phone': '12345678', 'street': 'vej24', 'zip': 2680}}>\n"
     ]
    },
    {
     "name": "stderr",
     "output_type": "stream",
     "text": [
      "127.0.0.1 - - [25/May/2020 17:34:37] \"\u001b[37mPOST /cart/add HTTP/1.1\u001b[0m\" 200 -\n",
      "127.0.0.1 - - [25/May/2020 17:34:37] \"\u001b[37mPOST /cart/add HTTP/1.1\u001b[0m\" 200 -\n",
      "127.0.0.1 - - [25/May/2020 17:34:37] \"\u001b[37mGET /cart/get HTTP/1.1\u001b[0m\" 200 -\n",
      "127.0.0.1 - - [25/May/2020 17:34:37] \"\u001b[37mGET /cart/get HTTP/1.1\u001b[0m\" 200 -\n"
     ]
    },
    {
     "name": "stdout",
     "output_type": "stream",
     "text": [
      "{'item_id': 1, 'name': 'Chips m. havsalt', 'price': 1695, 'amount': 2} <SecureCookieSession {'_permanent': True, 'user': {'email': 'da@ni.el', 'id': 51853, 'name': 'daniel', 'password': '$2b$04$rxLmapV7LM/jMEFNRpRhJ.QMOxMzUe9507ES18jD6i.ooPYyu1h0m', 'phone': '12345678', 'street': 'vej24', 'zip': 2680}}>\n",
      "{'item_id': 1, 'name': 'Chips m. havsalt', 'price': 1695, 'amount': 2} <SecureCookieSession {'_permanent': True, 'user': {'email': 'da@ni.el', 'id': 51853, 'name': 'daniel', 'password': '$2b$04$rxLmapV7LM/jMEFNRpRhJ.QMOxMzUe9507ES18jD6i.ooPYyu1h0m', 'phone': '12345678', 'street': 'vej24', 'zip': 2680}}>\n"
     ]
    },
    {
     "name": "stderr",
     "output_type": "stream",
     "text": [
      "127.0.0.1 - - [25/May/2020 17:34:37] \"\u001b[37mPOST /cart/add HTTP/1.1\u001b[0m\" 200 -\n",
      "127.0.0.1 - - [25/May/2020 17:34:37] \"\u001b[37mPOST /cart/add HTTP/1.1\u001b[0m\" 200 -\n",
      "127.0.0.1 - - [25/May/2020 17:34:37] \"\u001b[37mGET /cart/get HTTP/1.1\u001b[0m\" 200 -\n",
      "127.0.0.1 - - [25/May/2020 17:34:37] \"\u001b[37mGET /cart/get HTTP/1.1\u001b[0m\" 200 -\n"
     ]
    },
    {
     "name": "stdout",
     "output_type": "stream",
     "text": [
      "{'item_id': 2, 'name': 'Chips m. havsalt', 'price': 1695, 'amount': 2} <SecureCookieSession {'_permanent': True, 'user': {'email': 'da@ni.el', 'id': 51853, 'name': 'daniel', 'password': '$2b$04$rxLmapV7LM/jMEFNRpRhJ.QMOxMzUe9507ES18jD6i.ooPYyu1h0m', 'phone': '12345678', 'street': 'vej24', 'zip': 2680}}>\n",
      "{'item_id': 2, 'name': 'Chips m. havsalt', 'price': 1695, 'amount': 2} <SecureCookieSession {'_permanent': True, 'user': {'email': 'da@ni.el', 'id': 51853, 'name': 'daniel', 'password': '$2b$04$rxLmapV7LM/jMEFNRpRhJ.QMOxMzUe9507ES18jD6i.ooPYyu1h0m', 'phone': '12345678', 'street': 'vej24', 'zip': 2680}}>\n"
     ]
    },
    {
     "name": "stderr",
     "output_type": "stream",
     "text": [
      "127.0.0.1 - - [25/May/2020 17:34:39] \"\u001b[37mPOST /cart/add HTTP/1.1\u001b[0m\" 200 -\n",
      "127.0.0.1 - - [25/May/2020 17:34:39] \"\u001b[37mPOST /cart/add HTTP/1.1\u001b[0m\" 200 -\n",
      "127.0.0.1 - - [25/May/2020 17:34:39] \"\u001b[37mGET /cart/get HTTP/1.1\u001b[0m\" 200 -\n",
      "127.0.0.1 - - [25/May/2020 17:34:39] \"\u001b[37mGET /cart/get HTTP/1.1\u001b[0m\" 200 -\n",
      "127.0.0.1 - - [25/May/2020 17:34:39] \"\u001b[37mPOST /cart/add HTTP/1.1\u001b[0m\" 200 -\n",
      "127.0.0.1 - - [25/May/2020 17:34:39] \"\u001b[37mPOST /cart/add HTTP/1.1\u001b[0m\" 200 -\n"
     ]
    },
    {
     "name": "stdout",
     "output_type": "stream",
     "text": [
      "{'item_id': 3, 'name': 'Chips m. havsalt', 'price': 1695, 'amount': 2} <SecureCookieSession {'_permanent': True, 'user': {'email': 'da@ni.el', 'id': 51853, 'name': 'daniel', 'password': '$2b$04$rxLmapV7LM/jMEFNRpRhJ.QMOxMzUe9507ES18jD6i.ooPYyu1h0m', 'phone': '12345678', 'street': 'vej24', 'zip': 2680}}>\n",
      "{'item_id': 4, 'name': 'Chips m. havsalt', 'price': 1695, 'amount': 2} <SecureCookieSession {'_permanent': True, 'user': {'email': 'da@ni.el', 'id': 51853, 'name': 'daniel', 'password': '$2b$04$rxLmapV7LM/jMEFNRpRhJ.QMOxMzUe9507ES18jD6i.ooPYyu1h0m', 'phone': '12345678', 'street': 'vej24', 'zip': 2680}}>\n",
      "{'item_id': 3, 'name': 'Chips m. havsalt', 'price': 1695, 'amount': 2} <SecureCookieSession {'_permanent': True, 'user': {'email': 'da@ni.el', 'id': 51853, 'name': 'daniel', 'password': '$2b$04$rxLmapV7LM/jMEFNRpRhJ.QMOxMzUe9507ES18jD6i.ooPYyu1h0m', 'phone': '12345678', 'street': 'vej24', 'zip': 2680}}>\n",
      "{'item_id': 4, 'name': 'Chips m. havsalt', 'price': 1695, 'amount': 2} <SecureCookieSession {'_permanent': True, 'user': {'email': 'da@ni.el', 'id': 51853, 'name': 'daniel', 'password': '$2b$04$rxLmapV7LM/jMEFNRpRhJ.QMOxMzUe9507ES18jD6i.ooPYyu1h0m', 'phone': '12345678', 'street': 'vej24', 'zip': 2680}}>\n"
     ]
    },
    {
     "name": "stderr",
     "output_type": "stream",
     "text": [
      "127.0.0.1 - - [25/May/2020 17:34:39] \"\u001b[37mGET /cart/get HTTP/1.1\u001b[0m\" 200 -\n",
      "127.0.0.1 - - [25/May/2020 17:34:39] \"\u001b[37mGET /cart/get HTTP/1.1\u001b[0m\" 200 -\n",
      "127.0.0.1 - - [25/May/2020 17:34:39] \"\u001b[37mPOST /cart/add HTTP/1.1\u001b[0m\" 200 -\n",
      "127.0.0.1 - - [25/May/2020 17:34:39] \"\u001b[37mPOST /cart/add HTTP/1.1\u001b[0m\" 200 -\n",
      "127.0.0.1 - - [25/May/2020 17:34:39] \"\u001b[37mGET /cart/get HTTP/1.1\u001b[0m\" 200 -\n",
      "127.0.0.1 - - [25/May/2020 17:34:39] \"\u001b[37mGET /cart/get HTTP/1.1\u001b[0m\" 200 -\n"
     ]
    },
    {
     "name": "stdout",
     "output_type": "stream",
     "text": [
      "{'item_id': 5, 'name': 'Chips m. havsalt', 'price': 1695, 'amount': 2} <SecureCookieSession {'_permanent': True, 'user': {'email': 'da@ni.el', 'id': 51853, 'name': 'daniel', 'password': '$2b$04$rxLmapV7LM/jMEFNRpRhJ.QMOxMzUe9507ES18jD6i.ooPYyu1h0m', 'phone': '12345678', 'street': 'vej24', 'zip': 2680}}>\n",
      "{'item_id': 5, 'name': 'Chips m. havsalt', 'price': 1695, 'amount': 2} <SecureCookieSession {'_permanent': True, 'user': {'email': 'da@ni.el', 'id': 51853, 'name': 'daniel', 'password': '$2b$04$rxLmapV7LM/jMEFNRpRhJ.QMOxMzUe9507ES18jD6i.ooPYyu1h0m', 'phone': '12345678', 'street': 'vej24', 'zip': 2680}}>\n"
     ]
    },
    {
     "name": "stderr",
     "output_type": "stream",
     "text": [
      "127.0.0.1 - - [25/May/2020 17:34:44] \"\u001b[37mOPTIONS /cart/clear HTTP/1.1\u001b[0m\" 200 -\n",
      "127.0.0.1 - - [25/May/2020 17:34:44] \"\u001b[37mOPTIONS /cart/clear HTTP/1.1\u001b[0m\" 200 -\n",
      "127.0.0.1 - - [25/May/2020 17:34:44] \"\u001b[1m\u001b[31mGET /cart/clear HTTP/1.1\u001b[0m\" 400 -\n",
      "127.0.0.1 - - [25/May/2020 17:34:44] \"\u001b[1m\u001b[31mGET /cart/clear HTTP/1.1\u001b[0m\" 400 -\n",
      "127.0.0.1 - - [25/May/2020 17:34:46] \"\u001b[37mOPTIONS /cart/add HTTP/1.1\u001b[0m\" 200 -\n",
      "127.0.0.1 - - [25/May/2020 17:34:46] \"\u001b[37mOPTIONS /cart/add HTTP/1.1\u001b[0m\" 200 -\n",
      "127.0.0.1 - - [25/May/2020 17:34:46] \"\u001b[37mPOST /cart/add HTTP/1.1\u001b[0m\" 200 -\n",
      "127.0.0.1 - - [25/May/2020 17:34:46] \"\u001b[37mPOST /cart/add HTTP/1.1\u001b[0m\" 200 -\n",
      "127.0.0.1 - - [25/May/2020 17:34:46] \"\u001b[37mOPTIONS /cart/get HTTP/1.1\u001b[0m\" 200 -\n",
      "127.0.0.1 - - [25/May/2020 17:34:46] \"\u001b[37mOPTIONS /cart/get HTTP/1.1\u001b[0m\" 200 -\n",
      "127.0.0.1 - - [25/May/2020 17:34:46] \"\u001b[37mGET /cart/get HTTP/1.1\u001b[0m\" 200 -\n",
      "127.0.0.1 - - [25/May/2020 17:34:46] \"\u001b[37mGET /cart/get HTTP/1.1\u001b[0m\" 200 -\n"
     ]
    },
    {
     "name": "stdout",
     "output_type": "stream",
     "text": [
      "{'item_id': 6, 'name': 'Chips m. havsalt', 'price': 1695, 'amount': 2} <SecureCookieSession {'_permanent': True, 'user': {'email': 'da@ni.el', 'id': 51853, 'name': 'daniel', 'password': '$2b$04$rxLmapV7LM/jMEFNRpRhJ.QMOxMzUe9507ES18jD6i.ooPYyu1h0m', 'phone': '12345678', 'street': 'vej24', 'zip': 2680}}>\n",
      "{'item_id': 7, 'name': 'Chips m. havsalt', 'price': 1695, 'amount': 2} <SecureCookieSession {'_permanent': True, 'user': {'email': 'da@ni.el', 'id': 51853, 'name': 'daniel', 'password': '$2b$04$rxLmapV7LM/jMEFNRpRhJ.QMOxMzUe9507ES18jD6i.ooPYyu1h0m', 'phone': '12345678', 'street': 'vej24', 'zip': 2680}}>\n",
      "{'item_id': 6, 'name': 'Chips m. havsalt', 'price': 1695, 'amount': 2} <SecureCookieSession {'_permanent': True, 'user': {'email': 'da@ni.el', 'id': 51853, 'name': 'daniel', 'password': '$2b$04$rxLmapV7LM/jMEFNRpRhJ.QMOxMzUe9507ES18jD6i.ooPYyu1h0m', 'phone': '12345678', 'street': 'vej24', 'zip': 2680}}>\n",
      "{'item_id': 7, 'name': 'Chips m. havsalt', 'price': 1695, 'amount': 2} <SecureCookieSession {'_permanent': True, 'user': {'email': 'da@ni.el', 'id': 51853, 'name': 'daniel', 'password': '$2b$04$rxLmapV7LM/jMEFNRpRhJ.QMOxMzUe9507ES18jD6i.ooPYyu1h0m', 'phone': '12345678', 'street': 'vej24', 'zip': 2680}}>\n"
     ]
    },
    {
     "name": "stderr",
     "output_type": "stream",
     "text": [
      "127.0.0.1 - - [25/May/2020 17:34:46] \"\u001b[37mPOST /cart/add HTTP/1.1\u001b[0m\" 200 -\n",
      "127.0.0.1 - - [25/May/2020 17:34:46] \"\u001b[37mPOST /cart/add HTTP/1.1\u001b[0m\" 200 -\n",
      "127.0.0.1 - - [25/May/2020 17:34:46] \"\u001b[37mGET /cart/get HTTP/1.1\u001b[0m\" 200 -\n",
      "127.0.0.1 - - [25/May/2020 17:34:46] \"\u001b[37mGET /cart/get HTTP/1.1\u001b[0m\" 200 -\n",
      "127.0.0.1 - - [25/May/2020 17:34:46] \"\u001b[37mPOST /cart/add HTTP/1.1\u001b[0m\" 200 -\n",
      "127.0.0.1 - - [25/May/2020 17:34:46] \"\u001b[37mPOST /cart/add HTTP/1.1\u001b[0m\" 200 -\n",
      "127.0.0.1 - - [25/May/2020 17:34:46] \"\u001b[37mGET /cart/get HTTP/1.1\u001b[0m\" 200 -\n",
      "127.0.0.1 - - [25/May/2020 17:34:46] \"\u001b[37mGET /cart/get HTTP/1.1\u001b[0m\" 200 -\n",
      "127.0.0.1 - - [25/May/2020 17:34:46] \"\u001b[37mPOST /cart/add HTTP/1.1\u001b[0m\" 200 -\n",
      "127.0.0.1 - - [25/May/2020 17:34:46] \"\u001b[37mPOST /cart/add HTTP/1.1\u001b[0m\" 200 -\n"
     ]
    },
    {
     "name": "stdout",
     "output_type": "stream",
     "text": [
      "{'item_id': 8, 'name': 'Chips m. havsalt', 'price': 1695, 'amount': 2} <SecureCookieSession {'_permanent': True, 'user': {'email': 'da@ni.el', 'id': 51853, 'name': 'daniel', 'password': '$2b$04$rxLmapV7LM/jMEFNRpRhJ.QMOxMzUe9507ES18jD6i.ooPYyu1h0m', 'phone': '12345678', 'street': 'vej24', 'zip': 2680}}>\n",
      "{'item_id': 9, 'name': 'Chips m. havsalt', 'price': 1695, 'amount': 2} <SecureCookieSession {'_permanent': True, 'user': {'email': 'da@ni.el', 'id': 51853, 'name': 'daniel', 'password': '$2b$04$rxLmapV7LM/jMEFNRpRhJ.QMOxMzUe9507ES18jD6i.ooPYyu1h0m', 'phone': '12345678', 'street': 'vej24', 'zip': 2680}}>\n",
      "{'item_id': 8, 'name': 'Chips m. havsalt', 'price': 1695, 'amount': 2} <SecureCookieSession {'_permanent': True, 'user': {'email': 'da@ni.el', 'id': 51853, 'name': 'daniel', 'password': '$2b$04$rxLmapV7LM/jMEFNRpRhJ.QMOxMzUe9507ES18jD6i.ooPYyu1h0m', 'phone': '12345678', 'street': 'vej24', 'zip': 2680}}>\n",
      "{'item_id': 9, 'name': 'Chips m. havsalt', 'price': 1695, 'amount': 2} <SecureCookieSession {'_permanent': True, 'user': {'email': 'da@ni.el', 'id': 51853, 'name': 'daniel', 'password': '$2b$04$rxLmapV7LM/jMEFNRpRhJ.QMOxMzUe9507ES18jD6i.ooPYyu1h0m', 'phone': '12345678', 'street': 'vej24', 'zip': 2680}}>\n"
     ]
    },
    {
     "name": "stderr",
     "output_type": "stream",
     "text": [
      "127.0.0.1 - - [25/May/2020 17:34:46] \"\u001b[37mGET /cart/get HTTP/1.1\u001b[0m\" 200 -\n",
      "127.0.0.1 - - [25/May/2020 17:34:46] \"\u001b[37mGET /cart/get HTTP/1.1\u001b[0m\" 200 -\n",
      "127.0.0.1 - - [25/May/2020 17:34:46] \"\u001b[37mPOST /cart/add HTTP/1.1\u001b[0m\" 200 -\n",
      "127.0.0.1 - - [25/May/2020 17:34:46] \"\u001b[37mPOST /cart/add HTTP/1.1\u001b[0m\" 200 -\n",
      "127.0.0.1 - - [25/May/2020 17:34:46] \"\u001b[37mGET /cart/get HTTP/1.1\u001b[0m\" 200 -\n",
      "127.0.0.1 - - [25/May/2020 17:34:46] \"\u001b[37mGET /cart/get HTTP/1.1\u001b[0m\" 200 -\n"
     ]
    },
    {
     "name": "stdout",
     "output_type": "stream",
     "text": [
      "{'item_id': 10, 'name': 'Chips m. havsalt', 'price': 1695, 'amount': 2} <SecureCookieSession {'_permanent': True, 'user': {'email': 'da@ni.el', 'id': 51853, 'name': 'daniel', 'password': '$2b$04$rxLmapV7LM/jMEFNRpRhJ.QMOxMzUe9507ES18jD6i.ooPYyu1h0m', 'phone': '12345678', 'street': 'vej24', 'zip': 2680}}>\n",
      "{'item_id': 10, 'name': 'Chips m. havsalt', 'price': 1695, 'amount': 2} <SecureCookieSession {'_permanent': True, 'user': {'email': 'da@ni.el', 'id': 51853, 'name': 'daniel', 'password': '$2b$04$rxLmapV7LM/jMEFNRpRhJ.QMOxMzUe9507ES18jD6i.ooPYyu1h0m', 'phone': '12345678', 'street': 'vej24', 'zip': 2680}}>\n"
     ]
    },
    {
     "name": "stderr",
     "output_type": "stream",
     "text": [
      "127.0.0.1 - - [25/May/2020 17:34:49] \"\u001b[37mOPTIONS /cart/clear HTTP/1.1\u001b[0m\" 200 -\n",
      "127.0.0.1 - - [25/May/2020 17:34:49] \"\u001b[37mOPTIONS /cart/clear HTTP/1.1\u001b[0m\" 200 -\n",
      "127.0.0.1 - - [25/May/2020 17:34:49] \"\u001b[1m\u001b[31mGET /cart/clear HTTP/1.1\u001b[0m\" 400 -\n",
      "127.0.0.1 - - [25/May/2020 17:34:49] \"\u001b[1m\u001b[31mGET /cart/clear HTTP/1.1\u001b[0m\" 400 -\n",
      "127.0.0.1 - - [25/May/2020 17:34:49] \"\u001b[37mPOST /cart/add HTTP/1.1\u001b[0m\" 200 -\n",
      "127.0.0.1 - - [25/May/2020 17:34:49] \"\u001b[37mPOST /cart/add HTTP/1.1\u001b[0m\" 200 -\n",
      "127.0.0.1 - - [25/May/2020 17:34:49] \"\u001b[37mGET /cart/get HTTP/1.1\u001b[0m\" 200 -\n",
      "127.0.0.1 - - [25/May/2020 17:34:49] \"\u001b[37mGET /cart/get HTTP/1.1\u001b[0m\" 200 -\n",
      "127.0.0.1 - - [25/May/2020 17:34:50] \"\u001b[37mPOST /cart/add HTTP/1.1\u001b[0m\" 200 -\n",
      "127.0.0.1 - - [25/May/2020 17:34:50] \"\u001b[37mPOST /cart/add HTTP/1.1\u001b[0m\" 200 -\n",
      "127.0.0.1 - - [25/May/2020 17:34:50] \"\u001b[37mGET /cart/get HTTP/1.1\u001b[0m\" 200 -\n",
      "127.0.0.1 - - [25/May/2020 17:34:50] \"\u001b[37mGET /cart/get HTTP/1.1\u001b[0m\" 200 -\n"
     ]
    },
    {
     "name": "stdout",
     "output_type": "stream",
     "text": [
      "{'item_id': 11, 'name': 'Chips m. havsalt', 'price': 1695, 'amount': 2} <SecureCookieSession {'_permanent': True, 'user': {'email': 'da@ni.el', 'id': 51853, 'name': 'daniel', 'password': '$2b$04$rxLmapV7LM/jMEFNRpRhJ.QMOxMzUe9507ES18jD6i.ooPYyu1h0m', 'phone': '12345678', 'street': 'vej24', 'zip': 2680}}>\n",
      "{'item_id': 12, 'name': 'Chips m. havsalt', 'price': 1695, 'amount': 2} <SecureCookieSession {'_permanent': True, 'user': {'email': 'da@ni.el', 'id': 51853, 'name': 'daniel', 'password': '$2b$04$rxLmapV7LM/jMEFNRpRhJ.QMOxMzUe9507ES18jD6i.ooPYyu1h0m', 'phone': '12345678', 'street': 'vej24', 'zip': 2680}}>\n",
      "{'item_id': 11, 'name': 'Chips m. havsalt', 'price': 1695, 'amount': 2} <SecureCookieSession {'_permanent': True, 'user': {'email': 'da@ni.el', 'id': 51853, 'name': 'daniel', 'password': '$2b$04$rxLmapV7LM/jMEFNRpRhJ.QMOxMzUe9507ES18jD6i.ooPYyu1h0m', 'phone': '12345678', 'street': 'vej24', 'zip': 2680}}>\n",
      "{'item_id': 12, 'name': 'Chips m. havsalt', 'price': 1695, 'amount': 2} <SecureCookieSession {'_permanent': True, 'user': {'email': 'da@ni.el', 'id': 51853, 'name': 'daniel', 'password': '$2b$04$rxLmapV7LM/jMEFNRpRhJ.QMOxMzUe9507ES18jD6i.ooPYyu1h0m', 'phone': '12345678', 'street': 'vej24', 'zip': 2680}}>\n"
     ]
    },
    {
     "name": "stderr",
     "output_type": "stream",
     "text": [
      "127.0.0.1 - - [25/May/2020 17:34:50] \"\u001b[37mPOST /cart/add HTTP/1.1\u001b[0m\" 200 -\n",
      "127.0.0.1 - - [25/May/2020 17:34:50] \"\u001b[37mPOST /cart/add HTTP/1.1\u001b[0m\" 200 -\n",
      "127.0.0.1 - - [25/May/2020 17:34:50] \"\u001b[37mGET /cart/get HTTP/1.1\u001b[0m\" 200 -\n",
      "127.0.0.1 - - [25/May/2020 17:34:50] \"\u001b[37mGET /cart/get HTTP/1.1\u001b[0m\" 200 -\n",
      "127.0.0.1 - - [25/May/2020 17:34:50] \"\u001b[37mPOST /cart/add HTTP/1.1\u001b[0m\" 200 -\n",
      "127.0.0.1 - - [25/May/2020 17:34:50] \"\u001b[37mPOST /cart/add HTTP/1.1\u001b[0m\" 200 -\n",
      "127.0.0.1 - - [25/May/2020 17:34:50] \"\u001b[37mGET /cart/get HTTP/1.1\u001b[0m\" 200 -\n",
      "127.0.0.1 - - [25/May/2020 17:34:50] \"\u001b[37mGET /cart/get HTTP/1.1\u001b[0m\" 200 -\n"
     ]
    },
    {
     "name": "stdout",
     "output_type": "stream",
     "text": [
      "{'item_id': 13, 'name': 'Chips m. havsalt', 'price': 1695, 'amount': 2} <SecureCookieSession {'_permanent': True, 'user': {'email': 'da@ni.el', 'id': 51853, 'name': 'daniel', 'password': '$2b$04$rxLmapV7LM/jMEFNRpRhJ.QMOxMzUe9507ES18jD6i.ooPYyu1h0m', 'phone': '12345678', 'street': 'vej24', 'zip': 2680}}>\n",
      "{'item_id': 14, 'name': 'Chips m. havsalt', 'price': 1695, 'amount': 2} <SecureCookieSession {'_permanent': True, 'user': {'email': 'da@ni.el', 'id': 51853, 'name': 'daniel', 'password': '$2b$04$rxLmapV7LM/jMEFNRpRhJ.QMOxMzUe9507ES18jD6i.ooPYyu1h0m', 'phone': '12345678', 'street': 'vej24', 'zip': 2680}}>\n",
      "{'item_id': 13, 'name': 'Chips m. havsalt', 'price': 1695, 'amount': 2} <SecureCookieSession {'_permanent': True, 'user': {'email': 'da@ni.el', 'id': 51853, 'name': 'daniel', 'password': '$2b$04$rxLmapV7LM/jMEFNRpRhJ.QMOxMzUe9507ES18jD6i.ooPYyu1h0m', 'phone': '12345678', 'street': 'vej24', 'zip': 2680}}>\n",
      "{'item_id': 14, 'name': 'Chips m. havsalt', 'price': 1695, 'amount': 2} <SecureCookieSession {'_permanent': True, 'user': {'email': 'da@ni.el', 'id': 51853, 'name': 'daniel', 'password': '$2b$04$rxLmapV7LM/jMEFNRpRhJ.QMOxMzUe9507ES18jD6i.ooPYyu1h0m', 'phone': '12345678', 'street': 'vej24', 'zip': 2680}}>\n"
     ]
    },
    {
     "name": "stderr",
     "output_type": "stream",
     "text": [
      "127.0.0.1 - - [25/May/2020 17:34:51] \"\u001b[1m\u001b[31mGET /cart/clear HTTP/1.1\u001b[0m\" 400 -\n",
      "127.0.0.1 - - [25/May/2020 17:34:51] \"\u001b[1m\u001b[31mGET /cart/clear HTTP/1.1\u001b[0m\" 400 -\n",
      "127.0.0.1 - - [25/May/2020 17:35:38] \"\u001b[37mOPTIONS /cart/get HTTP/1.1\u001b[0m\" 200 -\n",
      "127.0.0.1 - - [25/May/2020 17:35:38] \"\u001b[37mOPTIONS /cart/get HTTP/1.1\u001b[0m\" 200 -\n",
      "127.0.0.1 - - [25/May/2020 17:35:38] \"\u001b[37mGET /cart/get HTTP/1.1\u001b[0m\" 200 -\n",
      "127.0.0.1 - - [25/May/2020 17:35:38] \"\u001b[37mGET /cart/get HTTP/1.1\u001b[0m\" 200 -\n",
      "127.0.0.1 - - [25/May/2020 17:35:39] \"\u001b[37mOPTIONS /cart/add HTTP/1.1\u001b[0m\" 200 -\n",
      "127.0.0.1 - - [25/May/2020 17:35:39] \"\u001b[37mOPTIONS /cart/add HTTP/1.1\u001b[0m\" 200 -\n",
      "127.0.0.1 - - [25/May/2020 17:35:39] \"\u001b[37mPOST /cart/add HTTP/1.1\u001b[0m\" 200 -\n",
      "127.0.0.1 - - [25/May/2020 17:35:39] \"\u001b[37mPOST /cart/add HTTP/1.1\u001b[0m\" 200 -\n",
      "127.0.0.1 - - [25/May/2020 17:35:39] \"\u001b[37mGET /cart/get HTTP/1.1\u001b[0m\" 200 -\n",
      "127.0.0.1 - - [25/May/2020 17:35:39] \"\u001b[37mGET /cart/get HTTP/1.1\u001b[0m\" 200 -\n"
     ]
    },
    {
     "name": "stdout",
     "output_type": "stream",
     "text": [
      "{'item_id': 0, 'name': 'Chips m. havsalt', 'price': 1695, 'amount': 2} <SecureCookieSession {'_permanent': True, 'user': {'email': 'da@ni.el', 'id': 51853, 'name': 'daniel', 'password': '$2b$04$rxLmapV7LM/jMEFNRpRhJ.QMOxMzUe9507ES18jD6i.ooPYyu1h0m', 'phone': '12345678', 'street': 'vej24', 'zip': 2680}}>\n",
      "{'item_id': 0, 'name': 'Chips m. havsalt', 'price': 1695, 'amount': 2} <SecureCookieSession {'_permanent': True, 'user': {'email': 'da@ni.el', 'id': 51853, 'name': 'daniel', 'password': '$2b$04$rxLmapV7LM/jMEFNRpRhJ.QMOxMzUe9507ES18jD6i.ooPYyu1h0m', 'phone': '12345678', 'street': 'vej24', 'zip': 2680}}>\n"
     ]
    },
    {
     "name": "stderr",
     "output_type": "stream",
     "text": [
      "127.0.0.1 - - [25/May/2020 17:35:39] \"\u001b[37mPOST /cart/add HTTP/1.1\u001b[0m\" 200 -\n",
      "127.0.0.1 - - [25/May/2020 17:35:39] \"\u001b[37mPOST /cart/add HTTP/1.1\u001b[0m\" 200 -\n",
      "127.0.0.1 - - [25/May/2020 17:35:39] \"\u001b[37mGET /cart/get HTTP/1.1\u001b[0m\" 200 -\n",
      "127.0.0.1 - - [25/May/2020 17:35:39] \"\u001b[37mGET /cart/get HTTP/1.1\u001b[0m\" 200 -\n"
     ]
    },
    {
     "name": "stdout",
     "output_type": "stream",
     "text": [
      "{'item_id': 1, 'name': 'Chips m. havsalt', 'price': 1695, 'amount': 2} <SecureCookieSession {'_permanent': True, 'user': {'email': 'da@ni.el', 'id': 51853, 'name': 'daniel', 'password': '$2b$04$rxLmapV7LM/jMEFNRpRhJ.QMOxMzUe9507ES18jD6i.ooPYyu1h0m', 'phone': '12345678', 'street': 'vej24', 'zip': 2680}}>\n",
      "{'item_id': 1, 'name': 'Chips m. havsalt', 'price': 1695, 'amount': 2} <SecureCookieSession {'_permanent': True, 'user': {'email': 'da@ni.el', 'id': 51853, 'name': 'daniel', 'password': '$2b$04$rxLmapV7LM/jMEFNRpRhJ.QMOxMzUe9507ES18jD6i.ooPYyu1h0m', 'phone': '12345678', 'street': 'vej24', 'zip': 2680}}>\n"
     ]
    },
    {
     "name": "stderr",
     "output_type": "stream",
     "text": [
      "127.0.0.1 - - [25/May/2020 17:35:39] \"\u001b[37mPOST /cart/add HTTP/1.1\u001b[0m\" 200 -\n",
      "127.0.0.1 - - [25/May/2020 17:35:39] \"\u001b[37mPOST /cart/add HTTP/1.1\u001b[0m\" 200 -\n",
      "127.0.0.1 - - [25/May/2020 17:35:39] \"\u001b[37mGET /cart/get HTTP/1.1\u001b[0m\" 200 -\n",
      "127.0.0.1 - - [25/May/2020 17:35:39] \"\u001b[37mGET /cart/get HTTP/1.1\u001b[0m\" 200 -\n"
     ]
    },
    {
     "name": "stdout",
     "output_type": "stream",
     "text": [
      "{'item_id': 2, 'name': 'Chips m. havsalt', 'price': 1695, 'amount': 2} <SecureCookieSession {'_permanent': True, 'user': {'email': 'da@ni.el', 'id': 51853, 'name': 'daniel', 'password': '$2b$04$rxLmapV7LM/jMEFNRpRhJ.QMOxMzUe9507ES18jD6i.ooPYyu1h0m', 'phone': '12345678', 'street': 'vej24', 'zip': 2680}}>\n",
      "{'item_id': 2, 'name': 'Chips m. havsalt', 'price': 1695, 'amount': 2} <SecureCookieSession {'_permanent': True, 'user': {'email': 'da@ni.el', 'id': 51853, 'name': 'daniel', 'password': '$2b$04$rxLmapV7LM/jMEFNRpRhJ.QMOxMzUe9507ES18jD6i.ooPYyu1h0m', 'phone': '12345678', 'street': 'vej24', 'zip': 2680}}>\n"
     ]
    },
    {
     "name": "stderr",
     "output_type": "stream",
     "text": [
      "127.0.0.1 - - [25/May/2020 17:35:40] \"\u001b[37mPOST /cart/add HTTP/1.1\u001b[0m\" 200 -\n",
      "127.0.0.1 - - [25/May/2020 17:35:40] \"\u001b[37mPOST /cart/add HTTP/1.1\u001b[0m\" 200 -\n",
      "127.0.0.1 - - [25/May/2020 17:35:40] \"\u001b[37mGET /cart/get HTTP/1.1\u001b[0m\" 200 -\n",
      "127.0.0.1 - - [25/May/2020 17:35:40] \"\u001b[37mGET /cart/get HTTP/1.1\u001b[0m\" 200 -\n",
      "127.0.0.1 - - [25/May/2020 17:35:40] \"\u001b[37mPOST /cart/add HTTP/1.1\u001b[0m\" 200 -\n",
      "127.0.0.1 - - [25/May/2020 17:35:40] \"\u001b[37mPOST /cart/add HTTP/1.1\u001b[0m\" 200 -\n"
     ]
    },
    {
     "name": "stdout",
     "output_type": "stream",
     "text": [
      "{'item_id': 3, 'name': 'Chips m. havsalt', 'price': 1695, 'amount': 2} <SecureCookieSession {'_permanent': True, 'user': {'email': 'da@ni.el', 'id': 51853, 'name': 'daniel', 'password': '$2b$04$rxLmapV7LM/jMEFNRpRhJ.QMOxMzUe9507ES18jD6i.ooPYyu1h0m', 'phone': '12345678', 'street': 'vej24', 'zip': 2680}}>\n",
      "{'item_id': 4, 'name': 'Chips m. havsalt', 'price': 1695, 'amount': 2} <SecureCookieSession {'_permanent': True, 'user': {'email': 'da@ni.el', 'id': 51853, 'name': 'daniel', 'password': '$2b$04$rxLmapV7LM/jMEFNRpRhJ.QMOxMzUe9507ES18jD6i.ooPYyu1h0m', 'phone': '12345678', 'street': 'vej24', 'zip': 2680}}>\n",
      "{'item_id': 3, 'name': 'Chips m. havsalt', 'price': 1695, 'amount': 2} <SecureCookieSession {'_permanent': True, 'user': {'email': 'da@ni.el', 'id': 51853, 'name': 'daniel', 'password': '$2b$04$rxLmapV7LM/jMEFNRpRhJ.QMOxMzUe9507ES18jD6i.ooPYyu1h0m', 'phone': '12345678', 'street': 'vej24', 'zip': 2680}}>\n",
      "{'item_id': 4, 'name': 'Chips m. havsalt', 'price': 1695, 'amount': 2} <SecureCookieSession {'_permanent': True, 'user': {'email': 'da@ni.el', 'id': 51853, 'name': 'daniel', 'password': '$2b$04$rxLmapV7LM/jMEFNRpRhJ.QMOxMzUe9507ES18jD6i.ooPYyu1h0m', 'phone': '12345678', 'street': 'vej24', 'zip': 2680}}>\n"
     ]
    },
    {
     "name": "stderr",
     "output_type": "stream",
     "text": [
      "127.0.0.1 - - [25/May/2020 17:35:40] \"\u001b[37mGET /cart/get HTTP/1.1\u001b[0m\" 200 -\n",
      "127.0.0.1 - - [25/May/2020 17:35:40] \"\u001b[37mGET /cart/get HTTP/1.1\u001b[0m\" 200 -\n",
      "127.0.0.1 - - [25/May/2020 17:36:22] \"\u001b[37mOPTIONS /cart/clear HTTP/1.1\u001b[0m\" 200 -\n",
      "127.0.0.1 - - [25/May/2020 17:36:22] \"\u001b[37mOPTIONS /cart/clear HTTP/1.1\u001b[0m\" 200 -\n",
      "127.0.0.1 - - [25/May/2020 17:36:22] \"\u001b[1m\u001b[31mGET /cart/clear HTTP/1.1\u001b[0m\" 400 -\n",
      "127.0.0.1 - - [25/May/2020 17:36:22] \"\u001b[1m\u001b[31mGET /cart/clear HTTP/1.1\u001b[0m\" 400 -\n",
      "127.0.0.1 - - [25/May/2020 17:36:22] \"\u001b[37mOPTIONS /cart/add HTTP/1.1\u001b[0m\" 200 -\n",
      "127.0.0.1 - - [25/May/2020 17:36:22] \"\u001b[37mOPTIONS /cart/add HTTP/1.1\u001b[0m\" 200 -\n",
      "127.0.0.1 - - [25/May/2020 17:36:22] \"\u001b[37mPOST /cart/add HTTP/1.1\u001b[0m\" 200 -\n",
      "127.0.0.1 - - [25/May/2020 17:36:22] \"\u001b[37mPOST /cart/add HTTP/1.1\u001b[0m\" 200 -\n",
      "127.0.0.1 - - [25/May/2020 17:36:22] \"\u001b[37mOPTIONS /cart/get HTTP/1.1\u001b[0m\" 200 -\n",
      "127.0.0.1 - - [25/May/2020 17:36:22] \"\u001b[37mOPTIONS /cart/get HTTP/1.1\u001b[0m\" 200 -\n",
      "127.0.0.1 - - [25/May/2020 17:36:22] \"\u001b[37mGET /cart/get HTTP/1.1\u001b[0m\" 200 -\n",
      "127.0.0.1 - - [25/May/2020 17:36:22] \"\u001b[37mGET /cart/get HTTP/1.1\u001b[0m\" 200 -\n"
     ]
    },
    {
     "name": "stdout",
     "output_type": "stream",
     "text": [
      "{'item_id': 5, 'name': 'Chips m. havsalt', 'price': 1695, 'amount': 2} <SecureCookieSession {'_permanent': True, 'user': {'email': 'da@ni.el', 'id': 51853, 'name': 'daniel', 'password': '$2b$04$rxLmapV7LM/jMEFNRpRhJ.QMOxMzUe9507ES18jD6i.ooPYyu1h0m', 'phone': '12345678', 'street': 'vej24', 'zip': 2680}}>\n",
      "{'item_id': 5, 'name': 'Chips m. havsalt', 'price': 1695, 'amount': 2} <SecureCookieSession {'_permanent': True, 'user': {'email': 'da@ni.el', 'id': 51853, 'name': 'daniel', 'password': '$2b$04$rxLmapV7LM/jMEFNRpRhJ.QMOxMzUe9507ES18jD6i.ooPYyu1h0m', 'phone': '12345678', 'street': 'vej24', 'zip': 2680}}>\n"
     ]
    },
    {
     "name": "stderr",
     "output_type": "stream",
     "text": [
      "127.0.0.1 - - [25/May/2020 17:36:23] \"\u001b[37mPOST /cart/add HTTP/1.1\u001b[0m\" 200 -\n",
      "127.0.0.1 - - [25/May/2020 17:36:23] \"\u001b[37mPOST /cart/add HTTP/1.1\u001b[0m\" 200 -\n",
      "127.0.0.1 - - [25/May/2020 17:36:23] \"\u001b[37mGET /cart/get HTTP/1.1\u001b[0m\" 200 -\n",
      "127.0.0.1 - - [25/May/2020 17:36:23] \"\u001b[37mGET /cart/get HTTP/1.1\u001b[0m\" 200 -\n"
     ]
    },
    {
     "name": "stdout",
     "output_type": "stream",
     "text": [
      "{'item_id': 6, 'name': 'Chips m. havsalt', 'price': 1695, 'amount': 2} <SecureCookieSession {'_permanent': True, 'user': {'email': 'da@ni.el', 'id': 51853, 'name': 'daniel', 'password': '$2b$04$rxLmapV7LM/jMEFNRpRhJ.QMOxMzUe9507ES18jD6i.ooPYyu1h0m', 'phone': '12345678', 'street': 'vej24', 'zip': 2680}}>\n",
      "{'item_id': 6, 'name': 'Chips m. havsalt', 'price': 1695, 'amount': 2} <SecureCookieSession {'_permanent': True, 'user': {'email': 'da@ni.el', 'id': 51853, 'name': 'daniel', 'password': '$2b$04$rxLmapV7LM/jMEFNRpRhJ.QMOxMzUe9507ES18jD6i.ooPYyu1h0m', 'phone': '12345678', 'street': 'vej24', 'zip': 2680}}>\n"
     ]
    },
    {
     "name": "stderr",
     "output_type": "stream",
     "text": [
      "127.0.0.1 - - [25/May/2020 17:36:24] \"\u001b[37mPOST /cart/add HTTP/1.1\u001b[0m\" 200 -\n",
      "127.0.0.1 - - [25/May/2020 17:36:24] \"\u001b[37mPOST /cart/add HTTP/1.1\u001b[0m\" 200 -\n",
      "127.0.0.1 - - [25/May/2020 17:36:24] \"\u001b[37mGET /cart/get HTTP/1.1\u001b[0m\" 200 -\n",
      "127.0.0.1 - - [25/May/2020 17:36:24] \"\u001b[37mGET /cart/get HTTP/1.1\u001b[0m\" 200 -\n"
     ]
    },
    {
     "name": "stdout",
     "output_type": "stream",
     "text": [
      "{'item_id': 7, 'name': 'Chips m. havsalt', 'price': 1695, 'amount': 2} <SecureCookieSession {'_permanent': True, 'user': {'email': 'da@ni.el', 'id': 51853, 'name': 'daniel', 'password': '$2b$04$rxLmapV7LM/jMEFNRpRhJ.QMOxMzUe9507ES18jD6i.ooPYyu1h0m', 'phone': '12345678', 'street': 'vej24', 'zip': 2680}}>\n",
      "{'item_id': 7, 'name': 'Chips m. havsalt', 'price': 1695, 'amount': 2} <SecureCookieSession {'_permanent': True, 'user': {'email': 'da@ni.el', 'id': 51853, 'name': 'daniel', 'password': '$2b$04$rxLmapV7LM/jMEFNRpRhJ.QMOxMzUe9507ES18jD6i.ooPYyu1h0m', 'phone': '12345678', 'street': 'vej24', 'zip': 2680}}>\n"
     ]
    },
    {
     "name": "stderr",
     "output_type": "stream",
     "text": [
      "127.0.0.1 - - [25/May/2020 17:36:24] \"\u001b[37mPOST /cart/add HTTP/1.1\u001b[0m\" 200 -\n",
      "127.0.0.1 - - [25/May/2020 17:36:24] \"\u001b[37mPOST /cart/add HTTP/1.1\u001b[0m\" 200 -\n",
      "127.0.0.1 - - [25/May/2020 17:36:24] \"\u001b[37mGET /cart/get HTTP/1.1\u001b[0m\" 200 -\n",
      "127.0.0.1 - - [25/May/2020 17:36:24] \"\u001b[37mGET /cart/get HTTP/1.1\u001b[0m\" 200 -\n"
     ]
    },
    {
     "name": "stdout",
     "output_type": "stream",
     "text": [
      "{'item_id': 8, 'name': 'Chips m. havsalt', 'price': 1695, 'amount': 2} <SecureCookieSession {'_permanent': True, 'user': {'email': 'da@ni.el', 'id': 51853, 'name': 'daniel', 'password': '$2b$04$rxLmapV7LM/jMEFNRpRhJ.QMOxMzUe9507ES18jD6i.ooPYyu1h0m', 'phone': '12345678', 'street': 'vej24', 'zip': 2680}}>\n",
      "{'item_id': 9, 'name': 'Chips m. havsalt', 'price': 1695, 'amount': 2}{'item_id': 8, 'name': 'Chips m. havsalt', 'price': 1695, 'amount': 2} <SecureCookieSession {'_permanent': True, 'user': {'email': 'da@ni.el', 'id': 51853, 'name': 'daniel', 'password': '$2b$04$rxLmapV7LM/jMEFNRpRhJ.QMOxMzUe9507ES18jD6i.ooPYyu1h0m', 'phone': '12345678', 'street': 'vej24', 'zip': 2680}}>\n",
      "{'item_id': 9, 'name': 'Chips m. havsalt', 'price': 1695, 'amount': 2}"
     ]
    },
    {
     "name": "stderr",
     "output_type": "stream",
     "text": [
      "127.0.0.1 - - [25/May/2020 17:36:24] \"\u001b[37mPOST /cart/add HTTP/1.1\u001b[0m\" 200 -\n",
      "127.0.0.1 - - [25/May/2020 17:36:24] \"\u001b[37mPOST /cart/add HTTP/1.1\u001b[0m\" 200 -\n",
      "127.0.0.1 - - [25/May/2020 17:36:24] \"\u001b[37mGET /cart/get HTTP/1.1\u001b[0m\" 200 -\n",
      "127.0.0.1 - - [25/May/2020 17:36:24] \"\u001b[37mGET /cart/get HTTP/1.1\u001b[0m\" 200 -\n"
     ]
    },
    {
     "name": "stdout",
     "output_type": "stream",
     "text": [
      " <SecureCookieSession {'_permanent': True, 'user': {'email': 'da@ni.el', 'id': 51853, 'name': 'daniel', 'password': '$2b$04$rxLmapV7LM/jMEFNRpRhJ.QMOxMzUe9507ES18jD6i.ooPYyu1h0m', 'phone': '12345678', 'street': 'vej24', 'zip': 2680}}>\n",
      "{'item_id': 10, 'name': 'Chips m. havsalt', 'price': 1695, 'amount': 2} <SecureCookieSession {'_permanent': True, 'user': {'email': 'da@ni.el', 'id': 51853, 'name': 'daniel', 'password': '$2b$04$rxLmapV7LM/jMEFNRpRhJ.QMOxMzUe9507ES18jD6i.ooPYyu1h0m', 'phone': '12345678', 'street': 'vej24', 'zip': 2680}}>\n",
      "{'item_id': 10, 'name': 'Chips m. havsalt', 'price': 1695, 'amount': 2}"
     ]
    },
    {
     "name": "stderr",
     "output_type": "stream",
     "text": [
      "127.0.0.1 - - [25/May/2020 17:36:24] \"\u001b[37mPOST /cart/add HTTP/1.1\u001b[0m\" 200 -\n",
      "127.0.0.1 - - [25/May/2020 17:36:24] \"\u001b[37mPOST /cart/add HTTP/1.1\u001b[0m\" 200 -\n",
      "127.0.0.1 - - [25/May/2020 17:36:24] \"\u001b[37mGET /cart/get HTTP/1.1\u001b[0m\" 200 -\n",
      "127.0.0.1 - - [25/May/2020 17:36:24] \"\u001b[37mGET /cart/get HTTP/1.1\u001b[0m\" 200 -\n"
     ]
    },
    {
     "name": "stdout",
     "output_type": "stream",
     "text": [
      " <SecureCookieSession {'_permanent': True, 'user': {'email': 'da@ni.el', 'id': 51853, 'name': 'daniel', 'password': '$2b$04$rxLmapV7LM/jMEFNRpRhJ.QMOxMzUe9507ES18jD6i.ooPYyu1h0m', 'phone': '12345678', 'street': 'vej24', 'zip': 2680}}>\n",
      " <SecureCookieSession {'_permanent': True, 'user': {'email': 'da@ni.el', 'id': 51853, 'name': 'daniel', 'password': '$2b$04$rxLmapV7LM/jMEFNRpRhJ.QMOxMzUe9507ES18jD6i.ooPYyu1h0m', 'phone': '12345678', 'street': 'vej24', 'zip': 2680}}>\n"
     ]
    },
    {
     "name": "stderr",
     "output_type": "stream",
     "text": [
      "127.0.0.1 - - [25/May/2020 17:36:25] \"\u001b[1m\u001b[31mGET /cart/clear HTTP/1.1\u001b[0m\" 400 -\n",
      "127.0.0.1 - - [25/May/2020 17:36:25] \"\u001b[1m\u001b[31mGET /cart/clear HTTP/1.1\u001b[0m\" 400 -\n",
      "127.0.0.1 - - [25/May/2020 17:36:25] \"\u001b[37mPOST /cart/add HTTP/1.1\u001b[0m\" 200 -\n",
      "127.0.0.1 - - [25/May/2020 17:36:25] \"\u001b[37mPOST /cart/add HTTP/1.1\u001b[0m\" 200 -\n",
      "127.0.0.1 - - [25/May/2020 17:36:26] \"\u001b[37mGET /cart/get HTTP/1.1\u001b[0m\" 200 -\n",
      "127.0.0.1 - - [25/May/2020 17:36:26] \"\u001b[37mGET /cart/get HTTP/1.1\u001b[0m\" 200 -\n"
     ]
    },
    {
     "name": "stdout",
     "output_type": "stream",
     "text": [
      "{'item_id': 11, 'name': 'Chips m. havsalt', 'price': 1695, 'amount': 2} <SecureCookieSession {'_permanent': True, 'user': {'email': 'da@ni.el', 'id': 51853, 'name': 'daniel', 'password': '$2b$04$rxLmapV7LM/jMEFNRpRhJ.QMOxMzUe9507ES18jD6i.ooPYyu1h0m', 'phone': '12345678', 'street': 'vej24', 'zip': 2680}}>\n",
      "{'item_id': 11, 'name': 'Chips m. havsalt', 'price': 1695, 'amount': 2} <SecureCookieSession {'_permanent': True, 'user': {'email': 'da@ni.el', 'id': 51853, 'name': 'daniel', 'password': '$2b$04$rxLmapV7LM/jMEFNRpRhJ.QMOxMzUe9507ES18jD6i.ooPYyu1h0m', 'phone': '12345678', 'street': 'vej24', 'zip': 2680}}>\n"
     ]
    },
    {
     "name": "stderr",
     "output_type": "stream",
     "text": [
      "127.0.0.1 - - [25/May/2020 17:36:26] \"\u001b[37mPOST /cart/add HTTP/1.1\u001b[0m\" 200 -\n",
      "127.0.0.1 - - [25/May/2020 17:36:26] \"\u001b[37mPOST /cart/add HTTP/1.1\u001b[0m\" 200 -\n",
      "127.0.0.1 - - [25/May/2020 17:36:26] \"\u001b[37mGET /cart/get HTTP/1.1\u001b[0m\" 200 -\n",
      "127.0.0.1 - - [25/May/2020 17:36:26] \"\u001b[37mGET /cart/get HTTP/1.1\u001b[0m\" 200 -\n"
     ]
    },
    {
     "name": "stdout",
     "output_type": "stream",
     "text": [
      "{'item_id': 12, 'name': 'Chips m. havsalt', 'price': 1695, 'amount': 2} <SecureCookieSession {'_permanent': True, 'user': {'email': 'da@ni.el', 'id': 51853, 'name': 'daniel', 'password': '$2b$04$rxLmapV7LM/jMEFNRpRhJ.QMOxMzUe9507ES18jD6i.ooPYyu1h0m', 'phone': '12345678', 'street': 'vej24', 'zip': 2680}}>\n",
      "{'item_id': 13, 'name': 'Chips m. havsalt', 'price': 1695, 'amount': 2}{'item_id': 12, 'name': 'Chips m. havsalt', 'price': 1695, 'amount': 2} <SecureCookieSession {'_permanent': True, 'user': {'email': 'da@ni.el', 'id': 51853, 'name': 'daniel', 'password': '$2b$04$rxLmapV7LM/jMEFNRpRhJ.QMOxMzUe9507ES18jD6i.ooPYyu1h0m', 'phone': '12345678', 'street': 'vej24', 'zip': 2680}}>\n",
      "{'item_id': 13, 'name': 'Chips m. havsalt', 'price': 1695, 'amount': 2}"
     ]
    },
    {
     "name": "stderr",
     "output_type": "stream",
     "text": [
      "127.0.0.1 - - [25/May/2020 17:36:26] \"\u001b[37mPOST /cart/add HTTP/1.1\u001b[0m\" 200 -\n",
      "127.0.0.1 - - [25/May/2020 17:36:26] \"\u001b[37mPOST /cart/add HTTP/1.1\u001b[0m\" 200 -\n",
      "127.0.0.1 - - [25/May/2020 17:36:26] \"\u001b[37mGET /cart/get HTTP/1.1\u001b[0m\" 200 -\n",
      "127.0.0.1 - - [25/May/2020 17:36:26] \"\u001b[37mGET /cart/get HTTP/1.1\u001b[0m\" 200 -\n",
      "127.0.0.1 - - [25/May/2020 17:36:26] \"\u001b[37mPOST /cart/add HTTP/1.1\u001b[0m\" 200 -\n",
      "127.0.0.1 - - [25/May/2020 17:36:26] \"\u001b[37mPOST /cart/add HTTP/1.1\u001b[0m\" 200 -\n",
      "127.0.0.1 - - [25/May/2020 17:36:26] \"\u001b[37mGET /cart/get HTTP/1.1\u001b[0m\" 200 -\n",
      "127.0.0.1 - - [25/May/2020 17:36:26] \"\u001b[37mGET /cart/get HTTP/1.1\u001b[0m\" 200 -\n"
     ]
    },
    {
     "name": "stdout",
     "output_type": "stream",
     "text": [
      " <SecureCookieSession {'_permanent': True, 'user': {'email': 'da@ni.el', 'id': 51853, 'name': 'daniel', 'password': '$2b$04$rxLmapV7LM/jMEFNRpRhJ.QMOxMzUe9507ES18jD6i.ooPYyu1h0m', 'phone': '12345678', 'street': 'vej24', 'zip': 2680}}>\n",
      "{'item_id': 14, 'name': 'Chips m. havsalt', 'price': 1695, 'amount': 2} <SecureCookieSession {'_permanent': True, 'user': {'email': 'da@ni.el', 'id': 51853, 'name': 'daniel', 'password': '$2b$04$rxLmapV7LM/jMEFNRpRhJ.QMOxMzUe9507ES18jD6i.ooPYyu1h0m', 'phone': '12345678', 'street': 'vej24', 'zip': 2680}}>\n",
      " <SecureCookieSession {'_permanent': True, 'user': {'email': 'da@ni.el', 'id': 51853, 'name': 'daniel', 'password': '$2b$04$rxLmapV7LM/jMEFNRpRhJ.QMOxMzUe9507ES18jD6i.ooPYyu1h0m', 'phone': '12345678', 'street': 'vej24', 'zip': 2680}}>\n",
      "{'item_id': 14, 'name': 'Chips m. havsalt', 'price': 1695, 'amount': 2} <SecureCookieSession {'_permanent': True, 'user': {'email': 'da@ni.el', 'id': 51853, 'name': 'daniel', 'password': '$2b$04$rxLmapV7LM/jMEFNRpRhJ.QMOxMzUe9507ES18jD6i.ooPYyu1h0m', 'phone': '12345678', 'street': 'vej24', 'zip': 2680}}>\n"
     ]
    },
    {
     "name": "stderr",
     "output_type": "stream",
     "text": [
      "127.0.0.1 - - [25/May/2020 17:36:26] \"\u001b[37mPOST /cart/add HTTP/1.1\u001b[0m\" 200 -\n",
      "127.0.0.1 - - [25/May/2020 17:36:26] \"\u001b[37mPOST /cart/add HTTP/1.1\u001b[0m\" 200 -\n",
      "127.0.0.1 - - [25/May/2020 17:36:26] \"\u001b[37mGET /cart/get HTTP/1.1\u001b[0m\" 200 -\n",
      "127.0.0.1 - - [25/May/2020 17:36:26] \"\u001b[37mGET /cart/get HTTP/1.1\u001b[0m\" 200 -\n",
      "127.0.0.1 - - [25/May/2020 17:36:26] \"\u001b[37mPOST /cart/add HTTP/1.1\u001b[0m\" 200 -\n",
      "127.0.0.1 - - [25/May/2020 17:36:26] \"\u001b[37mPOST /cart/add HTTP/1.1\u001b[0m\" 200 -\n",
      "127.0.0.1 - - [25/May/2020 17:36:26] \"\u001b[37mGET /cart/get HTTP/1.1\u001b[0m\" 200 -\n",
      "127.0.0.1 - - [25/May/2020 17:36:26] \"\u001b[37mGET /cart/get HTTP/1.1\u001b[0m\" 200 -\n"
     ]
    },
    {
     "name": "stdout",
     "output_type": "stream",
     "text": [
      "{'item_id': 15, 'name': 'Chips m. havsalt', 'price': 1695, 'amount': 2} <SecureCookieSession {'_permanent': True, 'user': {'email': 'da@ni.el', 'id': 51853, 'name': 'daniel', 'password': '$2b$04$rxLmapV7LM/jMEFNRpRhJ.QMOxMzUe9507ES18jD6i.ooPYyu1h0m', 'phone': '12345678', 'street': 'vej24', 'zip': 2680}}>\n",
      "{'item_id': 16, 'name': 'Chips m. havsalt', 'price': 1695, 'amount': 2} <SecureCookieSession {'_permanent': True, 'user': {'email': 'da@ni.el', 'id': 51853, 'name': 'daniel', 'password': '$2b$04$rxLmapV7LM/jMEFNRpRhJ.QMOxMzUe9507ES18jD6i.ooPYyu1h0m', 'phone': '12345678', 'street': 'vej24', 'zip': 2680}}>\n",
      "{'item_id': 15, 'name': 'Chips m. havsalt', 'price': 1695, 'amount': 2} <SecureCookieSession {'_permanent': True, 'user': {'email': 'da@ni.el', 'id': 51853, 'name': 'daniel', 'password': '$2b$04$rxLmapV7LM/jMEFNRpRhJ.QMOxMzUe9507ES18jD6i.ooPYyu1h0m', 'phone': '12345678', 'street': 'vej24', 'zip': 2680}}>\n",
      "{'item_id': 16, 'name': 'Chips m. havsalt', 'price': 1695, 'amount': 2} <SecureCookieSession {'_permanent': True, 'user': {'email': 'da@ni.el', 'id': 51853, 'name': 'daniel', 'password': '$2b$04$rxLmapV7LM/jMEFNRpRhJ.QMOxMzUe9507ES18jD6i.ooPYyu1h0m', 'phone': '12345678', 'street': 'vej24', 'zip': 2680}}>\n"
     ]
    },
    {
     "name": "stderr",
     "output_type": "stream",
     "text": [
      "127.0.0.1 - - [25/May/2020 17:36:28] \"\u001b[37mOPTIONS /cart/add HTTP/1.1\u001b[0m\" 200 -\n",
      "127.0.0.1 - - [25/May/2020 17:36:28] \"\u001b[37mOPTIONS /cart/add HTTP/1.1\u001b[0m\" 200 -\n",
      "127.0.0.1 - - [25/May/2020 17:36:28] \"\u001b[37mPOST /cart/add HTTP/1.1\u001b[0m\" 200 -\n",
      "127.0.0.1 - - [25/May/2020 17:36:28] \"\u001b[37mPOST /cart/add HTTP/1.1\u001b[0m\" 200 -\n",
      "127.0.0.1 - - [25/May/2020 17:36:28] \"\u001b[37mOPTIONS /cart/get HTTP/1.1\u001b[0m\" 200 -\n",
      "127.0.0.1 - - [25/May/2020 17:36:28] \"\u001b[37mOPTIONS /cart/get HTTP/1.1\u001b[0m\" 200 -\n",
      "127.0.0.1 - - [25/May/2020 17:36:28] \"\u001b[37mGET /cart/get HTTP/1.1\u001b[0m\" 200 -\n",
      "127.0.0.1 - - [25/May/2020 17:36:28] \"\u001b[37mGET /cart/get HTTP/1.1\u001b[0m\" 200 -\n"
     ]
    },
    {
     "name": "stdout",
     "output_type": "stream",
     "text": [
      "{'item_id': 17, 'name': 'Chips m. havsalt', 'price': 1695, 'amount': 2} <SecureCookieSession {'_permanent': True, 'user': {'email': 'da@ni.el', 'id': 51853, 'name': 'daniel', 'password': '$2b$04$rxLmapV7LM/jMEFNRpRhJ.QMOxMzUe9507ES18jD6i.ooPYyu1h0m', 'phone': '12345678', 'street': 'vej24', 'zip': 2680}}>\n",
      "{'item_id': 18, 'name': 'Chips m. havsalt', 'price': 1695, 'amount': 2}{'item_id': 17, 'name': 'Chips m. havsalt', 'price': 1695, 'amount': 2} <SecureCookieSession {'_permanent': True, 'user': {'email': 'da@ni.el', 'id': 51853, 'name': 'daniel', 'password': '$2b$04$rxLmapV7LM/jMEFNRpRhJ.QMOxMzUe9507ES18jD6i.ooPYyu1h0m', 'phone': '12345678', 'street': 'vej24', 'zip': 2680}}>\n",
      "{'item_id': 18, 'name': 'Chips m. havsalt', 'price': 1695, 'amount': 2}"
     ]
    },
    {
     "name": "stderr",
     "output_type": "stream",
     "text": [
      "127.0.0.1 - - [25/May/2020 17:36:28] \"\u001b[37mPOST /cart/add HTTP/1.1\u001b[0m\" 200 -\n",
      "127.0.0.1 - - [25/May/2020 17:36:28] \"\u001b[37mPOST /cart/add HTTP/1.1\u001b[0m\" 200 -\n",
      "127.0.0.1 - - [25/May/2020 17:36:28] \"\u001b[37mGET /cart/get HTTP/1.1\u001b[0m\" 200 -\n",
      "127.0.0.1 - - [25/May/2020 17:36:28] \"\u001b[37mGET /cart/get HTTP/1.1\u001b[0m\" 200 -\n",
      "127.0.0.1 - - [25/May/2020 17:36:28] \"\u001b[37mPOST /cart/add HTTP/1.1\u001b[0m\" 200 -\n",
      "127.0.0.1 - - [25/May/2020 17:36:28] \"\u001b[37mPOST /cart/add HTTP/1.1\u001b[0m\" 200 -\n",
      "127.0.0.1 - - [25/May/2020 17:36:28] \"\u001b[37mGET /cart/get HTTP/1.1\u001b[0m\" 200 -\n",
      "127.0.0.1 - - [25/May/2020 17:36:28] \"\u001b[37mGET /cart/get HTTP/1.1\u001b[0m\" 200 -\n"
     ]
    },
    {
     "name": "stdout",
     "output_type": "stream",
     "text": [
      " <SecureCookieSession {'_permanent': True, 'user': {'email': 'da@ni.el', 'id': 51853, 'name': 'daniel', 'password': '$2b$04$rxLmapV7LM/jMEFNRpRhJ.QMOxMzUe9507ES18jD6i.ooPYyu1h0m', 'phone': '12345678', 'street': 'vej24', 'zip': 2680}}>\n",
      "{'item_id': 19, 'name': 'Chips m. havsalt', 'price': 1695, 'amount': 2} <SecureCookieSession {'_permanent': True, 'user': {'email': 'da@ni.el', 'id': 51853, 'name': 'daniel', 'password': '$2b$04$rxLmapV7LM/jMEFNRpRhJ.QMOxMzUe9507ES18jD6i.ooPYyu1h0m', 'phone': '12345678', 'street': 'vej24', 'zip': 2680}}>\n",
      " <SecureCookieSession {'_permanent': True, 'user': {'email': 'da@ni.el', 'id': 51853, 'name': 'daniel', 'password': '$2b$04$rxLmapV7LM/jMEFNRpRhJ.QMOxMzUe9507ES18jD6i.ooPYyu1h0m', 'phone': '12345678', 'street': 'vej24', 'zip': 2680}}>\n",
      "{'item_id': 19, 'name': 'Chips m. havsalt', 'price': 1695, 'amount': 2} <SecureCookieSession {'_permanent': True, 'user': {'email': 'da@ni.el', 'id': 51853, 'name': 'daniel', 'password': '$2b$04$rxLmapV7LM/jMEFNRpRhJ.QMOxMzUe9507ES18jD6i.ooPYyu1h0m', 'phone': '12345678', 'street': 'vej24', 'zip': 2680}}>\n"
     ]
    },
    {
     "name": "stderr",
     "output_type": "stream",
     "text": [
      "127.0.0.1 - - [25/May/2020 17:36:28] \"\u001b[37mPOST /cart/add HTTP/1.1\u001b[0m\" 200 -\n",
      "127.0.0.1 - - [25/May/2020 17:36:28] \"\u001b[37mPOST /cart/add HTTP/1.1\u001b[0m\" 200 -\n",
      "127.0.0.1 - - [25/May/2020 17:36:28] \"\u001b[37mGET /cart/get HTTP/1.1\u001b[0m\" 200 -\n",
      "127.0.0.1 - - [25/May/2020 17:36:28] \"\u001b[37mGET /cart/get HTTP/1.1\u001b[0m\" 200 -\n",
      "127.0.0.1 - - [25/May/2020 17:36:29] \"\u001b[37mPOST /cart/add HTTP/1.1\u001b[0m\" 200 -\n",
      "127.0.0.1 - - [25/May/2020 17:36:29] \"\u001b[37mPOST /cart/add HTTP/1.1\u001b[0m\" 200 -\n",
      "127.0.0.1 - - [25/May/2020 17:36:29] \"\u001b[37mGET /cart/get HTTP/1.1\u001b[0m\" 200 -\n",
      "127.0.0.1 - - [25/May/2020 17:36:29] \"\u001b[37mGET /cart/get HTTP/1.1\u001b[0m\" 200 -\n"
     ]
    },
    {
     "name": "stdout",
     "output_type": "stream",
     "text": [
      "{'item_id': 20, 'name': 'Chips m. havsalt', 'price': 1695, 'amount': 2} <SecureCookieSession {'_permanent': True, 'user': {'email': 'da@ni.el', 'id': 51853, 'name': 'daniel', 'password': '$2b$04$rxLmapV7LM/jMEFNRpRhJ.QMOxMzUe9507ES18jD6i.ooPYyu1h0m', 'phone': '12345678', 'street': 'vej24', 'zip': 2680}}>\n",
      "{'item_id': 21, 'name': 'Chips m. havsalt', 'price': 1695, 'amount': 2} <SecureCookieSession {'_permanent': True, 'user': {'email': 'da@ni.el', 'id': 51853, 'name': 'daniel', 'password': '$2b$04$rxLmapV7LM/jMEFNRpRhJ.QMOxMzUe9507ES18jD6i.ooPYyu1h0m', 'phone': '12345678', 'street': 'vej24', 'zip': 2680}}>\n",
      "{'item_id': 20, 'name': 'Chips m. havsalt', 'price': 1695, 'amount': 2} <SecureCookieSession {'_permanent': True, 'user': {'email': 'da@ni.el', 'id': 51853, 'name': 'daniel', 'password': '$2b$04$rxLmapV7LM/jMEFNRpRhJ.QMOxMzUe9507ES18jD6i.ooPYyu1h0m', 'phone': '12345678', 'street': 'vej24', 'zip': 2680}}>\n",
      "{'item_id': 21, 'name': 'Chips m. havsalt', 'price': 1695, 'amount': 2} <SecureCookieSession {'_permanent': True, 'user': {'email': 'da@ni.el', 'id': 51853, 'name': 'daniel', 'password': '$2b$04$rxLmapV7LM/jMEFNRpRhJ.QMOxMzUe9507ES18jD6i.ooPYyu1h0m', 'phone': '12345678', 'street': 'vej24', 'zip': 2680}}>\n"
     ]
    },
    {
     "name": "stderr",
     "output_type": "stream",
     "text": [
      "127.0.0.1 - - [25/May/2020 17:36:42] \"\u001b[37mOPTIONS /cart/get HTTP/1.1\u001b[0m\" 200 -\n",
      "127.0.0.1 - - [25/May/2020 17:36:42] \"\u001b[37mOPTIONS /cart/get HTTP/1.1\u001b[0m\" 200 -\n",
      "127.0.0.1 - - [25/May/2020 17:36:42] \"\u001b[37mGET /cart/get HTTP/1.1\u001b[0m\" 200 -\n",
      "127.0.0.1 - - [25/May/2020 17:36:42] \"\u001b[37mGET /cart/get HTTP/1.1\u001b[0m\" 200 -\n",
      "127.0.0.1 - - [25/May/2020 17:36:52] \"\u001b[37mOPTIONS /cart/get HTTP/1.1\u001b[0m\" 200 -\n",
      "127.0.0.1 - - [25/May/2020 17:36:52] \"\u001b[37mOPTIONS /cart/get HTTP/1.1\u001b[0m\" 200 -\n",
      "127.0.0.1 - - [25/May/2020 17:36:52] \"\u001b[37mGET /cart/get HTTP/1.1\u001b[0m\" 200 -\n",
      "127.0.0.1 - - [25/May/2020 17:36:52] \"\u001b[37mGET /cart/get HTTP/1.1\u001b[0m\" 200 -\n",
      "127.0.0.1 - - [25/May/2020 17:37:04] \"\u001b[37mOPTIONS /cart/get HTTP/1.1\u001b[0m\" 200 -\n",
      "127.0.0.1 - - [25/May/2020 17:37:04] \"\u001b[37mOPTIONS /cart/get HTTP/1.1\u001b[0m\" 200 -\n",
      "127.0.0.1 - - [25/May/2020 17:37:04] \"\u001b[37mGET /cart/get HTTP/1.1\u001b[0m\" 200 -\n",
      "127.0.0.1 - - [25/May/2020 17:37:04] \"\u001b[37mGET /cart/get HTTP/1.1\u001b[0m\" 200 -\n",
      "127.0.0.1 - - [25/May/2020 17:37:50] \"\u001b[37mOPTIONS /cart/get HTTP/1.1\u001b[0m\" 200 -\n",
      "127.0.0.1 - - [25/May/2020 17:37:50] \"\u001b[37mOPTIONS /cart/get HTTP/1.1\u001b[0m\" 200 -\n",
      "127.0.0.1 - - [25/May/2020 17:37:50] \"\u001b[37mGET /cart/get HTTP/1.1\u001b[0m\" 200 -\n",
      "127.0.0.1 - - [25/May/2020 17:37:50] \"\u001b[37mGET /cart/get HTTP/1.1\u001b[0m\" 200 -\n",
      "127.0.0.1 - - [25/May/2020 17:37:53] \"\u001b[37mOPTIONS /cart/add HTTP/1.1\u001b[0m\" 200 -\n",
      "127.0.0.1 - - [25/May/2020 17:37:53] \"\u001b[37mOPTIONS /cart/add HTTP/1.1\u001b[0m\" 200 -\n",
      "127.0.0.1 - - [25/May/2020 17:37:53] \"\u001b[37mPOST /cart/add HTTP/1.1\u001b[0m\" 200 -\n",
      "127.0.0.1 - - [25/May/2020 17:37:53] \"\u001b[37mPOST /cart/add HTTP/1.1\u001b[0m\" 200 -\n",
      "127.0.0.1 - - [25/May/2020 17:37:53] \"\u001b[37mGET /cart/get HTTP/1.1\u001b[0m\" 200 -\n",
      "127.0.0.1 - - [25/May/2020 17:37:53] \"\u001b[37mGET /cart/get HTTP/1.1\u001b[0m\" 200 -\n"
     ]
    },
    {
     "name": "stdout",
     "output_type": "stream",
     "text": [
      "{'item_id': 0, 'name': 'Chips m. havsalt', 'price': 1695, 'amount': 2} <SecureCookieSession {'_permanent': True, 'user': {'email': 'da@ni.el', 'id': 51853, 'name': 'daniel', 'password': '$2b$04$rxLmapV7LM/jMEFNRpRhJ.QMOxMzUe9507ES18jD6i.ooPYyu1h0m', 'phone': '12345678', 'street': 'vej24', 'zip': 2680}}>\n",
      "{'item_id': 0, 'name': 'Chips m. havsalt', 'price': 1695, 'amount': 2} <SecureCookieSession {'_permanent': True, 'user': {'email': 'da@ni.el', 'id': 51853, 'name': 'daniel', 'password': '$2b$04$rxLmapV7LM/jMEFNRpRhJ.QMOxMzUe9507ES18jD6i.ooPYyu1h0m', 'phone': '12345678', 'street': 'vej24', 'zip': 2680}}>\n"
     ]
    },
    {
     "name": "stderr",
     "output_type": "stream",
     "text": [
      "127.0.0.1 - - [25/May/2020 17:37:53] \"\u001b[37mPOST /cart/add HTTP/1.1\u001b[0m\" 200 -\n",
      "127.0.0.1 - - [25/May/2020 17:37:53] \"\u001b[37mPOST /cart/add HTTP/1.1\u001b[0m\" 200 -\n",
      "127.0.0.1 - - [25/May/2020 17:37:53] \"\u001b[37mGET /cart/get HTTP/1.1\u001b[0m\" 200 -\n",
      "127.0.0.1 - - [25/May/2020 17:37:53] \"\u001b[37mGET /cart/get HTTP/1.1\u001b[0m\" 200 -\n"
     ]
    },
    {
     "name": "stdout",
     "output_type": "stream",
     "text": [
      "{'item_id': 1, 'name': 'Chips m. havsalt', 'price': 1695, 'amount': 2} <SecureCookieSession {'_permanent': True, 'user': {'email': 'da@ni.el', 'id': 51853, 'name': 'daniel', 'password': '$2b$04$rxLmapV7LM/jMEFNRpRhJ.QMOxMzUe9507ES18jD6i.ooPYyu1h0m', 'phone': '12345678', 'street': 'vej24', 'zip': 2680}}>\n",
      "{'item_id': 1, 'name': 'Chips m. havsalt', 'price': 1695, 'amount': 2} <SecureCookieSession {'_permanent': True, 'user': {'email': 'da@ni.el', 'id': 51853, 'name': 'daniel', 'password': '$2b$04$rxLmapV7LM/jMEFNRpRhJ.QMOxMzUe9507ES18jD6i.ooPYyu1h0m', 'phone': '12345678', 'street': 'vej24', 'zip': 2680}}>\n"
     ]
    },
    {
     "name": "stderr",
     "output_type": "stream",
     "text": [
      "127.0.0.1 - - [25/May/2020 17:39:27] \"\u001b[37mOPTIONS /cart/clear HTTP/1.1\u001b[0m\" 200 -\n",
      "127.0.0.1 - - [25/May/2020 17:39:27] \"\u001b[37mOPTIONS /cart/clear HTTP/1.1\u001b[0m\" 200 -\n",
      "127.0.0.1 - - [25/May/2020 17:39:27] \"\u001b[1m\u001b[31mGET /cart/clear HTTP/1.1\u001b[0m\" 400 -\n",
      "127.0.0.1 - - [25/May/2020 17:39:27] \"\u001b[1m\u001b[31mGET /cart/clear HTTP/1.1\u001b[0m\" 400 -\n",
      "127.0.0.1 - - [25/May/2020 17:39:28] \"\u001b[37mOPTIONS /cart/add HTTP/1.1\u001b[0m\" 200 -\n",
      "127.0.0.1 - - [25/May/2020 17:39:28] \"\u001b[37mOPTIONS /cart/add HTTP/1.1\u001b[0m\" 200 -\n",
      "127.0.0.1 - - [25/May/2020 17:39:28] \"\u001b[37mPOST /cart/add HTTP/1.1\u001b[0m\" 200 -\n",
      "127.0.0.1 - - [25/May/2020 17:39:28] \"\u001b[37mPOST /cart/add HTTP/1.1\u001b[0m\" 200 -\n",
      "127.0.0.1 - - [25/May/2020 17:39:28] \"\u001b[37mOPTIONS /cart/get HTTP/1.1\u001b[0m\" 200 -\n",
      "127.0.0.1 - - [25/May/2020 17:39:28] \"\u001b[37mOPTIONS /cart/get HTTP/1.1\u001b[0m\" 200 -\n",
      "127.0.0.1 - - [25/May/2020 17:39:28] \"\u001b[37mGET /cart/get HTTP/1.1\u001b[0m\" 200 -\n",
      "127.0.0.1 - - [25/May/2020 17:39:28] \"\u001b[37mGET /cart/get HTTP/1.1\u001b[0m\" 200 -\n"
     ]
    },
    {
     "name": "stdout",
     "output_type": "stream",
     "text": [
      "{'item_id': 2, 'name': 'Chips m. havsalt', 'price': 1695, 'amount': 2} <SecureCookieSession {'_permanent': True, 'user': {'email': 'da@ni.el', 'id': 51853, 'name': 'daniel', 'password': '$2b$04$rxLmapV7LM/jMEFNRpRhJ.QMOxMzUe9507ES18jD6i.ooPYyu1h0m', 'phone': '12345678', 'street': 'vej24', 'zip': 2680}}>\n",
      "{'item_id': 2, 'name': 'Chips m. havsalt', 'price': 1695, 'amount': 2} <SecureCookieSession {'_permanent': True, 'user': {'email': 'da@ni.el', 'id': 51853, 'name': 'daniel', 'password': '$2b$04$rxLmapV7LM/jMEFNRpRhJ.QMOxMzUe9507ES18jD6i.ooPYyu1h0m', 'phone': '12345678', 'street': 'vej24', 'zip': 2680}}>\n"
     ]
    },
    {
     "name": "stderr",
     "output_type": "stream",
     "text": [
      "127.0.0.1 - - [25/May/2020 17:39:29] \"\u001b[37mPOST /cart/add HTTP/1.1\u001b[0m\" 200 -\n",
      "127.0.0.1 - - [25/May/2020 17:39:29] \"\u001b[37mPOST /cart/add HTTP/1.1\u001b[0m\" 200 -\n",
      "127.0.0.1 - - [25/May/2020 17:39:29] \"\u001b[37mGET /cart/get HTTP/1.1\u001b[0m\" 200 -\n",
      "127.0.0.1 - - [25/May/2020 17:39:29] \"\u001b[37mGET /cart/get HTTP/1.1\u001b[0m\" 200 -\n"
     ]
    },
    {
     "name": "stdout",
     "output_type": "stream",
     "text": [
      "{'item_id': 3, 'name': 'Chips m. havsalt', 'price': 1695, 'amount': 2} <SecureCookieSession {'_permanent': True, 'user': {'email': 'da@ni.el', 'id': 51853, 'name': 'daniel', 'password': '$2b$04$rxLmapV7LM/jMEFNRpRhJ.QMOxMzUe9507ES18jD6i.ooPYyu1h0m', 'phone': '12345678', 'street': 'vej24', 'zip': 2680}}>\n",
      "{'item_id': 3, 'name': 'Chips m. havsalt', 'price': 1695, 'amount': 2} <SecureCookieSession {'_permanent': True, 'user': {'email': 'da@ni.el', 'id': 51853, 'name': 'daniel', 'password': '$2b$04$rxLmapV7LM/jMEFNRpRhJ.QMOxMzUe9507ES18jD6i.ooPYyu1h0m', 'phone': '12345678', 'street': 'vej24', 'zip': 2680}}>\n"
     ]
    },
    {
     "name": "stderr",
     "output_type": "stream",
     "text": [
      "127.0.0.1 - - [25/May/2020 17:39:29] \"\u001b[37mPOST /cart/add HTTP/1.1\u001b[0m\" 200 -\n",
      "127.0.0.1 - - [25/May/2020 17:39:29] \"\u001b[37mPOST /cart/add HTTP/1.1\u001b[0m\" 200 -\n",
      "127.0.0.1 - - [25/May/2020 17:39:29] \"\u001b[37mGET /cart/get HTTP/1.1\u001b[0m\" 200 -\n",
      "127.0.0.1 - - [25/May/2020 17:39:29] \"\u001b[37mGET /cart/get HTTP/1.1\u001b[0m\" 200 -\n"
     ]
    },
    {
     "name": "stdout",
     "output_type": "stream",
     "text": [
      "{'item_id': 4, 'name': 'Chips m. havsalt', 'price': 1695, 'amount': 2} <SecureCookieSession {'_permanent': True, 'user': {'email': 'da@ni.el', 'id': 51853, 'name': 'daniel', 'password': '$2b$04$rxLmapV7LM/jMEFNRpRhJ.QMOxMzUe9507ES18jD6i.ooPYyu1h0m', 'phone': '12345678', 'street': 'vej24', 'zip': 2680}}>\n",
      "{'item_id': 4, 'name': 'Chips m. havsalt', 'price': 1695, 'amount': 2} <SecureCookieSession {'_permanent': True, 'user': {'email': 'da@ni.el', 'id': 51853, 'name': 'daniel', 'password': '$2b$04$rxLmapV7LM/jMEFNRpRhJ.QMOxMzUe9507ES18jD6i.ooPYyu1h0m', 'phone': '12345678', 'street': 'vej24', 'zip': 2680}}>\n"
     ]
    },
    {
     "name": "stderr",
     "output_type": "stream",
     "text": [
      "127.0.0.1 - - [25/May/2020 17:39:29] \"\u001b[37mPOST /cart/add HTTP/1.1\u001b[0m\" 200 -\n",
      "127.0.0.1 - - [25/May/2020 17:39:29] \"\u001b[37mPOST /cart/add HTTP/1.1\u001b[0m\" 200 -\n",
      "127.0.0.1 - - [25/May/2020 17:39:29] \"\u001b[37mGET /cart/get HTTP/1.1\u001b[0m\" 200 -\n",
      "127.0.0.1 - - [25/May/2020 17:39:29] \"\u001b[37mGET /cart/get HTTP/1.1\u001b[0m\" 200 -\n"
     ]
    },
    {
     "name": "stdout",
     "output_type": "stream",
     "text": [
      "{'item_id': 5, 'name': 'Chips m. havsalt', 'price': 1695, 'amount': 2} <SecureCookieSession {'_permanent': True, 'user': {'email': 'da@ni.el', 'id': 51853, 'name': 'daniel', 'password': '$2b$04$rxLmapV7LM/jMEFNRpRhJ.QMOxMzUe9507ES18jD6i.ooPYyu1h0m', 'phone': '12345678', 'street': 'vej24', 'zip': 2680}}>\n",
      "{'item_id': 5, 'name': 'Chips m. havsalt', 'price': 1695, 'amount': 2} <SecureCookieSession {'_permanent': True, 'user': {'email': 'da@ni.el', 'id': 51853, 'name': 'daniel', 'password': '$2b$04$rxLmapV7LM/jMEFNRpRhJ.QMOxMzUe9507ES18jD6i.ooPYyu1h0m', 'phone': '12345678', 'street': 'vej24', 'zip': 2680}}>\n"
     ]
    },
    {
     "name": "stderr",
     "output_type": "stream",
     "text": [
      "127.0.0.1 - - [25/May/2020 17:39:29] \"\u001b[37mPOST /cart/add HTTP/1.1\u001b[0m\" 200 -\n",
      "127.0.0.1 - - [25/May/2020 17:39:29] \"\u001b[37mPOST /cart/add HTTP/1.1\u001b[0m\" 200 -\n",
      "127.0.0.1 - - [25/May/2020 17:39:29] \"\u001b[37mGET /cart/get HTTP/1.1\u001b[0m\" 200 -\n",
      "127.0.0.1 - - [25/May/2020 17:39:29] \"\u001b[37mGET /cart/get HTTP/1.1\u001b[0m\" 200 -\n",
      "127.0.0.1 - - [25/May/2020 17:39:30] \"\u001b[37mPOST /cart/add HTTP/1.1\u001b[0m\" 200 -\n",
      "127.0.0.1 - - [25/May/2020 17:39:30] \"\u001b[37mPOST /cart/add HTTP/1.1\u001b[0m\" 200 -\n",
      "127.0.0.1 - - [25/May/2020 17:39:30] \"\u001b[37mGET /cart/get HTTP/1.1\u001b[0m\" 200 -\n",
      "127.0.0.1 - - [25/May/2020 17:39:30] \"\u001b[37mGET /cart/get HTTP/1.1\u001b[0m\" 200 -\n"
     ]
    },
    {
     "name": "stdout",
     "output_type": "stream",
     "text": [
      "{'item_id': 6, 'name': 'Chips m. havsalt', 'price': 1695, 'amount': 2} <SecureCookieSession {'_permanent': True, 'user': {'email': 'da@ni.el', 'id': 51853, 'name': 'daniel', 'password': '$2b$04$rxLmapV7LM/jMEFNRpRhJ.QMOxMzUe9507ES18jD6i.ooPYyu1h0m', 'phone': '12345678', 'street': 'vej24', 'zip': 2680}}>\n",
      "{'item_id': 7, 'name': 'Chips m. havsalt', 'price': 1695, 'amount': 2} <SecureCookieSession {'_permanent': True, 'user': {'email': 'da@ni.el', 'id': 51853, 'name': 'daniel', 'password': '$2b$04$rxLmapV7LM/jMEFNRpRhJ.QMOxMzUe9507ES18jD6i.ooPYyu1h0m', 'phone': '12345678', 'street': 'vej24', 'zip': 2680}}>\n",
      "{'item_id': 6, 'name': 'Chips m. havsalt', 'price': 1695, 'amount': 2} <SecureCookieSession {'_permanent': True, 'user': {'email': 'da@ni.el', 'id': 51853, 'name': 'daniel', 'password': '$2b$04$rxLmapV7LM/jMEFNRpRhJ.QMOxMzUe9507ES18jD6i.ooPYyu1h0m', 'phone': '12345678', 'street': 'vej24', 'zip': 2680}}>\n",
      "{'item_id': 7, 'name': 'Chips m. havsalt', 'price': 1695, 'amount': 2} <SecureCookieSession {'_permanent': True, 'user': {'email': 'da@ni.el', 'id': 51853, 'name': 'daniel', 'password': '$2b$04$rxLmapV7LM/jMEFNRpRhJ.QMOxMzUe9507ES18jD6i.ooPYyu1h0m', 'phone': '12345678', 'street': 'vej24', 'zip': 2680}}>\n"
     ]
    },
    {
     "name": "stderr",
     "output_type": "stream",
     "text": [
      "127.0.0.1 - - [25/May/2020 17:39:30] \"\u001b[37mPOST /cart/add HTTP/1.1\u001b[0m\" 200 -\n",
      "127.0.0.1 - - [25/May/2020 17:39:30] \"\u001b[37mPOST /cart/add HTTP/1.1\u001b[0m\" 200 -\n",
      "127.0.0.1 - - [25/May/2020 17:39:30] \"\u001b[37mGET /cart/get HTTP/1.1\u001b[0m\" 200 -\n",
      "127.0.0.1 - - [25/May/2020 17:39:30] \"\u001b[37mGET /cart/get HTTP/1.1\u001b[0m\" 200 -\n"
     ]
    },
    {
     "name": "stdout",
     "output_type": "stream",
     "text": [
      "{'item_id': 8, 'name': 'Chips m. havsalt', 'price': 1695, 'amount': 2} <SecureCookieSession {'_permanent': True, 'user': {'email': 'da@ni.el', 'id': 51853, 'name': 'daniel', 'password': '$2b$04$rxLmapV7LM/jMEFNRpRhJ.QMOxMzUe9507ES18jD6i.ooPYyu1h0m', 'phone': '12345678', 'street': 'vej24', 'zip': 2680}}>\n",
      "{'item_id': 9, 'name': 'Chips m. havsalt', 'price': 1695, 'amount': 2}{'item_id': 8, 'name': 'Chips m. havsalt', 'price': 1695, 'amount': 2} <SecureCookieSession {'_permanent': True, 'user': {'email': 'da@ni.el', 'id': 51853, 'name': 'daniel', 'password': '$2b$04$rxLmapV7LM/jMEFNRpRhJ.QMOxMzUe9507ES18jD6i.ooPYyu1h0m', 'phone': '12345678', 'street': 'vej24', 'zip': 2680}}>\n",
      "{'item_id': 9, 'name': 'Chips m. havsalt', 'price': 1695, 'amount': 2}"
     ]
    },
    {
     "name": "stderr",
     "output_type": "stream",
     "text": [
      "127.0.0.1 - - [25/May/2020 17:39:30] \"\u001b[37mPOST /cart/add HTTP/1.1\u001b[0m\" 200 -\n",
      "127.0.0.1 - - [25/May/2020 17:39:30] \"\u001b[37mPOST /cart/add HTTP/1.1\u001b[0m\" 200 -\n",
      "127.0.0.1 - - [25/May/2020 17:39:30] \"\u001b[37mGET /cart/get HTTP/1.1\u001b[0m\" 200 -\n",
      "127.0.0.1 - - [25/May/2020 17:39:30] \"\u001b[37mGET /cart/get HTTP/1.1\u001b[0m\" 200 -\n"
     ]
    },
    {
     "name": "stdout",
     "output_type": "stream",
     "text": [
      " <SecureCookieSession {'_permanent': True, 'user': {'email': 'da@ni.el', 'id': 51853, 'name': 'daniel', 'password': '$2b$04$rxLmapV7LM/jMEFNRpRhJ.QMOxMzUe9507ES18jD6i.ooPYyu1h0m', 'phone': '12345678', 'street': 'vej24', 'zip': 2680}}>\n",
      "{'item_id': 10, 'name': 'Chips m. havsalt', 'price': 1695, 'amount': 2} <SecureCookieSession {'_permanent': True, 'user': {'email': 'da@ni.el', 'id': 51853, 'name': 'daniel', 'password': '$2b$04$rxLmapV7LM/jMEFNRpRhJ.QMOxMzUe9507ES18jD6i.ooPYyu1h0m', 'phone': '12345678', 'street': 'vej24', 'zip': 2680}}>\n",
      "{'item_id': 10, 'name': 'Chips m. havsalt', 'price': 1695, 'amount': 2}"
     ]
    },
    {
     "name": "stderr",
     "output_type": "stream",
     "text": [
      "127.0.0.1 - - [25/May/2020 17:39:30] \"\u001b[37mPOST /cart/add HTTP/1.1\u001b[0m\" 200 -\n",
      "127.0.0.1 - - [25/May/2020 17:39:30] \"\u001b[37mPOST /cart/add HTTP/1.1\u001b[0m\" 200 -\n",
      "127.0.0.1 - - [25/May/2020 17:39:30] \"\u001b[37mGET /cart/get HTTP/1.1\u001b[0m\" 200 -\n",
      "127.0.0.1 - - [25/May/2020 17:39:30] \"\u001b[37mGET /cart/get HTTP/1.1\u001b[0m\" 200 -\n",
      "127.0.0.1 - - [25/May/2020 17:39:30] \"\u001b[37mPOST /cart/add HTTP/1.1\u001b[0m\" 200 -\n",
      "127.0.0.1 - - [25/May/2020 17:39:30] \"\u001b[37mPOST /cart/add HTTP/1.1\u001b[0m\" 200 -\n"
     ]
    },
    {
     "name": "stdout",
     "output_type": "stream",
     "text": [
      " <SecureCookieSession {'_permanent': True, 'user': {'email': 'da@ni.el', 'id': 51853, 'name': 'daniel', 'password': '$2b$04$rxLmapV7LM/jMEFNRpRhJ.QMOxMzUe9507ES18jD6i.ooPYyu1h0m', 'phone': '12345678', 'street': 'vej24', 'zip': 2680}}>\n",
      "{'item_id': 11, 'name': 'Chips m. havsalt', 'price': 1695, 'amount': 2} <SecureCookieSession {'_permanent': True, 'user': {'email': 'da@ni.el', 'id': 51853, 'name': 'daniel', 'password': '$2b$04$rxLmapV7LM/jMEFNRpRhJ.QMOxMzUe9507ES18jD6i.ooPYyu1h0m', 'phone': '12345678', 'street': 'vej24', 'zip': 2680}}>\n",
      " <SecureCookieSession {'_permanent': True, 'user': {'email': 'da@ni.el', 'id': 51853, 'name': 'daniel', 'password': '$2b$04$rxLmapV7LM/jMEFNRpRhJ.QMOxMzUe9507ES18jD6i.ooPYyu1h0m', 'phone': '12345678', 'street': 'vej24', 'zip': 2680}}>\n",
      "{'item_id': 11, 'name': 'Chips m. havsalt', 'price': 1695, 'amount': 2} <SecureCookieSession {'_permanent': True, 'user': {'email': 'da@ni.el', 'id': 51853, 'name': 'daniel', 'password': '$2b$04$rxLmapV7LM/jMEFNRpRhJ.QMOxMzUe9507ES18jD6i.ooPYyu1h0m', 'phone': '12345678', 'street': 'vej24', 'zip': 2680}}>\n"
     ]
    },
    {
     "name": "stderr",
     "output_type": "stream",
     "text": [
      "127.0.0.1 - - [25/May/2020 17:39:30] \"\u001b[37mGET /cart/get HTTP/1.1\u001b[0m\" 200 -\n",
      "127.0.0.1 - - [25/May/2020 17:39:30] \"\u001b[37mGET /cart/get HTTP/1.1\u001b[0m\" 200 -\n",
      "127.0.0.1 - - [25/May/2020 17:39:31] \"\u001b[37mPOST /cart/add HTTP/1.1\u001b[0m\" 200 -\n",
      "127.0.0.1 - - [25/May/2020 17:39:31] \"\u001b[37mPOST /cart/add HTTP/1.1\u001b[0m\" 200 -\n",
      "127.0.0.1 - - [25/May/2020 17:39:31] \"\u001b[37mGET /cart/get HTTP/1.1\u001b[0m\" 200 -\n",
      "127.0.0.1 - - [25/May/2020 17:39:31] \"\u001b[37mGET /cart/get HTTP/1.1\u001b[0m\" 200 -\n",
      "127.0.0.1 - - [25/May/2020 17:39:31] \"\u001b[37mPOST /cart/add HTTP/1.1\u001b[0m\" 200 -\n",
      "127.0.0.1 - - [25/May/2020 17:39:31] \"\u001b[37mPOST /cart/add HTTP/1.1\u001b[0m\" 200 -\n",
      "127.0.0.1 - - [25/May/2020 17:39:31] \"\u001b[37mGET /cart/get HTTP/1.1\u001b[0m\" 200 -\n",
      "127.0.0.1 - - [25/May/2020 17:39:31] \"\u001b[37mGET /cart/get HTTP/1.1\u001b[0m\" 200 -\n"
     ]
    },
    {
     "name": "stdout",
     "output_type": "stream",
     "text": [
      "{'item_id': 12, 'name': 'Chips m. havsalt', 'price': 1695, 'amount': 2} <SecureCookieSession {'_permanent': True, 'user': {'email': 'da@ni.el', 'id': 51853, 'name': 'daniel', 'password': '$2b$04$rxLmapV7LM/jMEFNRpRhJ.QMOxMzUe9507ES18jD6i.ooPYyu1h0m', 'phone': '12345678', 'street': 'vej24', 'zip': 2680}}>\n",
      "{'item_id': 13, 'name': 'Chips m. havsalt', 'price': 1695, 'amount': 2} <SecureCookieSession {'_permanent': True, 'user': {'email': 'da@ni.el', 'id': 51853, 'name': 'daniel', 'password': '$2b$04$rxLmapV7LM/jMEFNRpRhJ.QMOxMzUe9507ES18jD6i.ooPYyu1h0m', 'phone': '12345678', 'street': 'vej24', 'zip': 2680}}>\n",
      "{'item_id': 12, 'name': 'Chips m. havsalt', 'price': 1695, 'amount': 2} <SecureCookieSession {'_permanent': True, 'user': {'email': 'da@ni.el', 'id': 51853, 'name': 'daniel', 'password': '$2b$04$rxLmapV7LM/jMEFNRpRhJ.QMOxMzUe9507ES18jD6i.ooPYyu1h0m', 'phone': '12345678', 'street': 'vej24', 'zip': 2680}}>\n",
      "{'item_id': 13, 'name': 'Chips m. havsalt', 'price': 1695, 'amount': 2} <SecureCookieSession {'_permanent': True, 'user': {'email': 'da@ni.el', 'id': 51853, 'name': 'daniel', 'password': '$2b$04$rxLmapV7LM/jMEFNRpRhJ.QMOxMzUe9507ES18jD6i.ooPYyu1h0m', 'phone': '12345678', 'street': 'vej24', 'zip': 2680}}>\n"
     ]
    },
    {
     "name": "stderr",
     "output_type": "stream",
     "text": [
      "127.0.0.1 - - [25/May/2020 17:39:52] \"\u001b[37mOPTIONS /cart/clear HTTP/1.1\u001b[0m\" 200 -\n",
      "127.0.0.1 - - [25/May/2020 17:39:52] \"\u001b[37mOPTIONS /cart/clear HTTP/1.1\u001b[0m\" 200 -\n",
      "127.0.0.1 - - [25/May/2020 17:39:52] \"\u001b[1m\u001b[31mGET /cart/clear HTTP/1.1\u001b[0m\" 400 -\n",
      "127.0.0.1 - - [25/May/2020 17:39:52] \"\u001b[1m\u001b[31mGET /cart/clear HTTP/1.1\u001b[0m\" 400 -\n",
      "127.0.0.1 - - [25/May/2020 17:39:53] \"\u001b[37mOPTIONS /cart/add HTTP/1.1\u001b[0m\" 200 -\n",
      "127.0.0.1 - - [25/May/2020 17:39:53] \"\u001b[37mOPTIONS /cart/add HTTP/1.1\u001b[0m\" 200 -\n",
      "127.0.0.1 - - [25/May/2020 17:39:53] \"\u001b[37mPOST /cart/add HTTP/1.1\u001b[0m\" 200 -\n",
      "127.0.0.1 - - [25/May/2020 17:39:53] \"\u001b[37mPOST /cart/add HTTP/1.1\u001b[0m\" 200 -\n",
      "127.0.0.1 - - [25/May/2020 17:39:53] \"\u001b[37mOPTIONS /cart/get HTTP/1.1\u001b[0m\" 200 -\n",
      "127.0.0.1 - - [25/May/2020 17:39:53] \"\u001b[37mOPTIONS /cart/get HTTP/1.1\u001b[0m\" 200 -\n",
      "127.0.0.1 - - [25/May/2020 17:39:53] \"\u001b[37mGET /cart/get HTTP/1.1\u001b[0m\" 200 -\n",
      "127.0.0.1 - - [25/May/2020 17:39:53] \"\u001b[37mGET /cart/get HTTP/1.1\u001b[0m\" 200 -\n"
     ]
    },
    {
     "name": "stdout",
     "output_type": "stream",
     "text": [
      "{'item_id': 14, 'name': 'Chips m. havsalt', 'price': 1695, 'amount': 2} <SecureCookieSession {'_permanent': True, 'user': {'email': 'da@ni.el', 'id': 51853, 'name': 'daniel', 'password': '$2b$04$rxLmapV7LM/jMEFNRpRhJ.QMOxMzUe9507ES18jD6i.ooPYyu1h0m', 'phone': '12345678', 'street': 'vej24', 'zip': 2680}}>\n",
      "{'item_id': 14, 'name': 'Chips m. havsalt', 'price': 1695, 'amount': 2} <SecureCookieSession {'_permanent': True, 'user': {'email': 'da@ni.el', 'id': 51853, 'name': 'daniel', 'password': '$2b$04$rxLmapV7LM/jMEFNRpRhJ.QMOxMzUe9507ES18jD6i.ooPYyu1h0m', 'phone': '12345678', 'street': 'vej24', 'zip': 2680}}>\n"
     ]
    },
    {
     "name": "stderr",
     "output_type": "stream",
     "text": [
      "127.0.0.1 - - [25/May/2020 17:40:05] \"\u001b[37mOPTIONS /cart/get HTTP/1.1\u001b[0m\" 200 -\n",
      "127.0.0.1 - - [25/May/2020 17:40:05] \"\u001b[37mOPTIONS /cart/get HTTP/1.1\u001b[0m\" 200 -\n",
      "127.0.0.1 - - [25/May/2020 17:40:05] \"\u001b[37mGET /cart/get HTTP/1.1\u001b[0m\" 200 -\n",
      "127.0.0.1 - - [25/May/2020 17:40:05] \"\u001b[37mGET /cart/get HTTP/1.1\u001b[0m\" 200 -\n",
      "127.0.0.1 - - [25/May/2020 17:40:13] \"\u001b[37mOPTIONS /cart/get HTTP/1.1\u001b[0m\" 200 -\n",
      "127.0.0.1 - - [25/May/2020 17:40:13] \"\u001b[37mOPTIONS /cart/get HTTP/1.1\u001b[0m\" 200 -\n",
      "127.0.0.1 - - [25/May/2020 17:40:13] \"\u001b[37mGET /cart/get HTTP/1.1\u001b[0m\" 200 -\n",
      "127.0.0.1 - - [25/May/2020 17:40:13] \"\u001b[37mGET /cart/get HTTP/1.1\u001b[0m\" 200 -\n",
      "127.0.0.1 - - [25/May/2020 17:41:45] \"\u001b[37mOPTIONS /cart/get HTTP/1.1\u001b[0m\" 200 -\n",
      "127.0.0.1 - - [25/May/2020 17:41:45] \"\u001b[37mOPTIONS /cart/get HTTP/1.1\u001b[0m\" 200 -\n",
      "127.0.0.1 - - [25/May/2020 17:41:45] \"\u001b[37mGET /cart/get HTTP/1.1\u001b[0m\" 200 -\n",
      "127.0.0.1 - - [25/May/2020 17:41:45] \"\u001b[37mGET /cart/get HTTP/1.1\u001b[0m\" 200 -\n",
      "127.0.0.1 - - [25/May/2020 17:42:25] \"\u001b[37mOPTIONS /cart/add HTTP/1.1\u001b[0m\" 200 -\n",
      "127.0.0.1 - - [25/May/2020 17:42:25] \"\u001b[37mOPTIONS /cart/add HTTP/1.1\u001b[0m\" 200 -\n",
      "127.0.0.1 - - [25/May/2020 17:42:25] \"\u001b[37mPOST /cart/add HTTP/1.1\u001b[0m\" 200 -\n",
      "127.0.0.1 - - [25/May/2020 17:42:25] \"\u001b[37mPOST /cart/add HTTP/1.1\u001b[0m\" 200 -\n",
      "127.0.0.1 - - [25/May/2020 17:42:25] \"\u001b[37mOPTIONS /cart/get HTTP/1.1\u001b[0m\" 200 -\n",
      "127.0.0.1 - - [25/May/2020 17:42:25] \"\u001b[37mOPTIONS /cart/get HTTP/1.1\u001b[0m\" 200 -\n",
      "127.0.0.1 - - [25/May/2020 17:42:25] \"\u001b[37mGET /cart/get HTTP/1.1\u001b[0m\" 200 -\n",
      "127.0.0.1 - - [25/May/2020 17:42:25] \"\u001b[37mGET /cart/get HTTP/1.1\u001b[0m\" 200 -\n",
      "127.0.0.1 - - [25/May/2020 17:42:25] \"\u001b[37mPOST /cart/add HTTP/1.1\u001b[0m\" 200 -\n",
      "127.0.0.1 - - [25/May/2020 17:42:25] \"\u001b[37mPOST /cart/add HTTP/1.1\u001b[0m\" 200 -\n",
      "127.0.0.1 - - [25/May/2020 17:42:25] \"\u001b[37mGET /cart/get HTTP/1.1\u001b[0m\" 200 -\n",
      "127.0.0.1 - - [25/May/2020 17:42:25] \"\u001b[37mGET /cart/get HTTP/1.1\u001b[0m\" 200 -\n"
     ]
    },
    {
     "name": "stdout",
     "output_type": "stream",
     "text": [
      "{'item_id': 0, 'name': 'Chips m. havsalt', 'price': 1695, 'amount': 2} <SecureCookieSession {'_permanent': True, 'user': {'email': 'da@ni.el', 'id': 51853, 'name': 'daniel', 'password': '$2b$04$rxLmapV7LM/jMEFNRpRhJ.QMOxMzUe9507ES18jD6i.ooPYyu1h0m', 'phone': '12345678', 'street': 'vej24', 'zip': 2680}}>\n",
      "{'item_id': 1, 'name': 'Chips m. havsalt', 'price': 1695, 'amount': 2} <SecureCookieSession {'_permanent': True, 'user': {'email': 'da@ni.el', 'id': 51853, 'name': 'daniel', 'password': '$2b$04$rxLmapV7LM/jMEFNRpRhJ.QMOxMzUe9507ES18jD6i.ooPYyu1h0m', 'phone': '12345678', 'street': 'vej24', 'zip': 2680}}>\n",
      "{'item_id': 0, 'name': 'Chips m. havsalt', 'price': 1695, 'amount': 2} <SecureCookieSession {'_permanent': True, 'user': {'email': 'da@ni.el', 'id': 51853, 'name': 'daniel', 'password': '$2b$04$rxLmapV7LM/jMEFNRpRhJ.QMOxMzUe9507ES18jD6i.ooPYyu1h0m', 'phone': '12345678', 'street': 'vej24', 'zip': 2680}}>\n",
      "{'item_id': 1, 'name': 'Chips m. havsalt', 'price': 1695, 'amount': 2} <SecureCookieSession {'_permanent': True, 'user': {'email': 'da@ni.el', 'id': 51853, 'name': 'daniel', 'password': '$2b$04$rxLmapV7LM/jMEFNRpRhJ.QMOxMzUe9507ES18jD6i.ooPYyu1h0m', 'phone': '12345678', 'street': 'vej24', 'zip': 2680}}>\n"
     ]
    },
    {
     "name": "stderr",
     "output_type": "stream",
     "text": [
      "127.0.0.1 - - [25/May/2020 17:42:25] \"\u001b[37mPOST /cart/add HTTP/1.1\u001b[0m\" 200 -\n",
      "127.0.0.1 - - [25/May/2020 17:42:25] \"\u001b[37mPOST /cart/add HTTP/1.1\u001b[0m\" 200 -\n",
      "127.0.0.1 - - [25/May/2020 17:42:25] \"\u001b[37mGET /cart/get HTTP/1.1\u001b[0m\" 200 -\n",
      "127.0.0.1 - - [25/May/2020 17:42:25] \"\u001b[37mGET /cart/get HTTP/1.1\u001b[0m\" 200 -\n",
      "127.0.0.1 - - [25/May/2020 17:42:26] \"\u001b[37mPOST /cart/add HTTP/1.1\u001b[0m\" 200 -\n",
      "127.0.0.1 - - [25/May/2020 17:42:26] \"\u001b[37mPOST /cart/add HTTP/1.1\u001b[0m\" 200 -\n",
      "127.0.0.1 - - [25/May/2020 17:42:26] \"\u001b[37mGET /cart/get HTTP/1.1\u001b[0m\" 200 -\n",
      "127.0.0.1 - - [25/May/2020 17:42:26] \"\u001b[37mGET /cart/get HTTP/1.1\u001b[0m\" 200 -\n"
     ]
    },
    {
     "name": "stdout",
     "output_type": "stream",
     "text": [
      "{'item_id': 2, 'name': 'Chips m. havsalt', 'price': 1695, 'amount': 2} <SecureCookieSession {'_permanent': True, 'user': {'email': 'da@ni.el', 'id': 51853, 'name': 'daniel', 'password': '$2b$04$rxLmapV7LM/jMEFNRpRhJ.QMOxMzUe9507ES18jD6i.ooPYyu1h0m', 'phone': '12345678', 'street': 'vej24', 'zip': 2680}}>\n",
      "{'item_id': 3, 'name': 'Chips m. havsalt', 'price': 1695, 'amount': 2} <SecureCookieSession {'_permanent': True, 'user': {'email': 'da@ni.el', 'id': 51853, 'name': 'daniel', 'password': '$2b$04$rxLmapV7LM/jMEFNRpRhJ.QMOxMzUe9507ES18jD6i.ooPYyu1h0m', 'phone': '12345678', 'street': 'vej24', 'zip': 2680}}>\n",
      "{'item_id': 2, 'name': 'Chips m. havsalt', 'price': 1695, 'amount': 2} <SecureCookieSession {'_permanent': True, 'user': {'email': 'da@ni.el', 'id': 51853, 'name': 'daniel', 'password': '$2b$04$rxLmapV7LM/jMEFNRpRhJ.QMOxMzUe9507ES18jD6i.ooPYyu1h0m', 'phone': '12345678', 'street': 'vej24', 'zip': 2680}}>\n",
      "{'item_id': 3, 'name': 'Chips m. havsalt', 'price': 1695, 'amount': 2} <SecureCookieSession {'_permanent': True, 'user': {'email': 'da@ni.el', 'id': 51853, 'name': 'daniel', 'password': '$2b$04$rxLmapV7LM/jMEFNRpRhJ.QMOxMzUe9507ES18jD6i.ooPYyu1h0m', 'phone': '12345678', 'street': 'vej24', 'zip': 2680}}>\n"
     ]
    },
    {
     "name": "stderr",
     "output_type": "stream",
     "text": [
      "127.0.0.1 - - [25/May/2020 17:42:26] \"\u001b[37mPOST /cart/add HTTP/1.1\u001b[0m\" 200 -\n",
      "127.0.0.1 - - [25/May/2020 17:42:26] \"\u001b[37mPOST /cart/add HTTP/1.1\u001b[0m\" 200 -\n",
      "127.0.0.1 - - [25/May/2020 17:42:26] \"\u001b[37mGET /cart/get HTTP/1.1\u001b[0m\" 200 -\n",
      "127.0.0.1 - - [25/May/2020 17:42:26] \"\u001b[37mGET /cart/get HTTP/1.1\u001b[0m\" 200 -\n"
     ]
    },
    {
     "name": "stdout",
     "output_type": "stream",
     "text": [
      "{'item_id': 4, 'name': 'Chips m. havsalt', 'price': 1695, 'amount': 2} <SecureCookieSession {'_permanent': True, 'user': {'email': 'da@ni.el', 'id': 51853, 'name': 'daniel', 'password': '$2b$04$rxLmapV7LM/jMEFNRpRhJ.QMOxMzUe9507ES18jD6i.ooPYyu1h0m', 'phone': '12345678', 'street': 'vej24', 'zip': 2680}}>\n",
      "{'item_id': 5, 'name': 'Chips m. havsalt', 'price': 1695, 'amount': 2}{'item_id': 4, 'name': 'Chips m. havsalt', 'price': 1695, 'amount': 2} <SecureCookieSession {'_permanent': True, 'user': {'email': 'da@ni.el', 'id': 51853, 'name': 'daniel', 'password': '$2b$04$rxLmapV7LM/jMEFNRpRhJ.QMOxMzUe9507ES18jD6i.ooPYyu1h0m', 'phone': '12345678', 'street': 'vej24', 'zip': 2680}}>\n",
      "{'item_id': 5, 'name': 'Chips m. havsalt', 'price': 1695, 'amount': 2}"
     ]
    },
    {
     "name": "stderr",
     "output_type": "stream",
     "text": [
      "127.0.0.1 - - [25/May/2020 17:42:26] \"\u001b[37mPOST /cart/add HTTP/1.1\u001b[0m\" 200 -\n",
      "127.0.0.1 - - [25/May/2020 17:42:26] \"\u001b[37mPOST /cart/add HTTP/1.1\u001b[0m\" 200 -\n",
      "127.0.0.1 - - [25/May/2020 17:42:26] \"\u001b[37mGET /cart/get HTTP/1.1\u001b[0m\" 200 -\n",
      "127.0.0.1 - - [25/May/2020 17:42:26] \"\u001b[37mGET /cart/get HTTP/1.1\u001b[0m\" 200 -\n",
      "127.0.0.1 - - [25/May/2020 17:42:26] \"\u001b[37mPOST /cart/add HTTP/1.1\u001b[0m\" 200 -\n",
      "127.0.0.1 - - [25/May/2020 17:42:26] \"\u001b[37mPOST /cart/add HTTP/1.1\u001b[0m\" 200 -\n",
      "127.0.0.1 - - [25/May/2020 17:42:26] \"\u001b[37mGET /cart/get HTTP/1.1\u001b[0m\" 200 -\n",
      "127.0.0.1 - - [25/May/2020 17:42:26] \"\u001b[37mGET /cart/get HTTP/1.1\u001b[0m\" 200 -\n"
     ]
    },
    {
     "name": "stdout",
     "output_type": "stream",
     "text": [
      " <SecureCookieSession {'_permanent': True, 'user': {'email': 'da@ni.el', 'id': 51853, 'name': 'daniel', 'password': '$2b$04$rxLmapV7LM/jMEFNRpRhJ.QMOxMzUe9507ES18jD6i.ooPYyu1h0m', 'phone': '12345678', 'street': 'vej24', 'zip': 2680}}>\n",
      "{'item_id': 6, 'name': 'Chips m. havsalt', 'price': 1695, 'amount': 2} <SecureCookieSession {'_permanent': True, 'user': {'email': 'da@ni.el', 'id': 51853, 'name': 'daniel', 'password': '$2b$04$rxLmapV7LM/jMEFNRpRhJ.QMOxMzUe9507ES18jD6i.ooPYyu1h0m', 'phone': '12345678', 'street': 'vej24', 'zip': 2680}}>\n",
      " <SecureCookieSession {'_permanent': True, 'user': {'email': 'da@ni.el', 'id': 51853, 'name': 'daniel', 'password': '$2b$04$rxLmapV7LM/jMEFNRpRhJ.QMOxMzUe9507ES18jD6i.ooPYyu1h0m', 'phone': '12345678', 'street': 'vej24', 'zip': 2680}}>\n",
      "{'item_id': 6, 'name': 'Chips m. havsalt', 'price': 1695, 'amount': 2} <SecureCookieSession {'_permanent': True, 'user': {'email': 'da@ni.el', 'id': 51853, 'name': 'daniel', 'password': '$2b$04$rxLmapV7LM/jMEFNRpRhJ.QMOxMzUe9507ES18jD6i.ooPYyu1h0m', 'phone': '12345678', 'street': 'vej24', 'zip': 2680}}>\n"
     ]
    },
    {
     "name": "stderr",
     "output_type": "stream",
     "text": [
      "127.0.0.1 - - [25/May/2020 17:42:26] \"\u001b[37mPOST /cart/add HTTP/1.1\u001b[0m\" 200 -\n",
      "127.0.0.1 - - [25/May/2020 17:42:26] \"\u001b[37mPOST /cart/add HTTP/1.1\u001b[0m\" 200 -\n",
      "127.0.0.1 - - [25/May/2020 17:42:26] \"\u001b[37mGET /cart/get HTTP/1.1\u001b[0m\" 200 -\n",
      "127.0.0.1 - - [25/May/2020 17:42:26] \"\u001b[37mGET /cart/get HTTP/1.1\u001b[0m\" 200 -\n",
      "127.0.0.1 - - [25/May/2020 17:42:26] \"\u001b[37mPOST /cart/add HTTP/1.1\u001b[0m\" 200 -\n",
      "127.0.0.1 - - [25/May/2020 17:42:26] \"\u001b[37mPOST /cart/add HTTP/1.1\u001b[0m\" 200 -\n",
      "127.0.0.1 - - [25/May/2020 17:42:26] \"\u001b[37mGET /cart/get HTTP/1.1\u001b[0m\" 200 -\n",
      "127.0.0.1 - - [25/May/2020 17:42:26] \"\u001b[37mGET /cart/get HTTP/1.1\u001b[0m\" 200 -\n"
     ]
    },
    {
     "name": "stdout",
     "output_type": "stream",
     "text": [
      "{'item_id': 7, 'name': 'Chips m. havsalt', 'price': 1695, 'amount': 2} <SecureCookieSession {'_permanent': True, 'user': {'email': 'da@ni.el', 'id': 51853, 'name': 'daniel', 'password': '$2b$04$rxLmapV7LM/jMEFNRpRhJ.QMOxMzUe9507ES18jD6i.ooPYyu1h0m', 'phone': '12345678', 'street': 'vej24', 'zip': 2680}}>\n",
      "{'item_id': 8, 'name': 'Chips m. havsalt', 'price': 1695, 'amount': 2} <SecureCookieSession {'_permanent': True, 'user': {'email': 'da@ni.el', 'id': 51853, 'name': 'daniel', 'password': '$2b$04$rxLmapV7LM/jMEFNRpRhJ.QMOxMzUe9507ES18jD6i.ooPYyu1h0m', 'phone': '12345678', 'street': 'vej24', 'zip': 2680}}>\n",
      "{'item_id': 7, 'name': 'Chips m. havsalt', 'price': 1695, 'amount': 2} <SecureCookieSession {'_permanent': True, 'user': {'email': 'da@ni.el', 'id': 51853, 'name': 'daniel', 'password': '$2b$04$rxLmapV7LM/jMEFNRpRhJ.QMOxMzUe9507ES18jD6i.ooPYyu1h0m', 'phone': '12345678', 'street': 'vej24', 'zip': 2680}}>\n",
      "{'item_id': 8, 'name': 'Chips m. havsalt', 'price': 1695, 'amount': 2} <SecureCookieSession {'_permanent': True, 'user': {'email': 'da@ni.el', 'id': 51853, 'name': 'daniel', 'password': '$2b$04$rxLmapV7LM/jMEFNRpRhJ.QMOxMzUe9507ES18jD6i.ooPYyu1h0m', 'phone': '12345678', 'street': 'vej24', 'zip': 2680}}>\n"
     ]
    },
    {
     "name": "stderr",
     "output_type": "stream",
     "text": [
      "127.0.0.1 - - [25/May/2020 17:42:27] \"\u001b[37mPOST /cart/add HTTP/1.1\u001b[0m\" 200 -\n",
      "127.0.0.1 - - [25/May/2020 17:42:27] \"\u001b[37mPOST /cart/add HTTP/1.1\u001b[0m\" 200 -\n",
      "127.0.0.1 - - [25/May/2020 17:42:27] \"\u001b[37mGET /cart/get HTTP/1.1\u001b[0m\" 200 -\n",
      "127.0.0.1 - - [25/May/2020 17:42:27] \"\u001b[37mGET /cart/get HTTP/1.1\u001b[0m\" 200 -\n",
      "127.0.0.1 - - [25/May/2020 17:42:27] \"\u001b[37mPOST /cart/add HTTP/1.1\u001b[0m\" 200 -\n",
      "127.0.0.1 - - [25/May/2020 17:42:27] \"\u001b[37mPOST /cart/add HTTP/1.1\u001b[0m\" 200 -\n",
      "127.0.0.1 - - [25/May/2020 17:42:27] \"\u001b[37mGET /cart/get HTTP/1.1\u001b[0m\" 200 -\n",
      "127.0.0.1 - - [25/May/2020 17:42:27] \"\u001b[37mGET /cart/get HTTP/1.1\u001b[0m\" 200 -\n"
     ]
    },
    {
     "name": "stdout",
     "output_type": "stream",
     "text": [
      "{'item_id': 9, 'name': 'Chips m. havsalt', 'price': 1695, 'amount': 2} <SecureCookieSession {'_permanent': True, 'user': {'email': 'da@ni.el', 'id': 51853, 'name': 'daniel', 'password': '$2b$04$rxLmapV7LM/jMEFNRpRhJ.QMOxMzUe9507ES18jD6i.ooPYyu1h0m', 'phone': '12345678', 'street': 'vej24', 'zip': 2680}}>\n",
      "{'item_id': 10, 'name': 'Chips m. havsalt', 'price': 1695, 'amount': 2} <SecureCookieSession {'_permanent': True, 'user': {'email': 'da@ni.el', 'id': 51853, 'name': 'daniel', 'password': '$2b$04$rxLmapV7LM/jMEFNRpRhJ.QMOxMzUe9507ES18jD6i.ooPYyu1h0m', 'phone': '12345678', 'street': 'vej24', 'zip': 2680}}>\n",
      "{'item_id': 9, 'name': 'Chips m. havsalt', 'price': 1695, 'amount': 2} <SecureCookieSession {'_permanent': True, 'user': {'email': 'da@ni.el', 'id': 51853, 'name': 'daniel', 'password': '$2b$04$rxLmapV7LM/jMEFNRpRhJ.QMOxMzUe9507ES18jD6i.ooPYyu1h0m', 'phone': '12345678', 'street': 'vej24', 'zip': 2680}}>\n",
      "{'item_id': 10, 'name': 'Chips m. havsalt', 'price': 1695, 'amount': 2} <SecureCookieSession {'_permanent': True, 'user': {'email': 'da@ni.el', 'id': 51853, 'name': 'daniel', 'password': '$2b$04$rxLmapV7LM/jMEFNRpRhJ.QMOxMzUe9507ES18jD6i.ooPYyu1h0m', 'phone': '12345678', 'street': 'vej24', 'zip': 2680}}>\n"
     ]
    },
    {
     "name": "stderr",
     "output_type": "stream",
     "text": [
      "127.0.0.1 - - [25/May/2020 17:42:27] \"\u001b[37mPOST /cart/add HTTP/1.1\u001b[0m\" 200 -\n",
      "127.0.0.1 - - [25/May/2020 17:42:27] \"\u001b[37mPOST /cart/add HTTP/1.1\u001b[0m\" 200 -\n",
      "127.0.0.1 - - [25/May/2020 17:42:27] \"\u001b[37mGET /cart/get HTTP/1.1\u001b[0m\" 200 -\n",
      "127.0.0.1 - - [25/May/2020 17:42:27] \"\u001b[37mGET /cart/get HTTP/1.1\u001b[0m\" 200 -\n"
     ]
    },
    {
     "name": "stdout",
     "output_type": "stream",
     "text": [
      "{'item_id': 11, 'name': 'Chips m. havsalt', 'price': 1695, 'amount': 2} <SecureCookieSession {'_permanent': True, 'user': {'email': 'da@ni.el', 'id': 51853, 'name': 'daniel', 'password': '$2b$04$rxLmapV7LM/jMEFNRpRhJ.QMOxMzUe9507ES18jD6i.ooPYyu1h0m', 'phone': '12345678', 'street': 'vej24', 'zip': 2680}}>\n",
      "{'item_id': 11, 'name': 'Chips m. havsalt', 'price': 1695, 'amount': 2} <SecureCookieSession {'_permanent': True, 'user': {'email': 'da@ni.el', 'id': 51853, 'name': 'daniel', 'password': '$2b$04$rxLmapV7LM/jMEFNRpRhJ.QMOxMzUe9507ES18jD6i.ooPYyu1h0m', 'phone': '12345678', 'street': 'vej24', 'zip': 2680}}>\n"
     ]
    },
    {
     "name": "stderr",
     "output_type": "stream",
     "text": [
      "127.0.0.1 - - [25/May/2020 17:42:33] \"\u001b[37mOPTIONS /cart/clear HTTP/1.1\u001b[0m\" 200 -\n",
      "127.0.0.1 - - [25/May/2020 17:42:33] \"\u001b[37mOPTIONS /cart/clear HTTP/1.1\u001b[0m\" 200 -\n",
      "127.0.0.1 - - [25/May/2020 17:42:33] \"\u001b[1m\u001b[31mGET /cart/clear HTTP/1.1\u001b[0m\" 400 -\n",
      "127.0.0.1 - - [25/May/2020 17:42:33] \"\u001b[1m\u001b[31mGET /cart/clear HTTP/1.1\u001b[0m\" 400 -\n",
      "127.0.0.1 - - [25/May/2020 17:42:36] \"\u001b[37mOPTIONS /cart/add HTTP/1.1\u001b[0m\" 200 -\n",
      "127.0.0.1 - - [25/May/2020 17:42:36] \"\u001b[37mOPTIONS /cart/add HTTP/1.1\u001b[0m\" 200 -\n",
      "127.0.0.1 - - [25/May/2020 17:42:36] \"\u001b[37mPOST /cart/add HTTP/1.1\u001b[0m\" 200 -\n",
      "127.0.0.1 - - [25/May/2020 17:42:36] \"\u001b[37mPOST /cart/add HTTP/1.1\u001b[0m\" 200 -\n",
      "127.0.0.1 - - [25/May/2020 17:42:36] \"\u001b[37mOPTIONS /cart/get HTTP/1.1\u001b[0m\" 200 -\n",
      "127.0.0.1 - - [25/May/2020 17:42:36] \"\u001b[37mOPTIONS /cart/get HTTP/1.1\u001b[0m\" 200 -\n",
      "127.0.0.1 - - [25/May/2020 17:42:36] \"\u001b[37mGET /cart/get HTTP/1.1\u001b[0m\" 200 -\n",
      "127.0.0.1 - - [25/May/2020 17:42:36] \"\u001b[37mGET /cart/get HTTP/1.1\u001b[0m\" 200 -\n"
     ]
    },
    {
     "name": "stdout",
     "output_type": "stream",
     "text": [
      "{'item_id': 12, 'name': 'Chips m. havsalt', 'price': 1695, 'amount': 2} <SecureCookieSession {'_permanent': True, 'user': {'email': 'da@ni.el', 'id': 51853, 'name': 'daniel', 'password': '$2b$04$rxLmapV7LM/jMEFNRpRhJ.QMOxMzUe9507ES18jD6i.ooPYyu1h0m', 'phone': '12345678', 'street': 'vej24', 'zip': 2680}}>\n",
      "{'item_id': 12, 'name': 'Chips m. havsalt', 'price': 1695, 'amount': 2} <SecureCookieSession {'_permanent': True, 'user': {'email': 'da@ni.el', 'id': 51853, 'name': 'daniel', 'password': '$2b$04$rxLmapV7LM/jMEFNRpRhJ.QMOxMzUe9507ES18jD6i.ooPYyu1h0m', 'phone': '12345678', 'street': 'vej24', 'zip': 2680}}>\n"
     ]
    },
    {
     "name": "stderr",
     "output_type": "stream",
     "text": [
      "127.0.0.1 - - [25/May/2020 17:42:36] \"\u001b[37mPOST /cart/add HTTP/1.1\u001b[0m\" 200 -\n",
      "127.0.0.1 - - [25/May/2020 17:42:36] \"\u001b[37mPOST /cart/add HTTP/1.1\u001b[0m\" 200 -\n",
      "127.0.0.1 - - [25/May/2020 17:42:36] \"\u001b[37mGET /cart/get HTTP/1.1\u001b[0m\" 200 -\n",
      "127.0.0.1 - - [25/May/2020 17:42:36] \"\u001b[37mGET /cart/get HTTP/1.1\u001b[0m\" 200 -\n"
     ]
    },
    {
     "name": "stdout",
     "output_type": "stream",
     "text": [
      "{'item_id': 13, 'name': 'Chips m. havsalt', 'price': 1695, 'amount': 2} <SecureCookieSession {'_permanent': True, 'user': {'email': 'da@ni.el', 'id': 51853, 'name': 'daniel', 'password': '$2b$04$rxLmapV7LM/jMEFNRpRhJ.QMOxMzUe9507ES18jD6i.ooPYyu1h0m', 'phone': '12345678', 'street': 'vej24', 'zip': 2680}}>\n",
      "{'item_id': 13, 'name': 'Chips m. havsalt', 'price': 1695, 'amount': 2} <SecureCookieSession {'_permanent': True, 'user': {'email': 'da@ni.el', 'id': 51853, 'name': 'daniel', 'password': '$2b$04$rxLmapV7LM/jMEFNRpRhJ.QMOxMzUe9507ES18jD6i.ooPYyu1h0m', 'phone': '12345678', 'street': 'vej24', 'zip': 2680}}>\n"
     ]
    },
    {
     "name": "stderr",
     "output_type": "stream",
     "text": [
      "127.0.0.1 - - [25/May/2020 17:42:36] \"\u001b[37mPOST /cart/add HTTP/1.1\u001b[0m\" 200 -\n",
      "127.0.0.1 - - [25/May/2020 17:42:36] \"\u001b[37mPOST /cart/add HTTP/1.1\u001b[0m\" 200 -\n",
      "127.0.0.1 - - [25/May/2020 17:42:36] \"\u001b[37mGET /cart/get HTTP/1.1\u001b[0m\" 200 -\n",
      "127.0.0.1 - - [25/May/2020 17:42:36] \"\u001b[37mGET /cart/get HTTP/1.1\u001b[0m\" 200 -\n"
     ]
    },
    {
     "name": "stdout",
     "output_type": "stream",
     "text": [
      "{'item_id': 14, 'name': 'Chips m. havsalt', 'price': 1695, 'amount': 2} <SecureCookieSession {'_permanent': True, 'user': {'email': 'da@ni.el', 'id': 51853, 'name': 'daniel', 'password': '$2b$04$rxLmapV7LM/jMEFNRpRhJ.QMOxMzUe9507ES18jD6i.ooPYyu1h0m', 'phone': '12345678', 'street': 'vej24', 'zip': 2680}}>\n",
      "{'item_id': 15, 'name': 'Chips m. havsalt', 'price': 1695, 'amount': 2}{'item_id': 14, 'name': 'Chips m. havsalt', 'price': 1695, 'amount': 2} <SecureCookieSession {'_permanent': True, 'user': {'email': 'da@ni.el', 'id': 51853, 'name': 'daniel', 'password': '$2b$04$rxLmapV7LM/jMEFNRpRhJ.QMOxMzUe9507ES18jD6i.ooPYyu1h0m', 'phone': '12345678', 'street': 'vej24', 'zip': 2680}}>\n",
      "{'item_id': 15, 'name': 'Chips m. havsalt', 'price': 1695, 'amount': 2}"
     ]
    },
    {
     "name": "stderr",
     "output_type": "stream",
     "text": [
      "127.0.0.1 - - [25/May/2020 17:42:37] \"\u001b[37mPOST /cart/add HTTP/1.1\u001b[0m\" 200 -\n",
      "127.0.0.1 - - [25/May/2020 17:42:37] \"\u001b[37mPOST /cart/add HTTP/1.1\u001b[0m\" 200 -\n",
      "127.0.0.1 - - [25/May/2020 17:42:37] \"\u001b[37mGET /cart/get HTTP/1.1\u001b[0m\" 200 -\n",
      "127.0.0.1 - - [25/May/2020 17:42:37] \"\u001b[37mGET /cart/get HTTP/1.1\u001b[0m\" 200 -\n"
     ]
    },
    {
     "name": "stdout",
     "output_type": "stream",
     "text": [
      " <SecureCookieSession {'_permanent': True, 'user': {'email': 'da@ni.el', 'id': 51853, 'name': 'daniel', 'password': '$2b$04$rxLmapV7LM/jMEFNRpRhJ.QMOxMzUe9507ES18jD6i.ooPYyu1h0m', 'phone': '12345678', 'street': 'vej24', 'zip': 2680}}>\n",
      "{'item_id': 16, 'name': 'Chips m. havsalt', 'price': 1695, 'amount': 2} <SecureCookieSession {'_permanent': True, 'user': {'email': 'da@ni.el', 'id': 51853, 'name': 'daniel', 'password': '$2b$04$rxLmapV7LM/jMEFNRpRhJ.QMOxMzUe9507ES18jD6i.ooPYyu1h0m', 'phone': '12345678', 'street': 'vej24', 'zip': 2680}}>\n",
      "{'item_id': 16, 'name': 'Chips m. havsalt', 'price': 1695, 'amount': 2}"
     ]
    },
    {
     "name": "stderr",
     "output_type": "stream",
     "text": [
      "127.0.0.1 - - [25/May/2020 17:42:37] \"\u001b[37mPOST /cart/add HTTP/1.1\u001b[0m\" 200 -\n",
      "127.0.0.1 - - [25/May/2020 17:42:37] \"\u001b[37mPOST /cart/add HTTP/1.1\u001b[0m\" 200 -\n",
      "127.0.0.1 - - [25/May/2020 17:42:37] \"\u001b[37mGET /cart/get HTTP/1.1\u001b[0m\" 200 -\n",
      "127.0.0.1 - - [25/May/2020 17:42:37] \"\u001b[37mGET /cart/get HTTP/1.1\u001b[0m\" 200 -\n",
      "127.0.0.1 - - [25/May/2020 17:42:37] \"\u001b[37mPOST /cart/add HTTP/1.1\u001b[0m\" 200 -\n",
      "127.0.0.1 - - [25/May/2020 17:42:37] \"\u001b[37mPOST /cart/add HTTP/1.1\u001b[0m\" 200 -\n",
      "127.0.0.1 - - [25/May/2020 17:42:37] \"\u001b[37mGET /cart/get HTTP/1.1\u001b[0m\" 200 -\n",
      "127.0.0.1 - - [25/May/2020 17:42:37] \"\u001b[37mGET /cart/get HTTP/1.1\u001b[0m\" 200 -\n"
     ]
    },
    {
     "name": "stdout",
     "output_type": "stream",
     "text": [
      " <SecureCookieSession {'_permanent': True, 'user': {'email': 'da@ni.el', 'id': 51853, 'name': 'daniel', 'password': '$2b$04$rxLmapV7LM/jMEFNRpRhJ.QMOxMzUe9507ES18jD6i.ooPYyu1h0m', 'phone': '12345678', 'street': 'vej24', 'zip': 2680}}>\n",
      "{'item_id': 17, 'name': 'Chips m. havsalt', 'price': 1695, 'amount': 2} <SecureCookieSession {'_permanent': True, 'user': {'email': 'da@ni.el', 'id': 51853, 'name': 'daniel', 'password': '$2b$04$rxLmapV7LM/jMEFNRpRhJ.QMOxMzUe9507ES18jD6i.ooPYyu1h0m', 'phone': '12345678', 'street': 'vej24', 'zip': 2680}}>\n",
      " <SecureCookieSession {'_permanent': True, 'user': {'email': 'da@ni.el', 'id': 51853, 'name': 'daniel', 'password': '$2b$04$rxLmapV7LM/jMEFNRpRhJ.QMOxMzUe9507ES18jD6i.ooPYyu1h0m', 'phone': '12345678', 'street': 'vej24', 'zip': 2680}}>\n",
      "{'item_id': 17, 'name': 'Chips m. havsalt', 'price': 1695, 'amount': 2} <SecureCookieSession {'_permanent': True, 'user': {'email': 'da@ni.el', 'id': 51853, 'name': 'daniel', 'password': '$2b$04$rxLmapV7LM/jMEFNRpRhJ.QMOxMzUe9507ES18jD6i.ooPYyu1h0m', 'phone': '12345678', 'street': 'vej24', 'zip': 2680}}>\n"
     ]
    },
    {
     "name": "stderr",
     "output_type": "stream",
     "text": [
      "127.0.0.1 - - [25/May/2020 17:42:37] \"\u001b[37mPOST /cart/add HTTP/1.1\u001b[0m\" 200 -\n",
      "127.0.0.1 - - [25/May/2020 17:42:37] \"\u001b[37mPOST /cart/add HTTP/1.1\u001b[0m\" 200 -\n",
      "127.0.0.1 - - [25/May/2020 17:42:37] \"\u001b[37mGET /cart/get HTTP/1.1\u001b[0m\" 200 -\n",
      "127.0.0.1 - - [25/May/2020 17:42:37] \"\u001b[37mGET /cart/get HTTP/1.1\u001b[0m\" 200 -\n"
     ]
    },
    {
     "name": "stdout",
     "output_type": "stream",
     "text": [
      "{'item_id': 18, 'name': 'Chips m. havsalt', 'price': 1695, 'amount': 2} <SecureCookieSession {'_permanent': True, 'user': {'email': 'da@ni.el', 'id': 51853, 'name': 'daniel', 'password': '$2b$04$rxLmapV7LM/jMEFNRpRhJ.QMOxMzUe9507ES18jD6i.ooPYyu1h0m', 'phone': '12345678', 'street': 'vej24', 'zip': 2680}}>\n",
      "{'item_id': 19, 'name': 'Chips m. havsalt', 'price': 1695, 'amount': 2} <SecureCookieSession {'_permanent': True, 'user': {'email': 'da@ni.el', 'id': 51853, 'name': 'daniel', 'password': '$2b$04$rxLmapV7LM/jMEFNRpRhJ.QMOxMzUe9507ES18jD6i.ooPYyu1h0m', 'phone': '12345678', 'street': 'vej24', 'zip': 2680}}>\n",
      "{'item_id': 18, 'name': 'Chips m. havsalt', 'price': 1695, 'amount': 2} <SecureCookieSession {'_permanent': True, 'user': {'email': 'da@ni.el', 'id': 51853, 'name': 'daniel', 'password': '$2b$04$rxLmapV7LM/jMEFNRpRhJ.QMOxMzUe9507ES18jD6i.ooPYyu1h0m', 'phone': '12345678', 'street': 'vej24', 'zip': 2680}}>\n",
      "{'item_id': 19, 'name': 'Chips m. havsalt', 'price': 1695, 'amount': 2} <SecureCookieSession {'_permanent': True, 'user': {'email': 'da@ni.el', 'id': 51853, 'name': 'daniel', 'password': '$2b$04$rxLmapV7LM/jMEFNRpRhJ.QMOxMzUe9507ES18jD6i.ooPYyu1h0m', 'phone': '12345678', 'street': 'vej24', 'zip': 2680}}>\n"
     ]
    },
    {
     "name": "stderr",
     "output_type": "stream",
     "text": [
      "127.0.0.1 - - [25/May/2020 17:42:37] \"\u001b[37mPOST /cart/add HTTP/1.1\u001b[0m\" 200 -\n",
      "127.0.0.1 - - [25/May/2020 17:42:37] \"\u001b[37mPOST /cart/add HTTP/1.1\u001b[0m\" 200 -\n",
      "127.0.0.1 - - [25/May/2020 17:42:37] \"\u001b[37mGET /cart/get HTTP/1.1\u001b[0m\" 200 -\n",
      "127.0.0.1 - - [25/May/2020 17:42:37] \"\u001b[37mGET /cart/get HTTP/1.1\u001b[0m\" 200 -\n",
      "127.0.0.1 - - [25/May/2020 17:42:37] \"\u001b[37mPOST /cart/add HTTP/1.1\u001b[0m\" 200 -\n",
      "127.0.0.1 - - [25/May/2020 17:42:37] \"\u001b[37mPOST /cart/add HTTP/1.1\u001b[0m\" 200 -\n",
      "127.0.0.1 - - [25/May/2020 17:42:37] \"\u001b[37mGET /cart/get HTTP/1.1\u001b[0m\" 200 -\n",
      "127.0.0.1 - - [25/May/2020 17:42:37] \"\u001b[37mGET /cart/get HTTP/1.1\u001b[0m\" 200 -\n",
      "127.0.0.1 - - [25/May/2020 17:42:38] \"\u001b[37mPOST /cart/add HTTP/1.1\u001b[0m\" 200 -\n",
      "127.0.0.1 - - [25/May/2020 17:42:38] \"\u001b[37mPOST /cart/add HTTP/1.1\u001b[0m\" 200 -\n",
      "127.0.0.1 - - [25/May/2020 17:42:38] \"\u001b[37mGET /cart/get HTTP/1.1\u001b[0m\" 200 -\n",
      "127.0.0.1 - - [25/May/2020 17:42:38] \"\u001b[37mGET /cart/get HTTP/1.1\u001b[0m\" 200 -\n"
     ]
    },
    {
     "name": "stdout",
     "output_type": "stream",
     "text": [
      "{'item_id': 20, 'name': 'Chips m. havsalt', 'price': 1695, 'amount': 2} <SecureCookieSession {'_permanent': True, 'user': {'email': 'da@ni.el', 'id': 51853, 'name': 'daniel', 'password': '$2b$04$rxLmapV7LM/jMEFNRpRhJ.QMOxMzUe9507ES18jD6i.ooPYyu1h0m', 'phone': '12345678', 'street': 'vej24', 'zip': 2680}}>\n",
      "{'item_id': 21, 'name': 'Chips m. havsalt', 'price': 1695, 'amount': 2} <SecureCookieSession {'_permanent': True, 'user': {'email': 'da@ni.el', 'id': 51853, 'name': 'daniel', 'password': '$2b$04$rxLmapV7LM/jMEFNRpRhJ.QMOxMzUe9507ES18jD6i.ooPYyu1h0m', 'phone': '12345678', 'street': 'vej24', 'zip': 2680}}>\n",
      "{'item_id': 20, 'name': 'Chips m. havsalt', 'price': 1695, 'amount': 2} <SecureCookieSession {'_permanent': True, 'user': {'email': 'da@ni.el', 'id': 51853, 'name': 'daniel', 'password': '$2b$04$rxLmapV7LM/jMEFNRpRhJ.QMOxMzUe9507ES18jD6i.ooPYyu1h0m', 'phone': '12345678', 'street': 'vej24', 'zip': 2680}}>\n",
      "{'item_id': 21, 'name': 'Chips m. havsalt', 'price': 1695, 'amount': 2} <SecureCookieSession {'_permanent': True, 'user': {'email': 'da@ni.el', 'id': 51853, 'name': 'daniel', 'password': '$2b$04$rxLmapV7LM/jMEFNRpRhJ.QMOxMzUe9507ES18jD6i.ooPYyu1h0m', 'phone': '12345678', 'street': 'vej24', 'zip': 2680}}>\n"
     ]
    },
    {
     "name": "stderr",
     "output_type": "stream",
     "text": [
      "127.0.0.1 - - [25/May/2020 17:42:38] \"\u001b[37mPOST /cart/add HTTP/1.1\u001b[0m\" 200 -\n",
      "127.0.0.1 - - [25/May/2020 17:42:38] \"\u001b[37mPOST /cart/add HTTP/1.1\u001b[0m\" 200 -\n",
      "127.0.0.1 - - [25/May/2020 17:42:38] \"\u001b[37mGET /cart/get HTTP/1.1\u001b[0m\" 200 -\n",
      "127.0.0.1 - - [25/May/2020 17:42:38] \"\u001b[37mGET /cart/get HTTP/1.1\u001b[0m\" 200 -\n",
      "127.0.0.1 - - [25/May/2020 17:42:38] \"\u001b[37mPOST /cart/add HTTP/1.1\u001b[0m\" 200 -\n",
      "127.0.0.1 - - [25/May/2020 17:42:38] \"\u001b[37mPOST /cart/add HTTP/1.1\u001b[0m\" 200 -\n"
     ]
    },
    {
     "name": "stdout",
     "output_type": "stream",
     "text": [
      "{'item_id': 22, 'name': 'Chips m. havsalt', 'price': 1695, 'amount': 2} <SecureCookieSession {'_permanent': True, 'user': {'email': 'da@ni.el', 'id': 51853, 'name': 'daniel', 'password': '$2b$04$rxLmapV7LM/jMEFNRpRhJ.QMOxMzUe9507ES18jD6i.ooPYyu1h0m', 'phone': '12345678', 'street': 'vej24', 'zip': 2680}}>\n",
      "{'item_id': 23, 'name': 'Chips m. havsalt', 'price': 1695, 'amount': 2} <SecureCookieSession {'_permanent': True, 'user': {'email': 'da@ni.el', 'id': 51853, 'name': 'daniel', 'password': '$2b$04$rxLmapV7LM/jMEFNRpRhJ.QMOxMzUe9507ES18jD6i.ooPYyu1h0m', 'phone': '12345678', 'street': 'vej24', 'zip': 2680}}>\n",
      "{'item_id': 22, 'name': 'Chips m. havsalt', 'price': 1695, 'amount': 2} <SecureCookieSession {'_permanent': True, 'user': {'email': 'da@ni.el', 'id': 51853, 'name': 'daniel', 'password': '$2b$04$rxLmapV7LM/jMEFNRpRhJ.QMOxMzUe9507ES18jD6i.ooPYyu1h0m', 'phone': '12345678', 'street': 'vej24', 'zip': 2680}}>\n",
      "{'item_id': 23, 'name': 'Chips m. havsalt', 'price': 1695, 'amount': 2} <SecureCookieSession {'_permanent': True, 'user': {'email': 'da@ni.el', 'id': 51853, 'name': 'daniel', 'password': '$2b$04$rxLmapV7LM/jMEFNRpRhJ.QMOxMzUe9507ES18jD6i.ooPYyu1h0m', 'phone': '12345678', 'street': 'vej24', 'zip': 2680}}>\n"
     ]
    },
    {
     "name": "stderr",
     "output_type": "stream",
     "text": [
      "127.0.0.1 - - [25/May/2020 17:42:38] \"\u001b[37mGET /cart/get HTTP/1.1\u001b[0m\" 200 -\n",
      "127.0.0.1 - - [25/May/2020 17:42:38] \"\u001b[37mGET /cart/get HTTP/1.1\u001b[0m\" 200 -\n",
      "127.0.0.1 - - [25/May/2020 17:42:38] \"\u001b[37mPOST /cart/add HTTP/1.1\u001b[0m\" 200 -\n",
      "127.0.0.1 - - [25/May/2020 17:42:38] \"\u001b[37mPOST /cart/add HTTP/1.1\u001b[0m\" 200 -\n",
      "127.0.0.1 - - [25/May/2020 17:42:38] \"\u001b[37mGET /cart/get HTTP/1.1\u001b[0m\" 200 -\n",
      "127.0.0.1 - - [25/May/2020 17:42:38] \"\u001b[37mGET /cart/get HTTP/1.1\u001b[0m\" 200 -\n",
      "127.0.0.1 - - [25/May/2020 17:42:38] \"\u001b[37mPOST /cart/add HTTP/1.1\u001b[0m\" 200 -\n",
      "127.0.0.1 - - [25/May/2020 17:42:38] \"\u001b[37mPOST /cart/add HTTP/1.1\u001b[0m\" 200 -\n",
      "127.0.0.1 - - [25/May/2020 17:42:38] \"\u001b[37mGET /cart/get HTTP/1.1\u001b[0m\" 200 -\n",
      "127.0.0.1 - - [25/May/2020 17:42:38] \"\u001b[37mGET /cart/get HTTP/1.1\u001b[0m\" 200 -\n"
     ]
    },
    {
     "name": "stdout",
     "output_type": "stream",
     "text": [
      "{'item_id': 24, 'name': 'Chips m. havsalt', 'price': 1695, 'amount': 2} <SecureCookieSession {'_permanent': True, 'user': {'email': 'da@ni.el', 'id': 51853, 'name': 'daniel', 'password': '$2b$04$rxLmapV7LM/jMEFNRpRhJ.QMOxMzUe9507ES18jD6i.ooPYyu1h0m', 'phone': '12345678', 'street': 'vej24', 'zip': 2680}}>\n",
      "{'item_id': 25, 'name': 'Chips m. havsalt', 'price': 1695, 'amount': 2} <SecureCookieSession {'_permanent': True, 'user': {'email': 'da@ni.el', 'id': 51853, 'name': 'daniel', 'password': '$2b$04$rxLmapV7LM/jMEFNRpRhJ.QMOxMzUe9507ES18jD6i.ooPYyu1h0m', 'phone': '12345678', 'street': 'vej24', 'zip': 2680}}>\n",
      "{'item_id': 24, 'name': 'Chips m. havsalt', 'price': 1695, 'amount': 2} <SecureCookieSession {'_permanent': True, 'user': {'email': 'da@ni.el', 'id': 51853, 'name': 'daniel', 'password': '$2b$04$rxLmapV7LM/jMEFNRpRhJ.QMOxMzUe9507ES18jD6i.ooPYyu1h0m', 'phone': '12345678', 'street': 'vej24', 'zip': 2680}}>\n",
      "{'item_id': 25, 'name': 'Chips m. havsalt', 'price': 1695, 'amount': 2} <SecureCookieSession {'_permanent': True, 'user': {'email': 'da@ni.el', 'id': 51853, 'name': 'daniel', 'password': '$2b$04$rxLmapV7LM/jMEFNRpRhJ.QMOxMzUe9507ES18jD6i.ooPYyu1h0m', 'phone': '12345678', 'street': 'vej24', 'zip': 2680}}>\n"
     ]
    },
    {
     "name": "stderr",
     "output_type": "stream",
     "text": [
      "127.0.0.1 - - [25/May/2020 17:42:38] \"\u001b[37mPOST /cart/add HTTP/1.1\u001b[0m\" 200 -\n",
      "127.0.0.1 - - [25/May/2020 17:42:38] \"\u001b[37mPOST /cart/add HTTP/1.1\u001b[0m\" 200 -\n",
      "127.0.0.1 - - [25/May/2020 17:42:38] \"\u001b[37mGET /cart/get HTTP/1.1\u001b[0m\" 200 -\n",
      "127.0.0.1 - - [25/May/2020 17:42:38] \"\u001b[37mGET /cart/get HTTP/1.1\u001b[0m\" 200 -\n",
      "127.0.0.1 - - [25/May/2020 17:42:39] \"\u001b[37mPOST /cart/add HTTP/1.1\u001b[0m\" 200 -\n",
      "127.0.0.1 - - [25/May/2020 17:42:39] \"\u001b[37mPOST /cart/add HTTP/1.1\u001b[0m\" 200 -\n",
      "127.0.0.1 - - [25/May/2020 17:42:39] \"\u001b[37mGET /cart/get HTTP/1.1\u001b[0m\" 200 -\n",
      "127.0.0.1 - - [25/May/2020 17:42:39] \"\u001b[37mGET /cart/get HTTP/1.1\u001b[0m\" 200 -\n"
     ]
    },
    {
     "name": "stdout",
     "output_type": "stream",
     "text": [
      "{'item_id': 26, 'name': 'Chips m. havsalt', 'price': 1695, 'amount': 2} <SecureCookieSession {'_permanent': True, 'user': {'email': 'da@ni.el', 'id': 51853, 'name': 'daniel', 'password': '$2b$04$rxLmapV7LM/jMEFNRpRhJ.QMOxMzUe9507ES18jD6i.ooPYyu1h0m', 'phone': '12345678', 'street': 'vej24', 'zip': 2680}}>\n",
      "{'item_id': 27, 'name': 'Chips m. havsalt', 'price': 1695, 'amount': 2} <SecureCookieSession {'_permanent': True, 'user': {'email': 'da@ni.el', 'id': 51853, 'name': 'daniel', 'password': '$2b$04$rxLmapV7LM/jMEFNRpRhJ.QMOxMzUe9507ES18jD6i.ooPYyu1h0m', 'phone': '12345678', 'street': 'vej24', 'zip': 2680}}>\n",
      "{'item_id': 26, 'name': 'Chips m. havsalt', 'price': 1695, 'amount': 2} <SecureCookieSession {'_permanent': True, 'user': {'email': 'da@ni.el', 'id': 51853, 'name': 'daniel', 'password': '$2b$04$rxLmapV7LM/jMEFNRpRhJ.QMOxMzUe9507ES18jD6i.ooPYyu1h0m', 'phone': '12345678', 'street': 'vej24', 'zip': 2680}}>\n",
      "{'item_id': 27, 'name': 'Chips m. havsalt', 'price': 1695, 'amount': 2} <SecureCookieSession {'_permanent': True, 'user': {'email': 'da@ni.el', 'id': 51853, 'name': 'daniel', 'password': '$2b$04$rxLmapV7LM/jMEFNRpRhJ.QMOxMzUe9507ES18jD6i.ooPYyu1h0m', 'phone': '12345678', 'street': 'vej24', 'zip': 2680}}>\n"
     ]
    },
    {
     "name": "stderr",
     "output_type": "stream",
     "text": [
      "127.0.0.1 - - [25/May/2020 17:42:41] \"\u001b[37mOPTIONS /cart/clear HTTP/1.1\u001b[0m\" 200 -\n",
      "127.0.0.1 - - [25/May/2020 17:42:41] \"\u001b[37mOPTIONS /cart/clear HTTP/1.1\u001b[0m\" 200 -\n",
      "127.0.0.1 - - [25/May/2020 17:42:41] \"\u001b[1m\u001b[31mGET /cart/clear HTTP/1.1\u001b[0m\" 400 -\n",
      "127.0.0.1 - - [25/May/2020 17:42:41] \"\u001b[1m\u001b[31mGET /cart/clear HTTP/1.1\u001b[0m\" 400 -\n",
      "127.0.0.1 - - [25/May/2020 17:42:42] \"\u001b[37mOPTIONS /cart/add HTTP/1.1\u001b[0m\" 200 -\n",
      "127.0.0.1 - - [25/May/2020 17:42:42] \"\u001b[37mOPTIONS /cart/add HTTP/1.1\u001b[0m\" 200 -\n",
      "127.0.0.1 - - [25/May/2020 17:42:42] \"\u001b[37mPOST /cart/add HTTP/1.1\u001b[0m\" 200 -\n",
      "127.0.0.1 - - [25/May/2020 17:42:42] \"\u001b[37mPOST /cart/add HTTP/1.1\u001b[0m\" 200 -\n",
      "127.0.0.1 - - [25/May/2020 17:42:42] \"\u001b[37mOPTIONS /cart/get HTTP/1.1\u001b[0m\" 200 -\n",
      "127.0.0.1 - - [25/May/2020 17:42:42] \"\u001b[37mOPTIONS /cart/get HTTP/1.1\u001b[0m\" 200 -\n",
      "127.0.0.1 - - [25/May/2020 17:42:42] \"\u001b[37mGET /cart/get HTTP/1.1\u001b[0m\" 200 -\n",
      "127.0.0.1 - - [25/May/2020 17:42:42] \"\u001b[37mGET /cart/get HTTP/1.1\u001b[0m\" 200 -\n",
      "127.0.0.1 - - [25/May/2020 17:42:42] \"\u001b[37mPOST /cart/add HTTP/1.1\u001b[0m\" 200 -\n",
      "127.0.0.1 - - [25/May/2020 17:42:42] \"\u001b[37mPOST /cart/add HTTP/1.1\u001b[0m\" 200 -\n",
      "127.0.0.1 - - [25/May/2020 17:42:42] \"\u001b[37mGET /cart/get HTTP/1.1\u001b[0m\" 200 -\n",
      "127.0.0.1 - - [25/May/2020 17:42:42] \"\u001b[37mGET /cart/get HTTP/1.1\u001b[0m\" 200 -\n"
     ]
    },
    {
     "name": "stdout",
     "output_type": "stream",
     "text": [
      "{'item_id': 28, 'name': 'Chips m. havsalt', 'price': 1695, 'amount': 2} <SecureCookieSession {'_permanent': True, 'user': {'email': 'da@ni.el', 'id': 51853, 'name': 'daniel', 'password': '$2b$04$rxLmapV7LM/jMEFNRpRhJ.QMOxMzUe9507ES18jD6i.ooPYyu1h0m', 'phone': '12345678', 'street': 'vej24', 'zip': 2680}}>\n",
      "{'item_id': 29, 'name': 'Chips m. havsalt', 'price': 1695, 'amount': 2} <SecureCookieSession {'_permanent': True, 'user': {'email': 'da@ni.el', 'id': 51853, 'name': 'daniel', 'password': '$2b$04$rxLmapV7LM/jMEFNRpRhJ.QMOxMzUe9507ES18jD6i.ooPYyu1h0m', 'phone': '12345678', 'street': 'vej24', 'zip': 2680}}>\n",
      "{'item_id': 28, 'name': 'Chips m. havsalt', 'price': 1695, 'amount': 2} <SecureCookieSession {'_permanent': True, 'user': {'email': 'da@ni.el', 'id': 51853, 'name': 'daniel', 'password': '$2b$04$rxLmapV7LM/jMEFNRpRhJ.QMOxMzUe9507ES18jD6i.ooPYyu1h0m', 'phone': '12345678', 'street': 'vej24', 'zip': 2680}}>\n",
      "{'item_id': 29, 'name': 'Chips m. havsalt', 'price': 1695, 'amount': 2} <SecureCookieSession {'_permanent': True, 'user': {'email': 'da@ni.el', 'id': 51853, 'name': 'daniel', 'password': '$2b$04$rxLmapV7LM/jMEFNRpRhJ.QMOxMzUe9507ES18jD6i.ooPYyu1h0m', 'phone': '12345678', 'street': 'vej24', 'zip': 2680}}>\n"
     ]
    },
    {
     "name": "stderr",
     "output_type": "stream",
     "text": [
      "127.0.0.1 - - [25/May/2020 17:42:42] \"\u001b[37mPOST /cart/add HTTP/1.1\u001b[0m\" 200 -\n",
      "127.0.0.1 - - [25/May/2020 17:42:42] \"\u001b[37mPOST /cart/add HTTP/1.1\u001b[0m\" 200 -\n",
      "127.0.0.1 - - [25/May/2020 17:42:42] \"\u001b[37mGET /cart/get HTTP/1.1\u001b[0m\" 200 -\n",
      "127.0.0.1 - - [25/May/2020 17:42:42] \"\u001b[37mGET /cart/get HTTP/1.1\u001b[0m\" 200 -\n"
     ]
    },
    {
     "name": "stdout",
     "output_type": "stream",
     "text": [
      "{'item_id': 30, 'name': 'Chips m. havsalt', 'price': 1695, 'amount': 2} <SecureCookieSession {'_permanent': True, 'user': {'email': 'da@ni.el', 'id': 51853, 'name': 'daniel', 'password': '$2b$04$rxLmapV7LM/jMEFNRpRhJ.QMOxMzUe9507ES18jD6i.ooPYyu1h0m', 'phone': '12345678', 'street': 'vej24', 'zip': 2680}}>\n",
      "{'item_id': 31, 'name': 'Chips m. havsalt', 'price': 1695, 'amount': 2}{'item_id': 30, 'name': 'Chips m. havsalt', 'price': 1695, 'amount': 2} <SecureCookieSession {'_permanent': True, 'user': {'email': 'da@ni.el', 'id': 51853, 'name': 'daniel', 'password': '$2b$04$rxLmapV7LM/jMEFNRpRhJ.QMOxMzUe9507ES18jD6i.ooPYyu1h0m', 'phone': '12345678', 'street': 'vej24', 'zip': 2680}}>\n",
      "{'item_id': 31, 'name': 'Chips m. havsalt', 'price': 1695, 'amount': 2}"
     ]
    },
    {
     "name": "stderr",
     "output_type": "stream",
     "text": [
      "127.0.0.1 - - [25/May/2020 17:42:42] \"\u001b[37mPOST /cart/add HTTP/1.1\u001b[0m\" 200 -\n",
      "127.0.0.1 - - [25/May/2020 17:42:42] \"\u001b[37mPOST /cart/add HTTP/1.1\u001b[0m\" 200 -\n",
      "127.0.0.1 - - [25/May/2020 17:42:42] \"\u001b[37mGET /cart/get HTTP/1.1\u001b[0m\" 200 -\n",
      "127.0.0.1 - - [25/May/2020 17:42:42] \"\u001b[37mGET /cart/get HTTP/1.1\u001b[0m\" 200 -\n",
      "127.0.0.1 - - [25/May/2020 17:42:42] \"\u001b[37mPOST /cart/add HTTP/1.1\u001b[0m\" 200 -\n",
      "127.0.0.1 - - [25/May/2020 17:42:42] \"\u001b[37mPOST /cart/add HTTP/1.1\u001b[0m\" 200 -\n",
      "127.0.0.1 - - [25/May/2020 17:42:42] \"\u001b[37mGET /cart/get HTTP/1.1\u001b[0m\" 200 -\n",
      "127.0.0.1 - - [25/May/2020 17:42:42] \"\u001b[37mGET /cart/get HTTP/1.1\u001b[0m\" 200 -\n"
     ]
    },
    {
     "name": "stdout",
     "output_type": "stream",
     "text": [
      " <SecureCookieSession {'_permanent': True, 'user': {'email': 'da@ni.el', 'id': 51853, 'name': 'daniel', 'password': '$2b$04$rxLmapV7LM/jMEFNRpRhJ.QMOxMzUe9507ES18jD6i.ooPYyu1h0m', 'phone': '12345678', 'street': 'vej24', 'zip': 2680}}>\n",
      "{'item_id': 32, 'name': 'Chips m. havsalt', 'price': 1695, 'amount': 2} <SecureCookieSession {'_permanent': True, 'user': {'email': 'da@ni.el', 'id': 51853, 'name': 'daniel', 'password': '$2b$04$rxLmapV7LM/jMEFNRpRhJ.QMOxMzUe9507ES18jD6i.ooPYyu1h0m', 'phone': '12345678', 'street': 'vej24', 'zip': 2680}}>\n",
      " <SecureCookieSession {'_permanent': True, 'user': {'email': 'da@ni.el', 'id': 51853, 'name': 'daniel', 'password': '$2b$04$rxLmapV7LM/jMEFNRpRhJ.QMOxMzUe9507ES18jD6i.ooPYyu1h0m', 'phone': '12345678', 'street': 'vej24', 'zip': 2680}}>\n",
      "{'item_id': 32, 'name': 'Chips m. havsalt', 'price': 1695, 'amount': 2} <SecureCookieSession {'_permanent': True, 'user': {'email': 'da@ni.el', 'id': 51853, 'name': 'daniel', 'password': '$2b$04$rxLmapV7LM/jMEFNRpRhJ.QMOxMzUe9507ES18jD6i.ooPYyu1h0m', 'phone': '12345678', 'street': 'vej24', 'zip': 2680}}>\n"
     ]
    },
    {
     "name": "stderr",
     "output_type": "stream",
     "text": [
      "127.0.0.1 - - [25/May/2020 17:42:43] \"\u001b[37mPOST /cart/add HTTP/1.1\u001b[0m\" 200 -\n",
      "127.0.0.1 - - [25/May/2020 17:42:43] \"\u001b[37mPOST /cart/add HTTP/1.1\u001b[0m\" 200 -\n",
      "127.0.0.1 - - [25/May/2020 17:42:43] \"\u001b[37mGET /cart/get HTTP/1.1\u001b[0m\" 200 -\n",
      "127.0.0.1 - - [25/May/2020 17:42:43] \"\u001b[37mGET /cart/get HTTP/1.1\u001b[0m\" 200 -\n",
      "127.0.0.1 - - [25/May/2020 17:42:43] \"\u001b[37mPOST /cart/add HTTP/1.1\u001b[0m\" 200 -\n",
      "127.0.0.1 - - [25/May/2020 17:42:43] \"\u001b[37mPOST /cart/add HTTP/1.1\u001b[0m\" 200 -\n",
      "127.0.0.1 - - [25/May/2020 17:42:43] \"\u001b[37mGET /cart/get HTTP/1.1\u001b[0m\" 200 -\n",
      "127.0.0.1 - - [25/May/2020 17:42:43] \"\u001b[37mGET /cart/get HTTP/1.1\u001b[0m\" 200 -\n"
     ]
    },
    {
     "name": "stdout",
     "output_type": "stream",
     "text": [
      "{'item_id': 33, 'name': 'Chips m. havsalt', 'price': 1695, 'amount': 2} <SecureCookieSession {'_permanent': True, 'user': {'email': 'da@ni.el', 'id': 51853, 'name': 'daniel', 'password': '$2b$04$rxLmapV7LM/jMEFNRpRhJ.QMOxMzUe9507ES18jD6i.ooPYyu1h0m', 'phone': '12345678', 'street': 'vej24', 'zip': 2680}}>\n",
      "{'item_id': 34, 'name': 'Chips m. havsalt', 'price': 1695, 'amount': 2} <SecureCookieSession {'_permanent': True, 'user': {'email': 'da@ni.el', 'id': 51853, 'name': 'daniel', 'password': '$2b$04$rxLmapV7LM/jMEFNRpRhJ.QMOxMzUe9507ES18jD6i.ooPYyu1h0m', 'phone': '12345678', 'street': 'vej24', 'zip': 2680}}>\n",
      "{'item_id': 33, 'name': 'Chips m. havsalt', 'price': 1695, 'amount': 2} <SecureCookieSession {'_permanent': True, 'user': {'email': 'da@ni.el', 'id': 51853, 'name': 'daniel', 'password': '$2b$04$rxLmapV7LM/jMEFNRpRhJ.QMOxMzUe9507ES18jD6i.ooPYyu1h0m', 'phone': '12345678', 'street': 'vej24', 'zip': 2680}}>\n",
      "{'item_id': 34, 'name': 'Chips m. havsalt', 'price': 1695, 'amount': 2} <SecureCookieSession {'_permanent': True, 'user': {'email': 'da@ni.el', 'id': 51853, 'name': 'daniel', 'password': '$2b$04$rxLmapV7LM/jMEFNRpRhJ.QMOxMzUe9507ES18jD6i.ooPYyu1h0m', 'phone': '12345678', 'street': 'vej24', 'zip': 2680}}>\n"
     ]
    },
    {
     "name": "stderr",
     "output_type": "stream",
     "text": [
      "127.0.0.1 - - [25/May/2020 17:42:43] \"\u001b[37mPOST /cart/add HTTP/1.1\u001b[0m\" 200 -\n",
      "127.0.0.1 - - [25/May/2020 17:42:43] \"\u001b[37mPOST /cart/add HTTP/1.1\u001b[0m\" 200 -\n",
      "127.0.0.1 - - [25/May/2020 17:42:43] \"\u001b[37mGET /cart/get HTTP/1.1\u001b[0m\" 200 -\n",
      "127.0.0.1 - - [25/May/2020 17:42:43] \"\u001b[37mGET /cart/get HTTP/1.1\u001b[0m\" 200 -\n",
      "127.0.0.1 - - [25/May/2020 17:42:43] \"\u001b[37mPOST /cart/add HTTP/1.1\u001b[0m\" 200 -\n",
      "127.0.0.1 - - [25/May/2020 17:42:43] \"\u001b[37mPOST /cart/add HTTP/1.1\u001b[0m\" 200 -\n",
      "127.0.0.1 - - [25/May/2020 17:42:43] \"\u001b[37mGET /cart/get HTTP/1.1\u001b[0m\" 200 -\n",
      "127.0.0.1 - - [25/May/2020 17:42:43] \"\u001b[37mGET /cart/get HTTP/1.1\u001b[0m\" 200 -\n"
     ]
    },
    {
     "name": "stdout",
     "output_type": "stream",
     "text": [
      "{'item_id': 35, 'name': 'Chips m. havsalt', 'price': 1695, 'amount': 2} <SecureCookieSession {'_permanent': True, 'user': {'email': 'da@ni.el', 'id': 51853, 'name': 'daniel', 'password': '$2b$04$rxLmapV7LM/jMEFNRpRhJ.QMOxMzUe9507ES18jD6i.ooPYyu1h0m', 'phone': '12345678', 'street': 'vej24', 'zip': 2680}}>\n",
      "{'item_id': 36, 'name': 'Chips m. havsalt', 'price': 1695, 'amount': 2} <SecureCookieSession {'_permanent': True, 'user': {'email': 'da@ni.el', 'id': 51853, 'name': 'daniel', 'password': '$2b$04$rxLmapV7LM/jMEFNRpRhJ.QMOxMzUe9507ES18jD6i.ooPYyu1h0m', 'phone': '12345678', 'street': 'vej24', 'zip': 2680}}>\n",
      "{'item_id': 35, 'name': 'Chips m. havsalt', 'price': 1695, 'amount': 2} <SecureCookieSession {'_permanent': True, 'user': {'email': 'da@ni.el', 'id': 51853, 'name': 'daniel', 'password': '$2b$04$rxLmapV7LM/jMEFNRpRhJ.QMOxMzUe9507ES18jD6i.ooPYyu1h0m', 'phone': '12345678', 'street': 'vej24', 'zip': 2680}}>\n",
      "{'item_id': 36, 'name': 'Chips m. havsalt', 'price': 1695, 'amount': 2} <SecureCookieSession {'_permanent': True, 'user': {'email': 'da@ni.el', 'id': 51853, 'name': 'daniel', 'password': '$2b$04$rxLmapV7LM/jMEFNRpRhJ.QMOxMzUe9507ES18jD6i.ooPYyu1h0m', 'phone': '12345678', 'street': 'vej24', 'zip': 2680}}>\n"
     ]
    },
    {
     "name": "stderr",
     "output_type": "stream",
     "text": [
      "127.0.0.1 - - [25/May/2020 17:42:43] \"\u001b[37mPOST /cart/add HTTP/1.1\u001b[0m\" 200 -\n",
      "127.0.0.1 - - [25/May/2020 17:42:43] \"\u001b[37mPOST /cart/add HTTP/1.1\u001b[0m\" 200 -\n",
      "127.0.0.1 - - [25/May/2020 17:42:43] \"\u001b[37mGET /cart/get HTTP/1.1\u001b[0m\" 200 -\n",
      "127.0.0.1 - - [25/May/2020 17:42:43] \"\u001b[37mGET /cart/get HTTP/1.1\u001b[0m\" 200 -\n",
      "127.0.0.1 - - [25/May/2020 17:42:43] \"\u001b[37mPOST /cart/add HTTP/1.1\u001b[0m\" 200 -\n",
      "127.0.0.1 - - [25/May/2020 17:42:43] \"\u001b[37mPOST /cart/add HTTP/1.1\u001b[0m\" 200 -\n",
      "127.0.0.1 - - [25/May/2020 17:42:43] \"\u001b[37mGET /cart/get HTTP/1.1\u001b[0m\" 200 -\n",
      "127.0.0.1 - - [25/May/2020 17:42:43] \"\u001b[37mGET /cart/get HTTP/1.1\u001b[0m\" 200 -\n"
     ]
    },
    {
     "name": "stdout",
     "output_type": "stream",
     "text": [
      "{'item_id': 37, 'name': 'Chips m. havsalt', 'price': 1695, 'amount': 2} <SecureCookieSession {'_permanent': True, 'user': {'email': 'da@ni.el', 'id': 51853, 'name': 'daniel', 'password': '$2b$04$rxLmapV7LM/jMEFNRpRhJ.QMOxMzUe9507ES18jD6i.ooPYyu1h0m', 'phone': '12345678', 'street': 'vej24', 'zip': 2680}}>\n",
      "{'item_id': 38, 'name': 'Chips m. havsalt', 'price': 1695, 'amount': 2} <SecureCookieSession {'_permanent': True, 'user': {'email': 'da@ni.el', 'id': 51853, 'name': 'daniel', 'password': '$2b$04$rxLmapV7LM/jMEFNRpRhJ.QMOxMzUe9507ES18jD6i.ooPYyu1h0m', 'phone': '12345678', 'street': 'vej24', 'zip': 2680}}>\n",
      "{'item_id': 37, 'name': 'Chips m. havsalt', 'price': 1695, 'amount': 2} <SecureCookieSession {'_permanent': True, 'user': {'email': 'da@ni.el', 'id': 51853, 'name': 'daniel', 'password': '$2b$04$rxLmapV7LM/jMEFNRpRhJ.QMOxMzUe9507ES18jD6i.ooPYyu1h0m', 'phone': '12345678', 'street': 'vej24', 'zip': 2680}}>\n",
      "{'item_id': 38, 'name': 'Chips m. havsalt', 'price': 1695, 'amount': 2} <SecureCookieSession {'_permanent': True, 'user': {'email': 'da@ni.el', 'id': 51853, 'name': 'daniel', 'password': '$2b$04$rxLmapV7LM/jMEFNRpRhJ.QMOxMzUe9507ES18jD6i.ooPYyu1h0m', 'phone': '12345678', 'street': 'vej24', 'zip': 2680}}>\n"
     ]
    },
    {
     "name": "stderr",
     "output_type": "stream",
     "text": [
      "127.0.0.1 - - [25/May/2020 17:42:44] \"\u001b[37mPOST /cart/add HTTP/1.1\u001b[0m\" 200 -\n",
      "127.0.0.1 - - [25/May/2020 17:42:44] \"\u001b[37mPOST /cart/add HTTP/1.1\u001b[0m\" 200 -\n",
      "127.0.0.1 - - [25/May/2020 17:42:44] \"\u001b[37mGET /cart/get HTTP/1.1\u001b[0m\" 200 -\n",
      "127.0.0.1 - - [25/May/2020 17:42:44] \"\u001b[37mGET /cart/get HTTP/1.1\u001b[0m\" 200 -\n",
      "127.0.0.1 - - [25/May/2020 17:42:44] \"\u001b[37mPOST /cart/add HTTP/1.1\u001b[0m\" 200 -\n",
      "127.0.0.1 - - [25/May/2020 17:42:44] \"\u001b[37mPOST /cart/add HTTP/1.1\u001b[0m\" 200 -\n",
      "127.0.0.1 - - [25/May/2020 17:42:44] \"\u001b[37mGET /cart/get HTTP/1.1\u001b[0m\" 200 -\n",
      "127.0.0.1 - - [25/May/2020 17:42:44] \"\u001b[37mGET /cart/get HTTP/1.1\u001b[0m\" 200 -\n"
     ]
    },
    {
     "name": "stdout",
     "output_type": "stream",
     "text": [
      "{'item_id': 39, 'name': 'Chips m. havsalt', 'price': 1695, 'amount': 2} <SecureCookieSession {'_permanent': True, 'user': {'email': 'da@ni.el', 'id': 51853, 'name': 'daniel', 'password': '$2b$04$rxLmapV7LM/jMEFNRpRhJ.QMOxMzUe9507ES18jD6i.ooPYyu1h0m', 'phone': '12345678', 'street': 'vej24', 'zip': 2680}}>\n",
      "{'item_id': 40, 'name': 'Chips m. havsalt', 'price': 1695, 'amount': 2} <SecureCookieSession {'_permanent': True, 'user': {'email': 'da@ni.el', 'id': 51853, 'name': 'daniel', 'password': '$2b$04$rxLmapV7LM/jMEFNRpRhJ.QMOxMzUe9507ES18jD6i.ooPYyu1h0m', 'phone': '12345678', 'street': 'vej24', 'zip': 2680}}>\n",
      "{'item_id': 39, 'name': 'Chips m. havsalt', 'price': 1695, 'amount': 2} <SecureCookieSession {'_permanent': True, 'user': {'email': 'da@ni.el', 'id': 51853, 'name': 'daniel', 'password': '$2b$04$rxLmapV7LM/jMEFNRpRhJ.QMOxMzUe9507ES18jD6i.ooPYyu1h0m', 'phone': '12345678', 'street': 'vej24', 'zip': 2680}}>\n",
      "{'item_id': 40, 'name': 'Chips m. havsalt', 'price': 1695, 'amount': 2} <SecureCookieSession {'_permanent': True, 'user': {'email': 'da@ni.el', 'id': 51853, 'name': 'daniel', 'password': '$2b$04$rxLmapV7LM/jMEFNRpRhJ.QMOxMzUe9507ES18jD6i.ooPYyu1h0m', 'phone': '12345678', 'street': 'vej24', 'zip': 2680}}>\n"
     ]
    },
    {
     "name": "stderr",
     "output_type": "stream",
     "text": [
      "127.0.0.1 - - [25/May/2020 17:42:44] \"\u001b[37mPOST /cart/add HTTP/1.1\u001b[0m\" 200 -\n",
      "127.0.0.1 - - [25/May/2020 17:42:44] \"\u001b[37mPOST /cart/add HTTP/1.1\u001b[0m\" 200 -\n",
      "127.0.0.1 - - [25/May/2020 17:42:44] \"\u001b[37mGET /cart/get HTTP/1.1\u001b[0m\" 200 -\n",
      "127.0.0.1 - - [25/May/2020 17:42:44] \"\u001b[37mGET /cart/get HTTP/1.1\u001b[0m\" 200 -\n",
      "127.0.0.1 - - [25/May/2020 17:42:44] \"\u001b[37mPOST /cart/add HTTP/1.1\u001b[0m\" 200 -\n",
      "127.0.0.1 - - [25/May/2020 17:42:44] \"\u001b[37mPOST /cart/add HTTP/1.1\u001b[0m\" 200 -\n",
      "127.0.0.1 - - [25/May/2020 17:42:44] \"\u001b[37mGET /cart/get HTTP/1.1\u001b[0m\" 200 -\n",
      "127.0.0.1 - - [25/May/2020 17:42:44] \"\u001b[37mGET /cart/get HTTP/1.1\u001b[0m\" 200 -\n"
     ]
    },
    {
     "name": "stdout",
     "output_type": "stream",
     "text": [
      "{'item_id': 41, 'name': 'Chips m. havsalt', 'price': 1695, 'amount': 2} <SecureCookieSession {'_permanent': True, 'user': {'email': 'da@ni.el', 'id': 51853, 'name': 'daniel', 'password': '$2b$04$rxLmapV7LM/jMEFNRpRhJ.QMOxMzUe9507ES18jD6i.ooPYyu1h0m', 'phone': '12345678', 'street': 'vej24', 'zip': 2680}}>\n",
      "{'item_id': 42, 'name': 'Chips m. havsalt', 'price': 1695, 'amount': 2} <SecureCookieSession {'_permanent': True, 'user': {'email': 'da@ni.el', 'id': 51853, 'name': 'daniel', 'password': '$2b$04$rxLmapV7LM/jMEFNRpRhJ.QMOxMzUe9507ES18jD6i.ooPYyu1h0m', 'phone': '12345678', 'street': 'vej24', 'zip': 2680}}>\n",
      "{'item_id': 41, 'name': 'Chips m. havsalt', 'price': 1695, 'amount': 2} <SecureCookieSession {'_permanent': True, 'user': {'email': 'da@ni.el', 'id': 51853, 'name': 'daniel', 'password': '$2b$04$rxLmapV7LM/jMEFNRpRhJ.QMOxMzUe9507ES18jD6i.ooPYyu1h0m', 'phone': '12345678', 'street': 'vej24', 'zip': 2680}}>\n",
      "{'item_id': 42, 'name': 'Chips m. havsalt', 'price': 1695, 'amount': 2} <SecureCookieSession {'_permanent': True, 'user': {'email': 'da@ni.el', 'id': 51853, 'name': 'daniel', 'password': '$2b$04$rxLmapV7LM/jMEFNRpRhJ.QMOxMzUe9507ES18jD6i.ooPYyu1h0m', 'phone': '12345678', 'street': 'vej24', 'zip': 2680}}>\n"
     ]
    },
    {
     "name": "stderr",
     "output_type": "stream",
     "text": [
      "127.0.0.1 - - [25/May/2020 17:42:44] \"\u001b[37mPOST /cart/add HTTP/1.1\u001b[0m\" 200 -\n",
      "127.0.0.1 - - [25/May/2020 17:42:44] \"\u001b[37mPOST /cart/add HTTP/1.1\u001b[0m\" 200 -\n",
      "127.0.0.1 - - [25/May/2020 17:42:44] \"\u001b[37mGET /cart/get HTTP/1.1\u001b[0m\" 200 -\n",
      "127.0.0.1 - - [25/May/2020 17:42:44] \"\u001b[37mGET /cart/get HTTP/1.1\u001b[0m\" 200 -\n",
      "127.0.0.1 - - [25/May/2020 17:42:44] \"\u001b[37mPOST /cart/add HTTP/1.1\u001b[0m\" 200 -\n",
      "127.0.0.1 - - [25/May/2020 17:42:44] \"\u001b[37mPOST /cart/add HTTP/1.1\u001b[0m\" 200 -\n",
      "127.0.0.1 - - [25/May/2020 17:42:44] \"\u001b[37mGET /cart/get HTTP/1.1\u001b[0m\" 200 -\n",
      "127.0.0.1 - - [25/May/2020 17:42:44] \"\u001b[37mGET /cart/get HTTP/1.1\u001b[0m\" 200 -\n"
     ]
    },
    {
     "name": "stdout",
     "output_type": "stream",
     "text": [
      "{'item_id': 43, 'name': 'Chips m. havsalt', 'price': 1695, 'amount': 2} <SecureCookieSession {'_permanent': True, 'user': {'email': 'da@ni.el', 'id': 51853, 'name': 'daniel', 'password': '$2b$04$rxLmapV7LM/jMEFNRpRhJ.QMOxMzUe9507ES18jD6i.ooPYyu1h0m', 'phone': '12345678', 'street': 'vej24', 'zip': 2680}}>\n",
      "{'item_id': 44, 'name': 'Chips m. havsalt', 'price': 1695, 'amount': 2} <SecureCookieSession {'_permanent': True, 'user': {'email': 'da@ni.el', 'id': 51853, 'name': 'daniel', 'password': '$2b$04$rxLmapV7LM/jMEFNRpRhJ.QMOxMzUe9507ES18jD6i.ooPYyu1h0m', 'phone': '12345678', 'street': 'vej24', 'zip': 2680}}>\n",
      "{'item_id': 43, 'name': 'Chips m. havsalt', 'price': 1695, 'amount': 2} <SecureCookieSession {'_permanent': True, 'user': {'email': 'da@ni.el', 'id': 51853, 'name': 'daniel', 'password': '$2b$04$rxLmapV7LM/jMEFNRpRhJ.QMOxMzUe9507ES18jD6i.ooPYyu1h0m', 'phone': '12345678', 'street': 'vej24', 'zip': 2680}}>\n",
      "{'item_id': 44, 'name': 'Chips m. havsalt', 'price': 1695, 'amount': 2} <SecureCookieSession {'_permanent': True, 'user': {'email': 'da@ni.el', 'id': 51853, 'name': 'daniel', 'password': '$2b$04$rxLmapV7LM/jMEFNRpRhJ.QMOxMzUe9507ES18jD6i.ooPYyu1h0m', 'phone': '12345678', 'street': 'vej24', 'zip': 2680}}>\n"
     ]
    }
   ],
   "source": [
    "from flask import Flask, render_template, request, g, session, redirect, url_for, jsonify\n",
    "from flask_cors import CORS, cross_origin\n",
    "import json\n",
    "import db_access # connection info for all dbs\n",
    "import my_postgres as pg # our postgres methods\n",
    "import my_redis as rd # our redis methods\n",
    "import psycopg2 # lib to connect to postgres\n",
    "import redis # lib to connect to redis\n",
    "\n",
    "#database connections\n",
    "pgconn = psycopg2.connect(**db_access.postgres)\n",
    "rdconn = redis.Redis(**db_access.redis)\n",
    "\n",
    "# general flask setup\n",
    "app = Flask(__name__)\n",
    "\n",
    "app.secret_key = \"tsop secret key of awesomeness\"\n",
    "app.config['CORS_HEADERS'] = 'Content-Type'\n",
    "app.config['CORS_SUPPORTS_CREDENTIALS'] = True\n",
    "\n",
    "cors = CORS(app)\n",
    "\n",
    "\n",
    "# front page, returns user session\n",
    "@app.route('/')\n",
    "def main():\n",
    "    if \"user\" in session:\n",
    "        return json.dumps(session[\"user\"], ensure_ascii=False)\n",
    "    else:\n",
    "        return \"YOU ARE NOT A USER!!!!!\"\n",
    "\n",
    "    \n",
    "    \n",
    "############################\n",
    "#     POSTGRES / USERS     #\n",
    "############################\n",
    "    \n",
    "#login, can test with below endpoint\n",
    "#http://127.0.0.1:5000/login/nancy1@claudia.io/1234\n",
    "@app.route('/login/<email>/<password>')\n",
    "def set_session(email, password):\n",
    "    \n",
    "    user = pg.login(pgconn, email, password)\n",
    "    if user is None:\n",
    "        return json.dumps({'success':False}), 400\n",
    "    else:\n",
    "        session[\"user\"] = user\n",
    "        session.permanent = True\n",
    "        return jsonify(session[\"user\"])\n",
    "\n",
    "#logout\n",
    "@app.route('/logout')\n",
    "def logout():\n",
    "    session.pop(\"user\", None)\n",
    "    return json.dumps({'success':True}), 200\n",
    "\n",
    "# get user from email\n",
    "@app.route('/user/<email>')\n",
    "def get_user_info(email):\n",
    "    return json.dumps(pg.get_user_info(pgconn, email), ensure_ascii=False)\n",
    "\n",
    "# create user\n",
    "# {\n",
    "#     \"name\": \"daniel\",\n",
    "#     \"email\": \"da@ni.el\",\n",
    "#     \"phone\": \"12345678\",\n",
    "#     \"street\": \"vej24\",\n",
    "#     \"password\": \"1234\",\n",
    "#     \"zip\": \"2680\"\n",
    "# }\n",
    "@app.route('/user/create', methods=[\"POST\"])\n",
    "def create_user():\n",
    "    user = request.json\n",
    "    return json.dumps(pg.create_user(pgconn, user), ensure_ascii=False)\n",
    "\n",
    "# delete user from email\n",
    "@app.route('/user/delete/<email>')\n",
    "def delete_user(email):\n",
    "    user = request.json\n",
    "    pg.delete_user(pgconn, email)\n",
    "    return json.dumps({'success':True}), 200\n",
    "\n",
    "\n",
    "#############################\n",
    "#       REDIS / CART        #\n",
    "#############################\n",
    "@app.route('/cart/get')\n",
    "def get_cart():\n",
    "    if \"user\" not in session:\n",
    "        return json.dumps({'success':False}), 400\n",
    "    \n",
    "    return json.dumps(rd.get_cart(rdconn, session[\"user\"][\"email\"]))\n",
    "\n",
    "def get_compressed_cart():\n",
    "    if \"user\" not in session:\n",
    "        return json.dumps({'success':False}), 400\n",
    "\n",
    "    return json.dumps(rd.get_compressed_cart(rdconn, session[\"user\"][\"email\"]))\n",
    "\n",
    "@app.route('/cart/add', methods=[\"POST\"])\n",
    "def add_to_cart():\n",
    "    item = valid = request.json\n",
    "    \n",
    "    print(item, session)\n",
    "    \n",
    "    # check if item has the correct propperties\n",
    "    item_keys = set(item.keys())\n",
    "    for key in ['item_id','amount','price','name']:\n",
    "        if key not in item_keys:\n",
    "            valid = False\n",
    "            \n",
    "    if \"user\" not in session or item is not valid:\n",
    "        return json.dumps({'success':False}), 400\n",
    "    \n",
    "    json.dumps(rd.add_to_cart(rdconn, session[\"user\"][\"email\"], item))\n",
    "    return json.dumps({'success':True}), 200\n",
    "\n",
    "\n",
    "@app.route('/cart/remove', methods=[\"POST\"])\n",
    "def remove_from_cart():\n",
    "    item_id = request.json\n",
    "    if \"user\" in session and type(item_id) is int:\n",
    "        rd.remove_from_cart(rdconn, session[\"user\"][\"email\"], item_id)\n",
    "        return json.dumps({'success':False}), 400\n",
    "        \n",
    "    return json.dumps({'success':True}), 200\n",
    "\n",
    "\n",
    "@app.route('/cart/clear')\n",
    "def clear_cart():\n",
    "    if \"user\" in session:\n",
    "        rd.clear_cart(rdconn, session[\"user\"][\"email\"])\n",
    "        return json.dumps({'success':False}), 400\n",
    "        \n",
    "    return json.dumps({'success':True}), 200\n",
    "\n",
    "# start app\n",
    "if __name__ == '__main__':\n",
    "    app.run()"
   ]
  }
 ],
 "metadata": {
  "kernelspec": {
   "display_name": "Python 3",
   "language": "python",
   "name": "python3"
  },
  "language_info": {
   "codemirror_mode": {
    "name": "ipython",
    "version": 3
   },
   "file_extension": ".py",
   "mimetype": "text/x-python",
   "name": "python",
   "nbconvert_exporter": "python",
   "pygments_lexer": "ipython3",
   "version": "3.7.3"
  }
 },
 "nbformat": 4,
 "nbformat_minor": 2
}
