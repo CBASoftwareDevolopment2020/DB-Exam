{
 "cells": [
  {
   "cell_type": "code",
   "execution_count": 114,
   "metadata": {},
   "outputs": [],
   "source": [
    "import redis\n",
    "conn = redis.Redis(host='localhost', port=6379, db=0)"
   ]
  },
  {
   "cell_type": "code",
   "execution_count": 115,
   "metadata": {},
   "outputs": [],
   "source": [
    "def add_to_cart(conn, s, t):\n",
    "    item, count = t\n",
    "    d = {item: count}\n",
    "    ses = 'cart:' + str(s)\n",
    "    conn.hmset(ses, d)\n",
    "    conn.expire(ses, 1800)\n",
    "    \n",
    "def remove_from_cart(conn, s, item):\n",
    "    ses = 'cart:' + str(s)\n",
    "    conn.hdel(ses, item)\n",
    "    conn.expire(ses, 1800)\n",
    "\n",
    "def clear_cart(r, s):\n",
    "    ses = 'cart:' + str(s)\n",
    "    conn.delete(ses)\n",
    "\n",
    "def get_cart(r, s):\n",
    "    ses = \"cart:\" + str(s)\n",
    "    r.expire(ses, 1800)\n",
    "    x = r.hgetall(ses)\n",
    "    return {int(k): int(v) for k,v in x.items()}"
   ]
  },
  {
   "cell_type": "code",
   "execution_count": 118,
   "metadata": {},
   "outputs": [
    {
     "name": "stderr",
     "output_type": "stream",
     "text": [
      "C:\\Users\\Hupra\\Anaconda3\\lib\\site-packages\\ipykernel_launcher.py:5: DeprecationWarning: Redis.hmset() is deprecated. Use Redis.hset() instead.\n",
      "  \"\"\"\n"
     ]
    }
   ],
   "source": [
    "add_to_cart(r,\"420\", (1,1))"
   ]
  }
 ],
 "metadata": {
  "kernelspec": {
   "display_name": "Python 3",
   "language": "python",
   "name": "python3"
  },
  "language_info": {
   "codemirror_mode": {
    "name": "ipython",
    "version": 3
   },
   "file_extension": ".py",
   "mimetype": "text/x-python",
   "name": "python",
   "nbconvert_exporter": "python",
   "pygments_lexer": "ipython3",
   "version": "3.7.3"
  }
 },
 "nbformat": 4,
 "nbformat_minor": 2
}
