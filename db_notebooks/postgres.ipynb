{
 "cells": [
  {
   "cell_type": "code",
   "execution_count": 1,
   "metadata": {},
   "outputs": [],
   "source": [
    "import psycopg2\n",
    "import bcrypt"
   ]
  },
  {
   "cell_type": "code",
   "execution_count": 2,
   "metadata": {},
   "outputs": [],
   "source": [
    "d = {\n",
    "    \"host\": \"localhost\",\n",
    "    \"database\": \"dbex2\",\n",
    "    \"user\": \"postgres\",\n",
    "    \"password\": \"12345678\"\n",
    "}\n",
    "conn = psycopg2.connect(**d)"
   ]
  },
  {
   "cell_type": "code",
   "execution_count": 4,
   "metadata": {},
   "outputs": [],
   "source": [
    "def login(conn, email, password):\n",
    "    cur = conn.cursor()\n",
    "    cur.callproc(\"get_password\", [email])\n",
    "    user = cur.fetchone()\n",
    "    if user is None:\n",
    "        return None\n",
    "    else:\n",
    "        user = {\n",
    "            \"id\": user[0],\n",
    "            \"name\": user[1],\n",
    "            \"email\": user[2],\n",
    "            \"phone\": user[3],\n",
    "            \"street\": user[4],\n",
    "            \"password\": user[5],\n",
    "            \"zip\": user[6]\n",
    "        }\n",
    "    if bcrypt.checkpw(bytes(password, \"utf-8\"), bytes(user[\"password\"], \"utf-8\")):\n",
    "        return user\n",
    "    else:\n",
    "        return None\n",
    "\n",
    "def delete_user(conn, email):\n",
    "    cur = conn.cursor()\n",
    "    cur.execute(\"CALL delete_user('{}')\".format(email))\n",
    "\n",
    "def create_user(conn, user):\n",
    "    u = user\n",
    "    u[\"password\"] = bcrypt.hashpw(bytes(u[\"password\"], \"utf-8\"), bcrypt.gensalt(4)).decode(\"utf-8\")\n",
    "    u = (u[\"name\"], u[\"email\"], u[\"phone\"], u[\"street\"], u[\"password\"], int(u[\"zip\"]))\n",
    "    cur = conn.cursor()\n",
    "    \n",
    "    try:\n",
    "        cur.callproc(\"create_user\", u)\n",
    "        res = cur.fetchone()\n",
    "        return res\n",
    "    except:\n",
    "        cur.execute(\"ROLLBACK\")\n",
    "\n",
    "def get_user_info(conn, email):\n",
    "    cur = conn.cursor()\n",
    "    cur.callproc(\"get_user_info\", [email])\n",
    "    res = cur.fetchone()\n",
    "    \n",
    "    if res is None:\n",
    "        return None\n",
    "    user = {\n",
    "        \"id\": res[0],\n",
    "        \"name\": res[1],\n",
    "        \"email\": res[2],\n",
    "        \"phone\": res[3],\n",
    "        \"street\": res[4],\n",
    "        \"password\": res[5],\n",
    "        \"lat\": res[6],\n",
    "        \"lon\": res[7],\n",
    "        \"zip\": res[8],\n",
    "        \"region\": res[9]\n",
    "    }\n",
    "    return user"
   ]
  },
  {
   "cell_type": "code",
   "execution_count": 15,
   "metadata": {
    "scrolled": false
   },
   "outputs": [
    {
     "name": "stdout",
     "output_type": "stream",
     "text": [
      "id      \t 41843\n",
      "name      \t daniel\n",
      "email      \t da@ni.el\n",
      "phone      \t 12345678\n",
      "street      \t vej24\n",
      "password      \t $2b$04$bb7.sGKRQE1.pBST3IWvbuSZMw1WNSidNxOA/R4YdJZ7BsGSoZP3y\n",
      "zip      \t 2680\n",
      "\n",
      "------------------------------------\n",
      "\n",
      "id      \t 41843\n",
      "name      \t daniel\n",
      "email      \t da@ni.el\n",
      "phone      \t 12345678\n",
      "street      \t vej24\n",
      "password      \t $2b$04$bb7.sGKRQE1.pBST3IWvbuSZMw1WNSidNxOA/R4YdJZ7BsGSoZP3y\n",
      "lat      \t 12.26072581\n",
      "lon      \t 55.5150734\n",
      "zip      \t 2680\n",
      "region      \t Solrød Strand\n"
     ]
    }
   ],
   "source": [
    "user = {\n",
    "    \"name\": \"daniel\",\n",
    "    \"email\": \"da@ni.el\",\n",
    "    \"phone\": \"12345678\",\n",
    "    \"street\": \"vej24\",\n",
    "    \"password\": \"1234\",\n",
    "    \"zip\": \"2680\"\n",
    "}\n",
    "d = delete_user(conn, user[\"email\"])\n",
    "c = create_user(conn, user)\n",
    "l = login(conn, \"da@ni.el\", \"1234\")\n",
    "i = get_user_info(conn, \"da@ni.el\")\n",
    "\n",
    "\n",
    "\n",
    "for k,v in l.items():\n",
    "    print(k,\"     \\t\",v)\n",
    "\n",
    "    \n",
    "print(\"\\n------------------------------------\\n\")\n",
    "\n",
    "for k,v in i.items():\n",
    "    print(k,\"     \\t\",v)"
   ]
  }
 ],
 "metadata": {
  "kernelspec": {
   "display_name": "Python 3",
   "language": "python",
   "name": "python3"
  },
  "language_info": {
   "codemirror_mode": {
    "name": "ipython",
    "version": 3
   },
   "file_extension": ".py",
   "mimetype": "text/x-python",
   "name": "python",
   "nbconvert_exporter": "python",
   "pygments_lexer": "ipython3",
   "version": "3.7.3"
  }
 },
 "nbformat": 4,
 "nbformat_minor": 2
}
