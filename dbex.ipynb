{
 "cells": [
  {
   "cell_type": "code",
   "execution_count": 1,
   "metadata": {},
   "outputs": [],
   "source": [
    "with open(\"dbex/names.txt\", \"r\") as f:\n",
    "    txt = f.read()\n",
    "    names = txt.split(\"\\n\")"
   ]
  },
  {
   "cell_type": "code",
   "execution_count": 2,
   "metadata": {},
   "outputs": [],
   "source": [
    "with open(\"dbex/streets.txt\", \"r\") as f:\n",
    "    txt = f.read()\n",
    "    streets = txt.split(\"\\n\")\n",
    "    streets = [x.split(\". \")[1] for x in streets]"
   ]
  },
  {
   "cell_type": "code",
   "execution_count": 3,
   "metadata": {
    "scrolled": true
   },
   "outputs": [],
   "source": [
    "import json\n",
    "with open(\"dbex/pnJSON.json\", \"r\", encoding='utf-8') as f:\n",
    "    j = json.loads(f.read())\n",
    "    #zipcodes = {d[\"nr\"]:d[\"navn\"] for d in j}\n",
    "    zipcodes = list(set(d[\"nr\"] for d in j))\n",
    "\n",
    "# print(*list(zipcodes.items()), sep=\"\\n\")"
   ]
  },
  {
   "cell_type": "code",
   "execution_count": 4,
   "metadata": {},
   "outputs": [],
   "source": [
    "import bcrypt\n",
    "hashed = bcrypt.hashpw(bytes(\"1234\", \"utf-8\"), bcrypt.gensalt(8))\n",
    "\n",
    "def password_gen():\n",
    "    return bcrypt.hashpw(bytes(\"1234\", \"utf-8\"), bcrypt.gensalt(4)).decode(\"utf-8\")"
   ]
  },
  {
   "cell_type": "code",
   "execution_count": 5,
   "metadata": {},
   "outputs": [],
   "source": [
    "from random import randint, choice\n",
    "\n",
    "def phone_gen(x):\n",
    "    a = set()\n",
    "    while len(a) < x:\n",
    "        a.add((\"00000000\" + str(randint(0,99999999)))[-8:])\n",
    "    return list(a)"
   ]
  },
  {
   "cell_type": "code",
   "execution_count": 6,
   "metadata": {},
   "outputs": [],
   "source": [
    "c = {\"c\":0}\n",
    "def email_gen(name):\n",
    "    c[\"c\"] +=1\n",
    "    e = name.lower() + str(c[\"c\"]) + \"@\" + choice(names).lower() + \".\" + choice([\"com\", \"dk\", \"net\", \"org\", \"io\"])\n",
    "    return e"
   ]
  },
  {
   "cell_type": "code",
   "execution_count": 7,
   "metadata": {},
   "outputs": [],
   "source": [
    "# create users\n",
    "import pandas as pd\n",
    "from collections import defaultdict\n",
    "users = defaultdict(list)\n",
    "\n",
    "amount = 10000\n",
    "\n",
    "phones = phone_gen(amount)\n",
    "\n",
    "for i in range(amount):\n",
    "    name = choice(names)\n",
    "    users[\"name\"].append(name)\n",
    "    users[\"email\"].append(email_gen(name))\n",
    "    users[\"phone\"].append(phones[i])\n",
    "    users[\"street\"].append(choice(streets))\n",
    "    users[\"password\"].append(password_gen())\n",
    "    users[\"fk_zip\"].append(choice(zipcodes))\n",
    "    \n",
    "\n",
    "df = pd.DataFrame(users, columns = users.keys())\n",
    "#df.to_csv(r'dbex/users.csv', index = False)"
   ]
  },
  {
   "cell_type": "code",
   "execution_count": 8,
   "metadata": {},
   "outputs": [],
   "source": [
    "# create regions\n",
    "import json\n",
    "with open(\"dbex/pnJSON.json\", \"r\", encoding='utf-8') as f:\n",
    "    j = json.loads(f.read())\n",
    "    \n",
    "regions = defaultdict(list)\n",
    "\n",
    "for d in j:\n",
    "    regions[\"zip\"].append(d[\"nr\"])\n",
    "    regions[\"name\"].append(d[\"navn\"])\n",
    "    regions[\"lat\"].append(d[\"lat\"])\n",
    "    regions[\"lon\"].append(d[\"lon\"])\n",
    "    \n",
    "df = pd.DataFrame(regions, columns = regions.keys())\n",
    "#df.to_csv(r'dbex/regions.csv', index = False, encoding='utf-8-sig')"
   ]
  },
  {
   "cell_type": "code",
   "execution_count": 10,
   "metadata": {},
   "outputs": [
    {
     "ename": "PermissionError",
     "evalue": "[Errno 13] Permission denied: 'dbex/favorits.csv'",
     "output_type": "error",
     "traceback": [
      "\u001b[1;31m---------------------------------------------------------------------------\u001b[0m",
      "\u001b[1;31mPermissionError\u001b[0m                           Traceback (most recent call last)",
      "\u001b[1;32m<ipython-input-10-691a931b4c1a>\u001b[0m in \u001b[0;36m<module>\u001b[1;34m\u001b[0m\n\u001b[0;32m     18\u001b[0m \u001b[1;33m\u001b[0m\u001b[0m\n\u001b[0;32m     19\u001b[0m \u001b[0mdf\u001b[0m \u001b[1;33m=\u001b[0m \u001b[0mpd\u001b[0m\u001b[1;33m.\u001b[0m\u001b[0mDataFrame\u001b[0m\u001b[1;33m(\u001b[0m\u001b[0mfavorits\u001b[0m\u001b[1;33m,\u001b[0m \u001b[0mcolumns\u001b[0m \u001b[1;33m=\u001b[0m \u001b[1;33m[\u001b[0m\u001b[1;34m\"fk_user_id\"\u001b[0m\u001b[1;33m,\u001b[0m \u001b[1;34m\"fk_label_id\"\u001b[0m\u001b[1;33m]\u001b[0m\u001b[1;33m)\u001b[0m\u001b[1;33m\u001b[0m\u001b[1;33m\u001b[0m\u001b[0m\n\u001b[1;32m---> 20\u001b[1;33m \u001b[0mdf\u001b[0m\u001b[1;33m.\u001b[0m\u001b[0mto_csv\u001b[0m\u001b[1;33m(\u001b[0m\u001b[1;34mr'dbex/favorits.csv'\u001b[0m\u001b[1;33m,\u001b[0m \u001b[0mindex\u001b[0m \u001b[1;33m=\u001b[0m \u001b[1;32mFalse\u001b[0m\u001b[1;33m,\u001b[0m \u001b[0mencoding\u001b[0m\u001b[1;33m=\u001b[0m\u001b[1;34m'utf-8-sig'\u001b[0m\u001b[1;33m)\u001b[0m\u001b[1;33m\u001b[0m\u001b[1;33m\u001b[0m\u001b[0m\n\u001b[0m",
      "\u001b[1;32m~\\Anaconda3\\lib\\site-packages\\pandas\\core\\generic.py\u001b[0m in \u001b[0;36mto_csv\u001b[1;34m(self, path_or_buf, sep, na_rep, float_format, columns, header, index, index_label, mode, encoding, compression, quoting, quotechar, line_terminator, chunksize, tupleize_cols, date_format, doublequote, escapechar, decimal)\u001b[0m\n\u001b[0;32m   3018\u001b[0m                                  \u001b[0mdoublequote\u001b[0m\u001b[1;33m=\u001b[0m\u001b[0mdoublequote\u001b[0m\u001b[1;33m,\u001b[0m\u001b[1;33m\u001b[0m\u001b[1;33m\u001b[0m\u001b[0m\n\u001b[0;32m   3019\u001b[0m                                  escapechar=escapechar, decimal=decimal)\n\u001b[1;32m-> 3020\u001b[1;33m         \u001b[0mformatter\u001b[0m\u001b[1;33m.\u001b[0m\u001b[0msave\u001b[0m\u001b[1;33m(\u001b[0m\u001b[1;33m)\u001b[0m\u001b[1;33m\u001b[0m\u001b[1;33m\u001b[0m\u001b[0m\n\u001b[0m\u001b[0;32m   3021\u001b[0m \u001b[1;33m\u001b[0m\u001b[0m\n\u001b[0;32m   3022\u001b[0m         \u001b[1;32mif\u001b[0m \u001b[0mpath_or_buf\u001b[0m \u001b[1;32mis\u001b[0m \u001b[1;32mNone\u001b[0m\u001b[1;33m:\u001b[0m\u001b[1;33m\u001b[0m\u001b[1;33m\u001b[0m\u001b[0m\n",
      "\u001b[1;32m~\\Anaconda3\\lib\\site-packages\\pandas\\io\\formats\\csvs.py\u001b[0m in \u001b[0;36msave\u001b[1;34m(self)\u001b[0m\n\u001b[0;32m    155\u001b[0m             f, handles = _get_handle(self.path_or_buf, self.mode,\n\u001b[0;32m    156\u001b[0m                                      \u001b[0mencoding\u001b[0m\u001b[1;33m=\u001b[0m\u001b[0mself\u001b[0m\u001b[1;33m.\u001b[0m\u001b[0mencoding\u001b[0m\u001b[1;33m,\u001b[0m\u001b[1;33m\u001b[0m\u001b[1;33m\u001b[0m\u001b[0m\n\u001b[1;32m--> 157\u001b[1;33m                                      compression=self.compression)\n\u001b[0m\u001b[0;32m    158\u001b[0m             \u001b[0mclose\u001b[0m \u001b[1;33m=\u001b[0m \u001b[1;32mTrue\u001b[0m\u001b[1;33m\u001b[0m\u001b[1;33m\u001b[0m\u001b[0m\n\u001b[0;32m    159\u001b[0m \u001b[1;33m\u001b[0m\u001b[0m\n",
      "\u001b[1;32m~\\Anaconda3\\lib\\site-packages\\pandas\\io\\common.py\u001b[0m in \u001b[0;36m_get_handle\u001b[1;34m(path_or_buf, mode, encoding, compression, memory_map, is_text)\u001b[0m\n\u001b[0;32m    422\u001b[0m         \u001b[1;32melif\u001b[0m \u001b[0mencoding\u001b[0m\u001b[1;33m:\u001b[0m\u001b[1;33m\u001b[0m\u001b[1;33m\u001b[0m\u001b[0m\n\u001b[0;32m    423\u001b[0m             \u001b[1;31m# Python 3 and encoding\u001b[0m\u001b[1;33m\u001b[0m\u001b[1;33m\u001b[0m\u001b[1;33m\u001b[0m\u001b[0m\n\u001b[1;32m--> 424\u001b[1;33m             \u001b[0mf\u001b[0m \u001b[1;33m=\u001b[0m \u001b[0mopen\u001b[0m\u001b[1;33m(\u001b[0m\u001b[0mpath_or_buf\u001b[0m\u001b[1;33m,\u001b[0m \u001b[0mmode\u001b[0m\u001b[1;33m,\u001b[0m \u001b[0mencoding\u001b[0m\u001b[1;33m=\u001b[0m\u001b[0mencoding\u001b[0m\u001b[1;33m,\u001b[0m \u001b[0mnewline\u001b[0m\u001b[1;33m=\u001b[0m\u001b[1;34m\"\"\u001b[0m\u001b[1;33m)\u001b[0m\u001b[1;33m\u001b[0m\u001b[1;33m\u001b[0m\u001b[0m\n\u001b[0m\u001b[0;32m    425\u001b[0m         \u001b[1;32melif\u001b[0m \u001b[0mis_text\u001b[0m\u001b[1;33m:\u001b[0m\u001b[1;33m\u001b[0m\u001b[1;33m\u001b[0m\u001b[0m\n\u001b[0;32m    426\u001b[0m             \u001b[1;31m# Python 3 and no explicit encoding\u001b[0m\u001b[1;33m\u001b[0m\u001b[1;33m\u001b[0m\u001b[1;33m\u001b[0m\u001b[0m\n",
      "\u001b[1;31mPermissionError\u001b[0m: [Errno 13] Permission denied: 'dbex/favorits.csv'"
     ]
    }
   ],
   "source": [
    "# create regions\n",
    "from random import randint\n",
    "from collections import defaultdict\n",
    "import pandas as pd\n",
    "\n",
    "favorites = defaultdict(list)\n",
    "\n",
    "for fk_user_id in range(1,10001):\n",
    "    \n",
    "    favs = set()\n",
    "    \n",
    "    for _ in range(randint(0,10)):\n",
    "        fk_label_id = randint(1,320)\n",
    "        favs.add(fk_label_id)\n",
    "    \n",
    "    favorites[\"fk_label_id\"].extend(list(favs))\n",
    "    favorites[\"fk_user_id\"].extend(len(favs)*[fk_user_id])\n",
    "    \n",
    "df = pd.DataFrame(favorites, columns = [\"fk_user_id\", \"fk_label_id\"])\n",
    "df.to_csv(r'dbex/favorites.csv', index = False, encoding='utf-8-sig')"
   ]
  },
  {
   "cell_type": "code",
   "execution_count": 9,
   "metadata": {},
   "outputs": [],
   "source": [
    "import json\n",
    "with open(\"dbex/foodDone.json\", \"r\", encoding='utf-8') as f:\n",
    "    j = json.loads(f.read())\n",
    "    \n",
    "food = defaultdict(list)\n",
    "\n",
    "for d in j:\n",
    "    for key, val in d.items():\n",
    "        food[key].append(val)\n",
    "        \n",
    "food[\"labels\"] = [\";\".join(x) for x in food[\"labels\"]]\n",
    "df = pd.DataFrame(food, columns = food.keys())\n",
    "#df.to_csv(r'dbex/foodDone.csv', index = False, encoding='utf-8-sig')"
   ]
  },
  {
   "cell_type": "code",
   "execution_count": 10,
   "metadata": {},
   "outputs": [],
   "source": [
    "import json\n",
    "with open(\"dbex/foodDone.json\", \"r\", encoding='utf-8') as f:\n",
    "    j = json.loads(f.read())\n",
    "    \n",
    "labels = list(set(sum([d[\"labels\"] for d in j], [])))\n",
    "d = {\"label\":labels}\n",
    "df = pd.DataFrame(d, columns = [\"label\"])\n",
    "df.to_csv(r'dbex/labels.csv', index = False, encoding='utf-8-sig')"
   ]
  },
  {
   "cell_type": "code",
   "execution_count": 11,
   "metadata": {},
   "outputs": [
    {
     "name": "stdout",
     "output_type": "stream",
     "text": [
      "142\n"
     ]
    }
   ],
   "source": [
    "print(len(labels))"
   ]
  },
  {
   "cell_type": "code",
   "execution_count": 12,
   "metadata": {},
   "outputs": [
    {
     "data": {
      "text/plain": [
       "-5"
      ]
     },
     "execution_count": 12,
     "metadata": {},
     "output_type": "execute_result"
    }
   ],
   "source": [
    "randint(-5,-2)"
   ]
  },
  {
   "cell_type": "code",
   "execution_count": null,
   "metadata": {},
   "outputs": [],
   "source": []
  }
 ],
 "metadata": {
  "kernelspec": {
   "display_name": "Python 3",
   "language": "python",
   "name": "python3"
  },
  "language_info": {
   "codemirror_mode": {
    "name": "ipython",
    "version": 3
   },
   "file_extension": ".py",
   "mimetype": "text/x-python",
   "name": "python",
   "nbconvert_exporter": "python",
   "pygments_lexer": "ipython3",
   "version": "3.7.3"
  }
 },
 "nbformat": 4,
 "nbformat_minor": 2
}
