{
 "cells": [
  {
   "cell_type": "code",
   "execution_count": 1,
   "metadata": {},
   "outputs": [],
   "source": [
    "with open(\"dbex/names.txt\", \"r\") as f:\n",
    "    txt = f.read()\n",
    "    names = txt.split(\"\\n\")"
   ]
  },
  {
   "cell_type": "code",
   "execution_count": 2,
   "metadata": {},
   "outputs": [],
   "source": [
    "with open(\"dbex/streets.txt\", \"r\") as f:\n",
    "    txt = f.read()\n",
    "    streets = txt.split(\"\\n\")\n",
    "    streets = [x.split(\". \")[1] for x in streets]"
   ]
  },
  {
   "cell_type": "code",
   "execution_count": 3,
   "metadata": {
    "scrolled": true
   },
   "outputs": [],
   "source": [
    "import json\n",
    "with open(\"dbex/pnJSON.json\", \"r\", encoding='utf-8') as f:\n",
    "    j = json.loads(f.read())\n",
    "    #zipcodes = {d[\"nr\"]:d[\"navn\"] for d in j}\n",
    "    zipcodes = list(set(d[\"nr\"] for d in j))\n",
    "\n",
    "# print(*list(zipcodes.items()), sep=\"\\n\")"
   ]
  },
  {
   "cell_type": "code",
   "execution_count": 4,
   "metadata": {},
   "outputs": [],
   "source": [
    "import bcrypt\n",
    "hashed = bcrypt.hashpw(bytes(\"1234\", \"utf-8\"), bcrypt.gensalt(8))\n",
    "\n",
    "def password_gen():\n",
    "    return bcrypt.hashpw(bytes(\"1234\", \"utf-8\"), bcrypt.gensalt(4)).decode(\"utf-8\")"
   ]
  },
  {
   "cell_type": "code",
   "execution_count": 5,
   "metadata": {},
   "outputs": [],
   "source": [
    "from random import randint, choice\n",
    "\n",
    "def phone_gen(x):\n",
    "    a = set()\n",
    "    while len(a) < x:\n",
    "        a.add((\"00000000\" + str(randint(0,99999999)))[-8:])\n",
    "    return list(a)"
   ]
  },
  {
   "cell_type": "code",
   "execution_count": 6,
   "metadata": {},
   "outputs": [],
   "source": [
    "c = {\"c\":0}\n",
    "def email_gen(name):\n",
    "    c[\"c\"] +=1\n",
    "    e = name.lower() + str(c[\"c\"]) + \"@\" + choice(names).lower() + \".\" + choice([\"com\", \"dk\", \"net\", \"org\", \"io\"])\n",
    "    return e"
   ]
  },
  {
   "cell_type": "code",
   "execution_count": 7,
   "metadata": {},
   "outputs": [],
   "source": [
    "# create users\n",
    "import pandas as pd\n",
    "from collections import defaultdict\n",
    "users = defaultdict(list)\n",
    "\n",
    "amount = 10000\n",
    "\n",
    "phones = phone_gen(amount)\n",
    "\n",
    "for i in range(amount):\n",
    "    name = choice(names)\n",
    "    users[\"name\"].append(name)\n",
    "    users[\"email\"].append(email_gen(name))\n",
    "    users[\"phone\"].append(phones[i])\n",
    "    users[\"street\"].append(choice(streets))\n",
    "    users[\"password\"].append(password_gen())\n",
    "    users[\"fk_zip\"].append(choice(zipcodes))\n",
    "    \n",
    "\n",
    "df = pd.DataFrame(users, columns = users.keys())\n",
    "#df.to_csv(r'dbex/users.csv', index = False)"
   ]
  },
  {
   "cell_type": "code",
   "execution_count": 8,
   "metadata": {},
   "outputs": [],
   "source": [
    "# create regions\n",
    "import json\n",
    "with open(\"dbex/pnJSON.json\", \"r\", encoding='utf-8') as f:\n",
    "    j = json.loads(f.read())\n",
    "    \n",
    "regions = defaultdict(list)\n",
    "\n",
    "for d in j:\n",
    "    regions[\"zip\"].append(d[\"nr\"])\n",
    "    regions[\"name\"].append(d[\"navn\"])\n",
    "    regions[\"lat\"].append(d[\"lat\"])\n",
    "    regions[\"lon\"].append(d[\"lon\"])\n",
    "    \n",
    "df = pd.DataFrame(regions, columns = regions.keys())\n",
    "#df.to_csv(r'dbex/regions.csv', index = False, encoding='utf-8-sig')"
   ]
  },
  {
   "cell_type": "code",
   "execution_count": 19,
   "metadata": {},
   "outputs": [],
   "source": [
    "# create regions\n",
    "from random import randint\n",
    "from collections import defaultdict\n",
    "import pandas as pd\n",
    "\n",
    "favorits = defaultdict(list)\n",
    "\n",
    "for fk_user_id in range(1,10001):\n",
    "    \n",
    "    for _ in range(randint(0,10)):\n",
    "        fk_label_id = randint(1,320)\n",
    "        favorits[\"fk_user_id\"].append(fk_user_id)\n",
    "        favorits[\"fk_label_id\"].append(fk_label_id)\n",
    "    \n",
    "    \n",
    "df = pd.DataFrame(favorits, columns = [\"fk_user_id\", \"fk_label_id\"])\n",
    "df.to_csv(r'dbex/favorits.csv', index = False, encoding='utf-8-sig')"
   ]
  },
  {
   "cell_type": "code",
   "execution_count": 9,
   "metadata": {},
   "outputs": [],
   "source": [
    "import json\n",
    "with open(\"dbex/foodDone.json\", \"r\", encoding='utf-8') as f:\n",
    "    j = json.loads(f.read())\n",
    "    \n",
    "food = defaultdict(list)\n",
    "\n",
    "for d in j:\n",
    "    for key, val in d.items():\n",
    "        food[key].append(val)\n",
    "        \n",
    "food[\"labels\"] = [\";\".join(x) for x in food[\"labels\"]]\n",
    "df = pd.DataFrame(food, columns = food.keys())\n",
    "#df.to_csv(r'dbex/foodDone.csv', index = False, encoding='utf-8-sig')"
   ]
  },
  {
   "cell_type": "code",
   "execution_count": 10,
   "metadata": {},
   "outputs": [],
   "source": [
    "import json\n",
    "with open(\"dbex/foodDone.json\", \"r\", encoding='utf-8') as f:\n",
    "    j = json.loads(f.read())\n",
    "    \n",
    "labels = list(set(sum([d[\"labels\"] for d in j], [])))\n",
    "d = {\"label\":labels}\n",
    "df = pd.DataFrame(d, columns = [\"label\"])\n",
    "df.to_csv(r'dbex/labels.csv', index = False, encoding='utf-8-sig')"
   ]
  },
  {
   "cell_type": "code",
   "execution_count": 11,
   "metadata": {},
   "outputs": [
    {
     "name": "stdout",
     "output_type": "stream",
     "text": [
      "142\n"
     ]
    }
   ],
   "source": [
    "print(len(labels))"
   ]
  },
  {
   "cell_type": "code",
   "execution_count": 12,
   "metadata": {},
   "outputs": [
    {
     "data": {
      "text/plain": [
       "-5"
      ]
     },
     "execution_count": 12,
     "metadata": {},
     "output_type": "execute_result"
    }
   ],
   "source": [
    "randint(-5,-2)"
   ]
  },
  {
   "cell_type": "code",
   "execution_count": null,
   "metadata": {},
   "outputs": [],
   "source": []
  }
 ],
 "metadata": {
  "kernelspec": {
   "display_name": "Python 3",
   "language": "python",
   "name": "python3"
  },
  "language_info": {
   "codemirror_mode": {
    "name": "ipython",
    "version": 3
   },
   "file_extension": ".py",
   "mimetype": "text/x-python",
   "name": "python",
   "nbconvert_exporter": "python",
   "pygments_lexer": "ipython3",
   "version": "3.7.3"
  }
 },
 "nbformat": 4,
 "nbformat_minor": 2
}
